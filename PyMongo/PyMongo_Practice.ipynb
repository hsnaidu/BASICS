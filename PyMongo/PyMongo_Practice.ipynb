{
 "cells": [
  {
   "cell_type": "code",
   "execution_count": 49,
   "id": "93df148a",
   "metadata": {},
   "outputs": [
    {
     "name": "stdout",
     "output_type": "stream",
     "text": [
      "3.11.7 | packaged by Anaconda, Inc. | (main, Dec 15 2023, 18:05:47) [MSC v.1916 64 bit (AMD64)]\n"
     ]
    }
   ],
   "source": [
    "from sys import version\n",
    "print(version)"
   ]
  },
  {
   "cell_type": "code",
   "execution_count": 50,
   "id": "035520f5",
   "metadata": {},
   "outputs": [],
   "source": [
    "import pymongo\n",
    "from pymongo import MongoClient\n",
    "conn = MongoClient('mongodb://localhost:27017/') # Initiating the connection"
   ]
  },
  {
   "cell_type": "code",
   "execution_count": 51,
   "id": "20227b7a",
   "metadata": {},
   "outputs": [
    {
     "name": "stdout",
     "output_type": "stream",
     "text": [
      "['admin', 'config', 'local', 'msr_college']\n"
     ]
    }
   ],
   "source": [
    "# Accessing the existing datase\n",
    "print(conn.list_database_names())\n",
    "\n",
    "# List of data-base names"
   ]
  },
  {
   "cell_type": "code",
   "execution_count": 52,
   "id": "9eb8096d",
   "metadata": {},
   "outputs": [],
   "source": [
    "# From this i need to access msr_college\n",
    "db = conn['msr_college']"
   ]
  },
  {
   "cell_type": "code",
   "execution_count": 53,
   "id": "c228974b",
   "metadata": {},
   "outputs": [
    {
     "name": "stdout",
     "output_type": "stream",
     "text": [
      "['new', 'users', 'bca', 'bsc']\n"
     ]
    }
   ],
   "source": [
    "# Accessing the collections\n",
    "print(db.list_collection_names())\n",
    "\n",
    "# List of Collection Names"
   ]
  },
  {
   "cell_type": "code",
   "execution_count": 54,
   "id": "3483f9c9",
   "metadata": {},
   "outputs": [],
   "source": [
    "bca = db.bca # Taking the `bca` collection\n",
    "bsc = db.bsc # `bsc` colleciton"
   ]
  },
  {
   "cell_type": "markdown",
   "id": "405b4f3f",
   "metadata": {},
   "source": [
    "1. Extracting info."
   ]
  },
  {
   "cell_type": "code",
   "execution_count": 55,
   "id": "fe55cd0c",
   "metadata": {},
   "outputs": [
    {
     "data": {
      "text/plain": [
       "{'_id': 1,\n",
       " 'name': 'HARI',\n",
       " 'l_name': 'prasad',\n",
       " 'pass': 1,\n",
       " 'score': 8.9,\n",
       " 'Graduate': ['true']}"
      ]
     },
     "execution_count": 55,
     "metadata": {},
     "output_type": "execute_result"
    }
   ],
   "source": [
    "bca.find_one({})"
   ]
  },
  {
   "cell_type": "code",
   "execution_count": 56,
   "id": "29a0a30c",
   "metadata": {},
   "outputs": [
    {
     "data": {
      "text/plain": [
       "{'_id': 10, 'name': 'poonam', 'l_name': 'chauhan', 'pass': 1, 'score': 9.3}"
      ]
     },
     "execution_count": 56,
     "metadata": {},
     "output_type": "execute_result"
    }
   ],
   "source": [
    "bsc.find_one({'_id' : 10})"
   ]
  },
  {
   "cell_type": "markdown",
   "id": "b4e1494c",
   "metadata": {},
   "source": [
    "2. Extracting all the collection : documents"
   ]
  },
  {
   "cell_type": "code",
   "execution_count": 57,
   "id": "4ff5c942",
   "metadata": {},
   "outputs": [
    {
     "name": "stdout",
     "output_type": "stream",
     "text": [
      "{'_id': 1, 'name': 'HARI', 'l_name': 'prasad', 'pass': 1, 'score': 8.9, 'Graduate': ['true']}\n",
      "{'_id': 2, 'name': 'anita', 'l_name': 'kumar', 'pass': 0, 'score': 4.3}\n",
      "{'_id': 3, 'name': 'raj', 'l_name': 'mehta', 'pass': 1, 'score': 7.2}\n",
      "{'_id': 4, 'name': 'sita', 'l_name': 'verma', 'pass': 1, 'score': 9.1}\n",
      "{'_id': 5, 'name': 'vinay', 'l_name': 'singh', 'pass': 0, 'score': 5}\n"
     ]
    }
   ],
   "source": [
    "for i in bca.find({}).limit(5):\n",
    "    # Limiting cause > 30 rows\n",
    "    print(i)"
   ]
  },
  {
   "cell_type": "code",
   "execution_count": 58,
   "id": "c99e618d",
   "metadata": {},
   "outputs": [
    {
     "name": "stdout",
     "output_type": "stream",
     "text": [
      "{'_id': 1, 'name': 'hariprasad', 'l_name': ['prasad']}\n",
      "{'_id': 2, 'name': 'anita', 'l_name': 'kumar', 'pass': 0, 'score': 4.3}\n",
      "{'_id': 3, 'name': 'raj', 'l_name': 'mehta', 'pass': 1, 'score': 7.2}\n"
     ]
    }
   ],
   "source": [
    "for i in bsc.find({}).limit(3):\n",
    "    print(i)"
   ]
  },
  {
   "cell_type": "markdown",
   "id": "14dddd5f",
   "metadata": {},
   "source": [
    "3. Deleting the un-wanted result"
   ]
  },
  {
   "cell_type": "code",
   "execution_count": 59,
   "id": "db75a2ee",
   "metadata": {},
   "outputs": [
    {
     "data": {
      "text/plain": [
       "DeleteResult({'n': 0, 'ok': 1.0}, acknowledged=True)"
      ]
     },
     "execution_count": 59,
     "metadata": {},
     "output_type": "execute_result"
    }
   ],
   "source": [
    "bsc.delete_one({'title' : 'some-comment'})\n",
    "\n",
    "# Do not use _id : objectId, just use some unique variable.."
   ]
  },
  {
   "cell_type": "code",
   "execution_count": 60,
   "id": "81b09b64",
   "metadata": {},
   "outputs": [
    {
     "name": "stdout",
     "output_type": "stream",
     "text": [
      "{'_id': 1, 'name': 'hariprasad', 'l_name': ['prasad']}\n",
      "{'_id': 2, 'name': 'anita', 'l_name': 'kumar', 'pass': 0, 'score': 4.3}\n",
      "{'_id': 3, 'name': 'raj', 'l_name': 'mehta', 'pass': 1, 'score': 7.2}\n"
     ]
    }
   ],
   "source": [
    "for i in bsc.find({}).limit(3): print(i)"
   ]
  },
  {
   "cell_type": "markdown",
   "id": "204bb675",
   "metadata": {},
   "source": [
    "4. Accessing the other collection as well"
   ]
  },
  {
   "cell_type": "code",
   "execution_count": 61,
   "id": "7c2adfa3",
   "metadata": {},
   "outputs": [],
   "source": [
    "users = db.users"
   ]
  },
  {
   "cell_type": "code",
   "execution_count": 62,
   "id": "e20040de",
   "metadata": {},
   "outputs": [
    {
     "name": "stdout",
     "output_type": "stream",
     "text": [
      "{'_id': ObjectId('67f7c44373795588e816c9bd'), 'name': 'hari', 'l_name': 'Prasad', 'hobbies': ['Photography', 'music', 'GenAI']}\n",
      "{'_id': ObjectId('67f7c6aa73795588e816c9be'), 'name': 'gagan', 'hobbies': ['Photography', 'music', 'GenAI', 'Landscape Photography']}\n",
      "{'_id': ObjectId('67f7c6aa73795588e816c9bf'), 'name': 'yuktha', 'hobbies': ['student']}\n",
      "{'_id': ObjectId('67f7c6aa73795588e816c9c0'), 'name': 'vishal', 'hobbies': ['Photography', 'music', 'GenAI', 'Gamer']}\n"
     ]
    }
   ],
   "source": [
    "for i in users.find({}):\n",
    "    print(i)"
   ]
  },
  {
   "cell_type": "markdown",
   "id": "430d3dbd",
   "metadata": {},
   "source": [
    "5. Adding a new colleciton"
   ]
  },
  {
   "cell_type": "code",
   "execution_count": 63,
   "id": "9bf9cd4e",
   "metadata": {},
   "outputs": [
    {
     "data": {
      "text/plain": [
       "['new', 'users', 'bca', 'bsc']"
      ]
     },
     "execution_count": 63,
     "metadata": {},
     "output_type": "execute_result"
    }
   ],
   "source": [
    "db.list_collection_names()"
   ]
  },
  {
   "cell_type": "code",
   "execution_count": 64,
   "id": "5d3665c3",
   "metadata": {},
   "outputs": [],
   "source": [
    "new = db['new'] # Added a new-collection"
   ]
  },
  {
   "cell_type": "code",
   "execution_count": 65,
   "id": "7b338857",
   "metadata": {},
   "outputs": [
    {
     "data": {
      "text/plain": [
       "InsertOneResult(ObjectId('67fa1d54b175dfe5f15b38d4'), acknowledged=True)"
      ]
     },
     "execution_count": 65,
     "metadata": {},
     "output_type": "execute_result"
    }
   ],
   "source": [
    "new.insert_one({\"name\" : 'hari', 'l_name' : 'prasad', 'cgpa' : 9})"
   ]
  },
  {
   "cell_type": "code",
   "execution_count": 66,
   "id": "9d3c3b5f",
   "metadata": {},
   "outputs": [
    {
     "data": {
      "text/plain": [
       "['new', 'users', 'bca', 'bsc']"
      ]
     },
     "execution_count": 66,
     "metadata": {},
     "output_type": "execute_result"
    }
   ],
   "source": [
    "db.list_collection_names()"
   ]
  },
  {
   "cell_type": "code",
   "execution_count": 67,
   "id": "da75b736",
   "metadata": {},
   "outputs": [
    {
     "name": "stdout",
     "output_type": "stream",
     "text": [
      "{'_id': ObjectId('67f945e2127fdd947026274c'), 'name': 'hari', 'l_name': 'prasad', 'cgpa': 9}\n",
      "{'_id': ObjectId('67fa1d54b175dfe5f15b38d4'), 'name': 'hari', 'l_name': 'prasad', 'cgpa': 9}\n"
     ]
    }
   ],
   "source": [
    "for i in new.find({}):\n",
    "    print(i)"
   ]
  },
  {
   "cell_type": "code",
   "execution_count": 68,
   "id": "2889fd03",
   "metadata": {},
   "outputs": [
    {
     "data": {
      "text/plain": [
       "DeleteResult({'n': 1, 'ok': 1.0}, acknowledged=True)"
      ]
     },
     "execution_count": 68,
     "metadata": {},
     "output_type": "execute_result"
    }
   ],
   "source": [
    "new.delete_one({'name': 'hari'})"
   ]
  },
  {
   "cell_type": "code",
   "execution_count": 69,
   "id": "858daacb",
   "metadata": {},
   "outputs": [
    {
     "name": "stdout",
     "output_type": "stream",
     "text": [
      "{'_id': ObjectId('67fa1d54b175dfe5f15b38d4'), 'name': 'hari', 'l_name': 'prasad', 'cgpa': 9}\n"
     ]
    }
   ],
   "source": [
    "for i in new.find({}):\n",
    "    print(i)"
   ]
  },
  {
   "cell_type": "markdown",
   "id": "05147000",
   "metadata": {},
   "source": [
    "6. Adding the Logical Operator : $eq, $gt, $lt, $and, $or, $lte, $gte"
   ]
  },
  {
   "cell_type": "markdown",
   "id": "ad76955d",
   "metadata": {},
   "source": [
    "$gt"
   ]
  },
  {
   "cell_type": "code",
   "execution_count": 70,
   "id": "b50bdccf",
   "metadata": {},
   "outputs": [
    {
     "name": "stdout",
     "output_type": "stream",
     "text": [
      "{'name': 'HARI'}\n",
      "{'name': 'aman'}\n",
      "{'name': 'arun'}\n",
      "{'name': 'deepa'}\n",
      "{'name': 'dinesh'}\n"
     ]
    }
   ],
   "source": [
    "# Here we are taking BCA\n",
    "\n",
    "# filter var -- target var\n",
    "for i in bca.find(\n",
    "    {'score' : {'$gt' : 5}}, {'name' : 1, '_id' : 0}\n",
    ").limit(5).sort({'name' : 1}):\n",
    "    print(i)"
   ]
  },
  {
   "cell_type": "markdown",
   "id": "b503cb7b",
   "metadata": {},
   "source": [
    "$lt"
   ]
  },
  {
   "cell_type": "code",
   "execution_count": 71,
   "id": "579192ba",
   "metadata": {},
   "outputs": [
    {
     "name": "stdout",
     "output_type": "stream",
     "text": [
      "{'name': 'dev'}\n",
      "{'name': 'neha'}\n",
      "{'name': 'radha'}\n"
     ]
    }
   ],
   "source": [
    "for i in bca.find({'score' : {'$lt' : 5}}, {'name' : 1, '_id' : 0}).limit(3).sort({'score': 1}):\n",
    "    print(i)"
   ]
  },
  {
   "cell_type": "markdown",
   "id": "9f3ef0c7",
   "metadata": {},
   "source": [
    "7. Logical Operator"
   ]
  },
  {
   "cell_type": "markdown",
   "id": "683616d5",
   "metadata": {},
   "source": [
    "$and"
   ]
  },
  {
   "cell_type": "code",
   "execution_count": 72,
   "id": "f46bf63f",
   "metadata": {},
   "outputs": [
    {
     "name": "stdout",
     "output_type": "stream",
     "text": [
      "{'name': 'manoj', 'score': 6.2}\n",
      "{'name': 'nilesh', 'score': 6.3}\n",
      "{'name': 'karan', 'score': 6.7}\n",
      "{'name': 'arun', 'score': 6.8}\n",
      "{'name': 'lokesh', 'score': 6.9}\n",
      "{'name': 'kiran', 'score': 7.1}\n",
      "{'name': 'raj', 'score': 7.2}\n",
      "{'name': 'swati', 'score': 7.3}\n",
      "{'name': 'aman', 'score': 7.5}\n",
      "{'name': 'dinesh', 'score': 7.6}\n",
      "{'name': 'rekha', 'score': 7.9}\n",
      "{'name': 'meena', 'score': 8.1}\n",
      "{'name': 'deepa', 'score': 8.4}\n",
      "{'name': 'vikas', 'score': 8.7}\n",
      "{'name': 'tina', 'score': 8.8}\n",
      "{'name': 'HARI', 'score': 8.9}\n",
      "{'name': 'priya', 'score': 9}\n",
      "{'name': 'sita', 'score': 9.1}\n",
      "{'name': 'ravi', 'score': 9.2}\n",
      "{'name': 'poonam', 'score': 9.3}\n"
     ]
    }
   ],
   "source": [
    "for i in bca.find({'$and' : [{'pass' : {'$eq' : 1}}, {'score' : {'$gt' : 5}}]}, {'name' : 1, '_id' : 0, 'score' : 1}).sort({'score' : 1}):\n",
    "    print(i)"
   ]
  },
  {
   "cell_type": "markdown",
   "id": "e33d481f",
   "metadata": {},
   "source": [
    "$or"
   ]
  },
  {
   "cell_type": "code",
   "execution_count": 73,
   "id": "9cf45b7b",
   "metadata": {},
   "outputs": [
    {
     "name": "stdout",
     "output_type": "stream",
     "text": [
      "{'name': 'dev', 'score': 3.5}\n",
      "{'name': 'neha', 'score': 3.9}\n",
      "{'name': 'radha', 'score': 4}\n",
      "{'name': 'anushka', 'score': 4.2}\n",
      "{'name': 'anita', 'score': 4.3}\n"
     ]
    }
   ],
   "source": [
    "for i in bca.find({'$or' : [{'pass' : {'$eq' : 1}}, {'score' : {'$lt' : 5}}]}, {'name' : 1, '_id' : 0, 'score' : 1}).sort({'score' : 1}).limit(5):\n",
    "    print(i)\n",
    "\n",
    "# Either one of the condition is accepted.."
   ]
  },
  {
   "cell_type": "markdown",
   "id": "b53e1bde",
   "metadata": {},
   "source": [
    "7. Update Element"
   ]
  },
  {
   "cell_type": "code",
   "execution_count": 74,
   "metadata": {},
   "outputs": [],
   "source": [
    "# Lets do for 1 \n",
    "\n",
    "# 1. $set -- Edit Function\n",
    "# 2. $push -- Append-Operation"
   ]
  },
  {
   "cell_type": "code",
   "execution_count": 75,
   "id": "1ed40f6e",
   "metadata": {},
   "outputs": [
    {
     "data": {
      "text/plain": [
       "{'_id': 1,\n",
       " 'name': 'HARI',\n",
       " 'l_name': 'prasad',\n",
       " 'pass': 1,\n",
       " 'score': 8.9,\n",
       " 'Graduate': ['true']}"
      ]
     },
     "execution_count": 75,
     "metadata": {},
     "output_type": "execute_result"
    }
   ],
   "source": [
    "bca.find_one({})"
   ]
  },
  {
   "cell_type": "markdown",
   "id": "c8ffc854",
   "metadata": {},
   "source": [
    "$set"
   ]
  },
  {
   "cell_type": "code",
   "execution_count": 76,
   "id": "a15b3c8d",
   "metadata": {},
   "outputs": [
    {
     "data": {
      "text/plain": [
       "UpdateResult({'n': 1, 'nModified': 0, 'ok': 1.0, 'updatedExisting': True}, acknowledged=True)"
      ]
     },
     "execution_count": 76,
     "metadata": {},
     "output_type": "execute_result"
    }
   ],
   "source": [
    "bca.update_one({'_id' : 1}, {'$set' : {'name' : 'HARI'}})"
   ]
  },
  {
   "cell_type": "code",
   "execution_count": 77,
   "id": "ee435dcb",
   "metadata": {},
   "outputs": [
    {
     "data": {
      "text/plain": [
       "{'_id': 1,\n",
       " 'name': 'HARI',\n",
       " 'l_name': 'prasad',\n",
       " 'pass': 1,\n",
       " 'score': 8.9,\n",
       " 'Graduate': ['true']}"
      ]
     },
     "execution_count": 77,
     "metadata": {},
     "output_type": "execute_result"
    }
   ],
   "source": [
    "bca.find_one()"
   ]
  },
  {
   "cell_type": "markdown",
   "id": "2e4578c2",
   "metadata": {},
   "source": [
    "$push"
   ]
  },
  {
   "cell_type": "code",
   "execution_count": 78,
   "id": "e9fc86c8",
   "metadata": {},
   "outputs": [
    {
     "data": {
      "text/plain": [
       "UpdateResult({'n': 1, 'nModified': 1, 'ok': 1.0, 'updatedExisting': True}, acknowledged=True)"
      ]
     },
     "execution_count": 78,
     "metadata": {},
     "output_type": "execute_result"
    }
   ],
   "source": [
    "bca.update_one({'_id' : 1}, {'$push' : {'Graduate' : 'true'}})"
   ]
  },
  {
   "cell_type": "code",
   "execution_count": 79,
   "metadata": {},
   "outputs": [
    {
     "data": {
      "text/plain": [
       "{'_id': 1,\n",
       " 'name': 'HARI',\n",
       " 'l_name': 'prasad',\n",
       " 'pass': 1,\n",
       " 'score': 8.9,\n",
       " 'Graduate': ['true', 'true']}"
      ]
     },
     "execution_count": 79,
     "metadata": {},
     "output_type": "execute_result"
    }
   ],
   "source": [
    "bca.find_one({}) # This $push the variabel into a list "
   ]
  },
  {
   "cell_type": "markdown",
   "id": "b3747c82",
   "metadata": {},
   "source": [
    "8. $in Operation : Used in array"
   ]
  },
  {
   "cell_type": "code",
   "execution_count": 81,
   "id": "b9d17e69",
   "metadata": {},
   "outputs": [
    {
     "data": {
      "text/plain": [
       "{'_id': ObjectId('67f7c44373795588e816c9bd'),\n",
       " 'name': 'hari',\n",
       " 'l_name': 'Prasad',\n",
       " 'hobbies': ['Photography', 'music', 'GenAI']}"
      ]
     },
     "execution_count": 81,
     "metadata": {},
     "output_type": "execute_result"
    }
   ],
   "source": [
    "users.find_one()"
   ]
  },
  {
   "cell_type": "markdown",
   "id": "984031c6",
   "metadata": {},
   "source": [
    "Using the $in operation"
   ]
  },
  {
   "cell_type": "code",
   "execution_count": 82,
   "id": "32a29ea4",
   "metadata": {},
   "outputs": [
    {
     "name": "stdout",
     "output_type": "stream",
     "text": [
      "{'_id': ObjectId('67f7c44373795588e816c9bd'), 'name': 'hari', 'l_name': 'Prasad', 'hobbies': ['Photography', 'music', 'GenAI']}\n",
      "{'_id': ObjectId('67f7c6aa73795588e816c9be'), 'name': 'gagan', 'hobbies': ['Photography', 'music', 'GenAI', 'Landscape Photography']}\n",
      "{'_id': ObjectId('67f7c6aa73795588e816c9bf'), 'name': 'yuktha', 'hobbies': ['student']}\n",
      "{'_id': ObjectId('67f7c6aa73795588e816c9c0'), 'name': 'vishal', 'hobbies': ['Photography', 'music', 'GenAI', 'Gamer']}\n"
     ]
    }
   ],
   "source": [
    "for i in users.find({}):\n",
    "    print(i)"
   ]
  },
  {
   "cell_type": "code",
   "execution_count": 88,
   "id": "c06deff3",
   "metadata": {},
   "outputs": [
    {
     "name": "stdout",
     "output_type": "stream",
     "text": [
      "{'_id': ObjectId('67f7c44373795588e816c9bd'), 'name': 'hari', 'l_name': 'Prasad', 'hobbies': ['Photography', 'music', 'GenAI']}\n"
     ]
    }
   ],
   "source": [
    "for i in users.find({'hobbies': { '$in': ['GenAI','music']}}).limit(1): print(i)"
   ]
  },
  {
   "cell_type": "code",
   "execution_count": 85,
   "id": "5fffe97e",
   "metadata": {},
   "outputs": [],
   "source": [
    "# Then you have aggregate and del. function.."
   ]
  },
  {
   "cell_type": "code",
   "execution_count": null,
   "id": "f99055fa",
   "metadata": {},
   "outputs": [],
   "source": []
  }
 ],
 "metadata": {
  "kernelspec": {
   "display_name": "base",
   "language": "python",
   "name": "python3"
  },
  "language_info": {
   "codemirror_mode": {
    "name": "ipython",
    "version": 3
   },
   "file_extension": ".py",
   "mimetype": "text/x-python",
   "name": "python",
   "nbconvert_exporter": "python",
   "pygments_lexer": "ipython3",
   "version": "3.11.7"
  }
 },
 "nbformat": 4,
 "nbformat_minor": 5
}
