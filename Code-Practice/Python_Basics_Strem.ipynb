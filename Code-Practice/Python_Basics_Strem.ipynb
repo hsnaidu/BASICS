{
  "nbformat": 4,
  "nbformat_minor": 0,
  "metadata": {
    "colab": {
      "provenance": []
    },
    "kernelspec": {
      "name": "python3",
      "display_name": "Python 3"
    },
    "language_info": {
      "name": "python"
    }
  },
  "cells": [
    {
      "cell_type": "markdown",
      "source": [
        "Solving Random Python Questions ✨"
      ],
      "metadata": {
        "id": "88-YQ-8MGm11"
      }
    },
    {
      "cell_type": "code",
      "execution_count": null,
      "metadata": {
        "colab": {
          "base_uri": "https://localhost:8080/"
        },
        "id": "q107OHKGGc5E",
        "outputId": "0f76de6f-2075-44c0-fbf3-ce3332976cd9"
      },
      "outputs": [
        {
          "output_type": "stream",
          "name": "stdout",
          "text": [
            "3.11.12 (main, Apr  9 2025, 08:55:54) [GCC 11.4.0]\n"
          ]
        }
      ],
      "source": [
        "from sys import version\n",
        "print(version)"
      ]
    },
    {
      "cell_type": "code",
      "source": [
        "# Sample Python Code\n",
        "print('Hello World !')"
      ],
      "metadata": {
        "colab": {
          "base_uri": "https://localhost:8080/"
        },
        "id": "8aEV__I5GjXx",
        "outputId": "a70e4f7e-387e-4019-bd98-4348ae02dea9"
      },
      "execution_count": null,
      "outputs": [
        {
          "output_type": "stream",
          "name": "stdout",
          "text": [
            "Hello World !\n"
          ]
        }
      ]
    },
    {
      "cell_type": "code",
      "source": [
        "# Checking Number is Even or Odd\n",
        "def EO_Checker(number):\n",
        "    return \"Even\" if number%2==0 else \"Odd\"\n",
        "\n",
        "# op\n",
        "EO_Checker(2)\n",
        "EO_Checker(1)"
      ],
      "metadata": {
        "colab": {
          "base_uri": "https://localhost:8080/",
          "height": 35
        },
        "id": "RYCx--uiGjbV",
        "outputId": "6d3faae7-2f7b-4295-8f14-bea91ec5ad80"
      },
      "execution_count": null,
      "outputs": [
        {
          "output_type": "execute_result",
          "data": {
            "text/plain": [
              "'Odd'"
            ],
            "application/vnd.google.colaboratory.intrinsic+json": {
              "type": "string"
            }
          },
          "metadata": {},
          "execution_count": 4
        }
      ]
    },
    {
      "cell_type": "code",
      "source": [
        "# Function that return Square of a Number\n",
        "square = lambda x : x ** 2\n",
        "\n",
        "# op\n",
        "square(2)\n",
        "square(4)"
      ],
      "metadata": {
        "colab": {
          "base_uri": "https://localhost:8080/"
        },
        "id": "FaB9IEblGjef",
        "outputId": "9fd73b52-8738-47c2-80c9-5cbc32307ed8"
      },
      "execution_count": null,
      "outputs": [
        {
          "output_type": "execute_result",
          "data": {
            "text/plain": [
              "16"
            ]
          },
          "metadata": {},
          "execution_count": 6
        }
      ]
    },
    {
      "cell_type": "code",
      "source": [
        "# Convert a number to a string without using type-convertion\n",
        "# You can do it using ORD -- Learn\n",
        "\n",
        "# or\n",
        "user_inpt = input('Enter the number : ')\n",
        "int(user_inpt)\n",
        "float(user_inpt)"
      ],
      "metadata": {
        "colab": {
          "base_uri": "https://localhost:8080/"
        },
        "id": "NUg6_F1_GjhT",
        "outputId": "328964bc-dec7-4265-a93d-38cee1ac6ae1"
      },
      "execution_count": null,
      "outputs": [
        {
          "name": "stdout",
          "output_type": "stream",
          "text": [
            "Enter the number : 111\n"
          ]
        },
        {
          "output_type": "execute_result",
          "data": {
            "text/plain": [
              "111.0"
            ]
          },
          "metadata": {},
          "execution_count": 20
        }
      ]
    },
    {
      "cell_type": "code",
      "source": [
        "# Return a MAX of 2 numbers\n",
        "a, b = 10, 20\n",
        "max(a,b)\n",
        "\n",
        "# or\n",
        "print(result:= a if a>b else b, \"is Greater\")\n",
        "\n",
        "# Ternary Operator"
      ],
      "metadata": {
        "colab": {
          "base_uri": "https://localhost:8080/"
        },
        "id": "LOUi7dFtGjj0",
        "outputId": "17290fc7-59a3-4ab2-92fb-f17d46d4ef62"
      },
      "execution_count": null,
      "outputs": [
        {
          "output_type": "stream",
          "name": "stdout",
          "text": [
            "20 is Greater\n"
          ]
        }
      ]
    },
    {
      "cell_type": "code",
      "source": [
        "# Check if a number is odd-even in list\n",
        "l = [x for x in range(10)]\n",
        "oe = ['Even' if x%2==0 else 'Odd' for x in l]\n",
        "oe"
      ],
      "metadata": {
        "colab": {
          "base_uri": "https://localhost:8080/"
        },
        "id": "ElngB_ySGljU",
        "outputId": "b983eb84-1e28-4274-f3bf-402556746119"
      },
      "execution_count": null,
      "outputs": [
        {
          "output_type": "execute_result",
          "data": {
            "text/plain": [
              "['Even', 'Odd', 'Even', 'Odd', 'Even', 'Odd', 'Even', 'Odd', 'Even', 'Odd']"
            ]
          },
          "metadata": {},
          "execution_count": 26
        }
      ]
    },
    {
      "cell_type": "code",
      "source": [
        "# Convert Celsius to Fahrenheit.\n",
        "c_f = lambda x : x * 33.8 # You can also do it by a eq.\n",
        "c_f(21)"
      ],
      "metadata": {
        "colab": {
          "base_uri": "https://localhost:8080/"
        },
        "id": "qHqTEF47GlmI",
        "outputId": "500dd88b-4b36-4d3d-90a1-1edbb3eaa92b"
      },
      "execution_count": null,
      "outputs": [
        {
          "output_type": "execute_result",
          "data": {
            "text/plain": [
              "709.8"
            ]
          },
          "metadata": {},
          "execution_count": 27
        }
      ]
    },
    {
      "cell_type": "code",
      "source": [
        "# Reverse a String without using a Slice\n",
        "\n",
        "sample_string = 'hari'\n",
        "sample_string[::-1]\n",
        "\n",
        "# or\n",
        "rev_string = ''\n",
        "for i in range(len(sample_string)-1,-1,-1):\n",
        "    rev_string+=sample_string[i]\n",
        "\n",
        "rev_string"
      ],
      "metadata": {
        "colab": {
          "base_uri": "https://localhost:8080/",
          "height": 35
        },
        "id": "D3F59nsBGloh",
        "outputId": "e62dce8b-7578-4852-c2e9-8aa5dec02c8f"
      },
      "execution_count": null,
      "outputs": [
        {
          "output_type": "execute_result",
          "data": {
            "text/plain": [
              "'irah'"
            ],
            "application/vnd.google.colaboratory.intrinsic+json": {
              "type": "string"
            }
          },
          "metadata": {},
          "execution_count": 34
        }
      ]
    },
    {
      "cell_type": "markdown",
      "source": [
        "Coding Practice .."
      ],
      "metadata": {
        "id": "QBD0xBNxpb08"
      }
    },
    {
      "cell_type": "code",
      "source": [
        "# Reverse the string without slicing\n",
        "string = \"hari\"\n",
        "string[::-1]"
      ],
      "metadata": {
        "colab": {
          "base_uri": "https://localhost:8080/",
          "height": 35
        },
        "id": "Jx1K-nAiZDFV",
        "outputId": "da517d12-4bd3-475c-8bd1-b7cb7382a043"
      },
      "execution_count": 1,
      "outputs": [
        {
          "output_type": "execute_result",
          "data": {
            "text/plain": [
              "'irah'"
            ],
            "application/vnd.google.colaboratory.intrinsic+json": {
              "type": "string"
            }
          },
          "metadata": {},
          "execution_count": 1
        }
      ]
    },
    {
      "cell_type": "code",
      "source": [
        "rev_string = ''\n",
        "for i in range(len(string)-1,-1, -1):\n",
        "    rev_string+=string[i]\n",
        "print(rev_string)\n"
      ],
      "metadata": {
        "colab": {
          "base_uri": "https://localhost:8080/"
        },
        "id": "iK5cXoD8ZDDF",
        "outputId": "50f2840a-76fc-4de3-85ae-aaaca6c957bc"
      },
      "execution_count": 13,
      "outputs": [
        {
          "output_type": "stream",
          "name": "stdout",
          "text": [
            "irah\n"
          ]
        }
      ]
    },
    {
      "cell_type": "code",
      "source": [
        "# print the number from 1 - n\n",
        "number = [x for x in range(1, int(input('Enter the number : ')))]\n",
        "print(number)"
      ],
      "metadata": {
        "colab": {
          "base_uri": "https://localhost:8080/"
        },
        "id": "7MqknS4PZDA2",
        "outputId": "588205b1-619a-4294-cabc-047f90c9e45e"
      },
      "execution_count": 15,
      "outputs": [
        {
          "output_type": "stream",
          "name": "stdout",
          "text": [
            "Enter the number : 5\n",
            "[1, 2, 3, 4]\n"
          ]
        }
      ]
    },
    {
      "cell_type": "code",
      "source": [
        "# Find the sum of all the numbers in a list\n",
        "import random\n",
        "sample_list = [random.randint(1,10) for x in range(10)]\n",
        "print(sample_list)\n",
        "print(sum(sample_list))"
      ],
      "metadata": {
        "colab": {
          "base_uri": "https://localhost:8080/"
        },
        "id": "4fH7iVaSUMDg",
        "outputId": "57884415-07ce-422d-c929-ad3fb952a03a"
      },
      "execution_count": 17,
      "outputs": [
        {
          "output_type": "stream",
          "name": "stdout",
          "text": [
            "[4, 5, 8, 2, 4, 8, 5, 5, 10, 6]\n",
            "57\n"
          ]
        }
      ]
    },
    {
      "cell_type": "code",
      "source": [
        "# Manually\n",
        "sum = 0\n",
        "for i in sample_list:\n",
        "    sum+=i\n",
        "print(sum)"
      ],
      "metadata": {
        "colab": {
          "base_uri": "https://localhost:8080/"
        },
        "id": "cIeDiZEAUMBW",
        "outputId": "6945aa60-e7f8-4602-fbbd-db295dfaa8d6"
      },
      "execution_count": 18,
      "outputs": [
        {
          "output_type": "stream",
          "name": "stdout",
          "text": [
            "57\n"
          ]
        }
      ]
    },
    {
      "cell_type": "code",
      "source": [
        "# Return only +ve numbers from the list\n",
        "import random\n",
        "sample_list = [random.randint(-10,10) for _ in range(10)]\n",
        "print(sample_list)"
      ],
      "metadata": {
        "colab": {
          "base_uri": "https://localhost:8080/"
        },
        "id": "2ulANsbTUL-z",
        "outputId": "d644b8e8-ed5e-4690-f101-0ad98872c3a9"
      },
      "execution_count": 24,
      "outputs": [
        {
          "output_type": "stream",
          "name": "stdout",
          "text": [
            "[4, 5, -7, -3, 5, -2, 7, -2, 9, -4]\n"
          ]
        }
      ]
    },
    {
      "cell_type": "code",
      "source": [
        "pos_number = [x for x in sample_list if x > 0]\n",
        "print(\"Positive Numbers are : \", pos_number)"
      ],
      "metadata": {
        "colab": {
          "base_uri": "https://localhost:8080/"
        },
        "id": "YEmBpwNRUL8r",
        "outputId": "8429c91b-3805-40a7-bc23-6799bf9015f7"
      },
      "execution_count": 25,
      "outputs": [
        {
          "output_type": "stream",
          "name": "stdout",
          "text": [
            "Positive Numbers are :  [4, 5, 5, 7, 9]\n"
          ]
        }
      ]
    },
    {
      "cell_type": "code",
      "source": [
        "# Implement Linear Search..\n",
        "\n",
        "# Linear search -- checks if the user_inpt == array[i] element\n",
        "import random\n",
        "linear_list = [random.randint(1,10) for x in range(10)]\n",
        "print(linear_list)\n",
        "\n",
        "# Approach\n",
        "\n",
        "# Sort it and then find, shorted number will be found earliest\n",
        "\n",
        "# Sort--reverse it and then find, largest number will be found earliest\n",
        "\n",
        "# Need to have a approach to find it quick"
      ],
      "metadata": {
        "colab": {
          "base_uri": "https://localhost:8080/"
        },
        "id": "DB656XWaUL6j",
        "outputId": "6b047ff0-d834-4cff-eab4-d6693ed9ecc9"
      },
      "execution_count": 32,
      "outputs": [
        {
          "output_type": "stream",
          "name": "stdout",
          "text": [
            "[8, 7, 8, 9, 9, 5, 5, 3, 10, 7]\n"
          ]
        }
      ]
    },
    {
      "cell_type": "code",
      "source": [
        "try:\n",
        "    user_inpt = int(input('Enter the ele to search : '))\n",
        "    result = [linear_list.index(x) for x in linear_list if x == user_inpt]\n",
        "\n",
        "    print('The ele is found at',list(set(result))) # If we have two result .. wrap(list(set(list)))\n",
        "\n",
        "    # Or\n",
        "    print('The ele is found at',result[0]) # If we have two result .. we can extract one by indexing\n",
        "\n",
        "except Exception as e:\n",
        "    print(e)"
      ],
      "metadata": {
        "colab": {
          "base_uri": "https://localhost:8080/"
        },
        "id": "bW7KcShzUL4H",
        "outputId": "1642752c-ce56-4ede-f69b-27d757bf0771"
      },
      "execution_count": 42,
      "outputs": [
        {
          "output_type": "stream",
          "name": "stdout",
          "text": [
            "Enter the ele to search : 5\n",
            "The ele is found at [5]\n",
            "The ele is found at 5\n"
          ]
        }
      ]
    },
    {
      "cell_type": "code",
      "source": [
        "# Binary Search\n",
        "import random\n",
        "binary_list = [random.randint(1,10) for x in range(10)]\n",
        "print(binary_list)"
      ],
      "metadata": {
        "colab": {
          "base_uri": "https://localhost:8080/"
        },
        "id": "6cNlOtcxUL2G",
        "outputId": "29e2178e-491f-413b-bef8-7ab74ea1a1fb"
      },
      "execution_count": 67,
      "outputs": [
        {
          "output_type": "stream",
          "name": "stdout",
          "text": [
            "[7, 2, 4, 5, 7, 4, 2, 1, 6, 2]\n"
          ]
        }
      ]
    },
    {
      "cell_type": "code",
      "source": [
        "binary_list.sort()\n",
        "user_input_binary = int(input('Enter the number : '))\n",
        "mid_value_binary = binary_list[len(binary_list) // 2]\n",
        "# print(f'The user input {user_input_binary} and mid_value {mid_value_binary}')\n",
        "\n",
        "# Looping-through the list\n",
        "if user_input_binary > mid_value_binary:\n",
        "\n",
        "    print('Performing the Right Search')\n",
        "    result = [binary_list.index(x) for x in binary_list[mid_value_binary:] if x == user_input_binary][0] # Just to print single-value\n",
        "    print(f'The result found @ {result} index')\n",
        "\n",
        "else:\n",
        "\n",
        "    print('Performing the Right Search')\n",
        "    result = [binary_list.index(x) for x in binary_list[:mid_value_binary] if x == user_input_binary][0]\n",
        "    print(f'The result found @ {result} index')\n"
      ],
      "metadata": {
        "id": "b_u_ydWLGltJ",
        "colab": {
          "base_uri": "https://localhost:8080/"
        },
        "outputId": "ac99e68a-0e51-4dad-e60c-136768a3b945"
      },
      "execution_count": 83,
      "outputs": [
        {
          "output_type": "stream",
          "name": "stdout",
          "text": [
            "Enter the number : 5\n",
            "Performing the Right Search\n",
            "The result found @ 6 index\n"
          ]
        }
      ]
    },
    {
      "cell_type": "code",
      "source": [
        "# Factorial of a number\n",
        "fact = 1\n",
        "user_input = int(input('Enter the number for factorial : '))\n",
        "\n",
        "for i in range(user_input, 0, -1):\n",
        "    fact*=i\n",
        "    print(i , end = ' ', sep='*')\n",
        "\n",
        "print('\\t')\n",
        "print(fact)"
      ],
      "metadata": {
        "id": "xOTbfumVGlvu",
        "colab": {
          "base_uri": "https://localhost:8080/"
        },
        "outputId": "01e48c6e-17fa-4000-d355-acc3386e894e"
      },
      "execution_count": 136,
      "outputs": [
        {
          "output_type": "stream",
          "name": "stdout",
          "text": [
            "Enter the number for factorial : 5\n",
            "5 4 3 2 1 \t\n",
            "120\n"
          ]
        }
      ]
    },
    {
      "cell_type": "code",
      "source": [
        "fact = 1\n",
        "\n",
        "for i in range(1, user_input:=int(input('Enter a Number : ')) + 1):\n",
        "\n",
        "    fact*=i\n",
        "\n",
        "print(fact)"
      ],
      "metadata": {
        "id": "wt2khD8kGlyD",
        "colab": {
          "base_uri": "https://localhost:8080/"
        },
        "outputId": "ae7cc587-87d1-40a3-b39d-b707120ced6c"
      },
      "execution_count": 99,
      "outputs": [
        {
          "output_type": "stream",
          "name": "stdout",
          "text": [
            "Enter a Number : 5\n",
            "120\n"
          ]
        }
      ]
    },
    {
      "cell_type": "code",
      "source": [
        "# Count the number of words in a sentence\n",
        "sentence = 'Hi my name is hariprasad'\n",
        "\n",
        "print(len(sentence))\n",
        "\n",
        "result = [len(x) for x in sentence.split()]\n",
        "\n",
        "print(\"The sum of total words in a sentence is \",len(result))"
      ],
      "metadata": {
        "id": "hxLLL2RwGl0X",
        "colab": {
          "base_uri": "https://localhost:8080/"
        },
        "outputId": "be043d5c-fe7f-434b-fbc0-49f9f5d3b19a"
      },
      "execution_count": 104,
      "outputs": [
        {
          "output_type": "stream",
          "name": "stdout",
          "text": [
            "24\n",
            "The sum of total words in a sentence is  5\n"
          ]
        }
      ]
    },
    {
      "cell_type": "code",
      "source": [
        "# Return the longest word in a sentence\n",
        "sentence = 'hi my name is hariprasad and i am from bangalore'\n",
        "\n",
        "word_counter = {x : len(x) for x in sentence.split()}\n",
        "\n",
        "for key,value in word_counter.items():\n",
        "\n",
        "    if value == max(word_counter.values()):\n",
        "\n",
        "        print(key) # Longest word in the sentence\n",
        ""
      ],
      "metadata": {
        "id": "Z6In_ToRGl2z",
        "colab": {
          "base_uri": "https://localhost:8080/"
        },
        "outputId": "46ec9e66-6d8a-4c98-94df-b9426f1cccf7"
      },
      "execution_count": 112,
      "outputs": [
        {
          "output_type": "stream",
          "name": "stdout",
          "text": [
            "hariprasad\n"
          ]
        }
      ]
    },
    {
      "cell_type": "code",
      "source": [
        "# Capitalize the first-word of each sentence\n",
        "sentence = 'hi my name is hari'\n",
        "empt_string = ''\n",
        "\n",
        "for i in sentence.split():\n",
        "\n",
        "    empt_string+=i.capitalize()+ ' '\n",
        "\n",
        "print(empt_string)\n"
      ],
      "metadata": {
        "id": "tmrLzjL7Gl5j",
        "colab": {
          "base_uri": "https://localhost:8080/"
        },
        "outputId": "e5974972-999b-400d-c5da-2af2e5f5edb8"
      },
      "execution_count": 127,
      "outputs": [
        {
          "output_type": "stream",
          "name": "stdout",
          "text": [
            "Hi My Name Is Hari \n"
          ]
        }
      ]
    },
    {
      "cell_type": "code",
      "source": [
        "# check if the string is pallindrom or not\n",
        "string =\"Hi i went to the Airpot with my mom and dad\"\n",
        "\n",
        "result = [x for x in string.split() if (x == x[::-1]) & (len(x) > 1)]\n",
        "\n",
        "# Why len(x) > 1 : Cause single letter is also being considerd\n",
        "\n",
        "print(result)"
      ],
      "metadata": {
        "id": "5Op-8JueGl8A",
        "colab": {
          "base_uri": "https://localhost:8080/"
        },
        "outputId": "79f00729-c393-432e-e518-a98e1bdf7985"
      },
      "execution_count": 130,
      "outputs": [
        {
          "output_type": "stream",
          "name": "stdout",
          "text": [
            "['mom', 'dad']\n"
          ]
        }
      ]
    },
    {
      "cell_type": "code",
      "source": [
        "# Filter a string to return only even numbers\n",
        "import random\n",
        "\n",
        "sample_list = [random.randint(1,10) for x in range(10)]\n",
        "\n",
        "even_only = [x for x in sample_list if x%2==0]\n",
        "\n",
        "print(even_only)\n",
        "# All the even number from the list .."
      ],
      "metadata": {
        "id": "ozpIBn6nGl-O",
        "colab": {
          "base_uri": "https://localhost:8080/"
        },
        "outputId": "936f068d-f83f-44f4-9714-df78ede8927d"
      },
      "execution_count": 131,
      "outputs": [
        {
          "output_type": "stream",
          "name": "stdout",
          "text": [
            "[10, 8, 2, 8, 4, 10]\n"
          ]
        }
      ]
    },
    {
      "cell_type": "code",
      "source": [
        "# Return a new list which has squares of even number\n",
        "import random\n",
        "\n",
        "square_list = [random.randint(1,10) for x in range(10)]\n",
        "\n",
        "square = [x**2 if x%2==0 else x for x in square_list]\n",
        "\n",
        "print(square)\n",
        "\n",
        "# Only the even numbers are squared and the odd is just printed.."
      ],
      "metadata": {
        "colab": {
          "base_uri": "https://localhost:8080/"
        },
        "id": "eEZAVT0TSJs5",
        "outputId": "dc10abee-1ea9-4c28-d4d6-69eed76c0134"
      },
      "execution_count": 138,
      "outputs": [
        {
          "output_type": "stream",
          "name": "stdout",
          "text": [
            "[36, 3, 3, 64, 7, 1, 16, 9, 4, 36]\n"
          ]
        }
      ]
    },
    {
      "cell_type": "code",
      "source": [
        "# Findig the second largest number in the list without sort\n",
        "s_large = [1,3,4,5,2]"
      ],
      "metadata": {
        "id": "Jg7xzhbZSJqu"
      },
      "execution_count": 158,
      "outputs": []
    },
    {
      "cell_type": "code",
      "source": [
        "# For-Sorting we will take the help of temp\n",
        "\n",
        "temp = 0\n",
        "for i in range(len(s_large)):\n",
        "\n",
        "    for j in range(i, len(s_large)):\n",
        "\n",
        "        if s_large[i] < s_large[j]:\n",
        "\n",
        "            # s_large[i], s_large[j] = s_large[j], s_large[i]\n",
        "\n",
        "            temp = s_large[i]\n",
        "\n",
        "            s_large[i] = s_large[j]\n",
        "\n",
        "            s_large[j] = temp\n",
        "\n",
        "print(s_large[1])\n",
        "\n",
        "# The second largest number is printed\n",
        "\n",
        "# Do not use random left and right here and there...\n"
      ],
      "metadata": {
        "colab": {
          "base_uri": "https://localhost:8080/"
        },
        "id": "qRNfeX0Ho-Cg",
        "outputId": "b773df8a-1f8a-4658-8047-a372308bf99c"
      },
      "execution_count": 161,
      "outputs": [
        {
          "output_type": "stream",
          "name": "stdout",
          "text": [
            "4\n"
          ]
        }
      ]
    },
    {
      "cell_type": "code",
      "source": [
        "# In a list check if all the element are unique\n",
        "\n",
        "# So we can use count ...\n",
        "\n",
        "sample_list = [1,2,3,3,4,5,6,7]\n",
        "\n",
        "for i in sample_list:\n",
        "    # Another use for-else loop\n",
        "\n",
        "    if sample_list.count(i) > 1:\n",
        "        print('Non Unique')\n",
        "        break\n",
        "else:\n",
        "    print(sample_list, \"The list has all unique elements\")"
      ],
      "metadata": {
        "colab": {
          "base_uri": "https://localhost:8080/"
        },
        "id": "lOlVwhNpo-AW",
        "outputId": "d96a5953-4a81-4dc2-c9f1-d017b4999f93"
      },
      "execution_count": 166,
      "outputs": [
        {
          "output_type": "stream",
          "name": "stdout",
          "text": [
            "Non Unique\n"
          ]
        }
      ]
    },
    {
      "cell_type": "code",
      "source": [
        "# Given two-list return all the common elements\n",
        "\n",
        "list_a = [1,2,3,4,5]\n",
        "\n",
        "list_b = [10,9,8,7,5]\n",
        "\n",
        "for i,j in zip(list_a, list_b):\n",
        "    if i == j:\n",
        "        print(i)\n",
        "# These are all the common elements in the list..."
      ],
      "metadata": {
        "colab": {
          "base_uri": "https://localhost:8080/"
        },
        "id": "P1my1TV7o9-H",
        "outputId": "38af3c43-6833-49f2-ad39-73c679e1c0bc"
      },
      "execution_count": 168,
      "outputs": [
        {
          "output_type": "stream",
          "name": "stdout",
          "text": [
            "5\n"
          ]
        }
      ]
    },
    {
      "cell_type": "code",
      "source": [
        "# Flatten the list\n",
        "nested_list = [[1, 2], [3, 4], [5, [6, 7]]]\n",
        "\n",
        "# Observation : We have multiple-sub list here\n",
        "try:\n",
        "    for i in range(len(nested_list)):\n",
        "        for i in nested_list[i]:\n",
        "            try:\n",
        "                for ele in i:\n",
        "                    print(ele, end= ' ')\n",
        "            except:\n",
        "                print(i, end =' ')\n",
        "except Exception as e:\n",
        "    print(e, end =' ')\n",
        "\n",
        "\n",
        "# Here we have used multiple try and error to solve this yet there are many cases we can use"
      ],
      "metadata": {
        "colab": {
          "base_uri": "https://localhost:8080/"
        },
        "id": "ib7DjWr2o98D",
        "outputId": "f8cb5939-853d-4322-8ea9-2d50358e4b58"
      },
      "execution_count": 177,
      "outputs": [
        {
          "output_type": "stream",
          "name": "stdout",
          "text": [
            "1 2 3 4 5 6 7 "
          ]
        }
      ]
    },
    {
      "cell_type": "markdown",
      "source": [
        "This is more simple approach to follow"
      ],
      "metadata": {
        "id": "d8gih30bLmIU"
      }
    },
    {
      "cell_type": "code",
      "source": [
        "for i in nested_list:\n",
        "    for ele in i:\n",
        "        try:\n",
        "            for elem in ele:\n",
        "                print(elem, end =' ')\n",
        "        except:\n",
        "            print(ele, end = ' ')\n"
      ],
      "metadata": {
        "colab": {
          "base_uri": "https://localhost:8080/"
        },
        "id": "-MAUOsupo95r",
        "outputId": "aeac1070-5a25-4ad4-cc2b-93cdded8255e"
      },
      "execution_count": 176,
      "outputs": [
        {
          "output_type": "stream",
          "name": "stdout",
          "text": [
            "1 2 3 4 5 6 7 "
          ]
        }
      ]
    },
    {
      "cell_type": "code",
      "source": [
        "# Rotate a list k times to the right\n",
        "list_r = [1,2,3,4,5,6,7,8,9,10]\n",
        "\n",
        "# Rotate the elemet in the list\n",
        "k = 4\n",
        "for i in range(k):\n",
        "    list_r.append(list_r[i])\n",
        "\n",
        "for i in range(k):\n",
        "    list_r.remove(list_r[i])\n",
        "\n",
        "\n",
        "# need to work on to this"
      ],
      "metadata": {
        "id": "0ihA7gmlSJoZ"
      },
      "execution_count": 220,
      "outputs": []
    },
    {
      "cell_type": "code",
      "source": [
        "print(list_r)"
      ],
      "metadata": {
        "colab": {
          "base_uri": "https://localhost:8080/"
        },
        "id": "MYc6ZQa2SJmB",
        "outputId": "39aaae98-d57a-437a-e4cb-b48e6a622f9a"
      },
      "execution_count": 219,
      "outputs": [
        {
          "output_type": "stream",
          "name": "stdout",
          "text": [
            "[2, 4, 6, 8, 9, 10, 1, 2, 3, 4]\n"
          ]
        }
      ]
    },
    {
      "cell_type": "code",
      "source": [
        "# del sum"
      ],
      "metadata": {
        "id": "A1xZU0eIWSqx"
      },
      "execution_count": 229,
      "outputs": []
    },
    {
      "cell_type": "code",
      "source": [
        "# Return the running sum of a list\n",
        "sum_list = []\n",
        "\n",
        "while True:\n",
        "    try:\n",
        "        user_input = int(input('Enter the number : '))\n",
        "        sum_list.append(user_input)\n",
        "        print(sum(sum_list))\n",
        "\n",
        "    except Exception as e:\n",
        "        print(e)\n",
        "        break"
      ],
      "metadata": {
        "colab": {
          "base_uri": "https://localhost:8080/"
        },
        "id": "_RtCYud1SJjl",
        "outputId": "c8ddedb9-711d-45b7-b478-847d19b1bb2e"
      },
      "execution_count": 230,
      "outputs": [
        {
          "output_type": "stream",
          "name": "stdout",
          "text": [
            "Enter the number : 1\n",
            "1\n",
            "Enter the number : 2\n",
            "3\n",
            "Enter the number : 3\n",
            "6\n",
            "Enter the number : 4\n",
            "10\n",
            "Enter the number : 5\n",
            "15\n",
            "Enter the number : break\n",
            "invalid literal for int() with base 10: 'break'\n"
          ]
        }
      ]
    },
    {
      "cell_type": "code",
      "source": [
        "# Count frequency of words in a string and return a dictionary.\n",
        "\n",
        "a_string = 'hi my name is hariprasad'\n",
        "word_dict = {}\n",
        "for i in a_string:\n",
        "    if i  != ' ':\n",
        "        word_dict[i] = string.count(i)\n",
        "word_dict\n",
        "\n",
        "# Here i have skipped the space..."
      ],
      "metadata": {
        "colab": {
          "base_uri": "https://localhost:8080/"
        },
        "id": "l-2W9k4HSJaZ",
        "outputId": "7de326a7-82c0-40bf-fc1f-7f5600aa8950"
      },
      "execution_count": 257,
      "outputs": [
        {
          "output_type": "execute_result",
          "data": {
            "text/plain": [
              "{'h': 2,\n",
              " 'i': 4,\n",
              " 'm': 3,\n",
              " 'y': 1,\n",
              " 'n': 2,\n",
              " 'a': 2,\n",
              " 'e': 2,\n",
              " 's': 0,\n",
              " 'r': 1,\n",
              " 'p': 1,\n",
              " 'd': 3}"
            ]
          },
          "metadata": {},
          "execution_count": 257
        }
      ]
    },
    {
      "cell_type": "code",
      "source": [
        "# Given the dict return the len of the word in dict\n",
        "string = \"hi my name is hariprasad and i stay in bangalore\"\n",
        "_ = {x : len(x) for x in string.split()}\n",
        "print(_)"
      ],
      "metadata": {
        "colab": {
          "base_uri": "https://localhost:8080/"
        },
        "id": "zvoRBo9QSJYF",
        "outputId": "4c3d52e4-1f0e-4d68-9e54-2bb621485c8b"
      },
      "execution_count": 258,
      "outputs": [
        {
          "output_type": "stream",
          "name": "stdout",
          "text": [
            "{'hi': 2, 'my': 2, 'name': 4, 'is': 2, 'hariprasad': 10, 'and': 3, 'i': 1, 'stay': 4, 'in': 2, 'bangalore': 9}\n"
          ]
        }
      ]
    },
    {
      "cell_type": "code",
      "source": [
        "# Find the max difference btw any two element in the list\n",
        "import random\n",
        "a_list = [random.randint(1,10) for x in range(10)]\n",
        "print(a_list)"
      ],
      "metadata": {
        "colab": {
          "base_uri": "https://localhost:8080/"
        },
        "id": "7xNS61nGSJVu",
        "outputId": "34b63ab7-5bb7-4dcf-96e4-9cfe1bcb9409"
      },
      "execution_count": 273,
      "outputs": [
        {
          "output_type": "stream",
          "name": "stdout",
          "text": [
            "[5, 4, 9, 10, 2, 8, 4, 1, 5, 9]\n"
          ]
        }
      ]
    },
    {
      "cell_type": "code",
      "source": [
        "# To find the any two elemetn , 2 way subract each ele with one ele and then find or\n",
        "a_max = max(a_list)\n",
        "a_min = min(a_list)\n",
        "print('The index element will have the max distance', a_list.index(a_max), a_list.index(a_min))\n",
        "print(a_max - a_min)"
      ],
      "metadata": {
        "colab": {
          "base_uri": "https://localhost:8080/"
        },
        "id": "KX97C9InYynz",
        "outputId": "cc9d3814-b1ed-4083-85a1-f464a26eb53e"
      },
      "execution_count": 274,
      "outputs": [
        {
          "output_type": "stream",
          "name": "stdout",
          "text": [
            "The index element will have the max distance 3 7\n",
            "9\n"
          ]
        }
      ]
    },
    {
      "cell_type": "code",
      "source": [
        "# Remove the duplicates from the list\n",
        "\n",
        "# Take the previous list as an example\n",
        "a_list\n"
      ],
      "metadata": {
        "colab": {
          "base_uri": "https://localhost:8080/"
        },
        "id": "5QZvRPdzSJTR",
        "outputId": "499af9be-675b-4575-9a0d-1f8119755567"
      },
      "execution_count": 275,
      "outputs": [
        {
          "output_type": "execute_result",
          "data": {
            "text/plain": [
              "[5, 4, 9, 10, 2, 8, 4, 1, 5, 9]"
            ]
          },
          "metadata": {},
          "execution_count": 275
        }
      ]
    },
    {
      "cell_type": "code",
      "source": [
        "for i in a_list:\n",
        "    if a_list.count(i) > 1:\n",
        "        a_list.remove(i)\n",
        "a_list\n",
        "\n",
        "# This removed all the repeated elements"
      ],
      "metadata": {
        "colab": {
          "base_uri": "https://localhost:8080/"
        },
        "id": "CMh-yqqbZchV",
        "outputId": "3aab7e88-79fe-4e18-ad24-a6be04dda8fa"
      },
      "execution_count": 276,
      "outputs": [
        {
          "output_type": "execute_result",
          "data": {
            "text/plain": [
              "[10, 2, 8, 4, 1, 5, 9]"
            ]
          },
          "metadata": {},
          "execution_count": 276
        }
      ]
    },
    {
      "cell_type": "code",
      "source": [],
      "metadata": {
        "id": "2F35dETIZhAl"
      },
      "execution_count": null,
      "outputs": []
    }
  ]
}