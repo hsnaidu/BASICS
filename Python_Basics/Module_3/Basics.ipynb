{
 "cells": [
  {
   "cell_type": "markdown",
   "metadata": {},
   "source": [
    "LIST & TUPLES"
   ]
  },
  {
   "cell_type": "code",
   "execution_count": 2,
   "metadata": {},
   "outputs": [
    {
     "name": "stdout",
     "output_type": "stream",
     "text": [
      "<class 'list'>\n"
     ]
    }
   ],
   "source": [
    "list = []\n",
    "print(type(list))"
   ]
  },
  {
   "cell_type": "code",
   "execution_count": 3,
   "metadata": {},
   "outputs": [
    {
     "name": "stdout",
     "output_type": "stream",
     "text": [
      "[1, True, 'hari', 'prasad', 3.142]\n"
     ]
    }
   ],
   "source": [
    "# Sample List ..\n",
    "\n",
    "sample_list = [1,True,\"hari\",\"prasad\",3.142]\n",
    "print(sample_list)"
   ]
  },
  {
   "cell_type": "code",
   "execution_count": 4,
   "metadata": {},
   "outputs": [
    {
     "name": "stdout",
     "output_type": "stream",
     "text": [
      "<class 'list'>\n"
     ]
    }
   ],
   "source": [
    "# Type..\n",
    "\n",
    "print(type(sample_list)) "
   ]
  },
  {
   "cell_type": "code",
   "execution_count": 5,
   "metadata": {},
   "outputs": [
    {
     "name": "stdout",
     "output_type": "stream",
     "text": [
      "hari\n",
      "5\n"
     ]
    }
   ],
   "source": [
    "# Length and Indexing ..\n",
    "\n",
    "print(sample_list[2])   # Indexing \n",
    "print(len(sample_list)) # Length "
   ]
  },
  {
   "cell_type": "code",
   "execution_count": 6,
   "metadata": {},
   "outputs": [
    {
     "name": "stdout",
     "output_type": "stream",
     "text": [
      "[1, True, 'hari', 'hello', 3.142]\n"
     ]
    }
   ],
   "source": [
    "# MUTABLE ..\n",
    "sample_list[3] = \"hello\"\n",
    "print(sample_list)"
   ]
  },
  {
   "cell_type": "markdown",
   "metadata": {},
   "source": [
    "SLICING"
   ]
  },
  {
   "cell_type": "code",
   "execution_count": 7,
   "metadata": {},
   "outputs": [
    {
     "name": "stdout",
     "output_type": "stream",
     "text": [
      "[True, 'hari']\n",
      "[True, 'hari', 'hello', 3.142]\n",
      "[1, True]\n",
      "[1, True, 'hari']\n"
     ]
    }
   ],
   "source": [
    "# Similar to String..\n",
    "print(sample_list[1:3]) # Returns a Substring\n",
    "print(sample_list[1:])\n",
    "print(sample_list[:2])\n",
    "print(sample_list[0:-2]) # Negative"
   ]
  },
  {
   "cell_type": "markdown",
   "metadata": {},
   "source": [
    "LIST METHODS / LIST FUNCTIONS"
   ]
  },
  {
   "cell_type": "code",
   "execution_count": 52,
   "metadata": {},
   "outputs": [
    {
     "name": "stdout",
     "output_type": "stream",
     "text": [
      "5\n",
      "[1, 2, 3, 23, 43, 56, 87, 100, 999]\n",
      "[1, 2, 3, 23, 43, 56, 87, 100, 999, 20]\n",
      "[20, 999, 100, 87, 56, 43, 23, 3, 2, 1]\n",
      "[20, 69, 999, 100, 87, 56, 43, 23, 3, 2, 1]\n",
      "[20, 69, 999, 100, 87, 43, 23, 3, 2, 1]\n",
      "[20, 999, 100, 87, 43, 23, 3, 2, 1]\n",
      "[10, 999, 100, 87, 43, 23, 3, 2, 1]\n"
     ]
    }
   ],
   "source": [
    "print(len(sample_list))\n",
    "marks = [3,56,2,23,43,87,100,999,1]\n",
    "\n",
    "# SORT..\n",
    "marks.sort(reverse=False)\n",
    "print(marks)\n",
    "\n",
    "# APPEND.. (Add an Element into a list)\n",
    "    # --> Append always add the element at LAST\n",
    "marks.append(20)\n",
    "print(marks)\n",
    "\n",
    "# REVERSE..  DEFAULT : ASCENDING\n",
    "marks.reverse()\n",
    "print(marks)\n",
    "\n",
    "# INSERT.. (Add an Element at a specific position)\n",
    "\n",
    "marks.insert(1,69) # At index 1 insert 69\n",
    "print(marks)\n",
    "\n",
    "# REMOVE.. remove particular element from list\n",
    "marks.remove(56)\n",
    "print(marks)\n",
    "\n",
    "# POP.. Remove element at index\n",
    "marks.pop(1)\n",
    "print(marks)    # 69 removed at idx 1\n",
    "\n",
    "# COPY.. Taking a copy of the list\n",
    "copy_marks = marks.copy()\n",
    "copy_marks[0] = 10\n",
    "print(copy_marks) # Any changes made in this wont affect main data"
   ]
  },
  {
   "cell_type": "code",
   "execution_count": 9,
   "metadata": {},
   "outputs": [
    {
     "name": "stdout",
     "output_type": "stream",
     "text": [
      "['A', 'B', 'C', 'D', 'G', 'H']\n"
     ]
    }
   ],
   "source": [
    "# Sorting on Strings..\n",
    "fruits = [\"G\",\"H\",\"A\",\"B\",\"D\",\"C\"]\n",
    "fruits.sort()\n",
    "print(fruits)"
   ]
  },
  {
   "cell_type": "markdown",
   "metadata": {},
   "source": [
    "TUPLE'S ARE SAME AS LIST BUT.. THEY ARE IMMUTABLE (Strings)"
   ]
  },
  {
   "cell_type": "code",
   "execution_count": 15,
   "metadata": {},
   "outputs": [
    {
     "name": "stdout",
     "output_type": "stream",
     "text": [
      "(10, 20, 30, 40, 50)\n"
     ]
    }
   ],
   "source": [
    "marks = (10,20,30,40,50)\n",
    "print(marks)"
   ]
  },
  {
   "cell_type": "code",
   "execution_count": 16,
   "metadata": {},
   "outputs": [
    {
     "ename": "TypeError",
     "evalue": "'tuple' object does not support item assignment",
     "output_type": "error",
     "traceback": [
      "\u001b[1;31m---------------------------------------------------------------------------\u001b[0m",
      "\u001b[1;31mTypeError\u001b[0m                                 Traceback (most recent call last)",
      "Cell \u001b[1;32mIn[16], line 2\u001b[0m\n\u001b[0;32m      1\u001b[0m \u001b[38;5;66;03m# If we try changing ..\u001b[39;00m\n\u001b[1;32m----> 2\u001b[0m marks[\u001b[38;5;241m1\u001b[39m] \u001b[38;5;241m=\u001b[39m \u001b[38;5;241m10\u001b[39m\n",
      "\u001b[1;31mTypeError\u001b[0m: 'tuple' object does not support item assignment"
     ]
    }
   ],
   "source": [
    "# If we try changing ..\n",
    "marks[1] = 10"
   ]
  },
  {
   "cell_type": "code",
   "execution_count": 22,
   "metadata": {},
   "outputs": [
    {
     "name": "stdout",
     "output_type": "stream",
     "text": [
      "<class 'tuple'>\n"
     ]
    }
   ],
   "source": [
    "# Printing the type ..\n",
    "print(type(marks))"
   ]
  },
  {
   "cell_type": "markdown",
   "metadata": {},
   "source": [
    "SLICING IN TUPLE IS SAME AS LIST"
   ]
  },
  {
   "cell_type": "code",
   "execution_count": 25,
   "metadata": {},
   "outputs": [
    {
     "name": "stdout",
     "output_type": "stream",
     "text": [
      "(10,)\n",
      "(20, 30, 40, 50)\n"
     ]
    }
   ],
   "source": [
    "print(marks[:1])\n",
    "print(marks[1:])"
   ]
  },
  {
   "cell_type": "markdown",
   "metadata": {},
   "source": [
    "TUPLE HAS TWO IMPT.. METHODS"
   ]
  },
  {
   "cell_type": "code",
   "execution_count": 27,
   "metadata": {},
   "outputs": [
    {
     "name": "stdout",
     "output_type": "stream",
     "text": [
      "0\n"
     ]
    }
   ],
   "source": [
    "# INDEX..\n",
    "print(marks.index(10))"
   ]
  },
  {
   "cell_type": "code",
   "execution_count": 30,
   "metadata": {},
   "outputs": [
    {
     "name": "stdout",
     "output_type": "stream",
     "text": [
      "0\n",
      "1\n"
     ]
    }
   ],
   "source": [
    "# COUNT..\n",
    "print(marks.count(2))\n",
    "print(marks.count(20))"
   ]
  },
  {
   "cell_type": "markdown",
   "metadata": {},
   "source": [
    "PRACTICE "
   ]
  },
  {
   "cell_type": "code",
   "execution_count": 31,
   "metadata": {},
   "outputs": [
    {
     "name": "stdout",
     "output_type": "stream",
     "text": [
      "['big bang theory', 'home alone', 'ben 10']\n"
     ]
    }
   ],
   "source": [
    "# WAP to store movie names \n",
    "movie_name = []\n",
    "for i in range(3):\n",
    "    m_name = input('Enter your favouraite movie names : ')\n",
    "    movie_name.append(m_name)\n",
    "print(movie_name)"
   ]
  },
  {
   "cell_type": "code",
   "execution_count": 58,
   "metadata": {},
   "outputs": [],
   "source": [
    "# WAP to check if a list contins a palindrom of element \n",
    "\n",
    "list1 = [1,2,3,2,1]\n",
    "list2 = [1,'Abc','Abc',1]\n",
    "list3 = [1,2,3,4]\n",
    "\n",
    "def palindrom_checker(list_name):\n",
    "    list_rev = list_name.copy() # Taking a copy of string \n",
    "    list_rev.reverse() # Reversing the copied string\n",
    "    print(\"The list is palindrom\" if list_rev == list_name else \"The list is ! palindrom\") "
   ]
  },
  {
   "cell_type": "code",
   "execution_count": 59,
   "metadata": {},
   "outputs": [
    {
     "name": "stdout",
     "output_type": "stream",
     "text": [
      "The list is palindrom\n",
      "The list is palindrom\n",
      "The list is ! palindrom\n"
     ]
    }
   ],
   "source": [
    "# Checking the List1\n",
    "palindrom_checker(list_name=list1)\n",
    "palindrom_checker(list_name=list2)\n",
    "palindrom_checker(list_name=list3)"
   ]
  },
  {
   "cell_type": "code",
   "execution_count": 65,
   "metadata": {},
   "outputs": [
    {
     "name": "stdout",
     "output_type": "stream",
     "text": [
      "4\n",
      "['A', 'A', 'A', 'A', 'B', 'B', 'C', 'D', 'E', 'F']\n",
      "4\n"
     ]
    }
   ],
   "source": [
    "# Program to count the number of A graders\n",
    "grades = ['B','A','A','C','D','A','A','B','E','F']\n",
    "print(grades.count('A'))\n",
    "\n",
    "# Let's Sort it ..\n",
    "grades.sort()\n",
    "print(grades)\n",
    "\n",
    "# Converting a list to Tuple\n",
    "grades = ('B','A','A','C','D','A','A','B','E','F')\n",
    "print(grades.count('A'))"
   ]
  },
  {
   "cell_type": "code",
   "execution_count": null,
   "metadata": {},
   "outputs": [],
   "source": []
  }
 ],
 "metadata": {
  "kernelspec": {
   "display_name": "base",
   "language": "python",
   "name": "python3"
  },
  "language_info": {
   "codemirror_mode": {
    "name": "ipython",
    "version": 3
   },
   "file_extension": ".py",
   "mimetype": "text/x-python",
   "name": "python",
   "nbconvert_exporter": "python",
   "pygments_lexer": "ipython3",
   "version": "3.11.7"
  }
 },
 "nbformat": 4,
 "nbformat_minor": 2
}
