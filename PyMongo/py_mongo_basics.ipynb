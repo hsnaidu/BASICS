{
 "cells": [
  {
   "cell_type": "code",
   "execution_count": 26,
   "id": "fac660a8",
   "metadata": {},
   "outputs": [
    {
     "name": "stdout",
     "output_type": "stream",
     "text": [
      "3.11.7 | packaged by Anaconda, Inc. | (main, Dec 15 2023, 18:05:47) [MSC v.1916 64 bit (AMD64)]\n"
     ]
    }
   ],
   "source": [
    "from sys import version\n",
    "print(version)"
   ]
  },
  {
   "cell_type": "markdown",
   "id": "a3093083",
   "metadata": {},
   "source": [
    "Connecting MongoDB - Python"
   ]
  },
  {
   "cell_type": "code",
   "execution_count": 27,
   "id": "49fbbc1e",
   "metadata": {},
   "outputs": [],
   "source": [
    "# 1. Install pymongo\n",
    "\n",
    "# !pip install pymongo"
   ]
  },
  {
   "cell_type": "markdown",
   "id": "3bed2b15",
   "metadata": {},
   "source": [
    "`Importing the Library`"
   ]
  },
  {
   "cell_type": "code",
   "execution_count": 28,
   "id": "a3963a8a",
   "metadata": {},
   "outputs": [],
   "source": [
    "import pymongo\n",
    "from pymongo import MongoClient"
   ]
  },
  {
   "cell_type": "markdown",
   "id": "a54c9138",
   "metadata": {},
   "source": [
    "`Creating & Connecting to a Client Interface`"
   ]
  },
  {
   "cell_type": "markdown",
   "id": "05809a9f",
   "metadata": {},
   "source": [
    "You use MogoClient"
   ]
  },
  {
   "cell_type": "code",
   "execution_count": 29,
   "id": "9f2c36bb",
   "metadata": {},
   "outputs": [],
   "source": [
    "db = pymongo.MongoClient(\"mongodb://127.0.0.1:27017/\") \n",
    "# For link : cmd -> mongosh"
   ]
  },
  {
   "cell_type": "markdown",
   "id": "ffb2f068",
   "metadata": {},
   "source": [
    "`Creating a Database`"
   ]
  },
  {
   "cell_type": "code",
   "execution_count": 30,
   "id": "19773cdd",
   "metadata": {},
   "outputs": [],
   "source": [
    "db = db['Data-Base_Name']"
   ]
  },
  {
   "cell_type": "markdown",
   "id": "0ec38822",
   "metadata": {},
   "source": [
    "`Creating a Collection`"
   ]
  },
  {
   "cell_type": "code",
   "execution_count": 31,
   "id": "d855c84c",
   "metadata": {},
   "outputs": [],
   "source": [
    "collection_name = db.Collection_name"
   ]
  },
  {
   "cell_type": "markdown",
   "id": "ad8b922b",
   "metadata": {},
   "source": [
    "Now, We need to Insert Records"
   ]
  },
  {
   "cell_type": "code",
   "execution_count": 32,
   "id": "6522be9a",
   "metadata": {},
   "outputs": [],
   "source": [
    "try:\n",
    "    dict = {}\n",
    "    collection_name.insert_one(dict)\n",
    "\n",
    "    # Insert Many\n",
    "    collection_name.insert_many([{dict}, {dict}])\n",
    "except:\n",
    "    pass"
   ]
  },
  {
   "cell_type": "markdown",
   "id": "9b57b857",
   "metadata": {},
   "source": [
    " ----"
   ]
  },
  {
   "cell_type": "markdown",
   "id": "ce3a8dd8",
   "metadata": {},
   "source": [
    "Python & MongoDB "
   ]
  },
  {
   "cell_type": "code",
   "execution_count": 2,
   "id": "f464561d",
   "metadata": {},
   "outputs": [
    {
     "name": "stdout",
     "output_type": "stream",
     "text": [
      "3.11.7 | packaged by Anaconda, Inc. | (main, Dec 15 2023, 18:05:47) [MSC v.1916 64 bit (AMD64)]\n"
     ]
    }
   ],
   "source": [
    "from sys import version\n",
    "print(version)"
   ]
  },
  {
   "cell_type": "code",
   "execution_count": 3,
   "id": "1f3451ef",
   "metadata": {},
   "outputs": [],
   "source": [
    "import pymongo\n",
    "from pymongo import MongoClient"
   ]
  },
  {
   "cell_type": "code",
   "execution_count": 6,
   "id": "44ef662e",
   "metadata": {},
   "outputs": [],
   "source": [
    "# Creating a conn.\n",
    "conn = MongoClient('mongodb://localhost:27017/')"
   ]
  },
  {
   "cell_type": "code",
   "execution_count": 7,
   "id": "a9041489",
   "metadata": {},
   "outputs": [],
   "source": [
    "# Creating the database\n",
    "db = conn['sample']"
   ]
  },
  {
   "cell_type": "code",
   "execution_count": 8,
   "id": "63a6e7d7",
   "metadata": {},
   "outputs": [],
   "source": [
    "# Adding a collection to the database\n",
    "bca = db['bca']"
   ]
  },
  {
   "cell_type": "markdown",
   "id": "e08b143a",
   "metadata": {},
   "source": [
    "#### INSERT_ONE & INSERT_MANY"
   ]
  },
  {
   "cell_type": "code",
   "execution_count": 54,
   "id": "86c210e1",
   "metadata": {},
   "outputs": [
    {
     "data": {
      "text/plain": [
       "InsertManyResult([1, 2, 3, 4, 5, 6, 7, 8, 9, 10], acknowledged=True)"
      ]
     },
     "execution_count": 54,
     "metadata": {},
     "output_type": "execute_result"
    }
   ],
   "source": [
    "bca.insert_many([\n",
    "  { \"_id\": 1, \"name\": \"hari\", \"l_name\": \"prasad\", \"pass\": 1, \"score\": 9.3 },\n",
    "  { \"_id\": 2, \"name\": \"anita\", \"l_name\": \"kumar\", \"pass\": 0, \"score\": 4.3 },\n",
    "  { \"_id\": 3, \"name\": \"raj\", \"l_name\": \"mehta\", \"pass\": 1, \"score\": 7.2 },\n",
    "  { \"_id\": 4, \"name\": \"sita\", \"l_name\": \"verma\", \"pass\": 1, \"score\": 9.1 },\n",
    "  { \"_id\": 5, \"name\": \"vinay\", \"l_name\": \"singh\", \"pass\": 0, \"score\": 5.0 },\n",
    "  { \"_id\": 6, \"name\": \"deepa\", \"l_name\": \"joshi\", \"pass\": 1, \"score\": 8.4 },\n",
    "  { \"_id\": 7, \"name\": \"aman\", \"l_name\": \"sharma\", \"pass\": 1, \"score\": 7.5 },\n",
    "  { \"_id\": 8, \"name\": \"neha\", \"l_name\": \"gupta\", \"pass\": 0, \"score\": 3.9 },\n",
    "  { \"_id\": 9, \"name\": \"karan\", \"l_name\": \"yadav\", \"pass\": 1, \"score\": 6.7 },\n",
    "  { \"_id\": 10, \"name\": \"poonam\", \"l_name\": \"chauhan\", \"pass\": 1, \"score\": 9.3 }])"
   ]
  },
  {
   "cell_type": "markdown",
   "id": "b10a706d",
   "metadata": {},
   "source": [
    "#### FIND"
   ]
  },
  {
   "cell_type": "markdown",
   "id": "7349358e",
   "metadata": {},
   "source": [
    "Find_one"
   ]
  },
  {
   "cell_type": "code",
   "execution_count": 9,
   "id": "242721ea",
   "metadata": {},
   "outputs": [
    {
     "data": {
      "text/plain": [
       "{'_id': 1, 'name': 'hari', 'l_name': 'prasad', 'pass': 1, 'score': 9.3}"
      ]
     },
     "execution_count": 9,
     "metadata": {},
     "output_type": "execute_result"
    }
   ],
   "source": [
    "bca.find_one()"
   ]
  },
  {
   "cell_type": "code",
   "execution_count": 10,
   "id": "92f99aa3",
   "metadata": {},
   "outputs": [
    {
     "data": {
      "text/plain": [
       "{'_id': 1, 'name': 'hari', 'l_name': 'prasad', 'pass': 1, 'score': 9.3}"
      ]
     },
     "execution_count": 10,
     "metadata": {},
     "output_type": "execute_result"
    }
   ],
   "source": [
    "bca.find_one({\"_id\" : 1})"
   ]
  },
  {
   "cell_type": "markdown",
   "id": "8950b67b",
   "metadata": {},
   "source": [
    "You can also see MongoDB-Compass"
   ]
  },
  {
   "cell_type": "code",
   "execution_count": 11,
   "id": "08939073",
   "metadata": {},
   "outputs": [
    {
     "name": "stdout",
     "output_type": "stream",
     "text": [
      "{'_id': 1, 'name': 'hari', 'l_name': 'prasad', 'pass': 1, 'score': 9.3}\n",
      "{'_id': 2, 'name': 'anita', 'l_name': 'kumar', 'pass': 0, 'score': 4.3}\n",
      "{'_id': 3, 'name': 'raj', 'l_name': 'mehta', 'pass': 1, 'score': 7.2}\n",
      "{'_id': 4, 'name': 'sita', 'l_name': 'verma', 'pass': 1, 'score': 9.1}\n",
      "{'_id': 5, 'name': 'vinay', 'l_name': 'singh', 'pass': 0, 'score': 5.0}\n",
      "{'_id': 6, 'name': 'deepa', 'l_name': 'joshi', 'pass': 1, 'score': 8.4}\n",
      "{'_id': 7, 'name': 'aman', 'l_name': 'sharma', 'pass': 1, 'score': 7.5}\n",
      "{'_id': 8, 'name': 'neha', 'l_name': 'gupta', 'pass': 0, 'score': 3.9}\n",
      "{'_id': 9, 'name': 'karan', 'l_name': 'yadav', 'pass': 1, 'score': 6.7}\n",
      "{'_id': 10, 'name': 'poonam', 'l_name': 'chauhan', 'pass': 1, 'score': 9.3}\n"
     ]
    }
   ],
   "source": [
    "# To get all the data\n",
    "\n",
    "# select * from bca\n",
    "for record in bca.find({}):\n",
    "    print(record)"
   ]
  },
  {
   "cell_type": "code",
   "execution_count": 12,
   "id": "9dcb21f6",
   "metadata": {},
   "outputs": [
    {
     "name": "stdout",
     "output_type": "stream",
     "text": [
      "{'_id': 1, 'name': 'hari', 'l_name': 'prasad', 'pass': 1, 'score': 9.3}\n"
     ]
    }
   ],
   "source": [
    "## Query the Json document based on the $eq operator..\n",
    "\n",
    "# select * from bca where name = \"hari\"\n",
    "\n",
    "for record in bca.find({'name' : 'hari'}):\n",
    "    print(record)"
   ]
  },
  {
   "cell_type": "markdown",
   "id": "86148f04",
   "metadata": {},
   "source": [
    "Querying Operator : $gt, $lt, $gte. $lte, $eq"
   ]
  },
  {
   "cell_type": "code",
   "execution_count": 69,
   "id": "867ace12",
   "metadata": {},
   "outputs": [
    {
     "name": "stdout",
     "output_type": "stream",
     "text": [
      "{'_id': 1, 'name': 'hari', 'l_name': 'prasad', 'pass': 1, 'score': 9.3}\n",
      "{'_id': 3, 'name': 'raj', 'l_name': 'mehta', 'pass': 1, 'score': 7.2}\n",
      "{'_id': 4, 'name': 'sita', 'l_name': 'verma', 'pass': 1, 'score': 9.1}\n",
      "{'_id': 6, 'name': 'deepa', 'l_name': 'joshi', 'pass': 1, 'score': 8.4}\n",
      "{'_id': 7, 'name': 'aman', 'l_name': 'sharma', 'pass': 1, 'score': 7.5}\n",
      "{'_id': 9, 'name': 'karan', 'l_name': 'yadav', 'pass': 1, 'score': 6.7}\n",
      "{'_id': 10, 'name': 'poonam', 'l_name': 'chauhan', 'pass': 1, 'score': 9.3}\n"
     ]
    }
   ],
   "source": [
    "## Using the Query Operator : $gt, $lt, $gte, $lte\n",
    "\n",
    "for record in bca.find({'score' : {'$gt' : 5.0}}):\n",
    "    print(record)"
   ]
  },
  {
   "cell_type": "code",
   "execution_count": 70,
   "id": "0d2f8fe7",
   "metadata": {},
   "outputs": [
    {
     "name": "stdout",
     "output_type": "stream",
     "text": [
      "{'_id': 2, 'name': 'anita', 'l_name': 'kumar', 'pass': 0, 'score': 4.3}\n",
      "{'_id': 8, 'name': 'neha', 'l_name': 'gupta', 'pass': 0, 'score': 3.9}\n"
     ]
    }
   ],
   "source": [
    "for record in bca.find({'score' : {'$lt' : 5.0}}):\n",
    "    print(record)"
   ]
  },
  {
   "cell_type": "code",
   "execution_count": 71,
   "id": "24ad61f3",
   "metadata": {},
   "outputs": [
    {
     "name": "stdout",
     "output_type": "stream",
     "text": [
      "{'_id': 2, 'name': 'anita', 'l_name': 'kumar', 'pass': 0, 'score': 4.3}\n",
      "{'_id': 5, 'name': 'vinay', 'l_name': 'singh', 'pass': 0, 'score': 5.0}\n",
      "{'_id': 8, 'name': 'neha', 'l_name': 'gupta', 'pass': 0, 'score': 3.9}\n"
     ]
    }
   ],
   "source": [
    "for record in bca.find({'score' : {'$lte' : 5.0}}):\n",
    "    print(record)"
   ]
  },
  {
   "cell_type": "code",
   "execution_count": 72,
   "id": "39c97288",
   "metadata": {},
   "outputs": [
    {
     "name": "stdout",
     "output_type": "stream",
     "text": [
      "{'_id': 1, 'name': 'hari', 'l_name': 'prasad', 'pass': 1, 'score': 9.3}\n",
      "{'_id': 3, 'name': 'raj', 'l_name': 'mehta', 'pass': 1, 'score': 7.2}\n",
      "{'_id': 4, 'name': 'sita', 'l_name': 'verma', 'pass': 1, 'score': 9.1}\n",
      "{'_id': 5, 'name': 'vinay', 'l_name': 'singh', 'pass': 0, 'score': 5.0}\n",
      "{'_id': 6, 'name': 'deepa', 'l_name': 'joshi', 'pass': 1, 'score': 8.4}\n",
      "{'_id': 7, 'name': 'aman', 'l_name': 'sharma', 'pass': 1, 'score': 7.5}\n",
      "{'_id': 9, 'name': 'karan', 'l_name': 'yadav', 'pass': 1, 'score': 6.7}\n",
      "{'_id': 10, 'name': 'poonam', 'l_name': 'chauhan', 'pass': 1, 'score': 9.3}\n"
     ]
    }
   ],
   "source": [
    "for record in bca.find({'score' : {'$gte' : 5.0}}):\n",
    "    print(record)"
   ]
  },
  {
   "cell_type": "markdown",
   "id": "60f2e078",
   "metadata": {},
   "source": [
    "So Here, I'm Targetting Names -> By Filtering the Score"
   ]
  },
  {
   "cell_type": "code",
   "execution_count": 75,
   "id": "72a3e894",
   "metadata": {},
   "outputs": [
    {
     "name": "stdout",
     "output_type": "stream",
     "text": [
      "{'name': 'hari'}\n",
      "{'name': 'raj'}\n",
      "{'name': 'sita'}\n",
      "{'name': 'deepa'}\n",
      "{'name': 'aman'}\n",
      "{'name': 'karan'}\n",
      "{'name': 'poonam'}\n"
     ]
    }
   ],
   "source": [
    "for record in bca.find({'score' : {'$gt' : 5.0}},{'name' : 1, \"_id\" : 0}):\n",
    "    print(record)"
   ]
  },
  {
   "cell_type": "code",
   "execution_count": 103,
   "id": "7dfa11c8",
   "metadata": {},
   "outputs": [
    {
     "data": {
      "text/plain": [
       "InsertOneResult(ObjectId('67f9160c5748e5957895fdd8'), acknowledged=True)"
      ]
     },
     "execution_count": 103,
     "metadata": {},
     "output_type": "execute_result"
    }
   ],
   "source": [
    "# Passing a new data for $in\n",
    "# bca.insert_one({\"name\" : 'prakash', 'l_name' : 'R', 'pass' : 1, 'score' : 9.0, 'tag' : ['GenAI', 'Developer']})\n",
    "bca.insert_one({\"name\" : 'prakash_A', 'l_name' : 'R', 'pass' : 1, 'score' : 9.0, 'tag' : ['GenAI', 'Developer','Front-end']})\n",
    "bca.insert_one({\"name\" : 'prakash_B', 'l_name' : 'R', 'pass' : 1, 'score' : 9.0, 'tag' : ['GenAI', 'Developer','Front-end','Back-end']})\n",
    "bca.insert_one({\"name\" : 'prakash_C', 'l_name' : 'R', 'pass' : 1, 'score' : 9.0, 'tag' : ['GenAI', 'Developer','Back-end']})\n",
    "bca.insert_one({\"name\" : 'prakash_D', 'l_name' : 'R', 'pass' : 1, 'score' : 9.0, 'tag' : ['GenAI','Back-end']})\n",
    "bca.insert_one({\"name\" : 'prakash_E', 'l_name' : 'R', 'pass' : 1, 'score' : 9.0, 'tag' : ['GenAI','Front-end','Music']})"
   ]
  },
  {
   "cell_type": "markdown",
   "id": "50914ea4",
   "metadata": {},
   "source": [
    "Using the `$in` tag"
   ]
  },
  {
   "cell_type": "code",
   "execution_count": 123,
   "id": "771d20af",
   "metadata": {},
   "outputs": [
    {
     "name": "stdout",
     "output_type": "stream",
     "text": [
      "{'_id': ObjectId('67f9160c5748e5957895fdd8'), 'name': 'prakash_E', 'l_name': 'R', 'pass': 1, 'score': 9.0, 'tag': ['GenAI', 'Front-end', 'Music']}\n",
      "{'_id': ObjectId('67f9160c5748e5957895fdd7'), 'name': 'prakash_D', 'l_name': 'R', 'pass': 1, 'score': 9.0, 'tag': ['GenAI', 'Back-end']}\n",
      "{'_id': ObjectId('67f9160c5748e5957895fdd6'), 'name': 'prakash_C', 'l_name': 'R', 'pass': 1, 'score': 9.0, 'tag': ['GenAI', 'Developer', 'Back-end']}\n",
      "{'_id': ObjectId('67f9160c5748e5957895fdd5'), 'name': 'prakash_B', 'l_name': 'R', 'pass': 1, 'score': 9.0, 'tag': ['GenAI', 'Developer', 'Front-end', 'Back-end']}\n",
      "{'_id': ObjectId('67f9160c5748e5957895fdd4'), 'name': 'prakash_A', 'l_name': 'R', 'pass': 1, 'score': 9.0, 'tag': ['GenAI', 'Developer', 'Front-end']}\n",
      "{'_id': ObjectId('67f915665748e5957895fdd3'), 'name': 'prakash', 'l_name': 'R', 'pass': 1, 'score': 9.0, 'tag': ['GenAI', 'Developer']}\n"
     ]
    }
   ],
   "source": [
    "for i in bca.find({'tag' : {'$in' : ['GenAI']}}).sort({'name' : -1}):\n",
    "    # Have also used `sort`\n",
    "    print(i)"
   ]
  },
  {
   "cell_type": "markdown",
   "id": "8d6bda8b",
   "metadata": {},
   "source": [
    "AND OPERATION"
   ]
  },
  {
   "cell_type": "code",
   "execution_count": 16,
   "id": "3e1e2967",
   "metadata": {},
   "outputs": [
    {
     "name": "stdout",
     "output_type": "stream",
     "text": [
      "{'_id': 2, 'name': 'anita', 'l_name': 'kumar', 'pass': 0, 'score': 4.3}\n",
      "{'_id': 8, 'name': 'neha', 'l_name': 'gupta', 'pass': 0, 'score': 3.9}\n"
     ]
    }
   ],
   "source": [
    "for i in bca.find({'$and' : [{'score' : {'$lt' : 5}},\n",
    "                            {'score' : {'$gt' : 3}}]\n",
    "                            }):\n",
    "    print(i)"
   ]
  },
  {
   "cell_type": "markdown",
   "id": "efc82fcd",
   "metadata": {},
   "source": [
    "OR OPERATION"
   ]
  },
  {
   "cell_type": "code",
   "execution_count": 17,
   "id": "6bcd883a",
   "metadata": {},
   "outputs": [
    {
     "name": "stdout",
     "output_type": "stream",
     "text": [
      "{'_id': 1, 'name': 'hari', 'l_name': 'prasad', 'pass': 1, 'score': 9.3}\n",
      "{'_id': 2, 'name': 'anita', 'l_name': 'kumar', 'pass': 0, 'score': 4.3}\n",
      "{'_id': 3, 'name': 'raj', 'l_name': 'mehta', 'pass': 1, 'score': 7.2}\n",
      "{'_id': 4, 'name': 'sita', 'l_name': 'verma', 'pass': 1, 'score': 9.1}\n",
      "{'_id': 5, 'name': 'vinay', 'l_name': 'singh', 'pass': 0, 'score': 5.0}\n",
      "{'_id': 6, 'name': 'deepa', 'l_name': 'joshi', 'pass': 1, 'score': 8.4}\n",
      "{'_id': 7, 'name': 'aman', 'l_name': 'sharma', 'pass': 1, 'score': 7.5}\n",
      "{'_id': 8, 'name': 'neha', 'l_name': 'gupta', 'pass': 0, 'score': 3.9}\n",
      "{'_id': 9, 'name': 'karan', 'l_name': 'yadav', 'pass': 1, 'score': 6.7}\n",
      "{'_id': 10, 'name': 'poonam', 'l_name': 'chauhan', 'pass': 1, 'score': 9.3}\n"
     ]
    }
   ],
   "source": [
    "for i in bca.find({'$or' : [{'score' : {'$lt' : 5}},\n",
    "                            {'score' : {'$gt' : 3}}]\n",
    "                            }):\n",
    "    print(i)"
   ]
  },
  {
   "cell_type": "code",
   "execution_count": null,
   "id": "7adbc2b6",
   "metadata": {},
   "outputs": [],
   "source": []
  },
  {
   "cell_type": "code",
   "execution_count": null,
   "id": "52a21038",
   "metadata": {},
   "outputs": [],
   "source": []
  },
  {
   "cell_type": "code",
   "execution_count": null,
   "id": "c8b69834",
   "metadata": {},
   "outputs": [],
   "source": []
  },
  {
   "cell_type": "code",
   "execution_count": null,
   "id": "d40df19b",
   "metadata": {},
   "outputs": [],
   "source": []
  },
  {
   "cell_type": "code",
   "execution_count": null,
   "id": "22f8c0a7",
   "metadata": {},
   "outputs": [],
   "source": []
  },
  {
   "cell_type": "code",
   "execution_count": null,
   "id": "3cb8f1e1",
   "metadata": {},
   "outputs": [],
   "source": []
  },
  {
   "cell_type": "code",
   "execution_count": null,
   "id": "29c1b20c",
   "metadata": {},
   "outputs": [],
   "source": []
  },
  {
   "cell_type": "code",
   "execution_count": null,
   "id": "126bc39e",
   "metadata": {},
   "outputs": [],
   "source": []
  },
  {
   "cell_type": "code",
   "execution_count": null,
   "id": "4d772d82",
   "metadata": {},
   "outputs": [],
   "source": []
  }
 ],
 "metadata": {
  "kernelspec": {
   "display_name": "base",
   "language": "python",
   "name": "python3"
  },
  "language_info": {
   "codemirror_mode": {
    "name": "ipython",
    "version": 3
   },
   "file_extension": ".py",
   "mimetype": "text/x-python",
   "name": "python",
   "nbconvert_exporter": "python",
   "pygments_lexer": "ipython3",
   "version": "3.11.7"
  }
 },
 "nbformat": 4,
 "nbformat_minor": 5
}
