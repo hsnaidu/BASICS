{
 "cells": [
  {
   "cell_type": "code",
   "execution_count": 1,
   "metadata": {},
   "outputs": [
    {
     "name": "stdout",
     "output_type": "stream",
     "text": [
      "3.11.7 | packaged by Anaconda, Inc. | (main, Dec 15 2023, 18:05:47) [MSC v.1916 64 bit (AMD64)]\n"
     ]
    }
   ],
   "source": [
    "from sys import version\n",
    "print(version)"
   ]
  },
  {
   "cell_type": "markdown",
   "metadata": {},
   "source": [
    "Functions & Re-cursive Functions"
   ]
  },
  {
   "cell_type": "markdown",
   "metadata": {},
   "source": [
    "A Block of code that can be executed n number of times"
   ]
  },
  {
   "cell_type": "code",
   "execution_count": 21,
   "metadata": {},
   "outputs": [
    {
     "name": "stdout",
     "output_type": "stream",
     "text": [
      "30\n"
     ]
    }
   ],
   "source": [
    "# Assume sum of two numbers\n",
    "a,b = 10,20\n",
    "print(a+b)\n",
    "\n",
    "# But if i want to do it multiple times\n",
    "\n",
    "def add_two_numbers(number_1, number_2):\n",
    "    return number_1 + number_2"
   ]
  },
  {
   "cell_type": "code",
   "execution_count": 23,
   "metadata": {},
   "outputs": [
    {
     "data": {
      "text/plain": [
       "110"
      ]
     },
     "execution_count": 23,
     "metadata": {},
     "output_type": "execute_result"
    }
   ],
   "source": [
    "add_two_numbers(10,20)\n",
    "add_two_numbers(40,50)\n",
    "add_two_numbers(number_1=50,number_2=60) # You can also do this\n",
    "\n",
    "# Here..\n",
    "# You can reuse the code n times"
   ]
  },
  {
   "cell_type": "markdown",
   "metadata": {},
   "source": [
    "D/F btw a Function that prints a result and function that returns a value"
   ]
  },
  {
   "cell_type": "code",
   "execution_count": 24,
   "metadata": {},
   "outputs": [],
   "source": [
    "# A normal print func..\n",
    "def addSum(number1,number2):\n",
    "    print(number1 + number2)\n",
    "\n",
    "# A function with return..\n",
    "def addSumR(number1,number2):\n",
    "    return number1 + number2"
   ]
  },
  {
   "cell_type": "code",
   "execution_count": 28,
   "metadata": {},
   "outputs": [
    {
     "name": "stdout",
     "output_type": "stream",
     "text": [
      "30\n"
     ]
    },
    {
     "data": {
      "text/plain": [
       "30"
      ]
     },
     "execution_count": 28,
     "metadata": {},
     "output_type": "execute_result"
    }
   ],
   "source": [
    "# Both the functions will print the output..\n",
    "    # But with return function we can store the output into a variable or use for another operations\n",
    "\n",
    "addSum(10,20)\n",
    "addSumR(10,20)"
   ]
  },
  {
   "cell_type": "code",
   "execution_count": 30,
   "metadata": {},
   "outputs": [
    {
     "name": "stdout",
     "output_type": "stream",
     "text": [
      "30\n",
      "None\n"
     ]
    },
    {
     "ename": "TypeError",
     "evalue": "unsupported operand type(s) for +: 'NoneType' and 'int'",
     "output_type": "error",
     "traceback": [
      "\u001b[1;31m---------------------------------------------------------------------------\u001b[0m",
      "\u001b[1;31mTypeError\u001b[0m                                 Traceback (most recent call last)",
      "Cell \u001b[1;32mIn[30], line 5\u001b[0m\n\u001b[0;32m      2\u001b[0m \u001b[38;5;28mprint\u001b[39m(storing_the_value)\n\u001b[0;32m      3\u001b[0m \u001b[38;5;66;03m# Also prints None\u001b[39;00m\n\u001b[1;32m----> 5\u001b[0m \u001b[38;5;28mprint\u001b[39m(\u001b[43mstoring_the_value\u001b[49m\u001b[43m \u001b[49m\u001b[38;5;241;43m+\u001b[39;49m\u001b[43m \u001b[49m\u001b[38;5;241;43m10\u001b[39;49m)\n",
      "\u001b[1;31mTypeError\u001b[0m: unsupported operand type(s) for +: 'NoneType' and 'int'"
     ]
    }
   ],
   "source": [
    "storing_the_value = addSum(10,20)\n",
    "print(storing_the_value)\n",
    "# Also prints None\n",
    "\n",
    "print(storing_the_value + 10)\n"
   ]
  },
  {
   "cell_type": "code",
   "execution_count": 32,
   "metadata": {},
   "outputs": [
    {
     "name": "stdout",
     "output_type": "stream",
     "text": [
      "30\n",
      "40\n"
     ]
    }
   ],
   "source": [
    "storing_the_value = addSumR(10,20)\n",
    "print(storing_the_value)\n",
    "\n",
    "print(storing_the_value + 10) # Here it can be printed.."
   ]
  },
  {
   "cell_type": "markdown",
   "metadata": {},
   "source": [
    "Case Scenario"
   ]
  },
  {
   "cell_type": "code",
   "execution_count": 33,
   "metadata": {},
   "outputs": [
    {
     "name": "stdout",
     "output_type": "stream",
     "text": [
      "30\n",
      "None\n"
     ]
    }
   ],
   "source": [
    "# Assume the function prints a car milage ..\n",
    "car_milage = addSum(10,20)\n",
    "        # Here it just prints a number but cannot be stored into a variable\n",
    "\n",
    "print(car_milage)\n",
    "# This is returning NONE cause it is not returning.. any value"
   ]
  },
  {
   "cell_type": "code",
   "execution_count": 34,
   "metadata": {},
   "outputs": [
    {
     "name": "stdout",
     "output_type": "stream",
     "text": [
      "30\n"
     ]
    }
   ],
   "source": [
    "# Assume the function return a car milage ..\n",
    "car2_milage = addSumR(10,20)\n",
    "\n",
    "print(car2_milage)\n",
    "# I can use this inside another function\n",
    "\n",
    "\n",
    "# NOTE another-function\n",
    "\n",
    "def my_carMilage(carName,carMilage):\n",
    "    print(f\"my car {carName} gives {carMilage}\")"
   ]
  },
  {
   "cell_type": "code",
   "execution_count": 35,
   "metadata": {},
   "outputs": [
    {
     "name": "stdout",
     "output_type": "stream",
     "text": [
      "my car Maruthi gives 30\n",
      "my car KIA gives None\n"
     ]
    }
   ],
   "source": [
    "my_carMilage(\"Maruthi\", car2_milage)\n",
    "# car2_milage is given from the function\n",
    "\n",
    "# When you use a non-return function\n",
    "my_carMilage(\"KIA\", car_milage)"
   ]
  },
  {
   "cell_type": "markdown",
   "metadata": {},
   "source": [
    "Other-ways of passing values"
   ]
  },
  {
   "cell_type": "code",
   "execution_count": 36,
   "metadata": {},
   "outputs": [
    {
     "name": "stdout",
     "output_type": "stream",
     "text": [
      "my car toyota gives 14\n"
     ]
    }
   ],
   "source": [
    "my_carMilage(\"toyota\",addSumR(10,4)) \n",
    "# You can also use this function"
   ]
  },
  {
   "cell_type": "code",
   "execution_count": null,
   "metadata": {},
   "outputs": [
    {
     "name": "stdout",
     "output_type": "stream",
     "text": [
      "14\n",
      "my car toyota gives None\n"
     ]
    }
   ],
   "source": [
    "my_carMilage(\"toyota\",addSum(10,4)) \n",
    "# Same technique without return function, But here it prints None.."
   ]
  },
  {
   "cell_type": "code",
   "execution_count": 38,
   "metadata": {},
   "outputs": [],
   "source": [
    "# WAP to find the average of three numbers\n",
    "def average(number1,number2,number3):\n",
    "    return (number1 + number2 + number3) / 3"
   ]
  },
  {
   "cell_type": "code",
   "execution_count": 39,
   "metadata": {},
   "outputs": [
    {
     "data": {
      "text/plain": [
       "2.0"
      ]
     },
     "execution_count": 39,
     "metadata": {},
     "output_type": "execute_result"
    }
   ],
   "source": [
    "average(1,2,3)"
   ]
  },
  {
   "cell_type": "markdown",
   "metadata": {},
   "source": [
    "Average Using Exceptional Handling "
   ]
  },
  {
   "cell_type": "code",
   "execution_count": 44,
   "metadata": {},
   "outputs": [],
   "source": [
    "# WAP using the exceptional handling \n",
    "def average(number1,number2,number3):\n",
    "    try:\n",
    "        return (number1+number2+number3) / 3\n",
    "    except ZeroDivisionError as e:\n",
    "        print(e)"
   ]
  },
  {
   "cell_type": "code",
   "execution_count": 46,
   "metadata": {},
   "outputs": [
    {
     "data": {
      "text/plain": [
       "0.0"
      ]
     },
     "execution_count": 46,
     "metadata": {},
     "output_type": "execute_result"
    }
   ],
   "source": [
    "average(2,2,3)\n",
    "average(0,0,0)"
   ]
  },
  {
   "cell_type": "markdown",
   "metadata": {},
   "source": [
    "DEFAULT PARAMETES / ARGUMENTS"
   ]
  },
  {
   "cell_type": "markdown",
   "metadata": {},
   "source": [
    "DEFAULT ARGUMENT MUST ALWAYS COME AT THE END IF IT COMES AT THE BEGINING IT WILL THROW AN ERROR"
   ]
  },
  {
   "cell_type": "code",
   "execution_count": 42,
   "metadata": {},
   "outputs": [],
   "source": [
    "def age_calculator(age,currentYear = 2024): # here current-year is default parameter\n",
    "    return currentYear - age\n",
    "    "
   ]
  },
  {
   "cell_type": "code",
   "execution_count": 43,
   "metadata": {},
   "outputs": [
    {
     "data": {
      "text/plain": [
       "2000"
      ]
     },
     "execution_count": 43,
     "metadata": {},
     "output_type": "execute_result"
    }
   ],
   "source": [
    "age_calculator(24)\n",
    "# Here i can also give the currentYear\n",
    "# but since its already mentioned we dont have to give it."
   ]
  },
  {
   "cell_type": "code",
   "execution_count": 47,
   "metadata": {},
   "outputs": [
    {
     "data": {
      "text/plain": [
       "10"
      ]
     },
     "execution_count": 47,
     "metadata": {},
     "output_type": "execute_result"
    }
   ],
   "source": [
    "# WAP to print the length of a list \n",
    "a = [1,2,3,4,5,6,7,8,9,0]\n",
    "len(a)"
   ]
  },
  {
   "cell_type": "code",
   "execution_count": 48,
   "metadata": {},
   "outputs": [],
   "source": [
    "# Function to print the length of a string..\n",
    "def listLength(list):\n",
    "    return len(list)"
   ]
  },
  {
   "cell_type": "code",
   "execution_count": 49,
   "metadata": {},
   "outputs": [
    {
     "name": "stdout",
     "output_type": "stream",
     "text": [
      "The length of given list [1, 2, 3, 4, 5, 6, 7, 8, 9, 0] is 10\n"
     ]
    }
   ],
   "source": [
    "print(f\"The length of given list {a} is {listLength(a)}\")"
   ]
  },
  {
   "cell_type": "code",
   "execution_count": 50,
   "metadata": {},
   "outputs": [],
   "source": [
    "# Program to print-list elements in a single line\n",
    "def lineList(list):\n",
    "    for i in (list):\n",
    "        print(i , '\\t')"
   ]
  },
  {
   "cell_type": "code",
   "execution_count": 51,
   "metadata": {},
   "outputs": [
    {
     "name": "stdout",
     "output_type": "stream",
     "text": [
      "1 \t\n",
      "2 \t\n",
      "3 \t\n",
      "4 \t\n",
      "5 \t\n",
      "6 \t\n",
      "7 \t\n",
      "8 \t\n",
      "9 \t\n",
      "0 \t\n"
     ]
    }
   ],
   "source": [
    "lineList(a)"
   ]
  },
  {
   "cell_type": "code",
   "execution_count": 52,
   "metadata": {},
   "outputs": [],
   "source": [
    "# WAP to find factorial of number\n",
    "    # NOTE pending "
   ]
  },
  {
   "cell_type": "code",
   "execution_count": 53,
   "metadata": {},
   "outputs": [],
   "source": [
    "# WAP to convert usd -> inr\n",
    "def convertor(currency,amount):\n",
    "    if currency == \"usd\":\n",
    "        amount/=84\n",
    "    else:\n",
    "        amount*=84\n",
    "    return (amount)"
   ]
  },
  {
   "cell_type": "code",
   "execution_count": 54,
   "metadata": {},
   "outputs": [
    {
     "data": {
      "text/plain": [
       "1.0"
      ]
     },
     "execution_count": 54,
     "metadata": {},
     "output_type": "execute_result"
    }
   ],
   "source": [
    "convertor(\"usd\",84)"
   ]
  },
  {
   "cell_type": "markdown",
   "metadata": {},
   "source": [
    "Recursive Function"
   ]
  },
  {
   "cell_type": "markdown",
   "metadata": {},
   "source": [
    "A function that calls its self-repeatedly : Again and Again"
   ]
  },
  {
   "cell_type": "code",
   "execution_count": 55,
   "metadata": {},
   "outputs": [
    {
     "name": "stdout",
     "output_type": "stream",
     "text": [
      "10\n",
      "9\n",
      "8\n",
      "7\n",
      "6\n",
      "5\n",
      "4\n",
      "3\n",
      "2\n",
      "1\n"
     ]
    }
   ],
   "source": [
    "def number_back(number):\n",
    "    \n",
    "    if number == 0:\n",
    "        return\n",
    "    print(number)\n",
    "    \n",
    "    number_back(number-1)\n",
    "    \n",
    "    \n",
    "number_back(10)    "
   ]
  },
  {
   "cell_type": "code",
   "execution_count": 56,
   "metadata": {},
   "outputs": [
    {
     "name": "stdout",
     "output_type": "stream",
     "text": [
      "9\n",
      "8\n",
      "7\n",
      "6\n",
      "5\n",
      "4\n",
      "3\n",
      "2\n",
      "1\n"
     ]
    }
   ],
   "source": [
    "def counter(number):\n",
    "    return number - 1\n",
    "\n",
    "for i in range(10,1,-1):\n",
    "    print (counter(i)) # This function is called again and again\n",
    "    "
   ]
  },
  {
   "cell_type": "code",
   "execution_count": 60,
   "metadata": {},
   "outputs": [],
   "source": [
    "def function_one(name = \"hemanth\"):\n",
    "    return (f' Name :  {name}')\n",
    "\n",
    "def function_two(age):\n",
    "    return f\"{function_one()} & Age : {age} yr's\""
   ]
  },
  {
   "cell_type": "code",
   "execution_count": 61,
   "metadata": {},
   "outputs": [
    {
     "data": {
      "text/plain": [
       "\" Name :  hemanth & Age : 23 yr's\""
      ]
     },
     "execution_count": 61,
     "metadata": {},
     "output_type": "execute_result"
    }
   ],
   "source": [
    "function_one(\"hari prasad\")\n",
    "function_two(23)"
   ]
  },
  {
   "cell_type": "markdown",
   "metadata": {},
   "source": [
    "Lambda Function"
   ]
  },
  {
   "cell_type": "code",
   "execution_count": 62,
   "metadata": {},
   "outputs": [],
   "source": [
    "ten = lambda number : number + 10\n",
    "    # lambda is used for anonymus function : keyword"
   ]
  },
  {
   "cell_type": "code",
   "execution_count": 63,
   "metadata": {},
   "outputs": [
    {
     "data": {
      "text/plain": [
       "110"
      ]
     },
     "execution_count": 63,
     "metadata": {},
     "output_type": "execute_result"
    }
   ],
   "source": [
    "ten(100)"
   ]
  },
  {
   "cell_type": "markdown",
   "metadata": {},
   "source": [
    "Multiple Argument in lambda function"
   ]
  },
  {
   "cell_type": "code",
   "execution_count": 66,
   "metadata": {},
   "outputs": [
    {
     "name": "stdout",
     "output_type": "stream",
     "text": [
      "11\n"
     ]
    }
   ],
   "source": [
    "sample = lambda a, b : a + b # Defualt Paramenters dosent work here..\n",
    "    # hlike this \n",
    "print(sample(5,6))"
   ]
  },
  {
   "cell_type": "code",
   "execution_count": 67,
   "metadata": {},
   "outputs": [],
   "source": [
    "# WAP to print even - odd\n",
    "def even_odd(number):\n",
    "    if number % 2 == 0:\n",
    "        return \"EVEN\"\n",
    "    else:\n",
    "        return \"ODD\""
   ]
  },
  {
   "cell_type": "code",
   "execution_count": 68,
   "metadata": {},
   "outputs": [
    {
     "data": {
      "text/plain": [
       "'EVEN'"
      ]
     },
     "execution_count": 68,
     "metadata": {},
     "output_type": "execute_result"
    }
   ],
   "source": [
    "even_odd(2)"
   ]
  },
  {
   "cell_type": "code",
   "execution_count": 69,
   "metadata": {},
   "outputs": [],
   "source": [
    "# Or I can do is\n",
    "\n",
    "even_odd = lambda x : \"Even\" if x%2==0 else \"Odd\"\n",
    " "
   ]
  },
  {
   "cell_type": "code",
   "execution_count": 70,
   "metadata": {},
   "outputs": [
    {
     "data": {
      "text/plain": [
       "'Even'"
      ]
     },
     "execution_count": 70,
     "metadata": {},
     "output_type": "execute_result"
    }
   ],
   "source": [
    "even_odd(2)"
   ]
  },
  {
   "cell_type": "markdown",
   "metadata": {},
   "source": [
    "PRACTICE"
   ]
  },
  {
   "cell_type": "code",
   "execution_count": 73,
   "metadata": {},
   "outputs": [],
   "source": [
    "def sum_n_numbers(number=3):\n",
    "    sum = 0\n",
    "    for i in range(number):\n",
    "        number = int(input(\"Enter the numebr\"))\n",
    "        sum+=number\n",
    "    print(sum)"
   ]
  },
  {
   "cell_type": "code",
   "execution_count": 74,
   "metadata": {},
   "outputs": [
    {
     "name": "stdout",
     "output_type": "stream",
     "text": [
      "6\n"
     ]
    }
   ],
   "source": [
    "sum_n_numbers()"
   ]
  },
  {
   "cell_type": "code",
   "execution_count": 75,
   "metadata": {},
   "outputs": [],
   "source": [
    "# WAP to print all the list of element\n",
    "def elemnt(list):\n",
    "    if len(list) == 0:\n",
    "        return \"Empty\"\n",
    "        # print i cannot print anything after print \n",
    "    else:\n",
    "        for i in list:\n",
    "            print(i)"
   ]
  },
  {
   "cell_type": "code",
   "execution_count": 77,
   "metadata": {},
   "outputs": [
    {
     "name": "stdout",
     "output_type": "stream",
     "text": [
      "1\n",
      "2\n",
      "3\n"
     ]
    }
   ],
   "source": [
    "elemnt([1,2,3])"
   ]
  },
  {
   "cell_type": "markdown",
   "metadata": {},
   "source": [
    "Global & Local Variable in Function"
   ]
  },
  {
   "cell_type": "code",
   "execution_count": 78,
   "metadata": {},
   "outputs": [
    {
     "name": "stdout",
     "output_type": "stream",
     "text": [
      "4\n"
     ]
    }
   ],
   "source": [
    "# gloabl Variabel\n",
    "\n",
    "name = \"hari\"\n",
    "def funcOne():\n",
    "    print(len(name))\n",
    "    \n",
    "funcOne()"
   ]
  },
  {
   "cell_type": "code",
   "execution_count": 81,
   "metadata": {},
   "outputs": [
    {
     "name": "stdout",
     "output_type": "stream",
     "text": [
      "hari\n"
     ]
    }
   ],
   "source": [
    "def funTwo():\n",
    "    my_name = \"hari\" # local Variabel \n",
    "    print(my_name)\n",
    "funTwo()"
   ]
  },
  {
   "cell_type": "code",
   "execution_count": 82,
   "metadata": {},
   "outputs": [
    {
     "ename": "NameError",
     "evalue": "name 'my_name' is not defined",
     "output_type": "error",
     "traceback": [
      "\u001b[1;31m---------------------------------------------------------------------------\u001b[0m",
      "\u001b[1;31mNameError\u001b[0m                                 Traceback (most recent call last)",
      "Cell \u001b[1;32mIn[82], line 3\u001b[0m\n\u001b[0;32m      1\u001b[0m \u001b[38;5;28;01mdef\u001b[39;00m \u001b[38;5;21mfunThree\u001b[39m():\n\u001b[0;32m      2\u001b[0m     \u001b[38;5;28mprint\u001b[39m(my_name)\n\u001b[1;32m----> 3\u001b[0m \u001b[43mfunThree\u001b[49m\u001b[43m(\u001b[49m\u001b[43m)\u001b[49m\n",
      "Cell \u001b[1;32mIn[82], line 2\u001b[0m, in \u001b[0;36mfunThree\u001b[1;34m()\u001b[0m\n\u001b[0;32m      1\u001b[0m \u001b[38;5;28;01mdef\u001b[39;00m \u001b[38;5;21mfunThree\u001b[39m():\n\u001b[1;32m----> 2\u001b[0m     \u001b[38;5;28mprint\u001b[39m(\u001b[43mmy_name\u001b[49m)\n",
      "\u001b[1;31mNameError\u001b[0m: name 'my_name' is not defined"
     ]
    }
   ],
   "source": [
    "def funThree():\n",
    "    print(my_name)\n",
    "funThree()"
   ]
  },
  {
   "cell_type": "markdown",
   "metadata": {},
   "source": [
    "How Global Variable actually work"
   ]
  },
  {
   "cell_type": "code",
   "execution_count": 85,
   "metadata": {},
   "outputs": [
    {
     "name": "stdout",
     "output_type": "stream",
     "text": [
      "Python is awesome\n"
     ]
    }
   ],
   "source": [
    "x = \"awesome\" # Considered \n",
    "\n",
    "def myfunc():\n",
    "    x = \"fantastic\" # If i remove the Global x what ever is, \n",
    "                        # inside the function is not considered \n",
    " \n",
    "myfunc()\n",
    "\n",
    "print(\"Python is \" + x)\n"
   ]
  },
  {
   "cell_type": "code",
   "execution_count": 88,
   "metadata": {},
   "outputs": [
    {
     "name": "stdout",
     "output_type": "stream",
     "text": [
      "Python is fantastic\n"
     ]
    }
   ],
   "source": [
    "x = \"awesome\" # not considered \n",
    "\n",
    "def myfunc():\n",
    "    global x\n",
    "    x = \"fantastic\" # Now since Global is added, That is given the Priority\n",
    " \n",
    "myfunc()\n",
    "\n",
    "print(\"Python is \" + x)\n"
   ]
  },
  {
   "cell_type": "code",
   "execution_count": null,
   "metadata": {},
   "outputs": [],
   "source": []
  }
 ],
 "metadata": {
  "kernelspec": {
   "display_name": "base",
   "language": "python",
   "name": "python3"
  },
  "language_info": {
   "codemirror_mode": {
    "name": "ipython",
    "version": 3
   },
   "file_extension": ".py",
   "mimetype": "text/x-python",
   "name": "python",
   "nbconvert_exporter": "python",
   "pygments_lexer": "ipython3",
   "version": "3.11.7"
  }
 },
 "nbformat": 4,
 "nbformat_minor": 2
}
