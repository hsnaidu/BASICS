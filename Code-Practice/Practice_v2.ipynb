{
 "cells": [
  {
   "cell_type": "code",
   "execution_count": 27,
   "id": "f0cfee65",
   "metadata": {},
   "outputs": [
    {
     "name": "stdout",
     "output_type": "stream",
     "text": [
      "Packages Successfully Imported:\n",
      "  Imported NumPy as np: 1.26.4\n",
      "  Imported Pandas as pd: 2.2.2\n",
      "  Imported Matplotlib.pylab as plt: 3.9.2\n",
      "  Imported Seaborn as sns : 0.13.2\n",
      "  Your Py version : 3.12.3 \n",
      "\n"
     ]
    }
   ],
   "source": [
    "from autolibs import np, pd, plt, sns"
   ]
  },
  {
   "cell_type": "code",
   "execution_count": 28,
   "id": "ac95da06",
   "metadata": {},
   "outputs": [
    {
     "data": {
      "text/plain": [
       "['ih', 'ym', 'si', 'ot']"
      ]
     },
     "execution_count": 28,
     "metadata": {},
     "output_type": "execute_result"
    }
   ],
   "source": [
    "# Find the string palindrom whose len is > 2\n",
    "sentence = \"hi my name is hari, welcome to bangalore\"\n",
    "\n",
    "result = [x[::-1] for x in sentence.split() if len(x) == 2]\n",
    "\n",
    "result\n",
    "# All these are string of len(2)"
   ]
  },
  {
   "cell_type": "code",
   "execution_count": 29,
   "id": "53f045c5",
   "metadata": {},
   "outputs": [],
   "source": [
    "# Create 2 df for joins\n",
    "df_1 = pd.DataFrame({\n",
    "    'Index' : [x for x in range(4)],\n",
    "    'A' : [1,2,3,4]\n",
    "})\n",
    "\n",
    "# One more df\n",
    "df_2 = pd.DataFrame({\n",
    "    'Index' : [x for x in range(4)],\n",
    "    'B' : [5, 6, 7, 8]\n",
    "})"
   ]
  },
  {
   "cell_type": "code",
   "execution_count": 30,
   "id": "e3c951e1",
   "metadata": {},
   "outputs": [
    {
     "data": {
      "text/html": [
       "<div>\n",
       "<style scoped>\n",
       "    .dataframe tbody tr th:only-of-type {\n",
       "        vertical-align: middle;\n",
       "    }\n",
       "\n",
       "    .dataframe tbody tr th {\n",
       "        vertical-align: top;\n",
       "    }\n",
       "\n",
       "    .dataframe thead th {\n",
       "        text-align: right;\n",
       "    }\n",
       "</style>\n",
       "<table border=\"1\" class=\"dataframe\">\n",
       "  <thead>\n",
       "    <tr style=\"text-align: right;\">\n",
       "      <th></th>\n",
       "      <th>Index</th>\n",
       "      <th>A</th>\n",
       "      <th>B</th>\n",
       "    </tr>\n",
       "  </thead>\n",
       "  <tbody>\n",
       "    <tr>\n",
       "      <th>0</th>\n",
       "      <td>0</td>\n",
       "      <td>1</td>\n",
       "      <td>5</td>\n",
       "    </tr>\n",
       "    <tr>\n",
       "      <th>1</th>\n",
       "      <td>1</td>\n",
       "      <td>2</td>\n",
       "      <td>6</td>\n",
       "    </tr>\n",
       "    <tr>\n",
       "      <th>2</th>\n",
       "      <td>2</td>\n",
       "      <td>3</td>\n",
       "      <td>7</td>\n",
       "    </tr>\n",
       "    <tr>\n",
       "      <th>3</th>\n",
       "      <td>3</td>\n",
       "      <td>4</td>\n",
       "      <td>8</td>\n",
       "    </tr>\n",
       "  </tbody>\n",
       "</table>\n",
       "</div>"
      ],
      "text/plain": [
       "   Index  A  B\n",
       "0      0  1  5\n",
       "1      1  2  6\n",
       "2      2  3  7\n",
       "3      3  4  8"
      ]
     },
     "execution_count": 30,
     "metadata": {},
     "output_type": "execute_result"
    }
   ],
   "source": [
    "# Performing Join\n",
    "pd.merge(df_1,df_2, on = 'Index', how='left')"
   ]
  },
  {
   "cell_type": "code",
   "execution_count": 31,
   "id": "0b17dde5",
   "metadata": {},
   "outputs": [
    {
     "data": {
      "text/html": [
       "<div>\n",
       "<style scoped>\n",
       "    .dataframe tbody tr th:only-of-type {\n",
       "        vertical-align: middle;\n",
       "    }\n",
       "\n",
       "    .dataframe tbody tr th {\n",
       "        vertical-align: top;\n",
       "    }\n",
       "\n",
       "    .dataframe thead th {\n",
       "        text-align: right;\n",
       "    }\n",
       "</style>\n",
       "<table border=\"1\" class=\"dataframe\">\n",
       "  <thead>\n",
       "    <tr style=\"text-align: right;\">\n",
       "      <th></th>\n",
       "      <th>Index</th>\n",
       "      <th>A</th>\n",
       "      <th>B</th>\n",
       "    </tr>\n",
       "  </thead>\n",
       "  <tbody>\n",
       "    <tr>\n",
       "      <th>0</th>\n",
       "      <td>0</td>\n",
       "      <td>1</td>\n",
       "      <td>5</td>\n",
       "    </tr>\n",
       "    <tr>\n",
       "      <th>1</th>\n",
       "      <td>1</td>\n",
       "      <td>2</td>\n",
       "      <td>6</td>\n",
       "    </tr>\n",
       "    <tr>\n",
       "      <th>2</th>\n",
       "      <td>2</td>\n",
       "      <td>3</td>\n",
       "      <td>7</td>\n",
       "    </tr>\n",
       "    <tr>\n",
       "      <th>3</th>\n",
       "      <td>3</td>\n",
       "      <td>4</td>\n",
       "      <td>8</td>\n",
       "    </tr>\n",
       "  </tbody>\n",
       "</table>\n",
       "</div>"
      ],
      "text/plain": [
       "   Index  A  B\n",
       "0      0  1  5\n",
       "1      1  2  6\n",
       "2      2  3  7\n",
       "3      3  4  8"
      ]
     },
     "execution_count": 31,
     "metadata": {},
     "output_type": "execute_result"
    }
   ],
   "source": [
    "# Performing Join\n",
    "pd.merge(df_1,df_2, on = 'Index', how='inner')\n",
    "\n",
    "# Concentrate onto this concept.."
   ]
  },
  {
   "cell_type": "code",
   "execution_count": 32,
   "id": "d95296fe",
   "metadata": {},
   "outputs": [
    {
     "data": {
      "text/html": [
       "<div>\n",
       "<style scoped>\n",
       "    .dataframe tbody tr th:only-of-type {\n",
       "        vertical-align: middle;\n",
       "    }\n",
       "\n",
       "    .dataframe tbody tr th {\n",
       "        vertical-align: top;\n",
       "    }\n",
       "\n",
       "    .dataframe thead th {\n",
       "        text-align: right;\n",
       "    }\n",
       "</style>\n",
       "<table border=\"1\" class=\"dataframe\">\n",
       "  <thead>\n",
       "    <tr style=\"text-align: right;\">\n",
       "      <th></th>\n",
       "      <th>Index</th>\n",
       "      <th>A</th>\n",
       "      <th>B</th>\n",
       "    </tr>\n",
       "  </thead>\n",
       "  <tbody>\n",
       "    <tr>\n",
       "      <th>0</th>\n",
       "      <td>0</td>\n",
       "      <td>1</td>\n",
       "      <td>5</td>\n",
       "    </tr>\n",
       "    <tr>\n",
       "      <th>1</th>\n",
       "      <td>1</td>\n",
       "      <td>2</td>\n",
       "      <td>6</td>\n",
       "    </tr>\n",
       "    <tr>\n",
       "      <th>2</th>\n",
       "      <td>2</td>\n",
       "      <td>3</td>\n",
       "      <td>7</td>\n",
       "    </tr>\n",
       "    <tr>\n",
       "      <th>3</th>\n",
       "      <td>3</td>\n",
       "      <td>4</td>\n",
       "      <td>8</td>\n",
       "    </tr>\n",
       "  </tbody>\n",
       "</table>\n",
       "</div>"
      ],
      "text/plain": [
       "   Index  A  B\n",
       "0      0  1  5\n",
       "1      1  2  6\n",
       "2      2  3  7\n",
       "3      3  4  8"
      ]
     },
     "execution_count": 32,
     "metadata": {},
     "output_type": "execute_result"
    }
   ],
   "source": [
    "# Performing Join\n",
    "pd.merge(df_1,df_2, on = 'Index', how='outer')"
   ]
  },
  {
   "cell_type": "code",
   "execution_count": 33,
   "id": "ce63dd4f",
   "metadata": {},
   "outputs": [
    {
     "ename": "NameError",
     "evalue": "name 'df' is not defined",
     "output_type": "error",
     "traceback": [
      "\u001b[1;31m---------------------------------------------------------------------------\u001b[0m",
      "\u001b[1;31mNameError\u001b[0m                                 Traceback (most recent call last)",
      "Cell \u001b[1;32mIn[33], line 3\u001b[0m\n\u001b[0;32m      1\u001b[0m \u001b[38;5;66;03m# Load iris dataset\u001b[39;00m\n\u001b[0;32m      2\u001b[0m \u001b[38;5;66;03m# df = pd.read_csv('C:\\\\Users\\\\LEGION\\\\Desktop\\\\BASICS\\\\Code-Practice\\\\Data\\\\iris\\\\iris.data')\u001b[39;00m\n\u001b[1;32m----> 3\u001b[0m df\u001b[38;5;241m.\u001b[39mcolumns \u001b[38;5;241m=\u001b[39m [\u001b[38;5;124m'\u001b[39m\u001b[38;5;124msepal_length\u001b[39m\u001b[38;5;124m'\u001b[39m,\u001b[38;5;124m'\u001b[39m\u001b[38;5;124msepal_width\u001b[39m\u001b[38;5;124m'\u001b[39m,\u001b[38;5;124m'\u001b[39m\u001b[38;5;124mpetal_length\u001b[39m\u001b[38;5;124m'\u001b[39m,\u001b[38;5;124m'\u001b[39m\u001b[38;5;124mpetal_width\u001b[39m\u001b[38;5;124m'\u001b[39m,\u001b[38;5;124m'\u001b[39m\u001b[38;5;124mclass\u001b[39m\u001b[38;5;124m'\u001b[39m]\n",
      "\u001b[1;31mNameError\u001b[0m: name 'df' is not defined"
     ]
    }
   ],
   "source": [
    "# Load iris dataset\n",
    "# df = pd.read_csv('C:\\\\Users\\\\LEGION\\\\Desktop\\\\BASICS\\\\Code-Practice\\\\Data\\\\iris\\\\iris.data')\n",
    "df.columns = ['sepal_length','sepal_width','petal_length','petal_width','class']"
   ]
  },
  {
   "cell_type": "code",
   "execution_count": null,
   "id": "be64149b",
   "metadata": {},
   "outputs": [
    {
     "data": {
      "text/html": [
       "<div>\n",
       "<style scoped>\n",
       "    .dataframe tbody tr th:only-of-type {\n",
       "        vertical-align: middle;\n",
       "    }\n",
       "\n",
       "    .dataframe tbody tr th {\n",
       "        vertical-align: top;\n",
       "    }\n",
       "\n",
       "    .dataframe thead th {\n",
       "        text-align: right;\n",
       "    }\n",
       "</style>\n",
       "<table border=\"1\" class=\"dataframe\">\n",
       "  <thead>\n",
       "    <tr style=\"text-align: right;\">\n",
       "      <th></th>\n",
       "      <th>sepal_length</th>\n",
       "      <th>sepal_width</th>\n",
       "      <th>petal_length</th>\n",
       "      <th>petal_width</th>\n",
       "      <th>class</th>\n",
       "    </tr>\n",
       "  </thead>\n",
       "  <tbody>\n",
       "    <tr>\n",
       "      <th>65</th>\n",
       "      <td>5.6</td>\n",
       "      <td>3.0</td>\n",
       "      <td>4.5</td>\n",
       "      <td>1.5</td>\n",
       "      <td>Iris-versicolor</td>\n",
       "    </tr>\n",
       "    <tr>\n",
       "      <th>46</th>\n",
       "      <td>4.6</td>\n",
       "      <td>3.2</td>\n",
       "      <td>1.4</td>\n",
       "      <td>0.2</td>\n",
       "      <td>Iris-setosa</td>\n",
       "    </tr>\n",
       "    <tr>\n",
       "      <th>98</th>\n",
       "      <td>5.7</td>\n",
       "      <td>2.8</td>\n",
       "      <td>4.1</td>\n",
       "      <td>1.3</td>\n",
       "      <td>Iris-versicolor</td>\n",
       "    </tr>\n",
       "    <tr>\n",
       "      <th>100</th>\n",
       "      <td>5.8</td>\n",
       "      <td>2.7</td>\n",
       "      <td>5.1</td>\n",
       "      <td>1.9</td>\n",
       "      <td>Iris-virginica</td>\n",
       "    </tr>\n",
       "  </tbody>\n",
       "</table>\n",
       "</div>"
      ],
      "text/plain": [
       "     sepal_length  sepal_width  petal_length  petal_width            class\n",
       "65            5.6          3.0           4.5          1.5  Iris-versicolor\n",
       "46            4.6          3.2           1.4          0.2      Iris-setosa\n",
       "98            5.7          2.8           4.1          1.3  Iris-versicolor\n",
       "100           5.8          2.7           5.1          1.9   Iris-virginica"
      ]
     },
     "execution_count": 19,
     "metadata": {},
     "output_type": "execute_result"
    }
   ],
   "source": [
    "df.sample(4, random_state=134)"
   ]
  },
  {
   "cell_type": "code",
   "execution_count": null,
   "id": "ca00def2",
   "metadata": {},
   "outputs": [
    {
     "data": {
      "text/plain": [
       "((149, 5), 745)"
      ]
     },
     "execution_count": 20,
     "metadata": {},
     "output_type": "execute_result"
    }
   ],
   "source": [
    "# Seeing the shape and size\n",
    "df.shape, df.size"
   ]
  },
  {
   "cell_type": "code",
   "execution_count": null,
   "id": "258614d8",
   "metadata": {},
   "outputs": [
    {
     "data": {
      "text/plain": [
       "Index([], dtype='object')"
      ]
     },
     "execution_count": 22,
     "metadata": {},
     "output_type": "execute_result"
    }
   ],
   "source": [
    "# Checking for null col\n",
    "df.columns[df.isna().sum() > 0] # No NaN values"
   ]
  },
  {
   "cell_type": "code",
   "execution_count": null,
   "id": "2268167e",
   "metadata": {},
   "outputs": [
    {
     "data": {
      "image/png": "[encoded data removed]",
      "text/plain": [
       "<Figure size 600x600 with 1 Axes>"
      ]
     },
     "metadata": {},
     "output_type": "display_data"
    }
   ],
   "source": [
    "# Checking the Target Distribtuon\n",
    "iris_class = df['class'].value_counts()\n",
    "plt.title('Iris Class Distribution')\n",
    "plt.pie(x = iris_class.values, labels=iris_class.index, autopct='%1.1f%%', explode=[0.2,0.2,0.2])\n",
    "plt.show()"
   ]
  },
  {
   "cell_type": "code",
   "execution_count": null,
   "id": "82ee0745",
   "metadata": {},
   "outputs": [
    {
     "data": {
      "text/html": [
       "<div>\n",
       "<style scoped>\n",
       "    .dataframe tbody tr th:only-of-type {\n",
       "        vertical-align: middle;\n",
       "    }\n",
       "\n",
       "    .dataframe tbody tr th {\n",
       "        vertical-align: top;\n",
       "    }\n",
       "\n",
       "    .dataframe thead th {\n",
       "        text-align: right;\n",
       "    }\n",
       "</style>\n",
       "<table border=\"1\" class=\"dataframe\">\n",
       "  <thead>\n",
       "    <tr style=\"text-align: right;\">\n",
       "      <th></th>\n",
       "      <th>class</th>\n",
       "      <th>sepal_length</th>\n",
       "      <th>sepal_width</th>\n",
       "      <th>petal_length</th>\n",
       "      <th>petal_width</th>\n",
       "    </tr>\n",
       "  </thead>\n",
       "  <tbody>\n",
       "    <tr>\n",
       "      <th>0</th>\n",
       "      <td>Iris-setosa</td>\n",
       "      <td>5.004082</td>\n",
       "      <td>3.416327</td>\n",
       "      <td>1.465306</td>\n",
       "      <td>0.244898</td>\n",
       "    </tr>\n",
       "    <tr>\n",
       "      <th>1</th>\n",
       "      <td>Iris-versicolor</td>\n",
       "      <td>5.936000</td>\n",
       "      <td>2.770000</td>\n",
       "      <td>4.260000</td>\n",
       "      <td>1.326000</td>\n",
       "    </tr>\n",
       "    <tr>\n",
       "      <th>2</th>\n",
       "      <td>Iris-virginica</td>\n",
       "      <td>6.588000</td>\n",
       "      <td>2.974000</td>\n",
       "      <td>5.552000</td>\n",
       "      <td>2.026000</td>\n",
       "    </tr>\n",
       "  </tbody>\n",
       "</table>\n",
       "</div>"
      ],
      "text/plain": [
       "             class  sepal_length  sepal_width  petal_length  petal_width\n",
       "0      Iris-setosa      5.004082     3.416327      1.465306     0.244898\n",
       "1  Iris-versicolor      5.936000     2.770000      4.260000     1.326000\n",
       "2   Iris-virginica      6.588000     2.974000      5.552000     2.026000"
      ]
     },
     "execution_count": 28,
     "metadata": {},
     "output_type": "execute_result"
    }
   ],
   "source": [
    "df.groupby('class')[['sepal_length','sepal_width','petal_length','petal_width']].mean().reset_index()\n",
    "# Class-wise mean values"
   ]
  },
  {
   "cell_type": "code",
   "execution_count": null,
   "id": "1d06f78e",
   "metadata": {},
   "outputs": [],
   "source": [
    "df.drop(['class'], inplace=True, axis=1)"
   ]
  },
  {
   "cell_type": "code",
   "execution_count": null,
   "id": "a5f0f335",
   "metadata": {},
   "outputs": [
    {
     "data": {
      "text/plain": [
       "['mom', 'dad']"
      ]
     },
     "execution_count": 9,
     "metadata": {},
     "output_type": "execute_result"
    }
   ],
   "source": [
    "# In a sentence pick out all the palindrom words\n",
    "\n",
    "sentence = \"hi me and my mom went to meet out dad at ooty\"\n",
    "[x for x in sentence.split() if x == x[::-1]]"
   ]
  },
  {
   "cell_type": "code",
   "execution_count": null,
   "id": "830be53b",
   "metadata": {},
   "outputs": [],
   "source": [
    "# To check an angram\n",
    "def anagram_finder(word_one, word_two):\n",
    "    word_one = [x for x in word_one]\n",
    "    word_two = [x for x in word_two]\n",
    "    word_one.sort(reverse=True)\n",
    "    word_two.sort(reverse=True)\n",
    "    return word_one == word_two"
   ]
  },
  {
   "cell_type": "code",
   "execution_count": null,
   "id": "bf1319f6",
   "metadata": {},
   "outputs": [
    {
     "data": {
      "text/plain": [
       "True"
      ]
     },
     "execution_count": 11,
     "metadata": {},
     "output_type": "execute_result"
    }
   ],
   "source": [
    "anagram_finder('mom','mum')\n",
    "anagram_finder('listen','silent')"
   ]
  },
  {
   "cell_type": "markdown",
   "id": "daf97cd0",
   "metadata": {},
   "source": [
    "Python Questions ALL"
   ]
  },
  {
   "cell_type": "code",
   "execution_count": null,
   "id": "45a7a4dd",
   "metadata": {},
   "outputs": [],
   "source": [
    "# Solvig the python curse ~~~"
   ]
  },
  {
   "cell_type": "code",
   "execution_count": null,
   "id": "f51bd9d5",
   "metadata": {},
   "outputs": [],
   "source": [
    "# Find all words in a sentence longer than length k\n",
    "def lenght(string, k):\n",
    "    for i in string.split():\n",
    "        if len(i) == k:\n",
    "            print(i)\n",
    "    # [x for x in string.split() if len(x) == k]"
   ]
  },
  {
   "cell_type": "code",
   "execution_count": null,
   "id": "32171bf0",
   "metadata": {},
   "outputs": [
    {
     "name": "stdout",
     "output_type": "stream",
     "text": [
      "hi\n",
      "my\n",
      "is\n"
     ]
    }
   ],
   "source": [
    "lenght(string=\"hi my name is hari\", k= 2)\n",
    "# The returned ele. len is eq = 2"
   ]
  },
  {
   "cell_type": "code",
   "execution_count": null,
   "id": "ea69d467",
   "metadata": {},
   "outputs": [],
   "source": [
    "# Reverse each word in a string without changing the order.\n",
    "def rev(string):\n",
    "    return [x[::-1] for x in string.split()]"
   ]
  },
  {
   "cell_type": "code",
   "execution_count": null,
   "id": "897abca1",
   "metadata": {},
   "outputs": [
    {
     "data": {
      "text/plain": [
       "['ih', 'ym', 'eman', 'si', 'irah']"
      ]
     },
     "execution_count": 15,
     "metadata": {},
     "output_type": "execute_result"
    }
   ],
   "source": [
    "rev(string='hi my name is hari')\n",
    "# Order is same without only reversing the string"
   ]
  },
  {
   "cell_type": "code",
   "execution_count": null,
   "id": "2923756d",
   "metadata": {},
   "outputs": [],
   "source": [
    "# Find all palindromic substrings of length > 2 in a string.\n",
    "def palSearch(string):\n",
    "    # Two condition : Palindrom and lenth must be > 2\n",
    "\n",
    "    # for i in string.split():\n",
    "    #     if (len(i) > 2) & (i == i[::-1]):\n",
    "    #         print(i)\n",
    "\n",
    "    # Or \n",
    "\n",
    "    return [x for x in string.split() if (len(x) > 2) & (x == x[::-1])]"
   ]
  },
  {
   "cell_type": "code",
   "execution_count": null,
   "id": "4249c543",
   "metadata": {},
   "outputs": [
    {
     "data": {
      "text/plain": [
       "['dad', 'mom']"
      ]
     },
     "execution_count": 17,
     "metadata": {},
     "output_type": "execute_result"
    }
   ],
   "source": [
    "palSearch(string='Hi we went to meet my dad at airport with my mom !!')\n",
    "# These returned words are palindrom and size greater than 2 "
   ]
  },
  {
   "cell_type": "code",
   "execution_count": null,
   "id": "59b71897",
   "metadata": {},
   "outputs": [],
   "source": [
    "# Find the longest word in a sentence.\n",
    "def longest_word(string):\n",
    "    word_counter = {}\n",
    "    for i in string.split():\n",
    "        if i not in word_counter:\n",
    "            word_counter[i] = len(i)\n",
    "        else: pass\n",
    "    for key,values in word_counter.items():\n",
    "        if values == max(word_counter.values()):\n",
    "            print(key)"
   ]
  },
  {
   "cell_type": "code",
   "execution_count": null,
   "id": "b259617e",
   "metadata": {},
   "outputs": [
    {
     "name": "stdout",
     "output_type": "stream",
     "text": [
      "hariprasad\n"
     ]
    }
   ],
   "source": [
    "longest_word(string=\"hi my name is hariprasad\")\n",
    "# This is the largest word in the sentence"
   ]
  },
  {
   "cell_type": "code",
   "execution_count": null,
   "id": "6ce8dcb3",
   "metadata": {},
   "outputs": [],
   "source": [
    "# Count the frequency of each character in a string.\n",
    "\n",
    "def char_counter(string):\n",
    "    char_dict = {}\n",
    "    for i in string:\n",
    "        if i not in char_dict:\n",
    "            char_dict[i] = 1\n",
    "        else:\n",
    "            char_dict[i]+=1\n",
    "    return char_dict\n"
   ]
  },
  {
   "cell_type": "code",
   "execution_count": null,
   "id": "6453090b",
   "metadata": {},
   "outputs": [
    {
     "data": {
      "text/plain": [
       "{'h': 2,\n",
       " 'i': 3,\n",
       " ' ': 4,\n",
       " 'm': 2,\n",
       " 'y': 1,\n",
       " 'n': 1,\n",
       " 'a': 4,\n",
       " 'e': 1,\n",
       " 's': 2,\n",
       " 'r': 2,\n",
       " 'p': 1,\n",
       " 'd': 1}"
      ]
     },
     "execution_count": 21,
     "metadata": {},
     "output_type": "execute_result"
    }
   ],
   "source": [
    "char_counter(string='hi my name is hariprasad')"
   ]
  },
  {
   "cell_type": "code",
   "execution_count": null,
   "id": "af0ca461",
   "metadata": {},
   "outputs": [],
   "source": [
    "# Find the most frequent word(s) in a string.\n",
    "def word_counter(string):\n",
    "    word_dict = {}\n",
    "    for i in string.split():\n",
    "        if i not in word_dict:\n",
    "            word_dict[i] = 1\n",
    "        else:\n",
    "            word_dict[i]+=1\n",
    "    return word_dict\n"
   ]
  },
  {
   "cell_type": "code",
   "execution_count": null,
   "id": "3dcd8b35",
   "metadata": {},
   "outputs": [
    {
     "data": {
      "text/plain": [
       "{'hari': 2,\n",
       " 'is': 2,\n",
       " 'a': 1,\n",
       " 'datascientist': 1,\n",
       " 'and': 1,\n",
       " 'from': 1,\n",
       " 'bangalore': 1}"
      ]
     },
     "execution_count": 23,
     "metadata": {},
     "output_type": "execute_result"
    }
   ],
   "source": [
    "word_counter(string=\"hari is a datascientist and hari is from bangalore\")"
   ]
  },
  {
   "cell_type": "code",
   "execution_count": null,
   "id": "4ab31a19",
   "metadata": {},
   "outputs": [],
   "source": [
    "# Remove duplicate words from a sentenc\n",
    "def remove_duplicate(sentence):\n",
    "    empt_set = []\n",
    "    for i in sentence.split():\n",
    "        empt_set.append(i)\n",
    "    return set(empt_set) # Converte to list and then to set to maintain the order sequence.."
   ]
  },
  {
   "cell_type": "code",
   "execution_count": null,
   "id": "ed6fcda0",
   "metadata": {},
   "outputs": [
    {
     "data": {
      "text/plain": [
       "{'hari', 'is', 'my', 'name'}"
      ]
     },
     "execution_count": 25,
     "metadata": {},
     "output_type": "execute_result"
    }
   ],
   "source": [
    "remove_duplicate(sentence=\"hari is my name hari\")"
   ]
  },
  {
   "cell_type": "code",
   "execution_count": null,
   "id": "66dd651e",
   "metadata": {},
   "outputs": [],
   "source": [
    "# Count vowels in the sentence\n",
    "def volwels_counter(sentence):\n",
    "    volwels = ['a','e','i','o','u']\n",
    "    v_counter = {}\n",
    "    for i in volwels:\n",
    "            if i not in v_counter:\n",
    "                v_counter[i] = sentence.count(i)\n",
    "            else:\n",
    "                v_counter[i]+=1 \n",
    "\n",
    "    return v_counter"
   ]
  },
  {
   "cell_type": "code",
   "execution_count": null,
   "id": "97de4071",
   "metadata": {},
   "outputs": [
    {
     "data": {
      "text/plain": [
       "{'a': 4, 'e': 1, 'i': 3, 'o': 0, 'u': 0}"
      ]
     },
     "execution_count": 28,
     "metadata": {},
     "output_type": "execute_result"
    }
   ],
   "source": [
    "volwels_counter(sentence=\"hi my name is hariprasad\")"
   ]
  },
  {
   "cell_type": "code",
   "execution_count": null,
   "id": "cdf995f2",
   "metadata": {},
   "outputs": [],
   "source": [
    "# Check for anagram string\n",
    "def anagram_string(string_one, string_two):\n",
    "    word_one = [x for x in string_one].sort(reverse=True)\n",
    "    word_two = [x for x in string_two].sort(reverse=True)\n",
    "    return \"anagram\" if word_one == word_two else \"not anagram\"\n"
   ]
  },
  {
   "cell_type": "code",
   "execution_count": null,
   "id": "3ac9f76c",
   "metadata": {},
   "outputs": [
    {
     "name": "stdout",
     "output_type": "stream",
     "text": [
      "None None\n",
      "None None\n"
     ]
    },
    {
     "data": {
      "text/plain": [
       "'anagram'"
      ]
     },
     "execution_count": 34,
     "metadata": {},
     "output_type": "execute_result"
    }
   ],
   "source": [
    "anagram_string('silent','listen')"
   ]
  },
  {
   "cell_type": "code",
   "execution_count": null,
   "id": "74b163ac",
   "metadata": {},
   "outputs": [],
   "source": []
  },
  {
   "cell_type": "markdown",
   "id": "03f7d362",
   "metadata": {},
   "source": [
    "#### Solving the Python~Curse"
   ]
  },
  {
   "cell_type": "code",
   "execution_count": null,
   "id": "0950cf49",
   "metadata": {},
   "outputs": [
    {
     "data": {
      "text/plain": [
       "['name', 'hari', 'from', 'bangalore']"
      ]
     },
     "execution_count": 25,
     "metadata": {},
     "output_type": "execute_result"
    }
   ],
   "source": [
    "# Word > k in a string \n",
    "def longerWord(string, k):\n",
    "    return [x for x in string.split() if len(x) > k]\n",
    "\n",
    "# Testing..\n",
    "longerWord(string=\"hi my name is hari , from bangalore\", k=3)"
   ]
  },
  {
   "cell_type": "code",
   "execution_count": null,
   "id": "d0c95442",
   "metadata": {},
   "outputs": [
    {
     "data": {
      "text/plain": [
       "' ih ym eman si irah '"
      ]
     },
     "execution_count": 26,
     "metadata": {},
     "output_type": "execute_result"
    }
   ],
   "source": [
    "# Reverse each word\n",
    "def revWord(sentence):\n",
    "    rev_sentece = \" \"\n",
    "    for i in sentence.split():\n",
    "        rev_sentece += i[::-1] + \" \"\n",
    "    return rev_sentece\n",
    "\n",
    "# Testing..\n",
    "revWord(sentence=\"hi my name is hari\")"
   ]
  },
  {
   "cell_type": "code",
   "execution_count": null,
   "id": "7212d396",
   "metadata": {},
   "outputs": [
    {
     "data": {
      "text/plain": [
       "['mom', 'dad']"
      ]
     },
     "execution_count": 27,
     "metadata": {},
     "output_type": "execute_result"
    }
   ],
   "source": [
    "# Find all palindorm > len(2)\n",
    "def palLength(string, k):\n",
    "\n",
    "    # list comphrension\n",
    "    return [x for x in string.split() if (len(x) > k) & (x == x[::-1])] # Give multiple condition\n",
    "\n",
    "# Testing..\n",
    "palLength(string=\"I went to the airport with my mom and dad\", k = 2)"
   ]
  },
  {
   "cell_type": "code",
   "execution_count": null,
   "id": "68b8518b",
   "metadata": {},
   "outputs": [
    {
     "data": {
      "text/plain": [
       "{'h': 1, 'a': 3, 'r': 2, 'i': 1, 'p': 1, 's': 1, 'd': 1}"
      ]
     },
     "execution_count": 28,
     "metadata": {},
     "output_type": "execute_result"
    }
   ],
   "source": [
    "# frequency of char in string \n",
    "def charFrequency(string):\n",
    "    char_dict = {}\n",
    "    for i in string:\n",
    "        if i not in char_dict:\n",
    "            char_dict[i] = 1\n",
    "        else:\n",
    "            char_dict[i]+=1\n",
    "    return char_dict\n",
    "\n",
    "# Testing ..\n",
    "charFrequency(string=\"hariprasad\")"
   ]
  },
  {
   "cell_type": "code",
   "execution_count": null,
   "id": "68f7d7e8",
   "metadata": {},
   "outputs": [
    {
     "data": {
      "text/plain": [
       "['hi', 'my', 'name', 'is', 'hari', 'and', 'from', 'bangalore']"
      ]
     },
     "execution_count": 31,
     "metadata": {},
     "output_type": "execute_result"
    }
   ],
   "source": [
    "# Remove duplicate word from sentence\n",
    "def duplicateWord(sentence):\n",
    "\n",
    "    # list = [x for x in sentence.split()]\n",
    "    # return set(list)\n",
    "\n",
    "\n",
    "# Another method using list \n",
    "    temp_list= []\n",
    "    for i in sentence.split():\n",
    "        if i not in temp_list:\n",
    "            temp_list.append(i)\n",
    "    return temp_list # This maintain structure \n",
    "\n",
    "# Testing\n",
    "duplicateWord(sentence=\"hi my name is hari and hari is from bangalore\")"
   ]
  },
  {
   "cell_type": "code",
   "execution_count": null,
   "id": "c8cc5efe",
   "metadata": {},
   "outputs": [
    {
     "name": "stdout",
     "output_type": "stream",
     "text": [
      "Vowels Counter :  {'o': 1, 'e': 5, 'a': 1}\n",
      "Consonent Counter :  {'s': 3, 'm': 2, ' ': 2, 'p': 1, 'l': 1, 'n': 2, 't': 1, 'c': 1}\n"
     ]
    }
   ],
   "source": [
    "# Count the number of vowels and consonents in the sentence\n",
    "\n",
    "sentence  = \"some sample sentence\"\n",
    "vc_counter = {}\n",
    "for i in sentence:\n",
    "    vc_counter[i] = 1\n",
    "else:\n",
    "    vc_counter[i]+=1\n",
    "\n",
    "v_dict, c_dict ={}, {}\n",
    "for key,value in vc_counter.items():\n",
    "    vowels = ['a','e','i','o','u']\n",
    "    if key in vowels:\n",
    "        v_dict[key] = sentence.count(key)\n",
    "    else:\n",
    "        c_dict[key] = sentence.count(key)\n",
    "\n",
    "print('Vowels Counter : ', v_dict)\n",
    "print('Consonent Counter : ', c_dict)\n"
   ]
  },
  {
   "cell_type": "code",
   "execution_count": null,
   "id": "58474384",
   "metadata": {},
   "outputs": [],
   "source": [
    "# Check if two string are anagram\n",
    "def twoString(string_one, string_two):\n",
    "    word_one, word_two = [],[]\n",
    "    [word_one.append(x) for x in string_one]\n",
    "    [word_two.append(x) for x in string_two]\n",
    "    word_two.sort(reverse=True)\n",
    "    word_one.sort(reverse=True)\n",
    "    return \"Anagram\" if word_one == word_two else \"Not Anagram\""
   ]
  },
  {
   "cell_type": "code",
   "execution_count": null,
   "id": "97ee1064",
   "metadata": {},
   "outputs": [
    {
     "data": {
      "text/plain": [
       "'Anagram'"
      ]
     },
     "execution_count": 48,
     "metadata": {},
     "output_type": "execute_result"
    }
   ],
   "source": [
    "twoString('listen','silent')\n",
    "# twoString('listen','silent')"
   ]
  },
  {
   "cell_type": "code",
   "execution_count": null,
   "id": "7c78d681",
   "metadata": {},
   "outputs": [],
   "source": [
    "# Check if a sentence is a pangram (contains all letters at least once).\n",
    "\n",
    "def alphabet_checker(sentence):\n",
    "    word_counter = {}\n",
    "    for i in sentence:\n",
    "        word_counter[i] = sentence.count(i)\n",
    "    else:\n",
    "        pass\n",
    "\n",
    "    total_alphabet = 26\n",
    "    alpha_check = []\n",
    "    for i in word_counter.keys():\n",
    "        alpha_check.append(i)\n",
    "\n",
    "    # Converting it to a set\n",
    "    alpha_check = set(alpha_check)\n",
    "\n",
    "    # Checkig the type\n",
    "    alpha_check.remove(\" \") # Removing the \" \"\n",
    "\n",
    "    print(len(alpha_check))\n",
    "\n",
    "    # Now i am checking if the len of the alpha_ceck is equal to total_alpha\n",
    "\n",
    "    print(\"All Alphabets is present\" if len(alpha_check) == total_alphabet else \"All Alphabets is not present\")"
   ]
  },
  {
   "cell_type": "code",
   "execution_count": null,
   "id": "1ccec3db",
   "metadata": {},
   "outputs": [
    {
     "name": "stdout",
     "output_type": "stream",
     "text": [
      "25\n",
      "All Alphabets is not present\n",
      "26\n",
      "All Alphabets is present\n"
     ]
    }
   ],
   "source": [
    "alphabet_checker(sentence=\"a quick brown fox jumped over the lazy dog\")\n",
    "alphabet_checker(sentence=\"abcd efghij klmnop qrst uvwxyz\")"
   ]
  },
  {
   "cell_type": "code",
   "execution_count": null,
   "id": "516a7d4c",
   "metadata": {},
   "outputs": [
    {
     "name": "stdout",
     "output_type": "stream",
     "text": [
      "3.12.3 | packaged by conda-forge | (main, Apr 15 2024, 18:20:11) [MSC v.1938 64 bit (AMD64)]\n"
     ]
    }
   ],
   "source": [
    "# Print the Python version using the sys module.\n",
    "\n",
    "from sys import version\n",
    "print(version)"
   ]
  },
  {
   "cell_type": "code",
   "execution_count": null,
   "id": "dfd823d1",
   "metadata": {},
   "outputs": [
    {
     "data": {
      "text/plain": [
       "{'h': 2,\n",
       " 'i': 3,\n",
       " ' ': 4,\n",
       " 'm': 2,\n",
       " 'y': 1,\n",
       " 'n': 1,\n",
       " 'a': 4,\n",
       " 'e': 1,\n",
       " 's': 2,\n",
       " 'r': 2,\n",
       " 'p': 1,\n",
       " 'd': 1}"
      ]
     },
     "execution_count": 80,
     "metadata": {},
     "output_type": "execute_result"
    }
   ],
   "source": [
    "# Count how many times a specific character appears in a string.\n",
    "\n",
    "string = \"hi my name is hariprasad\"\n",
    "char_counter = {}\n",
    "for i in string:\n",
    "    if i not in char_counter:\n",
    "        char_counter[i] = 1\n",
    "    else:\n",
    "        char_counter[i]+=1\n",
    "\n",
    "char_counter"
   ]
  },
  {
   "cell_type": "code",
   "execution_count": null,
   "id": "da0594ee",
   "metadata": {},
   "outputs": [
    {
     "name": "stdout",
     "output_type": "stream",
     "text": [
      "has number\n"
     ]
    }
   ],
   "source": [
    "# Check if a string contains only digits (without using isdigit()).\n",
    "\n",
    "string = \"hi my name is hari and i am 24 years old\"\n",
    "for i in string:\n",
    "    try:\n",
    "        # here i am tryign to convert thing to int\n",
    "        number_storer = []\n",
    "        number_storer.append(i)\n",
    "    except:\n",
    "        pass\n",
    "\n",
    "print(\"has number\" if len(number_storer) > 0 else \"has no number\")\n",
    "\n",
    "# Only 2 and 4 are the number present.."
   ]
  },
  {
   "cell_type": "code",
   "execution_count": null,
   "id": "8d067f97",
   "metadata": {},
   "outputs": [],
   "source": [
    "# Convert a numeric string to an integer (without using int())\n"
   ]
  },
  {
   "cell_type": "code",
   "execution_count": null,
   "id": "ebf88d6c",
   "metadata": {},
   "outputs": [
    {
     "data": {
      "text/plain": [
       "16"
      ]
     },
     "execution_count": 84,
     "metadata": {},
     "output_type": "execute_result"
    }
   ],
   "source": [
    "# Write a function that returns the square of a number.\n",
    "square = lambda x : x ** 2\n",
    "square(4)"
   ]
  },
  {
   "cell_type": "code",
   "execution_count": null,
   "id": "6ec017fc",
   "metadata": {},
   "outputs": [
    {
     "name": "stdout",
     "output_type": "stream",
     "text": [
      "['Even : 2', 'Odd : 3', 'Even : 4', 'Odd : 5', 'Even : 6', 'Odd : 7', 'Even : 8', 'Odd : 9', 'Even : 10', 'Odd : 11']\n"
     ]
    }
   ],
   "source": [
    "# Check if a number is even or odd.\n",
    "sample_list = [x for x in range(2,12)]\n",
    "print([f\"Even : {x}\" if x%2==0 else f\"Odd : {x}\" for x in sample_list])"
   ]
  },
  {
   "cell_type": "code",
   "execution_count": null,
   "id": "f77318d5",
   "metadata": {},
   "outputs": [
    {
     "data": {
      "text/plain": [
       "20"
      ]
     },
     "execution_count": 88,
     "metadata": {},
     "output_type": "execute_result"
    }
   ],
   "source": [
    "# Return the maximum of two numbers using a function.\n",
    "max_number = lambda a,b : max(a,b)\n",
    "max_number(10,20)"
   ]
  },
  {
   "cell_type": "code",
   "execution_count": null,
   "id": "af4f7ff8",
   "metadata": {},
   "outputs": [
    {
     "data": {
      "text/plain": [
       "-250.0"
      ]
     },
     "execution_count": 91,
     "metadata": {},
     "output_type": "execute_result"
    }
   ],
   "source": [
    "# Convert Celsius to Fahrenheit.\n",
    "convert_faranite = lambda c : c - 273.0\n",
    "\n",
    "# This is the method we can start converting..\n",
    "convert_faranite(23)"
   ]
  },
  {
   "cell_type": "code",
   "execution_count": null,
   "id": "a7a2a39d",
   "metadata": {},
   "outputs": [
    {
     "data": {
      "text/plain": [
       "'irah si eman ym ih'"
      ]
     },
     "execution_count": 101,
     "metadata": {},
     "output_type": "execute_result"
    }
   ],
   "source": [
    "# Reverse a string without using slicing.\n",
    "string = \"hi my name is hari\"\n",
    "reverse_string = ''\n",
    "for i in range(len(string)-1,-1,-1):\n",
    "    reverse_string+=string[i]\n",
    "reverse_string"
   ]
  },
  {
   "cell_type": "code",
   "execution_count": null,
   "id": "a68522bc",
   "metadata": {},
   "outputs": [
    {
     "data": {
      "text/plain": [
       "[0, 1, 2, 3, 4, 5, 6, 7, 8, 9]"
      ]
     },
     "execution_count": 104,
     "metadata": {},
     "output_type": "execute_result"
    }
   ],
   "source": [
    "def till_n(n):\n",
    "    return [x for x in range(n)]\n",
    "\n",
    "\n",
    "till_n(10)"
   ]
  },
  {
   "cell_type": "code",
   "execution_count": null,
   "id": "a2785078",
   "metadata": {},
   "outputs": [
    {
     "data": {
      "text/plain": [
       "21"
      ]
     },
     "execution_count": 106,
     "metadata": {},
     "output_type": "execute_result"
    }
   ],
   "source": [
    "# Find the sum of all numbers in a list.\n",
    "def sum_list(list):\n",
    "    return sum(list) # sum of all the list \n",
    "\n",
    "sum_list([1,2,3,4,5,6])"
   ]
  },
  {
   "cell_type": "code",
   "execution_count": null,
   "id": "e442173b",
   "metadata": {},
   "outputs": [
    {
     "name": "stdout",
     "output_type": "stream",
     "text": [
      "[2, 3, 4, 5, 6, 7, 8, 9, 10, 11]\n"
     ]
    }
   ],
   "source": [
    "# Return only positive numbers from a list.\n",
    "smaple_list = [-1,2,-4,0,-3,4,5,6,-4,-6,-8,2,3,-6]\n",
    "print([x for x in sample_list if x > 0])"
   ]
  },
  {
   "cell_type": "code",
   "execution_count": null,
   "id": "113be0c0",
   "metadata": {},
   "outputs": [
    {
     "name": "stdout",
     "output_type": "stream",
     "text": [
      "-1\n",
      "-1\n",
      "-1\n",
      "Element Found at position 3\n"
     ]
    }
   ],
   "source": [
    "#  Implement linear search on a list.\n",
    "list = [2, 3, 4, 5, 6, 7, 8, 9, 10, 11]\n",
    "x = int(input('Enter the number you need to find : '))\n",
    "for i in list:\n",
    "    if i == x:\n",
    "        print('Element Found at position', list.index(i))\n",
    "        break\n",
    "    else:\n",
    "        print(-1)"
   ]
  },
  {
   "cell_type": "code",
   "execution_count": null,
   "id": "4236daac",
   "metadata": {},
   "outputs": [
    {
     "name": "stdout",
     "output_type": "stream",
     "text": [
      "The element is towards the left side of the middle-value\n",
      "element found 1\n"
     ]
    }
   ],
   "source": [
    "# Implement binary search on a sorted list.c\n",
    "list = [2, 3, 4, 5, 6, 7, 8, 9, 10, 11]\n",
    "middle_element = len(list) // 2\n",
    "x = int(input('Enter the number : '))\n",
    "if x > middle_element:\n",
    "    print('The element is towards the right side of the middle-value')\n",
    "    for i in range(len(second_half:=list[middle_element:])):\n",
    "        if x == second_half[i]:\n",
    "            print('element found', list.index(x))\n",
    "else:\n",
    "    print('The element is towards the left side of the middle-value')\n",
    "    for i in range(len(first_half:=list[:middle_element])):\n",
    "        if x == first_half[i]:\n",
    "            print('element found', list.index(x))\n"
   ]
  },
  {
   "cell_type": "code",
   "execution_count": null,
   "id": "04d87eed",
   "metadata": {},
   "outputs": [
    {
     "name": "stdout",
     "output_type": "stream",
     "text": [
      "10 x 9 x 8 x 7 x 6 x 5 x 4 x 3 x 2 x 1 x "
     ]
    }
   ],
   "source": [
    "# Factorial\n",
    "\n",
    "fact = 1\n",
    "for i in range(n:=int(input('Enter the factorial number : ')), 0, -1):\n",
    "    if n == 1 | n == 0:\n",
    "        print(1)\n",
    "    else:\n",
    "        print(i, end=' x ')"
   ]
  },
  {
   "cell_type": "code",
   "execution_count": null,
   "id": "b170734c",
   "metadata": {},
   "outputs": [
    {
     "data": {
      "text/plain": [
       "{'hi': 2,\n",
       " 'my': 2,\n",
       " 'name': 4,\n",
       " 'is': 2,\n",
       " 'hemanth': 7,\n",
       " 'and': 3,\n",
       " 'i': 1,\n",
       " 'am': 2,\n",
       " 'here': 4,\n",
       " 'in': 2,\n",
       " 'bangalore': 9}"
      ]
     },
     "execution_count": 141,
     "metadata": {},
     "output_type": "execute_result"
    }
   ],
   "source": [
    "# Count the number of words in a sentence.\n",
    "sentence = \"hi my name is hemanth and i am here in bangalore\"\n",
    "{x : len(x) for x in sentence.split()} # We can do the dictionary comphrension"
   ]
  },
  {
   "cell_type": "code",
   "execution_count": null,
   "id": "153e3a87",
   "metadata": {},
   "outputs": [
    {
     "data": {
      "text/plain": [
       "({'a': 3, 'i': 1}, {'h': 1, 'r': 2, 'p': 1, 's': 1, 'd': 1})"
      ]
     },
     "execution_count": 144,
     "metadata": {},
     "output_type": "execute_result"
    }
   ],
   "source": [
    "# Count the number of vowels and consonents in the sentence..\n",
    "vowels = ['a','e','i','o','u']\n",
    "string = \"hariprasad\"\n",
    "v_dict = {x  : string.count(x) for x in string if x in vowels}\n",
    "c_dict = {x  : string.count(x) for x in string if x not in vowels}\n",
    "v_dict, c_dict\n",
    "\n",
    "# this is a very simple approach."
   ]
  },
  {
   "cell_type": "code",
   "execution_count": null,
   "id": "1249fb18",
   "metadata": {},
   "outputs": [
    {
     "name": "stdout",
     "output_type": "stream",
     "text": [
      "hariprasad\n"
     ]
    }
   ],
   "source": [
    "# Return the longest word in a sentence.\n",
    "sentence = \"Hi, me is hariprasad from bangalore\"\n",
    "word_counter = {x : len(x) for x in sentence.split()}\n",
    "for key, value in word_counter.items():\n",
    "    if value == max(word_counter.values()):\n",
    "        print(key)"
   ]
  },
  {
   "cell_type": "code",
   "execution_count": null,
   "id": "2cf9d887",
   "metadata": {},
   "outputs": [
    {
     "name": "stdout",
     "output_type": "stream",
     "text": [
      "Hi my name is hari\n"
     ]
    }
   ],
   "source": [
    "# Capitalize the first letter of every word in a sentence.\n",
    "string = \"hi my name is hari\"\n",
    "print(string.capitalize())"
   ]
  },
  {
   "cell_type": "code",
   "execution_count": null,
   "id": "e8a396a1",
   "metadata": {},
   "outputs": [
    {
     "name": "stdout",
     "output_type": "stream",
     "text": [
      "['mom', 'dad']\n"
     ]
    }
   ],
   "source": [
    "# Check if a string is a palindrome (ignore spaces and case).\n",
    "string = \" Hi i went to airport with my mom and dad\"\n",
    "print(result:=[x for x in string.split() if (x == x[::-1]) & (len(x) != 1)])"
   ]
  },
  {
   "cell_type": "code",
   "execution_count": null,
   "id": "059a81cd",
   "metadata": {},
   "outputs": [
    {
     "name": "stdout",
     "output_type": "stream",
     "text": [
      "[2, 4, 6, 8]\n"
     ]
    }
   ],
   "source": [
    "# Filter a list to return only even numbers.\n",
    "number_list = [x for x in range(1,10)]\n",
    "print(result:=[x for x in number_list if x%2 ==0])"
   ]
  },
  {
   "cell_type": "code",
   "execution_count": null,
   "id": "4cc82a88",
   "metadata": {},
   "outputs": [
    {
     "data": {
      "text/plain": [
       "[4, 16, 36, 64]"
      ]
     },
     "execution_count": 160,
     "metadata": {},
     "output_type": "execute_result"
    }
   ],
   "source": [
    "# Return a new list with squares of even numbers.\n",
    "def return_square(list):\n",
    "    return [x**2 for x in list] \n",
    "return_square([2, 4, 6, 8])"
   ]
  },
  {
   "cell_type": "code",
   "execution_count": null,
   "id": "16b308e2",
   "metadata": {},
   "outputs": [
    {
     "name": "stdout",
     "output_type": "stream",
     "text": [
      "[64, 36, 16, 4]\n",
      "36\n"
     ]
    }
   ],
   "source": [
    "# Find the second largest number in a list (without using sort).\n",
    "sample_list = [4 , 36, 64, 16]\n",
    "temp = 0\n",
    "for i in range(len(sample_list)):\n",
    "    for j in range(i, len(sample_list)):\n",
    "        if sample_list[i] < sample_list[j]:\n",
    "            temp = sample_list[j]\n",
    "            sample_list[j] = sample_list[i]\n",
    "            sample_list[i] = temp\n",
    "\n",
    "print(sample_list)\n",
    "print(sample_list[1]) # This is the second largest number\n"
   ]
  },
  {
   "cell_type": "code",
   "execution_count": null,
   "id": "8620d97f",
   "metadata": {},
   "outputs": [],
   "source": [
    "# Check if all elements in a list are unique.\n",
    "def check_unique(list):\n",
    "    # return ['Unique' if list.count(x) < 2 else \"Not-Unique\" for x in list]\n",
    "    return ['' if list.count(x) < 2 else f\"{x}\" for x in list]"
   ]
  },
  {
   "cell_type": "code",
   "execution_count": null,
   "id": "c7420c1d",
   "metadata": {},
   "outputs": [
    {
     "data": {
      "text/plain": [
       "['4', '', '', '', '4']"
      ]
     },
     "execution_count": 16,
     "metadata": {},
     "output_type": "execute_result"
    }
   ],
   "source": [
    "check_unique([64, 36, 16, 4])\n",
    "check_unique([4, 64, 36, 16, 4])\n"
   ]
  },
  {
   "cell_type": "code",
   "execution_count": null,
   "id": "a1c49740",
   "metadata": {},
   "outputs": [
    {
     "name": "stdout",
     "output_type": "stream",
     "text": [
      "[10, 11, 12, 13, 14, 15, 18, 19, 20]\n"
     ]
    }
   ],
   "source": [
    "import random\n",
    "list_a = set([random.randint(10,20) for _ in range(10)])\n",
    "list_b = set([random.randint(10,20) for _ in range(10)])\n",
    "list_common = []\n",
    "for i in list_a:\n",
    "    list_common.append(i)\n",
    "    for j in list_b:\n",
    "        list_common.append(j)\n",
    "print(list(set(list_common)))\n",
    "# We have a list with non-reparting elemnts.."
   ]
  },
  {
   "cell_type": "code",
   "execution_count": null,
   "id": "277ac6fa",
   "metadata": {},
   "outputs": [
    {
     "name": "stdout",
     "output_type": "stream",
     "text": [
      "1\n",
      "2\n",
      "3\n",
      "4\n",
      "5\n",
      "6\n",
      "7\n"
     ]
    }
   ],
   "source": [
    "nestes_list = [1,2,[3],4,[5,6,7]]\n",
    "for i in range(len(nestes_list)):\n",
    "    try:\n",
    "        # You cannot itterate through an integer, only list \n",
    "        for element in nestes_list[i]:\n",
    "            print(element)\n",
    "    except:\n",
    "        # If its an integer just print this..\n",
    "        \n",
    "        print(nestes_list[i])\n",
    "\n",
    "# here we have all the element in the nested list without using flatten"
   ]
  },
  {
   "cell_type": "markdown",
   "id": "50155e7d",
   "metadata": {},
   "source": [
    "Coding Practice 2 :"
   ]
  },
  {
   "cell_type": "code",
   "execution_count": 34,
   "id": "c72b349c",
   "metadata": {},
   "outputs": [
    {
     "name": "stdout",
     "output_type": "stream",
     "text": [
      "[18, 8, 6, 14, 18, 17, 16, 13, 8, 1, 16, 5, 5, 12, 10, 9, 19, 15, 13, 2]\n",
      "[5, 5]\n",
      "11\n"
     ]
    }
   ],
   "source": [
    "# linear search on a list\n",
    "import random\n",
    "linear_list = [random.randint(1,20) for _ in range(20)] # We have 20 Numbers\n",
    "print(linear_list)\n",
    "\n",
    "# Linear search using List comphrension\n",
    "user_inpt = int(input(\"Enter the number you want to search\"))\n",
    "result = [x for x in linear_list if user_inpt == x]\n",
    "print(result)\n",
    "\n",
    "# Another way i could have solved this is using index\n",
    "try:\n",
    "    indx = linear_list.index(user_inpt)\n",
    "    print(indx)\n",
    "except:\n",
    "    print(-1)   "
   ]
  },
  {
   "cell_type": "code",
   "execution_count": 4,
   "id": "2432bd57",
   "metadata": {},
   "outputs": [
    {
     "name": "stdout",
     "output_type": "stream",
     "text": [
      "21\n"
     ]
    }
   ],
   "source": [
    "#  Binary search ..\n",
    "binary_llist = [1,34,5,6,34,78,9,2,3,4,7,8,10,11,14,20,17,19,12,16,13]\n",
    "binary_llist.sort()\n",
    "print(len(binary_llist))"
   ]
  },
  {
   "cell_type": "markdown",
   "id": "02aa4dc8",
   "metadata": {},
   "source": [
    "PRACTICE. 2"
   ]
  },
  {
   "cell_type": "code",
   "execution_count": 4,
   "id": "3c93500d",
   "metadata": {},
   "outputs": [
    {
     "data": {
      "text/plain": [
       "20"
      ]
     },
     "execution_count": 4,
     "metadata": {},
     "output_type": "execute_result"
    }
   ],
   "source": [
    "# Return max of 2 numbers\n",
    "max_2_numbers = lambda x,y : x if x>y else y\n",
    "max_2_numbers(10,20)"
   ]
  },
  {
   "cell_type": "code",
   "execution_count": 5,
   "id": "19ff9965",
   "metadata": {},
   "outputs": [
    {
     "data": {
      "text/plain": [
       "33.8"
      ]
     },
     "execution_count": 5,
     "metadata": {},
     "output_type": "execute_result"
    }
   ],
   "source": [
    "# Celcius -> Fahrenhet\n",
    "C_F = lambda c : c * (9 / 5) + 32\n",
    "C_F(1)\n"
   ]
  },
  {
   "cell_type": "code",
   "execution_count": 17,
   "id": "9ace60ba",
   "metadata": {},
   "outputs": [
    {
     "name": "stdout",
     "output_type": "stream",
     "text": [
      "irah\n"
     ]
    }
   ],
   "source": [
    "# Reverse String without using slicing \n",
    "string = \"hari\"\n",
    "rev_string = ''\n",
    "for i in range(len(string)-1,-1,-1):\n",
    "    rev_string += string[i]\n",
    "print(rev_string)\n",
    "\n",
    "\n",
    "\n",
    "# Reverse While loop..\n",
    "\n",
    "# end_number = 10\n",
    "# while end_number >= 1:\n",
    "#     print(end_number)\n",
    "#     end_number-=1"
   ]
  },
  {
   "cell_type": "code",
   "execution_count": 18,
   "id": "416f31cc",
   "metadata": {},
   "outputs": [
    {
     "name": "stdout",
     "output_type": "stream",
     "text": [
      "[0, 1]\n"
     ]
    }
   ],
   "source": [
    "# Print Number 1- n\n",
    "n=int(input('Enter the number : '))\n",
    "print([x for x in range(n)])"
   ]
  },
  {
   "cell_type": "code",
   "execution_count": 25,
   "id": "fd5fa878",
   "metadata": {},
   "outputs": [
    {
     "data": {
      "text/plain": [
       "[3, 6, 5, 3, 2]"
      ]
     },
     "execution_count": 25,
     "metadata": {},
     "output_type": "execute_result"
    }
   ],
   "source": [
    "# Find the sum of all numbers in a list.\n",
    "import random\n",
    "sample_list = [random.randint(1,10) for _ in range(5)]\n",
    "sample_list"
   ]
  },
  {
   "cell_type": "code",
   "execution_count": null,
   "id": "a5f0ab13",
   "metadata": {},
   "outputs": [
    {
     "name": "stdout",
     "output_type": "stream",
     "text": [
      "19\n"
     ]
    }
   ],
   "source": [
    "# del sum ## Python-function decided to act Tough so....\n",
    "\n",
    "# Finding the Sum\n",
    "\n",
    "# sum(sample_list)\n",
    "\n",
    "\n",
    "t_sum = 0\n",
    "for i in sample_list:\n",
    "    t_sum+=i\n",
    "print(t_sum)"
   ]
  },
  {
   "cell_type": "code",
   "execution_count": 43,
   "id": "129bd76e",
   "metadata": {},
   "outputs": [
    {
     "name": "stdout",
     "output_type": "stream",
     "text": [
      "[21, 44, 59, 36, 87, -72, -54, -99, -68, -65]\n",
      "[21, 44, 59, 36, 87]\n"
     ]
    }
   ],
   "source": [
    "# Extracting all the +ve Numbers from a list \n",
    "import random\n",
    "sample_r_list = [random.randint(-100,100) for _ in range(10)]\n",
    "print(sample_r_list) # From this list we are extracting all the positive integer\n",
    "\n",
    "all_pos_number = [x for x in sample_r_list if x > 0]\n",
    "print(all_pos_number)"
   ]
  },
  {
   "cell_type": "code",
   "execution_count": 45,
   "id": "e1cc92de",
   "metadata": {},
   "outputs": [
    {
     "name": "stdout",
     "output_type": "stream",
     "text": [
      "[4, 10, 6, 3, 5, 1, 3, 5, 5, 8]\n"
     ]
    }
   ],
   "source": [
    "# Implement the Linear Search\n",
    "\n",
    "sample_linear_list = [random.randint(1,10) for x in range(10)]\n",
    "print(sample_linear_list)"
   ]
  },
  {
   "cell_type": "code",
   "execution_count": null,
   "id": "1cbc6436",
   "metadata": {},
   "outputs": [
    {
     "name": "stdout",
     "output_type": "stream",
     "text": [
      "Element 5 Found at index position at : 4\n"
     ]
    }
   ],
   "source": [
    "# 1. Sorting the Linear list \n",
    "sample_linear_list.sort()\n",
    "user_inpt = int(input('Enter the number : '))\n",
    "for i in sample_linear_list:\n",
    "    if i == user_inpt:\n",
    "        if sample_linear_list.count(i) >= 1: # Greater will only print Greater than 1, we need the equal to one also no???\n",
    "            \n",
    "            print(f\"Element {i} Found at index position at :\" , sample_linear_list.index(i))\n",
    "        break # Stops & Dosent continue further.."
   ]
  },
  {
   "cell_type": "markdown",
   "id": "6b8313db",
   "metadata": {},
   "source": [
    "Remaining Continues onto Google Colab... Gettig comfy with it "
   ]
  },
  {
   "cell_type": "code",
   "execution_count": null,
   "id": "c455b5cd",
   "metadata": {},
   "outputs": [],
   "source": [
    "# Microsoft \n",
    "\n",
    "# aaaaaaaaabbbbbbbbbcccceeeeeedddddddfffffff\n",
    "# Get it in : number[a]number[b]number[c]number[e]number[d]number[f]"
   ]
  }
 ],
 "metadata": {
  "kernelspec": {
   "display_name": "base",
   "language": "python",
   "name": "python3"
  },
  "language_info": {
   "codemirror_mode": {
    "name": "ipython",
    "version": 3
   },
   "file_extension": ".py",
   "mimetype": "text/x-python",
   "name": "python",
   "nbconvert_exporter": "python",
   "pygments_lexer": "ipython3",
   "version": "3.12.3"
  }
 },
 "nbformat": 4,
 "nbformat_minor": 5
}
