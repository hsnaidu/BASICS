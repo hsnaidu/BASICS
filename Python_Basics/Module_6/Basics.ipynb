{
 "cells": [
  {
   "cell_type": "markdown",
   "metadata": {},
   "source": [
    "FUNCTIONS & RECURSIVE FUNCTIONS"
   ]
  },
  {
   "cell_type": "markdown",
   "metadata": {},
   "source": [
    "a block of code that can be executed n number of times"
   ]
  },
  {
   "cell_type": "markdown",
   "metadata": {},
   "source": [
    "IF YOU WRITE A CODE MORE THAN TWICE MAKE IT A FUNCTION "
   ]
  },
  {
   "cell_type": "code",
   "execution_count": 2,
   "metadata": {},
   "outputs": [
    {
     "name": "stdout",
     "output_type": "stream",
     "text": [
      "30\n",
      "30\n"
     ]
    }
   ],
   "source": [
    "# Assume printing a sum of numbers\n",
    "a = 10\n",
    "b = 20\n",
    "print(a+b)\n",
    "\n",
    "# Or..\n",
    "print(10+20)\n",
    "\n",
    "# This code is useable only once, we need to create a new variable and then pass values "
   ]
  },
  {
   "cell_type": "markdown",
   "metadata": {},
   "source": [
    "Sample Function .."
   ]
  },
  {
   "cell_type": "code",
   "execution_count": 6,
   "metadata": {},
   "outputs": [],
   "source": [
    "def add_two_numbers(number1,number2):\n",
    "    print(number1 + number2)"
   ]
  },
  {
   "cell_type": "code",
   "execution_count": 10,
   "metadata": {},
   "outputs": [
    {
     "name": "stdout",
     "output_type": "stream",
     "text": [
      "30\n",
      "90\n",
      "110\n"
     ]
    }
   ],
   "source": [
    "add_two_numbers(10,20)\n",
    "add_two_numbers(40,50)\n",
    "add_two_numbers(number1=50,number2=60) # You can also do this\n",
    "\n",
    "# Here..\n",
    "# You can reuse the code n times"
   ]
  },
  {
   "cell_type": "markdown",
   "metadata": {},
   "source": [
    "DIFFERENCE BTW A FUNCTION THAT JUST PRINTS AND FUNCTION THAT RETURNS A VALUE"
   ]
  },
  {
   "cell_type": "code",
   "execution_count": 12,
   "metadata": {},
   "outputs": [],
   "source": [
    "# A normal print func..\n",
    "def addSum(number1,number2):\n",
    "    print(number1 + number2)\n",
    "\n",
    "# A function with return..\n",
    "def addSumR(number1,number2):\n",
    "    return number1 + number2"
   ]
  },
  {
   "cell_type": "code",
   "execution_count": 13,
   "metadata": {},
   "outputs": [
    {
     "name": "stdout",
     "output_type": "stream",
     "text": [
      "30\n"
     ]
    },
    {
     "data": {
      "text/plain": [
       "30"
      ]
     },
     "execution_count": 13,
     "metadata": {},
     "output_type": "execute_result"
    }
   ],
   "source": [
    "# Both the functions will print the output..\n",
    "    # But with return function we can store the output into a variable or use for another operations\n",
    "\n",
    "addSum(10,20)\n",
    "addSumR(10,20)"
   ]
  },
  {
   "cell_type": "markdown",
   "metadata": {},
   "source": [
    "Working different case scenario"
   ]
  },
  {
   "cell_type": "code",
   "execution_count": 18,
   "metadata": {},
   "outputs": [
    {
     "name": "stdout",
     "output_type": "stream",
     "text": [
      "30\n",
      "None\n"
     ]
    }
   ],
   "source": [
    "# Assume the function prints a car milage ..\n",
    "car_milage = addSum(10,20)\n",
    "        # Here it just prints a number but cannot be stored into a variable\n",
    "\n",
    "print(car_milage)\n",
    "# This is returning NONE cause it is not returning.. any value"
   ]
  },
  {
   "cell_type": "code",
   "execution_count": 28,
   "metadata": {},
   "outputs": [
    {
     "name": "stdout",
     "output_type": "stream",
     "text": [
      "30\n"
     ]
    }
   ],
   "source": [
    "# Assume the function return a car milage ..\n",
    "car2_milage = addSumR(10,20)\n",
    "\n",
    "print(car2_milage)\n",
    "# I can use this inside another function\n",
    "\n",
    "\n",
    "# NOTE another-function\n",
    "\n",
    "def my_carMilage(carName,carMilage):\n",
    "    print(f\"my car {carName} gives {carMilage}\")"
   ]
  },
  {
   "cell_type": "code",
   "execution_count": 24,
   "metadata": {},
   "outputs": [
    {
     "name": "stdout",
     "output_type": "stream",
     "text": [
      "my car Maruthi gives 30\n",
      "my car KIA gives None\n"
     ]
    }
   ],
   "source": [
    "my_carMilage(\"Maruthi\", car2_milage)\n",
    "# car2_milage is given from the function\n",
    "\n",
    "# When you use a non-return function\n",
    "my_carMilage(\"KIA\", car_milage)"
   ]
  },
  {
   "cell_type": "markdown",
   "metadata": {},
   "source": [
    "OTHER WAYS OF PASSING VALUES TO ARGUMENT"
   ]
  },
  {
   "cell_type": "code",
   "execution_count": 25,
   "metadata": {},
   "outputs": [
    {
     "name": "stdout",
     "output_type": "stream",
     "text": [
      "my car toyota gives 14\n"
     ]
    }
   ],
   "source": [
    "my_carMilage(\"toyota\",addSumR(10,4)) \n",
    "# You can also use this function"
   ]
  },
  {
   "cell_type": "code",
   "execution_count": 27,
   "metadata": {},
   "outputs": [
    {
     "name": "stdout",
     "output_type": "stream",
     "text": [
      "14\n",
      "my car toyota gives None\n"
     ]
    }
   ],
   "source": [
    "my_carMilage(\"toyota\",addSum(10,4)) \n",
    "# Same technique without return function"
   ]
  },
  {
   "cell_type": "code",
   "execution_count": 1,
   "metadata": {},
   "outputs": [],
   "source": [
    "# WAP to find the average of three numbers\n",
    "def average(number1,number2,number3):\n",
    "    return (number1 + number2 + number3) / 3"
   ]
  },
  {
   "cell_type": "code",
   "execution_count": 2,
   "metadata": {},
   "outputs": [
    {
     "data": {
      "text/plain": [
       "2.0"
      ]
     },
     "execution_count": 2,
     "metadata": {},
     "output_type": "execute_result"
    }
   ],
   "source": [
    "average(1,2,3)"
   ]
  },
  {
   "cell_type": "markdown",
   "metadata": {},
   "source": [
    "AVERAGE USING EXCEPTIONAL HANDLING"
   ]
  },
  {
   "cell_type": "code",
   "execution_count": 5,
   "metadata": {},
   "outputs": [],
   "source": [
    "# WAP using the exceptional handling \n",
    "def average(number1,number2,number3):\n",
    "    try:\n",
    "        return (number1+number2+number3) / 3\n",
    "    except Exception as e:\n",
    "        print(e)"
   ]
  },
  {
   "cell_type": "code",
   "execution_count": 7,
   "metadata": {},
   "outputs": [
    {
     "data": {
      "text/plain": [
       "2.3333333333333335"
      ]
     },
     "execution_count": 7,
     "metadata": {},
     "output_type": "execute_result"
    }
   ],
   "source": [
    "average(2,2,3)"
   ]
  },
  {
   "cell_type": "markdown",
   "metadata": {},
   "source": [
    "DEFAULT PARAMETES / ARGUMENTS"
   ]
  },
  {
   "cell_type": "code",
   "execution_count": 8,
   "metadata": {},
   "outputs": [],
   "source": [
    "def age_calculator(age,currentYear = 2024): # here current-year is default parameter\n",
    "    return currentYear - age\n",
    "    "
   ]
  },
  {
   "cell_type": "code",
   "execution_count": 12,
   "metadata": {},
   "outputs": [
    {
     "data": {
      "text/plain": [
       "2000"
      ]
     },
     "execution_count": 12,
     "metadata": {},
     "output_type": "execute_result"
    }
   ],
   "source": [
    "age_calculator(24)\n",
    "# Here i can also give the currentYear but since its already mentioned we dont have to give it "
   ]
  },
  {
   "cell_type": "code",
   "execution_count": null,
   "metadata": {},
   "outputs": [],
   "source": []
  }
 ],
 "metadata": {
  "kernelspec": {
   "display_name": "base",
   "language": "python",
   "name": "python3"
  },
  "language_info": {
   "codemirror_mode": {
    "name": "ipython",
    "version": 3
   },
   "file_extension": ".py",
   "mimetype": "text/x-python",
   "name": "python",
   "nbconvert_exporter": "python",
   "pygments_lexer": "ipython3",
   "version": "3.11.7"
  }
 },
 "nbformat": 4,
 "nbformat_minor": 2
}
