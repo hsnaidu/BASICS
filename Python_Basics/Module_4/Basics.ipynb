{
 "cells": [
  {
   "cell_type": "markdown",
   "metadata": {},
   "source": [
    "DICTIONARY & SETS"
   ]
  },
  {
   "cell_type": "code",
   "execution_count": 47,
   "metadata": {},
   "outputs": [],
   "source": [
    "# They are a set of key-value pair \n",
    "\n",
    "bio = {\n",
    "    'name' : 'Hemanth',\n",
    "    'cgpa' : 9.8,\n",
    "    'Working' : True,\n",
    "    'marks' : [98,99,100,99,98],\n",
    "    18 : True\n",
    "}\n",
    "\n",
    "# The Key can be of data-type : int, string, float "
   ]
  },
  {
   "cell_type": "code",
   "execution_count": 48,
   "metadata": {},
   "outputs": [
    {
     "name": "stdout",
     "output_type": "stream",
     "text": [
      "{'name': 'Hemanth', 'cgpa': 9.8, 'Working': True, 'marks': [98, 99, 100, 99, 98], 18: True}\n"
     ]
    }
   ],
   "source": [
    "print(bio)"
   ]
  },
  {
   "cell_type": "markdown",
   "metadata": {},
   "source": [
    "ACCESSING THE KEY "
   ]
  },
  {
   "cell_type": "code",
   "execution_count": 49,
   "metadata": {},
   "outputs": [
    {
     "name": "stdout",
     "output_type": "stream",
     "text": [
      "Hemanth\n",
      "[98, 99, 100, 99, 98]\n"
     ]
    }
   ],
   "source": [
    "# Accessing the key's\n",
    "print(bio['name'])\n",
    "print(bio['marks'])"
   ]
  },
  {
   "cell_type": "markdown",
   "metadata": {},
   "source": [
    "CHANGING THE VALUE NAMES"
   ]
  },
  {
   "cell_type": "code",
   "execution_count": 50,
   "metadata": {},
   "outputs": [],
   "source": [
    "bio['name'] = 'hariprasad'"
   ]
  },
  {
   "cell_type": "code",
   "execution_count": 51,
   "metadata": {},
   "outputs": [
    {
     "name": "stdout",
     "output_type": "stream",
     "text": [
      "{'name': 'hariprasad', 'cgpa': 9.8, 'Working': True, 'marks': [98, 99, 100, 99, 98], 18: True}\n"
     ]
    }
   ],
   "source": [
    "print(bio)"
   ]
  },
  {
   "cell_type": "markdown",
   "metadata": {},
   "source": [
    "ADDING A NEW KEY-VALUE ELEMENT \n"
   ]
  },
  {
   "cell_type": "code",
   "execution_count": 52,
   "metadata": {},
   "outputs": [],
   "source": [
    "bio['surname'] = 'srinivas'"
   ]
  },
  {
   "cell_type": "code",
   "execution_count": 53,
   "metadata": {},
   "outputs": [
    {
     "name": "stdout",
     "output_type": "stream",
     "text": [
      "{'name': 'hariprasad', 'cgpa': 9.8, 'Working': True, 'marks': [98, 99, 100, 99, 98], 18: True, 'surname': 'srinivas'}\n"
     ]
    }
   ],
   "source": [
    "print(bio)"
   ]
  },
  {
   "cell_type": "markdown",
   "metadata": {},
   "source": [
    "ANOTHER WAY OF CREATING A DICTIONARY"
   ]
  },
  {
   "cell_type": "code",
   "execution_count": 54,
   "metadata": {},
   "outputs": [],
   "source": [
    "info = {} # Initializing a dictionary .. EMPTY DICT.\n",
    "info['Nmae'] = 'Hemanth'\n",
    "info['age'] = 23\n",
    "info['working'] = True"
   ]
  },
  {
   "cell_type": "code",
   "execution_count": 55,
   "metadata": {},
   "outputs": [
    {
     "name": "stdout",
     "output_type": "stream",
     "text": [
      "{'Nmae': 'Hemanth', 'age': 23, 'working': True}\n"
     ]
    }
   ],
   "source": [
    "print(info)"
   ]
  },
  {
   "cell_type": "markdown",
   "metadata": {},
   "source": [
    "NESTED DICTIONARY"
   ]
  },
  {
   "cell_type": "code",
   "execution_count": 56,
   "metadata": {},
   "outputs": [],
   "source": [
    "info['hobbies'] = {\n",
    "    \"music\" : True,\n",
    "    \"Adventure\" : True,\n",
    "}"
   ]
  },
  {
   "cell_type": "code",
   "execution_count": 57,
   "metadata": {},
   "outputs": [
    {
     "name": "stdout",
     "output_type": "stream",
     "text": [
      "{'Nmae': 'Hemanth', 'age': 23, 'working': True, 'hobbies': {'music': True, 'Adventure': True}}\n"
     ]
    }
   ],
   "source": [
    "print(info) # here.. \n",
    "# I have a new dictionary within my dictionary"
   ]
  },
  {
   "cell_type": "code",
   "execution_count": 58,
   "metadata": {},
   "outputs": [
    {
     "name": "stdout",
     "output_type": "stream",
     "text": [
      "{'music': True, 'Adventure': True}\n"
     ]
    }
   ],
   "source": [
    "print(info['hobbies'])"
   ]
  },
  {
   "cell_type": "code",
   "execution_count": 59,
   "metadata": {},
   "outputs": [
    {
     "name": "stdout",
     "output_type": "stream",
     "text": [
      "True\n"
     ]
    }
   ],
   "source": [
    "print(info['hobbies']['music']) # Accessing the key of nested dictionaries "
   ]
  },
  {
   "cell_type": "markdown",
   "metadata": {},
   "source": [
    "DICTIONARY METHODS"
   ]
  },
  {
   "cell_type": "code",
   "execution_count": 60,
   "metadata": {},
   "outputs": [
    {
     "name": "stdout",
     "output_type": "stream",
     "text": [
      "{'name': 'hariprasad', 'cgpa': 9.8, 'Working': True, 'marks': [98, 99, 100, 99, 98], 18: True, 'surname': 'srinivas'}\n"
     ]
    }
   ],
   "source": [
    "print(bio)\n",
    "# Example dict .."
   ]
  },
  {
   "cell_type": "code",
   "execution_count": 61,
   "metadata": {},
   "outputs": [
    {
     "data": {
      "text/plain": [
       "dict_keys(['name', 'cgpa', 'Working', 'marks', 18, 'surname'])"
      ]
     },
     "execution_count": 61,
     "metadata": {},
     "output_type": "execute_result"
    }
   ],
   "source": [
    "# 1. Gives us all the keys..\n",
    "bio.keys()"
   ]
  },
  {
   "cell_type": "code",
   "execution_count": 62,
   "metadata": {},
   "outputs": [
    {
     "data": {
      "text/plain": [
       "dict_values(['hariprasad', 9.8, True, [98, 99, 100, 99, 98], True, 'srinivas'])"
      ]
     },
     "execution_count": 62,
     "metadata": {},
     "output_type": "execute_result"
    }
   ],
   "source": [
    "# 2. Gives us all the values\n",
    "bio.values()"
   ]
  },
  {
   "cell_type": "code",
   "execution_count": 68,
   "metadata": {},
   "outputs": [
    {
     "data": {
      "text/plain": [
       "dict_items([('name', 'hariprasad'), ('cgpa', 9.8), ('Working', True), ('marks', [98, 99, 100, 99, 98]), (18, True), ('surname', 'srinivas')])"
      ]
     },
     "execution_count": 68,
     "metadata": {},
     "output_type": "execute_result"
    }
   ],
   "source": [
    "# 3. Returns all the key-value pair in tuple format\n",
    "bio.items()"
   ]
  },
  {
   "cell_type": "code",
   "execution_count": 78,
   "metadata": {},
   "outputs": [
    {
     "name": "stdout",
     "output_type": "stream",
     "text": [
      "hariprasad\n",
      "hariprasad\n"
     ]
    },
    {
     "ename": "KeyError",
     "evalue": "'name2'",
     "output_type": "error",
     "traceback": [
      "\u001b[1;31m---------------------------------------------------------------------------\u001b[0m",
      "\u001b[1;31mKeyError\u001b[0m                                  Traceback (most recent call last)",
      "Cell \u001b[1;32mIn[78], line 6\u001b[0m\n\u001b[0;32m      3\u001b[0m \u001b[38;5;28mprint\u001b[39m(bio\u001b[38;5;241m.\u001b[39mget(\u001b[38;5;124m\"\u001b[39m\u001b[38;5;124mname\u001b[39m\u001b[38;5;124m\"\u001b[39m))\n\u001b[0;32m      5\u001b[0m \u001b[38;5;66;03m# BUT THE DIFFERENCE IS \u001b[39;00m\n\u001b[1;32m----> 6\u001b[0m \u001b[38;5;28mprint\u001b[39m(bio[\u001b[38;5;124m'\u001b[39m\u001b[38;5;124mname2\u001b[39m\u001b[38;5;124m'\u001b[39m])\n",
      "\u001b[1;31mKeyError\u001b[0m: 'name2'"
     ]
    }
   ],
   "source": [
    "# 4. Get is used to get the key's VALUE\n",
    "print(bio['name'])\n",
    "print(bio.get(\"name\"))\n",
    "\n",
    "# BUT THE DIFFERENCE IS \n",
    "print(bio['name2']) # NOTE ERROR"
   ]
  },
  {
   "cell_type": "code",
   "execution_count": 79,
   "metadata": {},
   "outputs": [
    {
     "name": "stdout",
     "output_type": "stream",
     "text": [
      "None\n"
     ]
    }
   ],
   "source": [
    "print(bio.get(\"name2\")) # This Dosen't show ERROR NOTE"
   ]
  },
  {
   "cell_type": "code",
   "execution_count": 81,
   "metadata": {},
   "outputs": [
    {
     "name": "stdout",
     "output_type": "stream",
     "text": [
      "{'name': 'hariprasad', 'cgpa': 9.8, 'Working': True, 'marks': [98, 99, 100, 99, 98], 18: True, 'surname': 'srinivas'}\n"
     ]
    }
   ],
   "source": [
    "# 5 UPDATE : Here we can apply a new key-value pair\n",
    "print(bio)"
   ]
  },
  {
   "cell_type": "code",
   "execution_count": 84,
   "metadata": {},
   "outputs": [],
   "source": [
    "# bio['hobbies] = True\n",
    "\n",
    "# or we can use this \n",
    "bio.update({\"hobbies\" : True})"
   ]
  },
  {
   "cell_type": "code",
   "execution_count": 85,
   "metadata": {},
   "outputs": [
    {
     "name": "stdout",
     "output_type": "stream",
     "text": [
      "{'name': 'hariprasad', 'cgpa': 9.8, 'Working': True, 'marks': [98, 99, 100, 99, 98], 18: True, 'surname': 'srinivas', 'hobbies': True}\n"
     ]
    }
   ],
   "source": [
    "print(bio)"
   ]
  },
  {
   "cell_type": "markdown",
   "metadata": {},
   "source": [
    "SETS"
   ]
  },
  {
   "cell_type": "code",
   "execution_count": 93,
   "metadata": {},
   "outputs": [
    {
     "name": "stdout",
     "output_type": "stream",
     "text": [
      "{2, 3, 4, 'hello', 'world'}\n",
      "<class 'set'>\n"
     ]
    }
   ],
   "source": [
    "collection = {2,3,4, \"hello\", \"world\"} # Sample set\n",
    "print(collection)\n",
    "print(type(collection))"
   ]
  },
  {
   "cell_type": "markdown",
   "metadata": {},
   "source": [
    "CHECKING FOR DUPLICATE VALUES"
   ]
  },
  {
   "cell_type": "code",
   "execution_count": 96,
   "metadata": {},
   "outputs": [
    {
     "name": "stdout",
     "output_type": "stream",
     "text": [
      "{2, 3, 4, 'hello'}\n",
      "4\n"
     ]
    }
   ],
   "source": [
    "collection = {2,3,4, \"hello\",4,2,3} # Here we have a bunch of duplicate values\n",
    "print(collection) # Duplicate values are ignored \n",
    "\n",
    "print(len(collection)) # Here duplicate values are ignored "
   ]
  },
  {
   "cell_type": "markdown",
   "metadata": {},
   "source": [
    "Creating an empty set"
   ]
  },
  {
   "cell_type": "code",
   "execution_count": 112,
   "metadata": {},
   "outputs": [],
   "source": [
    "collection = set()"
   ]
  },
  {
   "cell_type": "code",
   "execution_count": 113,
   "metadata": {},
   "outputs": [
    {
     "name": "stdout",
     "output_type": "stream",
     "text": [
      "<class 'set'>\n"
     ]
    }
   ],
   "source": [
    "print(type(collection))"
   ]
  },
  {
   "cell_type": "markdown",
   "metadata": {},
   "source": [
    "METHODS OF SET ARE"
   ]
  },
  {
   "cell_type": "code",
   "execution_count": 115,
   "metadata": {},
   "outputs": [
    {
     "name": "stdout",
     "output_type": "stream",
     "text": [
      "{1}\n",
      "{1, 4}\n"
     ]
    }
   ],
   "source": [
    "# 1. ADD - Adding a value to empty set \n",
    "collection.add(1)\n",
    "print(collection)\n",
    "collection.add(4)\n",
    "print(collection)"
   ]
  },
  {
   "cell_type": "code",
   "execution_count": 116,
   "metadata": {},
   "outputs": [
    {
     "name": "stdout",
     "output_type": "stream",
     "text": [
      "{4}\n"
     ]
    }
   ],
   "source": [
    "# 2. REMOVE - Removing a values from a set\n",
    "collection.remove(1)\n",
    "print(collection)"
   ]
  },
  {
   "cell_type": "code",
   "execution_count": 135,
   "metadata": {},
   "outputs": [
    {
     "ename": "KeyError",
     "evalue": "11",
     "output_type": "error",
     "traceback": [
      "\u001b[1;31m---------------------------------------------------------------------------\u001b[0m",
      "\u001b[1;31mKeyError\u001b[0m                                  Traceback (most recent call last)",
      "Cell \u001b[1;32mIn[135], line 1\u001b[0m\n\u001b[1;32m----> 1\u001b[0m collection\u001b[38;5;241m.\u001b[39mremove(\u001b[38;5;241m11\u001b[39m) \u001b[38;5;66;03m# ERROR when you remove an unknown element \u001b[39;00m\n\u001b[0;32m      2\u001b[0m \u001b[38;5;28mprint\u001b[39m(collection)\n",
      "\u001b[1;31mKeyError\u001b[0m: 11"
     ]
    }
   ],
   "source": [
    "collection.remove(11) # ERROR when you remove an unknown element \n",
    "print(collection)"
   ]
  },
  {
   "cell_type": "code",
   "execution_count": 128,
   "metadata": {},
   "outputs": [],
   "source": [
    "collection.add(2)\n",
    "collection.add(21)\n",
    "collection.add(22)"
   ]
  },
  {
   "cell_type": "code",
   "execution_count": 129,
   "metadata": {},
   "outputs": [
    {
     "data": {
      "text/plain": [
       "21"
      ]
     },
     "execution_count": 129,
     "metadata": {},
     "output_type": "execute_result"
    }
   ],
   "source": [
    "# 3. Pop - Remove an element from set RANDOMLY\n",
    "collection.pop()"
   ]
  },
  {
   "cell_type": "code",
   "execution_count": 130,
   "metadata": {},
   "outputs": [
    {
     "name": "stdout",
     "output_type": "stream",
     "text": [
      "{2, 22}\n"
     ]
    }
   ],
   "source": [
    "print(collection)"
   ]
  },
  {
   "cell_type": "code",
   "execution_count": 133,
   "metadata": {},
   "outputs": [],
   "source": [
    "# 4. CLEAR - Removes all the element in the set completely\n",
    "collection.clear()"
   ]
  },
  {
   "cell_type": "code",
   "execution_count": 132,
   "metadata": {},
   "outputs": [
    {
     "name": "stdout",
     "output_type": "stream",
     "text": [
      "set()\n"
     ]
    }
   ],
   "source": [
    "print(collection)"
   ]
  },
  {
   "cell_type": "markdown",
   "metadata": {},
   "source": [
    "If you try to add a list into a set you get an ERROR"
   ]
  },
  {
   "cell_type": "markdown",
   "metadata": {},
   "source": [
    "UNION AND INTERSECTION"
   ]
  },
  {
   "cell_type": "code",
   "execution_count": 136,
   "metadata": {},
   "outputs": [],
   "source": [
    "set1 = {1,2,3}\n",
    "set2 = {4,5}"
   ]
  },
  {
   "cell_type": "code",
   "execution_count": 137,
   "metadata": {},
   "outputs": [
    {
     "name": "stdout",
     "output_type": "stream",
     "text": [
      "{1, 2, 3}\n",
      "{4, 5}\n"
     ]
    }
   ],
   "source": [
    "print(set1)\n",
    "print(set2)"
   ]
  },
  {
   "cell_type": "markdown",
   "metadata": {},
   "source": [
    "UNION"
   ]
  },
  {
   "cell_type": "code",
   "execution_count": 139,
   "metadata": {},
   "outputs": [
    {
     "data": {
      "text/plain": [
       "{1, 2, 3, 4, 5}"
      ]
     },
     "execution_count": 139,
     "metadata": {},
     "output_type": "execute_result"
    }
   ],
   "source": [
    "# Applying the Union function ..\n",
    "set1.union(set2)"
   ]
  },
  {
   "cell_type": "code",
   "execution_count": 140,
   "metadata": {},
   "outputs": [
    {
     "data": {
      "text/plain": [
       "set()"
      ]
     },
     "execution_count": 140,
     "metadata": {},
     "output_type": "execute_result"
    }
   ],
   "source": [
    "# Applying the Intersection Function ..\n",
    "set1.intersection(set2)"
   ]
  },
  {
   "cell_type": "markdown",
   "metadata": {},
   "source": [
    "INTERSECTION"
   ]
  },
  {
   "cell_type": "code",
   "execution_count": 144,
   "metadata": {},
   "outputs": [
    {
     "data": {
      "text/plain": [
       "{4, 7, 9}"
      ]
     },
     "execution_count": 144,
     "metadata": {},
     "output_type": "execute_result"
    }
   ],
   "source": [
    "set1 = {4,5,9,6,7,8}\n",
    "set2 = {4,15,9,16,7,18}\n",
    "set1.intersection(set2)\n",
    "# here 4,7,9 is common in both the set"
   ]
  },
  {
   "cell_type": "markdown",
   "metadata": {},
   "source": [
    "PRACTICE"
   ]
  },
  {
   "cell_type": "code",
   "execution_count": 146,
   "metadata": {},
   "outputs": [
    {
     "name": "stdout",
     "output_type": "stream",
     "text": [
      "{'table': ['a piece of furniture', 'list of facts & figures'], 'cat': 'a small animal'}\n"
     ]
    }
   ],
   "source": [
    "# WAP Store the following word meaning in a python dictionary\n",
    "dictionary = {\n",
    "    'table' : ['a piece of furniture', 'list of facts & figures'],\n",
    "    'cat' : 'a small animal'\n",
    "}\n",
    "print(dictionary)"
   ]
  },
  {
   "cell_type": "code",
   "execution_count": 151,
   "metadata": {},
   "outputs": [
    {
     "name": "stdout",
     "output_type": "stream",
     "text": [
      "{'C', 'javascript', 'java', 'C++', 'python'}\n"
     ]
    }
   ],
   "source": [
    "subjects = {'python','java','C++','python','javascript','python','java','C++','C'}\n",
    "print(subjects)"
   ]
  },
  {
   "cell_type": "markdown",
   "metadata": {},
   "source": [
    "OR"
   ]
  },
  {
   "cell_type": "code",
   "execution_count": 150,
   "metadata": {},
   "outputs": [
    {
     "data": {
      "text/plain": [
       "{'C', 'C++', 'java', 'javascript', 'python'}"
      ]
     },
     "execution_count": 150,
     "metadata": {},
     "output_type": "execute_result"
    }
   ],
   "source": [
    "# WAP where you are given a list of subjects for students. Assume one classroom is required for 1 subject. How many classrooms are needed by all subjects \n",
    "subject_set_one = {'python','java','C++','python','javascript'}\n",
    "subject_set_two = {'python','java','C++','C'}\n",
    "\n",
    "# Here I am using union cause, I only need the common subjects in both the set\n",
    "subject_set_one.union(subject_set_two)\n",
    "    # NOTE Intersection only gives which is common in both , but union will combine both and removes the duplicate"
   ]
  },
  {
   "cell_type": "code",
   "execution_count": 153,
   "metadata": {},
   "outputs": [
    {
     "name": "stdout",
     "output_type": "stream",
     "text": [
      "{'ENGLISH': 98, 'MATHS': 100, 'SCIENCE': 97, 'COMPUTER-SCIENCE': 99}\n"
     ]
    }
   ],
   "source": [
    "# WAP TO ADD MARKS AND SUBJECTS OF STUDENT WHERE subject-name is key and marks is value\n",
    "student = {}\n",
    "student['ENGLISH'] = 98\n",
    "student['MATHS'] = 100\n",
    "student['SCIENCE'] = 97\n",
    "student['COMPUTER-SCIENCE'] = 99\n",
    "print(student)"
   ]
  },
  {
   "cell_type": "code",
   "execution_count": 157,
   "metadata": {},
   "outputs": [
    {
     "name": "stdout",
     "output_type": "stream",
     "text": [
      "{'english': 89, 'computer': 99, 'math': 99}\n"
     ]
    }
   ],
   "source": [
    "# ANOTHER-WAY OF ADDING \n",
    "marks_list = {}\n",
    "for i in range(3):\n",
    "    subject_name = input('Enter the subject name : ')\n",
    "    subject_marks = int(input('Enter Marks'))\n",
    "    marks_list[subject_name] = subject_marks\n",
    "print(marks_list)"
   ]
  },
  {
   "cell_type": "code",
   "execution_count": 158,
   "metadata": {},
   "outputs": [
    {
     "name": "stdout",
     "output_type": "stream",
     "text": [
      "{'english': 89, 'computer': 99, 'math': 99, 'science': 90}\n"
     ]
    }
   ],
   "source": [
    "marks_list.update({'science' : 90})\n",
    "print(marks_list)"
   ]
  },
  {
   "cell_type": "code",
   "execution_count": 159,
   "metadata": {},
   "outputs": [
    {
     "name": "stdout",
     "output_type": "stream",
     "text": [
      "{9}\n"
     ]
    }
   ],
   "source": [
    "# WAP to save 9 and 9.0 in a set, Not possible unless you make 9.0 to a string cause set will remove duplicates.\n",
    "value = {9,9.0}\n",
    "print(value)"
   ]
  },
  {
   "cell_type": "code",
   "execution_count": 160,
   "metadata": {},
   "outputs": [
    {
     "name": "stdout",
     "output_type": "stream",
     "text": [
      "{'9.0', 9}\n"
     ]
    }
   ],
   "source": [
    "value = {9, \"9.0\"}\n",
    "print(value)"
   ]
  },
  {
   "cell_type": "markdown",
   "metadata": {},
   "source": [
    "OR"
   ]
  },
  {
   "cell_type": "code",
   "execution_count": 161,
   "metadata": {},
   "outputs": [
    {
     "name": "stdout",
     "output_type": "stream",
     "text": [
      "{('int', 9), ('float', 9.0)}\n"
     ]
    }
   ],
   "source": [
    "values = {\n",
    "    (\"float\", 9.0),\n",
    "    (\"int\",  9)\n",
    "}\n",
    "print(values)"
   ]
  },
  {
   "cell_type": "code",
   "execution_count": null,
   "metadata": {},
   "outputs": [],
   "source": []
  }
 ],
 "metadata": {
  "kernelspec": {
   "display_name": "base",
   "language": "python",
   "name": "python3"
  },
  "language_info": {
   "codemirror_mode": {
    "name": "ipython",
    "version": 3
   },
   "file_extension": ".py",
   "mimetype": "text/x-python",
   "name": "python",
   "nbconvert_exporter": "python",
   "pygments_lexer": "ipython3",
   "version": "3.11.7"
  }
 },
 "nbformat": 4,
 "nbformat_minor": 2
}
