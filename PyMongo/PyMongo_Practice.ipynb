{
 "cells": [
  {
   "cell_type": "code",
   "execution_count": 1,
   "id": "93df148a",
   "metadata": {},
   "outputs": [
    {
     "name": "stdout",
     "output_type": "stream",
     "text": [
      "3.12.7 | packaged by Anaconda, Inc. | (main, Oct  4 2024, 13:17:27) [MSC v.1929 64 bit (AMD64)]\n"
     ]
    }
   ],
   "source": [
    "from sys import version\n",
    "print(version)"
   ]
  },
  {
   "cell_type": "code",
   "execution_count": 2,
   "id": "035520f5",
   "metadata": {},
   "outputs": [],
   "source": [
    "import pymongo\n",
    "from pymongo import MongoClient\n",
    "conn = MongoClient('mongodb://localhost:27017/') # Initiating the connection"
   ]
  },
  {
   "cell_type": "code",
   "execution_count": 3,
   "id": "20227b7a",
   "metadata": {},
   "outputs": [
    {
     "name": "stdout",
     "output_type": "stream",
     "text": [
      "['admin', 'config', 'local', 'msr_college']\n"
     ]
    }
   ],
   "source": [
    "# Accessing the existing datase\n",
    "print(conn.list_database_names())\n",
    "\n",
    "# List of data-base names"
   ]
  },
  {
   "cell_type": "code",
   "execution_count": 4,
   "id": "9eb8096d",
   "metadata": {},
   "outputs": [],
   "source": [
    "# From this i need to access msr_college\n",
    "db = conn['msr_college']"
   ]
  },
  {
   "cell_type": "code",
   "execution_count": 5,
   "id": "c228974b",
   "metadata": {},
   "outputs": [
    {
     "name": "stdout",
     "output_type": "stream",
     "text": [
      "['new', 'users', 'bca', 'bsc']\n"
     ]
    }
   ],
   "source": [
    "# Accessing the collections\n",
    "print(db.list_collection_names())\n",
    "\n",
    "# List of Collection Names"
   ]
  },
  {
   "cell_type": "code",
   "execution_count": 6,
   "id": "3483f9c9",
   "metadata": {},
   "outputs": [],
   "source": [
    "bca = db.bca # Taking the `bca` collection\n",
    "bsc = db.bsc # `bsc` colleciton"
   ]
  },
  {
   "cell_type": "markdown",
   "id": "405b4f3f",
   "metadata": {},
   "source": [
    "1. Extracting info."
   ]
  },
  {
   "cell_type": "code",
   "execution_count": 7,
   "id": "fe55cd0c",
   "metadata": {},
   "outputs": [
    {
     "data": {
      "text/plain": [
       "{'_id': 1,\n",
       " 'name': 'HARI',\n",
       " 'l_name': 'prasad',\n",
       " 'pass': 1,\n",
       " 'score': 8.9,\n",
       " 'Graduate': ['true', 'true']}"
      ]
     },
     "execution_count": 7,
     "metadata": {},
     "output_type": "execute_result"
    }
   ],
   "source": [
    "bca.find_one({})"
   ]
  },
  {
   "cell_type": "code",
   "execution_count": 8,
   "id": "29a0a30c",
   "metadata": {},
   "outputs": [
    {
     "data": {
      "text/plain": [
       "{'_id': 10, 'name': 'poonam', 'l_name': 'chauhan', 'pass': 1, 'score': 9.3}"
      ]
     },
     "execution_count": 8,
     "metadata": {},
     "output_type": "execute_result"
    }
   ],
   "source": [
    "bsc.find_one({'_id' : 10})"
   ]
  },
  {
   "cell_type": "markdown",
   "id": "b4e1494c",
   "metadata": {},
   "source": [
    "2. Extracting all the collection : documents"
   ]
  },
  {
   "cell_type": "code",
   "execution_count": 9,
   "id": "4ff5c942",
   "metadata": {},
   "outputs": [
    {
     "name": "stdout",
     "output_type": "stream",
     "text": [
      "{'_id': 1, 'name': 'HARI', 'l_name': 'prasad', 'pass': 1, 'score': 8.9, 'Graduate': ['true', 'true']}\n",
      "{'_id': 2, 'name': 'anita', 'l_name': 'kumar', 'pass': 0, 'score': 4.3}\n",
      "{'_id': 3, 'name': 'raj', 'l_name': 'mehta', 'pass': 1, 'score': 7.2}\n",
      "{'_id': 4, 'name': 'sita', 'l_name': 'verma', 'pass': 1, 'score': 9.1}\n",
      "{'_id': 5, 'name': 'vinay', 'l_name': 'singh', 'pass': 0, 'score': 5}\n"
     ]
    }
   ],
   "source": [
    "for i in bca.find({}).limit(5):\n",
    "    # Limiting cause > 30 rows\n",
    "    print(i)"
   ]
  },
  {
   "cell_type": "code",
   "execution_count": 10,
   "id": "c99e618d",
   "metadata": {},
   "outputs": [
    {
     "name": "stdout",
     "output_type": "stream",
     "text": [
      "{'_id': 1, 'name': 'hariprasad', 'l_name': ['prasad']}\n",
      "{'_id': 2, 'name': 'anita', 'l_name': 'kumar', 'pass': 0, 'score': 4.3}\n",
      "{'_id': 3, 'name': 'raj', 'l_name': 'mehta', 'pass': 1, 'score': 7.2}\n"
     ]
    }
   ],
   "source": [
    "for i in bsc.find({}).limit(3):\n",
    "    print(i)"
   ]
  },
  {
   "cell_type": "markdown",
   "id": "14dddd5f",
   "metadata": {},
   "source": [
    "3. Deleting the un-wanted result"
   ]
  },
  {
   "cell_type": "code",
   "execution_count": 11,
   "id": "db75a2ee",
   "metadata": {},
   "outputs": [
    {
     "data": {
      "text/plain": [
       "DeleteResult({'n': 0, 'ok': 1.0}, acknowledged=True)"
      ]
     },
     "execution_count": 11,
     "metadata": {},
     "output_type": "execute_result"
    }
   ],
   "source": [
    "bsc.delete_one({'title' : 'some-comment'})\n",
    "\n",
    "# Do not use _id : objectId, just use some unique variable.."
   ]
  },
  {
   "cell_type": "code",
   "execution_count": 12,
   "id": "81b09b64",
   "metadata": {},
   "outputs": [
    {
     "name": "stdout",
     "output_type": "stream",
     "text": [
      "{'_id': 1, 'name': 'hariprasad', 'l_name': ['prasad']}\n",
      "{'_id': 2, 'name': 'anita', 'l_name': 'kumar', 'pass': 0, 'score': 4.3}\n",
      "{'_id': 3, 'name': 'raj', 'l_name': 'mehta', 'pass': 1, 'score': 7.2}\n"
     ]
    }
   ],
   "source": [
    "for i in bsc.find({}).limit(3): print(i)"
   ]
  },
  {
   "cell_type": "markdown",
   "id": "204bb675",
   "metadata": {},
   "source": [
    "4. Accessing the other collection as well"
   ]
  },
  {
   "cell_type": "code",
   "execution_count": 13,
   "id": "7c2adfa3",
   "metadata": {},
   "outputs": [],
   "source": [
    "users = db.users"
   ]
  },
  {
   "cell_type": "code",
   "execution_count": 14,
   "id": "e20040de",
   "metadata": {},
   "outputs": [
    {
     "name": "stdout",
     "output_type": "stream",
     "text": [
      "{'_id': ObjectId('67f7c44373795588e816c9bd'), 'name': 'hari', 'l_name': 'Prasad', 'hobbies': ['Photography', 'music', 'GenAI']}\n",
      "{'_id': ObjectId('67f7c6aa73795588e816c9be'), 'name': 'gagan', 'hobbies': ['Photography', 'music', 'GenAI', 'Landscape Photography']}\n",
      "{'_id': ObjectId('67f7c6aa73795588e816c9bf'), 'name': 'yuktha', 'hobbies': ['student']}\n",
      "{'_id': ObjectId('67f7c6aa73795588e816c9c0'), 'name': 'vishal', 'hobbies': ['Photography', 'music', 'GenAI', 'Gamer']}\n"
     ]
    }
   ],
   "source": [
    "for i in users.find({}):\n",
    "    print(i)"
   ]
  },
  {
   "cell_type": "markdown",
   "id": "430d3dbd",
   "metadata": {},
   "source": [
    "5. Adding a new colleciton"
   ]
  },
  {
   "cell_type": "code",
   "execution_count": 15,
   "id": "9bf9cd4e",
   "metadata": {},
   "outputs": [
    {
     "data": {
      "text/plain": [
       "['new', 'users', 'bca', 'bsc']"
      ]
     },
     "execution_count": 15,
     "metadata": {},
     "output_type": "execute_result"
    }
   ],
   "source": [
    "db.list_collection_names()"
   ]
  },
  {
   "cell_type": "code",
   "execution_count": 16,
   "id": "5d3665c3",
   "metadata": {},
   "outputs": [],
   "source": [
    "new = db['new'] # Added a new-collection"
   ]
  },
  {
   "cell_type": "code",
   "execution_count": 17,
   "id": "7b338857",
   "metadata": {},
   "outputs": [
    {
     "data": {
      "text/plain": [
       "InsertOneResult(ObjectId('6801395c31a399636ab464c2'), acknowledged=True)"
      ]
     },
     "execution_count": 17,
     "metadata": {},
     "output_type": "execute_result"
    }
   ],
   "source": [
    "new.insert_one({\"name\" : 'hari', 'l_name' : 'prasad', 'cgpa' : 9})"
   ]
  },
  {
   "cell_type": "code",
   "execution_count": 18,
   "id": "9d3c3b5f",
   "metadata": {},
   "outputs": [
    {
     "data": {
      "text/plain": [
       "['new', 'users', 'bca', 'bsc']"
      ]
     },
     "execution_count": 18,
     "metadata": {},
     "output_type": "execute_result"
    }
   ],
   "source": [
    "db.list_collection_names()"
   ]
  },
  {
   "cell_type": "code",
   "execution_count": 19,
   "id": "da75b736",
   "metadata": {},
   "outputs": [
    {
     "name": "stdout",
     "output_type": "stream",
     "text": [
      "{'_id': ObjectId('67fa1d54b175dfe5f15b38d4'), 'name': 'hari', 'l_name': 'prasad', 'cgpa': 9}\n",
      "{'_id': ObjectId('6801395c31a399636ab464c2'), 'name': 'hari', 'l_name': 'prasad', 'cgpa': 9}\n"
     ]
    }
   ],
   "source": [
    "for i in new.find({}):\n",
    "    print(i)"
   ]
  },
  {
   "cell_type": "code",
   "execution_count": 20,
   "id": "2889fd03",
   "metadata": {},
   "outputs": [
    {
     "data": {
      "text/plain": [
       "DeleteResult({'n': 1, 'ok': 1.0}, acknowledged=True)"
      ]
     },
     "execution_count": 20,
     "metadata": {},
     "output_type": "execute_result"
    }
   ],
   "source": [
    "new.delete_one({'name': 'hari'})"
   ]
  },
  {
   "cell_type": "code",
   "execution_count": 21,
   "id": "858daacb",
   "metadata": {},
   "outputs": [
    {
     "name": "stdout",
     "output_type": "stream",
     "text": [
      "{'_id': ObjectId('6801395c31a399636ab464c2'), 'name': 'hari', 'l_name': 'prasad', 'cgpa': 9}\n"
     ]
    }
   ],
   "source": [
    "for i in new.find({}):\n",
    "    print(i)"
   ]
  },
  {
   "cell_type": "markdown",
   "id": "05147000",
   "metadata": {},
   "source": [
    "6. Adding the Logical Operator : $eq, $gt, $lt, $and, $or, $lte, $gte"
   ]
  },
  {
   "cell_type": "markdown",
   "id": "ad76955d",
   "metadata": {},
   "source": [
    "$gt"
   ]
  },
  {
   "cell_type": "code",
   "execution_count": 22,
   "id": "b50bdccf",
   "metadata": {},
   "outputs": [
    {
     "name": "stdout",
     "output_type": "stream",
     "text": [
      "{'name': 'HARI'}\n",
      "{'name': 'aman'}\n",
      "{'name': 'arun'}\n",
      "{'name': 'deepa'}\n",
      "{'name': 'dinesh'}\n"
     ]
    }
   ],
   "source": [
    "# Here we are taking BCA\n",
    "\n",
    "# filter var -- target var\n",
    "for i in bca.find(\n",
    "    {'score' : {'$gt' : 5}}, {'name' : 1, '_id' : 0}\n",
    ").limit(5).sort({'name' : 1}):\n",
    "    print(i)"
   ]
  },
  {
   "cell_type": "markdown",
   "id": "b503cb7b",
   "metadata": {},
   "source": [
    "$lt"
   ]
  },
  {
   "cell_type": "code",
   "execution_count": 23,
   "id": "579192ba",
   "metadata": {},
   "outputs": [
    {
     "name": "stdout",
     "output_type": "stream",
     "text": [
      "{'name': 'dev'}\n",
      "{'name': 'neha'}\n",
      "{'name': 'radha'}\n"
     ]
    }
   ],
   "source": [
    "for i in bca.find({'score' : {'$lt' : 5}}, {'name' : 1, '_id' : 0}).limit(3).sort({'score': 1}):\n",
    "    print(i)"
   ]
  },
  {
   "cell_type": "markdown",
   "id": "9f3ef0c7",
   "metadata": {},
   "source": [
    "7. Logical Operator"
   ]
  },
  {
   "cell_type": "markdown",
   "id": "683616d5",
   "metadata": {},
   "source": [
    "$and"
   ]
  },
  {
   "cell_type": "code",
   "execution_count": 24,
   "id": "f46bf63f",
   "metadata": {},
   "outputs": [
    {
     "name": "stdout",
     "output_type": "stream",
     "text": [
      "{'name': 'manoj', 'score': 6.2}\n",
      "{'name': 'nilesh', 'score': 6.3}\n",
      "{'name': 'karan', 'score': 6.7}\n",
      "{'name': 'arun', 'score': 6.8}\n",
      "{'name': 'lokesh', 'score': 6.9}\n",
      "{'name': 'kiran', 'score': 7.1}\n",
      "{'name': 'raj', 'score': 7.2}\n",
      "{'name': 'swati', 'score': 7.3}\n",
      "{'name': 'aman', 'score': 7.5}\n",
      "{'name': 'dinesh', 'score': 7.6}\n",
      "{'name': 'rekha', 'score': 7.9}\n",
      "{'name': 'meena', 'score': 8.1}\n",
      "{'name': 'deepa', 'score': 8.4}\n",
      "{'name': 'vikas', 'score': 8.7}\n",
      "{'name': 'tina', 'score': 8.8}\n",
      "{'name': 'HARI', 'score': 8.9}\n",
      "{'name': 'priya', 'score': 9}\n",
      "{'name': 'sita', 'score': 9.1}\n",
      "{'name': 'ravi', 'score': 9.2}\n",
      "{'name': 'poonam', 'score': 9.3}\n"
     ]
    }
   ],
   "source": [
    "for i in bca.find({'$and' : [{'pass' : {'$eq' : 1}}, {'score' : {'$gt' : 5}}]}, {'name' : 1, '_id' : 0, 'score' : 1}).sort({'score' : 1}):\n",
    "    print(i)"
   ]
  },
  {
   "cell_type": "markdown",
   "id": "e33d481f",
   "metadata": {},
   "source": [
    "$or"
   ]
  },
  {
   "cell_type": "code",
   "execution_count": 25,
   "id": "9cf45b7b",
   "metadata": {},
   "outputs": [
    {
     "name": "stdout",
     "output_type": "stream",
     "text": [
      "{'name': 'dev', 'score': 3.5}\n",
      "{'name': 'neha', 'score': 3.9}\n",
      "{'name': 'radha', 'score': 4}\n",
      "{'name': 'anushka', 'score': 4.2}\n",
      "{'name': 'anita', 'score': 4.3}\n"
     ]
    }
   ],
   "source": [
    "for i in bca.find({'$or' : [{'pass' : {'$eq' : 1}}, {'score' : {'$lt' : 5}}]}, {'name' : 1, '_id' : 0, 'score' : 1}).sort({'score' : 1}).limit(5):\n",
    "    print(i)\n",
    "\n",
    "# Either one of the condition is accepted.."
   ]
  },
  {
   "cell_type": "markdown",
   "id": "b53e1bde",
   "metadata": {},
   "source": [
    "7. Update Element"
   ]
  },
  {
   "cell_type": "code",
   "execution_count": 26,
   "metadata": {},
   "outputs": [],
   "source": [
    "# Lets do for 1 \n",
    "\n",
    "# 1. $set -- Edit Function\n",
    "# 2. $push -- Append-Operation"
   ]
  },
  {
   "cell_type": "code",
   "execution_count": 27,
   "id": "1ed40f6e",
   "metadata": {},
   "outputs": [
    {
     "data": {
      "text/plain": [
       "{'_id': 1,\n",
       " 'name': 'HARI',\n",
       " 'l_name': 'prasad',\n",
       " 'pass': 1,\n",
       " 'score': 8.9,\n",
       " 'Graduate': ['true', 'true']}"
      ]
     },
     "execution_count": 27,
     "metadata": {},
     "output_type": "execute_result"
    }
   ],
   "source": [
    "bca.find_one({})"
   ]
  },
  {
   "cell_type": "markdown",
   "id": "c8ffc854",
   "metadata": {},
   "source": [
    "$set"
   ]
  },
  {
   "cell_type": "code",
   "execution_count": 28,
   "id": "a15b3c8d",
   "metadata": {},
   "outputs": [
    {
     "data": {
      "text/plain": [
       "UpdateResult({'n': 1, 'nModified': 0, 'ok': 1.0, 'updatedExisting': True}, acknowledged=True)"
      ]
     },
     "execution_count": 28,
     "metadata": {},
     "output_type": "execute_result"
    }
   ],
   "source": [
    "bca.update_one({'_id' : 1}, {'$set' : {'name' : 'HARI'}})"
   ]
  },
  {
   "cell_type": "code",
   "execution_count": 29,
   "id": "ee435dcb",
   "metadata": {},
   "outputs": [
    {
     "data": {
      "text/plain": [
       "{'_id': 1,\n",
       " 'name': 'HARI',\n",
       " 'l_name': 'prasad',\n",
       " 'pass': 1,\n",
       " 'score': 8.9,\n",
       " 'Graduate': ['true', 'true']}"
      ]
     },
     "execution_count": 29,
     "metadata": {},
     "output_type": "execute_result"
    }
   ],
   "source": [
    "bca.find_one()"
   ]
  },
  {
   "cell_type": "markdown",
   "id": "2e4578c2",
   "metadata": {},
   "source": [
    "$push"
   ]
  },
  {
   "cell_type": "code",
   "execution_count": 30,
   "id": "e9fc86c8",
   "metadata": {},
   "outputs": [
    {
     "data": {
      "text/plain": [
       "UpdateResult({'n': 1, 'nModified': 1, 'ok': 1.0, 'updatedExisting': True}, acknowledged=True)"
      ]
     },
     "execution_count": 30,
     "metadata": {},
     "output_type": "execute_result"
    }
   ],
   "source": [
    "bca.update_one({'_id' : 1}, {'$push' : {'Graduate' : 'true'}})"
   ]
  },
  {
   "cell_type": "code",
   "execution_count": 31,
   "metadata": {},
   "outputs": [
    {
     "data": {
      "text/plain": [
       "{'_id': 1,\n",
       " 'name': 'HARI',\n",
       " 'l_name': 'prasad',\n",
       " 'pass': 1,\n",
       " 'score': 8.9,\n",
       " 'Graduate': ['true', 'true', 'true']}"
      ]
     },
     "execution_count": 31,
     "metadata": {},
     "output_type": "execute_result"
    }
   ],
   "source": [
    "bca.find_one({}) # This $push the variabel into a list "
   ]
  },
  {
   "cell_type": "markdown",
   "id": "b3747c82",
   "metadata": {},
   "source": [
    "8. $in Operation : Used in array"
   ]
  },
  {
   "cell_type": "code",
   "execution_count": 32,
   "id": "b9d17e69",
   "metadata": {},
   "outputs": [
    {
     "data": {
      "text/plain": [
       "{'_id': ObjectId('67f7c44373795588e816c9bd'),\n",
       " 'name': 'hari',\n",
       " 'l_name': 'Prasad',\n",
       " 'hobbies': ['Photography', 'music', 'GenAI']}"
      ]
     },
     "execution_count": 32,
     "metadata": {},
     "output_type": "execute_result"
    }
   ],
   "source": [
    "users.find_one()"
   ]
  },
  {
   "cell_type": "markdown",
   "id": "984031c6",
   "metadata": {},
   "source": [
    "Using the $in operation"
   ]
  },
  {
   "cell_type": "code",
   "execution_count": 33,
   "id": "32a29ea4",
   "metadata": {},
   "outputs": [
    {
     "name": "stdout",
     "output_type": "stream",
     "text": [
      "{'_id': ObjectId('67f7c44373795588e816c9bd'), 'name': 'hari', 'l_name': 'Prasad', 'hobbies': ['Photography', 'music', 'GenAI']}\n",
      "{'_id': ObjectId('67f7c6aa73795588e816c9be'), 'name': 'gagan', 'hobbies': ['Photography', 'music', 'GenAI', 'Landscape Photography']}\n",
      "{'_id': ObjectId('67f7c6aa73795588e816c9bf'), 'name': 'yuktha', 'hobbies': ['student']}\n",
      "{'_id': ObjectId('67f7c6aa73795588e816c9c0'), 'name': 'vishal', 'hobbies': ['Photography', 'music', 'GenAI', 'Gamer']}\n"
     ]
    }
   ],
   "source": [
    "for i in users.find({}):\n",
    "    print(i)"
   ]
  },
  {
   "cell_type": "code",
   "execution_count": 34,
   "id": "c06deff3",
   "metadata": {},
   "outputs": [
    {
     "name": "stdout",
     "output_type": "stream",
     "text": [
      "{'_id': ObjectId('67f7c44373795588e816c9bd'), 'name': 'hari', 'l_name': 'Prasad', 'hobbies': ['Photography', 'music', 'GenAI']}\n"
     ]
    }
   ],
   "source": [
    "for i in users.find({'hobbies': { '$in': ['GenAI','music']}}).limit(1): print(i)"
   ]
  },
  {
   "cell_type": "code",
   "execution_count": 35,
   "id": "5fffe97e",
   "metadata": {},
   "outputs": [],
   "source": [
    "# Then you have aggregate and del. function.."
   ]
  },
  {
   "cell_type": "code",
   "execution_count": null,
   "id": "f99055fa",
   "metadata": {},
   "outputs": [],
   "source": []
  },
  {
   "cell_type": "markdown",
   "id": "dd37c3ea",
   "metadata": {},
   "source": [
    "18/04/2025 -- Practice for mongodb"
   ]
  },
  {
   "cell_type": "code",
   "execution_count": null,
   "id": "4490d542",
   "metadata": {},
   "outputs": [
    {
     "data": {
      "text/plain": [
       "['Movie_Review', 'admin', 'config', 'local', 'msr_college']"
      ]
     },
     "execution_count": 35,
     "metadata": {},
     "output_type": "execute_result"
    }
   ],
   "source": [
    "import pymongo\n",
    "from pymongo import MongoClient\n",
    "import random\n",
    "\n",
    "conn =  MongoClient('mongodb://localhost:27017/') # Initiating the connection\n",
    "conn.list_database_names()"
   ]
  },
  {
   "cell_type": "code",
   "execution_count": 36,
   "id": "d0504d8c",
   "metadata": {},
   "outputs": [],
   "source": [
    "db = conn['Movie_Review']\n",
    "# Creating a DB Movie_Review"
   ]
  },
  {
   "cell_type": "code",
   "execution_count": 37,
   "id": "6023d864",
   "metadata": {},
   "outputs": [
    {
     "data": {
      "text/plain": [
       "['Movie_Review', 'admin', 'config', 'local', 'msr_college']"
      ]
     },
     "execution_count": 37,
     "metadata": {},
     "output_type": "execute_result"
    }
   ],
   "source": [
    "conn.list_database_names()"
   ]
  },
  {
   "cell_type": "code",
   "execution_count": 38,
   "id": "cb7ef059",
   "metadata": {},
   "outputs": [],
   "source": [
    "review = db['Reviews']\n",
    "# Creatig a Collection called Reviews inside Movie_Review and assigning it to a variable review"
   ]
  },
  {
   "cell_type": "code",
   "execution_count": 41,
   "id": "6e722b9c",
   "metadata": {},
   "outputs": [],
   "source": [
    "# review.insert_one({'Name' : 'Hari'})\n",
    "\n",
    "# For Testing"
   ]
  },
  {
   "cell_type": "code",
   "execution_count": null,
   "id": "dffebdf7",
   "metadata": {},
   "outputs": [],
   "source": [
    "class movie_review_adder:\n",
    "    \n",
    "    # Instant Attribute \n",
    "    movie_data_base = {}\n",
    "    genere_list = []\n",
    "\n",
    "    def add(self):\n",
    "        for _ in range(values:=int(input('Enter the number of movies to add : '))):\n",
    "            print(f'You are adding {values} movies to the database')\n",
    "            self.movie_data_base['_id'] = values # I could have just given _ ?? but no\n",
    "            self.movie_data_base['Movie_Title'] = input('Enter the Movie Name : ')\n",
    "            self.movie_data_base['Reviewer'] = input('Enter the Reviewer : ')\n",
    "            self.movie_data_base['Ratings'] = float(input('Enter the Rating : '))\n",
    "            for _ in range(int(input('How may Genre : '))):\n",
    "                value = input('Enter the genre : ')\n",
    "                self.genere_list.append(value)\n",
    "\n",
    "            # Genere was missed\n",
    "            self.movie_data_base['Genere'] = self.genere_list\n",
    "            \n",
    "            x = int(input('Enter Number 1 : true, 0 : flase  :: '))\n",
    "            self.movie_data_base['Watched'] = 'true' if x == 1 else 'false' \n",
    "            self.movie_data_base['Comments'] = input('Enter your Comments for the movie : ')\n",
    "            \n",
    "            # Adding the movies to the database\n",
    "                # Idk how review is getting added inside this lil sus...\n",
    "            review.insert_one(self.movie_data_base)\n",
    "            values-=1\n",
    "\n",
    "    # Preview the databse\n",
    "    def preview(self):\n",
    "        return [x for x in review.find()]"
   ]
  },
  {
   "cell_type": "code",
   "execution_count": 54,
   "id": "530559bc",
   "metadata": {},
   "outputs": [],
   "source": [
    "user = movie_review_adder()"
   ]
  },
  {
   "cell_type": "code",
   "execution_count": null,
   "id": "fe4926ee",
   "metadata": {},
   "outputs": [
    {
     "name": "stdout",
     "output_type": "stream",
     "text": [
      "You are adding 5 movies to the database\n",
      "You are adding 4 movies to the database\n",
      "You are adding 3 movies to the database\n",
      "You are adding 2 movies to the database\n",
      "You are adding 1 movies to the database\n"
     ]
    }
   ],
   "source": [
    "# user.add()\n",
    "\n",
    "# I have added 5 movies to the database"
   ]
  },
  {
   "cell_type": "code",
   "execution_count": 68,
   "id": "302be333",
   "metadata": {},
   "outputs": [
    {
     "data": {
      "text/plain": [
       "[{'_id': 5,\n",
       "  'Movie_Title': 'avengers',\n",
       "  'Reviewer': 'eve',\n",
       "  'Ratings': 8.4,\n",
       "  'Watched': 'true',\n",
       "  'Comments': 'epic finale'},\n",
       " {'_id': 4,\n",
       "  'Movie_Title': 'parasite',\n",
       "  'Reviewer': 'alice',\n",
       "  'Ratings': 9.1,\n",
       "  'Watched': 'true',\n",
       "  'Comments': 'dark twisted and brilliant'},\n",
       " {'_id': 3,\n",
       "  'Movie_Title': 'sharknado',\n",
       "  'Reviewer': 'frank',\n",
       "  'Ratings': 3.9,\n",
       "  'Watched': 'false',\n",
       "  'Comments': 'so bad its good ? No just bad'},\n",
       " {'_id': 2,\n",
       "  'Movie_Title': 'Inside out',\n",
       "  'Reviewer': 'david',\n",
       "  'Ratings': 8.1,\n",
       "  'Watched': 'true',\n",
       "  'Comments': 'tears and laughter in equal parts'},\n",
       " {'_id': 1,\n",
       "  'Movie_Title': 'cats',\n",
       "  'Reviewer': 'bob',\n",
       "  'Ratings': 2.5,\n",
       "  'Watched': 'false',\n",
       "  'Comments': 'more terrigying than any horror movie'}]"
      ]
     },
     "execution_count": 68,
     "metadata": {},
     "output_type": "execute_result"
    }
   ],
   "source": [
    "user.preview()\n",
    "# Working as Itended..\n",
    "\n",
    "# I have 5 movies Inside the databse\n",
    "\n",
    "# Issue if i want to add movies in the database again the _id will be over written.. and will cause an issue "
   ]
  },
  {
   "cell_type": "markdown",
   "id": "81061e48",
   "metadata": {},
   "source": [
    "Performing the Operation's"
   ]
  },
  {
   "cell_type": "code",
   "execution_count": null,
   "id": "9daf51e7",
   "metadata": {},
   "outputs": [
    {
     "name": "stdout",
     "output_type": "stream",
     "text": [
      "{'_id': 1, 'Movie_Title': 'cats', 'Reviewer': 'bob', 'Ratings': 2.5, 'Watched': 'false', 'Comments': 'more terrigying than any horror movie'}\n",
      "{'_id': 2, 'Movie_Title': 'Inside out', 'Reviewer': 'david', 'Ratings': 8.1, 'Watched': 'true', 'Comments': 'tears and laughter in equal parts'}\n",
      "{'_id': 3, 'Movie_Title': 'sharknado', 'Reviewer': 'frank', 'Ratings': 3.9, 'Watched': 'false', 'Comments': 'so bad its good ? No just bad'}\n",
      "{'_id': 4, 'Movie_Title': 'parasite', 'Reviewer': 'alice', 'Ratings': 9.1, 'Watched': 'true', 'Comments': 'dark twisted and brilliant'}\n",
      "{'_id': 5, 'Movie_Title': 'avengers', 'Reviewer': 'eve', 'Ratings': 8.4, 'Watched': 'true', 'Comments': 'epic finale'}\n"
     ]
    }
   ],
   "source": [
    "# Reading all the documents in the database\n",
    "for i in review.find().sort({'_id' : 1}): print(i)\n",
    "\n",
    "# here we have 5 movies "
   ]
  },
  {
   "cell_type": "code",
   "execution_count": 84,
   "id": "8ddf512b",
   "metadata": {},
   "outputs": [
    {
     "name": "stdout",
     "output_type": "stream",
     "text": [
      "{'_id': 2, 'Movie_Title': 'Inside out', 'Reviewer': 'david', 'Ratings': 8.1, 'Watched': 'true', 'Comments': 'tears and laughter in equal parts'}\n",
      "{'_id': 4, 'Movie_Title': 'parasite', 'Reviewer': 'alice', 'Ratings': 9.1, 'Watched': 'true', 'Comments': 'dark twisted and brilliant'}\n",
      "{'_id': 5, 'Movie_Title': 'avengers', 'Reviewer': 'eve', 'Ratings': 8.4, 'Watched': 'true', 'Comments': 'epic finale'}\n"
     ]
    }
   ],
   "source": [
    "# Find all the Ratings > 8.0\n",
    "for i in review.find({\"Ratings\" : {'$gt' : 8.0}}).sort({\"_id\" : 1}) : print(i)"
   ]
  },
  {
   "cell_type": "code",
   "execution_count": 88,
   "id": "2dd7b38a",
   "metadata": {},
   "outputs": [
    {
     "name": "stdout",
     "output_type": "stream",
     "text": [
      "{'_id': 5, 'Comments': 'epic finale'}\n",
      "{'_id': 4, 'Comments': 'dark twisted and brilliant'}\n",
      "{'_id': 3, 'Comments': 'so bad its good ? No just bad'}\n",
      "{'_id': 2, 'Comments': 'tears and laughter in equal parts'}\n",
      "{'_id': 1, 'Comments': 'more terrigying than any horror movie'}\n"
     ]
    }
   ],
   "source": [
    "# See all the comments\n",
    "for i in review.find({},{'Comments' : 1}): print(i)"
   ]
  },
  {
   "cell_type": "code",
   "execution_count": 89,
   "id": "231ba25a",
   "metadata": {},
   "outputs": [
    {
     "data": {
      "text/plain": [
       "['Movie_Review', 'admin', 'config', 'local', 'msr_college']"
      ]
     },
     "execution_count": 89,
     "metadata": {},
     "output_type": "execute_result"
    }
   ],
   "source": [
    "# Using the new-db for new CRUD Operations\n",
    "conn.list_database_names()"
   ]
  },
  {
   "cell_type": "code",
   "execution_count": 91,
   "id": "3719ae82",
   "metadata": {},
   "outputs": [
    {
     "data": {
      "text/plain": [
       "['new', 'users', 'bca', 'bsc']"
      ]
     },
     "execution_count": 91,
     "metadata": {},
     "output_type": "execute_result"
    }
   ],
   "source": [
    "db = conn.msr_college\n",
    "db.list_collection_names()"
   ]
  },
  {
   "cell_type": "code",
   "execution_count": 92,
   "id": "d1ad4cf1",
   "metadata": {},
   "outputs": [],
   "source": [
    "bsc = db.bsc"
   ]
  },
  {
   "cell_type": "code",
   "execution_count": 93,
   "id": "a7516e15",
   "metadata": {},
   "outputs": [
    {
     "name": "stdout",
     "output_type": "stream",
     "text": [
      "{'_id': 1, 'name': 'hariprasad', 'l_name': ['prasad']}\n",
      "{'_id': 2, 'name': 'anita', 'l_name': 'kumar', 'pass': 0, 'score': 4.3}\n",
      "{'_id': 3, 'name': 'raj', 'l_name': 'mehta', 'pass': 1, 'score': 7.2}\n",
      "{'_id': 4, 'name': 'sita', 'l_name': 'verma', 'pass': 1, 'score': 9.1}\n",
      "{'_id': 5, 'name': 'vinay', 'l_name': 'singh', 'pass': 0, 'score': 5}\n",
      "{'_id': 6, 'name': 'deepa', 'l_name': 'joshi', 'pass': 1, 'score': 8}\n",
      "{'_id': 7, 'name': 'aman', 'l_name': 'sharma', 'pass': 1, 'score': 7.5}\n",
      "{'_id': 8, 'name': 'neha', 'l_name': 'gupta', 'pass': 0, 'score': 3.9}\n",
      "{'_id': 9, 'name': 'KARAN', 'l_name': 'yadav', 'pass': 1, 'score': 6.7}\n",
      "{'_id': 10, 'name': 'poonam', 'l_name': 'chauhan', 'pass': 1, 'score': 9.3}\n",
      "{'_id': 11, 'name': 'rohit', 'l_name': 'saxena', 'pass': 0, 'score': 4.8}\n",
      "{'_id': 12, 'name': 'rekha', 'l_name': 'mishra', 'pass': 1, 'score': 7.9}\n",
      "{'_id': 13, 'name': 'manoj', 'l_name': 'tripathi', 'pass': 1, 'score': 6.2}\n",
      "{'_id': 14, 'name': 'komal', 'l_name': 'shah', 'pass': 0, 'score': 5.1}\n",
      "{'_id': 15, 'name': 'vikas', 'l_name': 'agrawal', 'pass': 1, 'score': 8.7}\n"
     ]
    }
   ],
   "source": [
    "for i in bsc.find({}):\n",
    "    print(i)"
   ]
  },
  {
   "cell_type": "code",
   "execution_count": 97,
   "id": "7ef088ff",
   "metadata": {},
   "outputs": [
    {
     "name": "stdout",
     "output_type": "stream",
     "text": [
      "{'name': 'raj'}\n",
      "{'name': 'sita'}\n",
      "{'name': 'deepa'}\n",
      "{'name': 'aman'}\n",
      "{'name': 'KARAN'}\n",
      "{'name': 'poonam'}\n",
      "{'name': 'rekha'}\n",
      "{'name': 'manoj'}\n",
      "{'name': 'vikas'}\n"
     ]
    }
   ],
   "source": [
    "# Find all the students who passed \n",
    "for i in bsc.find(\n",
    "    # Filter Component\n",
    "    {\"pass\" : {'$eq' : 1}},\n",
    "\n",
    "    # Target Component\n",
    "    {'name' : 1, '_id' : 0}\n",
    "    ):\n",
    "    print(i) # These are all the students who passed .."
   ]
  },
  {
   "cell_type": "code",
   "execution_count": 106,
   "id": "e279de57",
   "metadata": {},
   "outputs": [
    {
     "name": "stdout",
     "output_type": "stream",
     "text": [
      "{'_id': 3, 'name': 'raj', 'l_name': 'mehta', 'pass': 1, 'score': 7.2}\n",
      "{'_id': 4, 'name': 'sita', 'l_name': 'verma', 'pass': 1, 'score': 9.1}\n",
      "{'_id': 6, 'name': 'deepa', 'l_name': 'joshi', 'pass': 1, 'score': 8}\n",
      "{'_id': 7, 'name': 'aman', 'l_name': 'sharma', 'pass': 1, 'score': 7.5}\n",
      "{'_id': 10, 'name': 'poonam', 'l_name': 'chauhan', 'pass': 1, 'score': 9.3}\n",
      "{'_id': 12, 'name': 'rekha', 'l_name': 'mishra', 'pass': 1, 'score': 7.9}\n",
      "{'_id': 15, 'name': 'vikas', 'l_name': 'agrawal', 'pass': 1, 'score': 8.7}\n"
     ]
    }
   ],
   "source": [
    "# Find all who passsed and scored more than 7\n",
    "for i in bsc.find({'$and' :[\n",
    "    {'pass' : 1},\n",
    "    {'score' : {'$gt' : 7.0}}]}\n",
    "    ) : print(i)"
   ]
  },
  {
   "cell_type": "code",
   "execution_count": 112,
   "id": "4f835b6e",
   "metadata": {},
   "outputs": [
    {
     "name": "stdout",
     "output_type": "stream",
     "text": [
      "{'_id': 4, 'name': 'sita', 'l_name': 'verma', 'pass': 1, 'score': 9.1}\n",
      "{'_id': 6, 'name': 'deepa', 'l_name': 'joshi', 'pass': 1, 'score': 8}\n",
      "{'_id': 7, 'name': 'aman', 'l_name': 'sharma', 'pass': 1, 'score': 7.5}\n",
      "{'_id': 10, 'name': 'poonam', 'l_name': 'chauhan', 'pass': 1, 'score': 9.3}\n",
      "{'_id': 12, 'name': 'rekha', 'l_name': 'mishra', 'pass': 1, 'score': 7.9}\n",
      "{'_id': 15, 'name': 'vikas', 'l_name': 'agrawal', 'pass': 1, 'score': 8.7}\n"
     ]
    }
   ],
   "source": [
    "# Find all who passsed and scored more than 7, l_name is not 'metha'\n",
    "for i in bsc.find({'$and' :[\n",
    "    {'pass' : 1},\n",
    "    {'score' : {'$gt' : 7.0}}, \n",
    "    {'l_name' : {'$ne' : 'mehta'}} # Disclude mehta..\n",
    "    ]}\n",
    "    # The 'mehta' should be within the and funtion\n",
    "    ) : print(i)"
   ]
  },
  {
   "cell_type": "code",
   "execution_count": 116,
   "id": "d1d88ce2",
   "metadata": {},
   "outputs": [
    {
     "name": "stdout",
     "output_type": "stream",
     "text": [
      "{'_id': 7, 'name': 'aman', 'l_name': 'sharma', 'pass': 1, 'score': 7.5}\n"
     ]
    }
   ],
   "source": [
    "# Find student who scored < 8 or l_name = 'sharma'\n",
    "for i in bsc.find({ '$or' : [\n",
    "    {'score' : {'lt' : 8}},\n",
    "    {'l_name': {'$eq' : 'sharma'}}\n",
    "    ]}) : print(i)"
   ]
  },
  {
   "cell_type": "code",
   "execution_count": 122,
   "id": "5ee4370c",
   "metadata": {},
   "outputs": [
    {
     "name": "stdout",
     "output_type": "stream",
     "text": [
      "{'_id': 3, 'name': 'raj', 'l_name': 'mehta', 'pass': 1, 'score': 7.2}\n",
      "{'_id': 4, 'name': 'sita', 'l_name': 'verma', 'pass': 1, 'score': 9.1}\n",
      "{'_id': 11, 'name': 'rohit', 'l_name': 'saxena', 'pass': 0, 'score': 4.8}\n",
      "{'_id': 12, 'name': 'rekha', 'l_name': 'mishra', 'pass': 1, 'score': 7.9}\n"
     ]
    }
   ],
   "source": [
    "# Find student who scored < 8 or l_name = 'sharma'\n",
    "for i in bsc.find({ '$or' : [\n",
    "    {'score' : {'lt' : 8}},\n",
    "    {'name': {'$regex' : '^[rs]',\"$options\": \"i\" }}\n",
    "    ]}) : print(i)"
   ]
  },
  {
   "cell_type": "code",
   "execution_count": 123,
   "id": "3d1360b9",
   "metadata": {},
   "outputs": [
    {
     "name": "stdout",
     "output_type": "stream",
     "text": [
      "{'_id': 2, 'name': 'anita', 'l_name': 'kumar', 'pass': 0, 'score': 4.3}\n",
      "{'_id': 4, 'name': 'sita', 'l_name': 'verma', 'pass': 1, 'score': 9.1}\n",
      "{'_id': 5, 'name': 'vinay', 'l_name': 'singh', 'pass': 0, 'score': 5}\n",
      "{'_id': 8, 'name': 'neha', 'l_name': 'gupta', 'pass': 0, 'score': 3.9}\n",
      "{'_id': 10, 'name': 'poonam', 'l_name': 'chauhan', 'pass': 1, 'score': 9.3}\n",
      "{'_id': 11, 'name': 'rohit', 'l_name': 'saxena', 'pass': 0, 'score': 4.8}\n",
      "{'_id': 14, 'name': 'komal', 'l_name': 'shah', 'pass': 0, 'score': 5.1}\n"
     ]
    }
   ],
   "source": [
    "# Find score  > 9 or pass : 0\n",
    "for i in bsc.find({'$or' :[\n",
    "    {\n",
    "        'score' : {'$gt' : 9},\n",
    "    },\n",
    "    {\n",
    "        'pass' : {'$eq' : 0}\n",
    "    }\n",
    "]}): print(i)"
   ]
  },
  {
   "cell_type": "code",
   "execution_count": 126,
   "id": "6195ca07",
   "metadata": {},
   "outputs": [
    {
     "name": "stdout",
     "output_type": "stream",
     "text": [
      "{'_id': 4, 'name': 'sita', 'l_name': 'verma', 'pass': 1, 'score': 9.1}\n",
      "{'_id': 10, 'name': 'poonam', 'l_name': 'chauhan', 'pass': 1, 'score': 9.3}\n"
     ]
    }
   ],
   "source": [
    "# Same filter with and but pass : 1\n",
    "for i in bsc.find({'$and' :[\n",
    "    {\n",
    "        'score' : {'$gt' : 9},\n",
    "    },\n",
    "    {\n",
    "        'pass' : {'$eq' : 1}\n",
    "    }\n",
    "]}): print(i)"
   ]
  },
  {
   "cell_type": "code",
   "execution_count": 128,
   "id": "1c5a191d",
   "metadata": {},
   "outputs": [
    {
     "name": "stdout",
     "output_type": "stream",
     "text": [
      "{'_id': 1, 'name': 'hariprasad'}\n",
      "{'_id': 2, 'name': 'anita', 'pass': 0, 'score': 4.3}\n",
      "{'_id': 3, 'name': 'raj', 'pass': 1, 'score': 7.2}\n",
      "{'_id': 4, 'name': 'sita', 'pass': 1, 'score': 9.1}\n",
      "{'_id': 5, 'name': 'vinay', 'pass': 0, 'score': 5}\n",
      "{'_id': 6, 'name': 'deepa', 'pass': 1, 'score': 8}\n",
      "{'_id': 7, 'name': 'aman', 'pass': 1, 'score': 7.5}\n",
      "{'_id': 8, 'name': 'neha', 'pass': 0, 'score': 3.9}\n",
      "{'_id': 9, 'name': 'KARAN', 'pass': 1, 'score': 6.7}\n",
      "{'_id': 10, 'name': 'poonam', 'pass': 1, 'score': 9.3}\n",
      "{'_id': 11, 'name': 'rohit', 'pass': 0, 'score': 4.8}\n",
      "{'_id': 12, 'name': 'rekha', 'pass': 1, 'score': 7.9}\n",
      "{'_id': 13, 'name': 'manoj', 'pass': 1, 'score': 6.2}\n",
      "{'_id': 14, 'name': 'komal', 'pass': 0, 'score': 5.1}\n",
      "{'_id': 15, 'name': 'vikas', 'pass': 1, 'score': 8.7}\n"
     ]
    }
   ],
   "source": [
    "# Retrieving only name, score and pass\n",
    "for i in bsc.find({},{\n",
    "    'name' : 1,'score' : 1, 'pass' : 1\n",
    "}) : print(i)"
   ]
  },
  {
   "cell_type": "code",
   "execution_count": null,
   "id": "8488c277",
   "metadata": {},
   "outputs": [],
   "source": []
  }
 ],
 "metadata": {
  "kernelspec": {
   "display_name": "base",
   "language": "python",
   "name": "python3"
  },
  "language_info": {
   "codemirror_mode": {
    "name": "ipython",
    "version": 3
   },
   "file_extension": ".py",
   "mimetype": "text/x-python",
   "name": "python",
   "nbconvert_exporter": "python",
   "pygments_lexer": "ipython3",
   "version": "3.12.7"
  }
 },
 "nbformat": 4,
 "nbformat_minor": 5
}
