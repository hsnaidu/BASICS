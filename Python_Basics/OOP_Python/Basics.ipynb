{
 "cells": [
  {
   "cell_type": "markdown",
   "metadata": {},
   "source": [
    "OOPS : Object Oriented Programming"
   ]
  },
  {
   "cell_type": "code",
   "execution_count": 33,
   "metadata": {},
   "outputs": [],
   "source": [
    "# A Sample Code ..\n",
    "class Employee:\n",
    "    name = \"Hemanth\" # NOTE Class Attribute \n",
    "    age = 24\n",
    "    code_lang = \"py\"\n",
    "    language = 'English'\n",
    "    \n",
    "# NOTE PROBLEM Every object i make will have same name,age,code_lang.."
   ]
  },
  {
   "cell_type": "code",
   "execution_count": 35,
   "metadata": {},
   "outputs": [],
   "source": [
    "Hari = Employee() # 1st Object\n",
    "\n",
    "Hemanth = Employee() # 2nd Object"
   ]
  },
  {
   "cell_type": "markdown",
   "metadata": {},
   "source": [
    "Instance Attribute have more preference over class-attribute -> Over-write"
   ]
  },
  {
   "cell_type": "code",
   "execution_count": 41,
   "metadata": {},
   "outputs": [
    {
     "name": "stdout",
     "output_type": "stream",
     "text": [
      "23\n"
     ]
    }
   ],
   "source": [
    "Hari.age = 23\n",
    "print(Hari.age)\n",
    "# Despite Class-Attribute have age = 23, Instance Atrribute takes more PREFERENCE NOTE"
   ]
  },
  {
   "cell_type": "code",
   "execution_count": 43,
   "metadata": {},
   "outputs": [
    {
     "name": "stdout",
     "output_type": "stream",
     "text": [
      "Hemanth\n",
      "True\n"
     ]
    }
   ],
   "source": [
    "print(Hari.name) # Name : Hari, -> o/p -> Hemanth\n",
    "\n",
    "# NOTE CREATING AN INSTANCE ATTRIBUTE -> NEW INSTANCE \n",
    "\n",
    "Hari.coding = True # Instance Attribute\n",
    "print(Hari.coding) "
   ]
  },
  {
   "cell_type": "markdown",
   "metadata": {},
   "source": [
    "SELF ATTRIBUTE <---------> IMPT"
   ]
  },
  {
   "cell_type": "code",
   "execution_count": null,
   "metadata": {},
   "outputs": [
    {
     "data": {
      "text/plain": [
       "True"
      ]
     },
     "execution_count": 38,
     "metadata": {},
     "output_type": "execute_result"
    }
   ],
   "source": []
  },
  {
   "cell_type": "code",
   "execution_count": null,
   "metadata": {},
   "outputs": [],
   "source": []
  }
 ],
 "metadata": {
  "kernelspec": {
   "display_name": "base",
   "language": "python",
   "name": "python3"
  },
  "language_info": {
   "codemirror_mode": {
    "name": "ipython",
    "version": 3
   },
   "file_extension": ".py",
   "mimetype": "text/x-python",
   "name": "python",
   "nbconvert_exporter": "python",
   "pygments_lexer": "ipython3",
   "version": "3.11.7"
  }
 },
 "nbformat": 4,
 "nbformat_minor": 2
}
