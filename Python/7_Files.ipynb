{
 "cells": [
  {
   "cell_type": "code",
   "execution_count": 1,
   "metadata": {},
   "outputs": [
    {
     "name": "stdout",
     "output_type": "stream",
     "text": [
      "3.11.7 | packaged by Anaconda, Inc. | (main, Dec 15 2023, 18:05:47) [MSC v.1916 64 bit (AMD64)]\n"
     ]
    }
   ],
   "source": [
    "from sys import version\n",
    "print(version)"
   ]
  },
  {
   "cell_type": "code",
   "execution_count": 2,
   "metadata": {},
   "outputs": [],
   "source": [
    "with open(\"C:\\\\Users\\\\harip\\\\Desktop\\\\BASICS\\\\Python\\\\file_dump\\\\test.txt\", 'w') as f:\n",
    "    f.write('Hi !')\n",
    "    f.close()"
   ]
  },
  {
   "cell_type": "code",
   "execution_count": 4,
   "metadata": {},
   "outputs": [
    {
     "name": "stdout",
     "output_type": "stream",
     "text": [
      "Hi !\n"
     ]
    }
   ],
   "source": [
    "with open(\"C:\\\\Users\\\\harip\\\\Desktop\\\\BASICS\\\\Python\\\\file_dump\\\\test.txt\", 'r') as f:\n",
    "    data = f.read()\n",
    "    print(data)\n",
    "    f.close()"
   ]
  },
  {
   "cell_type": "code",
   "execution_count": 8,
   "metadata": {},
   "outputs": [],
   "source": [
    "with open(\"C:\\\\Users\\\\harip\\\\Desktop\\\\BASICS\\\\Python\\\\file_dump\\\\test.txt\", 'w') as f:\n",
    "    for i in range(1,10):\n",
    "        f.write(f'5 x {i} = {5 * i} \\n')\n",
    "        \n",
    "    f.close()"
   ]
  },
  {
   "cell_type": "code",
   "execution_count": 9,
   "metadata": {},
   "outputs": [
    {
     "name": "stdout",
     "output_type": "stream",
     "text": [
      "5 x 1 = 5 \n",
      "5 x 2 = 10 \n",
      "5 x 3 = 15 \n",
      "5 x 4 = 20 \n",
      "5 x 5 = 25 \n",
      "5 x 6 = 30 \n",
      "5 x 7 = 35 \n",
      "5 x 8 = 40 \n",
      "5 x 9 = 45 \n",
      "\n"
     ]
    }
   ],
   "source": [
    "with open(\"C:\\\\Users\\\\harip\\\\Desktop\\\\BASICS\\\\Python\\\\file_dump\\\\test.txt\", 'r') as f:\n",
    "    data = f.read()\n",
    "    print(data)\n",
    "    f.close()"
   ]
  },
  {
   "cell_type": "markdown",
   "metadata": {},
   "source": [
    "Files"
   ]
  },
  {
   "cell_type": "markdown",
   "metadata": {},
   "source": [
    "In python you can do file-operation such as READ / WRITE DATA"
   ]
  },
  {
   "cell_type": "markdown",
   "metadata": {},
   "source": [
    "f = open(\"File_Name\", \"Mode\") # mode = r                    \n",
    "content = f.read() # Performing Read Operation                  \n",
    "print(content)                  \n",
    "f.close() # Close the file     "
   ]
  },
  {
   "cell_type": "code",
   "execution_count": 11,
   "metadata": {},
   "outputs": [
    {
     "name": "stdout",
     "output_type": "stream",
     "text": [
      "5 x 1 = 5 \n",
      "5 x 2 = 10 \n",
      "5 x 3 = 15 \n",
      "5 x 4 = 20 \n",
      "5 x 5 = 25 \n",
      "5 x 6 = 30 \n",
      "5 x 7 = 35 \n",
      "5 x 8 = 40 \n",
      "5 x 9 = 45 \n",
      "\n"
     ]
    }
   ],
   "source": [
    "with open(\"C:\\\\Users\\\\harip\\\\Desktop\\\\BASICS\\\\Python\\\\file_dump\\\\test.txt\", 'r') as f:\n",
    "    data = f.read()\n",
    "    print(data)\n",
    "    f.close()"
   ]
  },
  {
   "cell_type": "markdown",
   "metadata": {},
   "source": [
    "SOME BASIC FILE OPERATIONS\n",
    "1. 'r' -> Open for Reading (default)\n",
    "2. 'w' -> Open for Writing, Truncating the file \n",
    "3. 'x' -> Create a new-file and open it for writing \n",
    "4. 'a' -> Open for writing, appending to the end of the file if it exists\n",
    "5. 'b' -> Binary Mode\n",
    "6. 't' -> Text mode (default)\n",
    "7. '+' -> Open a disk file for updating (reading and writing)"
   ]
  },
  {
   "cell_type": "code",
   "execution_count": null,
   "metadata": {},
   "outputs": [],
   "source": [
    "# Whiile Reading we can specify how may CHARACTER to read\n",
    "with open('C:\\\\Users\\\\harip\\\\Desktop\\\\BASICS\\\\Python_Basics\\\\Module_7\\\\SFile\\\\One.txt', 'r') as f:\n",
    "    data = f.read(5) # Read only the first 5 Character\n",
    "    print(data)\n",
    "    f.close()"
   ]
  },
  {
   "cell_type": "markdown",
   "metadata": {},
   "source": [
    "Read File Line-By-Line"
   ]
  },
  {
   "cell_type": "code",
   "execution_count": null,
   "metadata": {},
   "outputs": [],
   "source": [
    "with open('C:\\\\Users\\\\harip\\\\Desktop\\\\BASICS\\\\Python_Basics\\\\Module_7\\\\SFile\\\\One.txt', 'r') as f:\n",
    "    data = f.readline() # Read The First Line\n",
    "    print(data)\n",
    "    data_line2 = f.readline() # Read the Second Line\n",
    "    print(data_line2)\n",
    "    f.close()"
   ]
  },
  {
   "cell_type": "markdown",
   "metadata": {},
   "source": [
    "Add text to an already existing File\n"
   ]
  },
  {
   "cell_type": "markdown",
   "metadata": {},
   "source": [
    "You use append 'a'"
   ]
  },
  {
   "cell_type": "code",
   "execution_count": null,
   "metadata": {},
   "outputs": [],
   "source": [
    "with open(\"C:\\\\Users\\\\harip\\\\Desktop\\\\BASICS\\\\Python_Basics\\\\Module_7\\\\SFile\\\\demo.txt\",\"a\") as f:\n",
    "    f.write('\\n This is a second line')\n",
    "    f.close()"
   ]
  },
  {
   "cell_type": "markdown",
   "metadata": {},
   "source": [
    "WHENEVER YOU OPEN A BRAND-NEW FILE WHICH IS NOT THERE PYTHON WILL CREATE IT AUTOMATICALLY FOR US"
   ]
  },
  {
   "cell_type": "code",
   "execution_count": null,
   "metadata": {},
   "outputs": [],
   "source": [
    "name = input('Enter your name : ')\n",
    "with open (f'C:\\\\Users\\\\harip\\\\Desktop\\\\BASICS\\\\Python_Basics\\\\Module_7\\\\SFile\\\\{name}.txt','r+') as f: # the r+ is used to, overwrite a file\n",
    "    f.write(f'hi my name is {name}')\n",
    "    f.close()"
   ]
  },
  {
   "cell_type": "markdown",
   "metadata": {},
   "source": [
    "Deleting a File"
   ]
  },
  {
   "cell_type": "code",
   "execution_count": 12,
   "metadata": {},
   "outputs": [],
   "source": [
    "import os"
   ]
  },
  {
   "cell_type": "code",
   "execution_count": null,
   "metadata": {},
   "outputs": [],
   "source": [
    "# And then we can remove the file \n",
    "os.remove(\"C:\\\\Users\\\\harip\\\\Desktop\\\\BASICS\\\\Python_Basics\\\\Module_7\\\\SFile\\\\demo.txt\")\n",
    "\n",
    "# NOTE the file is removed"
   ]
  },
  {
   "cell_type": "markdown",
   "metadata": {},
   "source": [
    "Practice"
   ]
  },
  {
   "cell_type": "code",
   "execution_count": 16,
   "metadata": {},
   "outputs": [],
   "source": [
    "with open('Test.txt','w') as f:\n",
    "    f.write('Hi everyone\\nwe are learning FILES')\n",
    "    f.write(' using Java\\nI like to code in python')\n",
    "    f.close()"
   ]
  },
  {
   "cell_type": "code",
   "execution_count": 17,
   "metadata": {},
   "outputs": [
    {
     "name": "stdout",
     "output_type": "stream",
     "text": [
      "Hi everyone\n",
      "we are learning FILES using Python\n",
      "I like to code in python\n"
     ]
    }
   ],
   "source": [
    "# Replace Java -> Python\n",
    "    # Here we are over-writing a file ( r+ )\n",
    "with open(\"C:\\\\Users\\\\harip\\\\Desktop\\\\BASICS\\\\Python\\\\Test.txt\",\"r\") as f:\n",
    "    content = f.read()\n",
    "    \n",
    "# here we are replacing the JAVA with PYTHON\n",
    "new_content = content.replace('Java','Python')\n",
    "print(new_content)"
   ]
  },
  {
   "cell_type": "code",
   "execution_count": 19,
   "metadata": {},
   "outputs": [],
   "source": [
    "with open(\"C:\\\\Users\\\\harip\\\\Desktop\\\\BASICS\\\\Python\\\\Test.txt\",\"w\") as f:\n",
    "    f.write(new_content)"
   ]
  },
  {
   "cell_type": "code",
   "execution_count": 20,
   "metadata": {},
   "outputs": [
    {
     "name": "stdout",
     "output_type": "stream",
     "text": [
      "Hi everyone\n",
      "we are learning FILES using Python\n",
      "I like to code in python\n"
     ]
    }
   ],
   "source": [
    "with open(\"C:\\\\Users\\\\harip\\\\Desktop\\\\BASICS\\\\Python\\\\Test.txt\",\"r\") as f:\n",
    "    data = f.read()\n",
    "    print(data)"
   ]
  },
  {
   "cell_type": "code",
   "execution_count": 21,
   "metadata": {},
   "outputs": [
    {
     "data": {
      "text/plain": [
       "1"
      ]
     },
     "execution_count": 21,
     "metadata": {},
     "output_type": "execute_result"
    }
   ],
   "source": [
    "sentence = \"Hi my name is hemanth\"\n",
    "sentence.replace('hemanth','hariprasad')\n",
    "\n",
    "# Find is some character exist in the file or not\n",
    "\n",
    "sentence.find(\"Hi\") # Find Gives us the position\n",
    "sentence.count(\"Hi\")    # Gives us the number of times the element is there"
   ]
  },
  {
   "cell_type": "code",
   "execution_count": 22,
   "metadata": {},
   "outputs": [
    {
     "name": "stdout",
     "output_type": "stream",
     "text": [
      "1\n",
      "19\n",
      "True\n"
     ]
    }
   ],
   "source": [
    "with open(\"C:\\\\Users\\\\harip\\\\Desktop\\\\BASICS\\\\Python\\\\Test.txt\",'r') as f:\n",
    "    data = f.read()\n",
    "    \n",
    "    learning_count = data.count('learning')\n",
    "    \n",
    "    # Accessing the position\n",
    "    learning_position = data.find('learning')\n",
    "    \n",
    "    # Given Cond..\n",
    "    learning_count_result = True if learning_count > 0 else False\n",
    "    \n",
    "    print(learning_count)\n",
    "    \n",
    "    print(learning_position)\n",
    "    \n",
    "    # Returning the Bool..\n",
    "    print(learning_count_result)"
   ]
  },
  {
   "cell_type": "code",
   "execution_count": 24,
   "metadata": {},
   "outputs": [],
   "source": [
    "def word_checker(word):\n",
    "    with open(\"C:\\\\Users\\\\harip\\\\Desktop\\\\BASICS\\\\Python\\\\Test.txt\",'r') as f:\n",
    "        for i in f:\n",
    "            if i.find(word) <= 0:\n",
    "                continue\n",
    "            else:\n",
    "                print(i.find(word))\n",
    "                print(i)\n",
    "word_checker('hari')"
   ]
  },
  {
   "cell_type": "code",
   "execution_count": 25,
   "metadata": {},
   "outputs": [
    {
     "name": "stdout",
     "output_type": "stream",
     "text": [
      "7\n",
      "we are learning FILES using Python\n",
      "\n"
     ]
    }
   ],
   "source": [
    "word_checker('learning')"
   ]
  },
  {
   "cell_type": "code",
   "execution_count": 26,
   "metadata": {},
   "outputs": [],
   "source": [
    "# WAP to count the number of even numbers in a file \n",
    "\n",
    "# 1 WRITE A FILE 1-10 numbers\n",
    "# 2 Each number must be seperated with a ,\n",
    "# Then print-out or tell all the even numbers"
   ]
  },
  {
   "cell_type": "code",
   "execution_count": 34,
   "metadata": {},
   "outputs": [],
   "source": [
    "with open('random_file.txt','w') as f:\n",
    "    for i in range(1,5):\n",
    "        f.write(str(i) + \",\")\n",
    "    "
   ]
  },
  {
   "cell_type": "code",
   "execution_count": 37,
   "metadata": {},
   "outputs": [
    {
     "name": "stdout",
     "output_type": "stream",
     "text": [
      "Odd\n",
      "Even\n",
      "Odd\n",
      "Even\n"
     ]
    }
   ],
   "source": [
    "with open('random_file.txt','r') as f:\n",
    "    content = f.read()\n",
    "    for i in range(len(content)):\n",
    "        if content[i] == ',':\n",
    "            continue\n",
    "        number = int(content[i])\n",
    "        print(\"Even\" if number%2==0 else \"Odd\")\n",
    "    "
   ]
  },
  {
   "cell_type": "markdown",
   "metadata": {},
   "source": [
    "OR My Previous Logic"
   ]
  },
  {
   "cell_type": "code",
   "execution_count": 38,
   "metadata": {},
   "outputs": [],
   "source": [
    "# Now printing all the even-numbers \n",
    "def finding_numbers(file_path):\n",
    "    with open(file_path,'r') as f:\n",
    "        data = f.read()\n",
    "        for i in range(len(data)): # String has length \n",
    "            if data[i] == ',': # Here i am just pass if i find a , \n",
    "                continue\n",
    "            # We can convert str -> int \n",
    "                # Additionally we can apply try and error to encounter a string being converted into a integer \n",
    "            elif int(data[i]) % 2 == 0: # Remaing ones i apply the condition\n",
    "                print(data[i])\n"
   ]
  },
  {
   "cell_type": "code",
   "execution_count": 39,
   "metadata": {},
   "outputs": [
    {
     "name": "stdout",
     "output_type": "stream",
     "text": [
      "2\n",
      "4\n"
     ]
    }
   ],
   "source": [
    "finding_numbers(\"C:\\\\Users\\\\harip\\\\Desktop\\\\BASICS\\\\Python\\\\file_dump\\\\random_file.txt\")"
   ]
  },
  {
   "cell_type": "code",
   "execution_count": null,
   "metadata": {},
   "outputs": [],
   "source": []
  }
 ],
 "metadata": {
  "kernelspec": {
   "display_name": "base",
   "language": "python",
   "name": "python3"
  },
  "language_info": {
   "codemirror_mode": {
    "name": "ipython",
    "version": 3
   },
   "file_extension": ".py",
   "mimetype": "text/x-python",
   "name": "python",
   "nbconvert_exporter": "python",
   "pygments_lexer": "ipython3",
   "version": "3.11.7"
  }
 },
 "nbformat": 4,
 "nbformat_minor": 2
}
