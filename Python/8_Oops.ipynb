{
 "cells": [
  {
   "cell_type": "code",
   "execution_count": 1,
   "metadata": {},
   "outputs": [
    {
     "name": "stdout",
     "output_type": "stream",
     "text": [
      "3.11.7 | packaged by Anaconda, Inc. | (main, Dec 15 2023, 18:05:47) [MSC v.1916 64 bit (AMD64)]\n"
     ]
    }
   ],
   "source": [
    "from sys import version\n",
    "print(version)"
   ]
  },
  {
   "cell_type": "markdown",
   "metadata": {},
   "source": [
    "OOPS (Object oriented Programming) Combination of Classes & Objects"
   ]
  },
  {
   "cell_type": "code",
   "execution_count": 2,
   "metadata": {},
   "outputs": [],
   "source": [
    "# a sample code for object and class\n",
    "\n",
    "class employee: # Class \n",
    "    dept = \"Data Sciece\"\n",
    "    lang = \"Python / R\" # Variables / Attributes\n",
    "\n",
    "    # To access these variables inside a function you need self.\n"
   ]
  },
  {
   "cell_type": "code",
   "execution_count": 3,
   "metadata": {},
   "outputs": [
    {
     "data": {
      "text/plain": [
       "'Python / R'"
      ]
     },
     "execution_count": 3,
     "metadata": {},
     "output_type": "execute_result"
    }
   ],
   "source": [
    "hari = employee()\n",
    "\n",
    "# Now, I can access the Attributes \n",
    "hari.dept\n",
    "\n",
    "hari.lang\n",
    "# Now similar to this i can also access function"
   ]
  },
  {
   "cell_type": "code",
   "execution_count": 7,
   "metadata": {},
   "outputs": [],
   "source": [
    "class employee:\n",
    "    \n",
    "    @staticmethod # We use this to define the function-dosent take any `self` parameter\n",
    "    def print_my_name():\n",
    "        name = input('Enter you name')\n",
    "        return (name)\n",
    "        "
   ]
  },
  {
   "cell_type": "code",
   "execution_count": 8,
   "metadata": {},
   "outputs": [],
   "source": [
    "hari = employee()"
   ]
  },
  {
   "cell_type": "code",
   "execution_count": 13,
   "metadata": {},
   "outputs": [
    {
     "name": "stdout",
     "output_type": "stream",
     "text": [
      "hari\n",
      "4\n"
     ]
    }
   ],
   "source": [
    "a = hari.print_my_name() # If I return it can be used!!\n",
    "print(a)\n",
    "print(len(a))"
   ]
  },
  {
   "cell_type": "markdown",
   "metadata": {},
   "source": [
    "Instance Attribute"
   ]
  },
  {
   "cell_type": "code",
   "execution_count": 14,
   "metadata": {},
   "outputs": [],
   "source": [
    "class employee:\n",
    "    \n",
    "    age = 23,\n",
    "    car = True\n",
    "    # second_name = \"prasad\" -- Instead you can add it after initalizing an Object"
   ]
  },
  {
   "cell_type": "code",
   "execution_count": 15,
   "metadata": {},
   "outputs": [],
   "source": [
    "hari = employee()\n",
    "\n",
    "# This is Instance Attribute\n",
    "hari.second_name = \"prasad\""
   ]
  },
  {
   "cell_type": "code",
   "execution_count": 16,
   "metadata": {},
   "outputs": [
    {
     "data": {
      "text/plain": [
       "'prasad'"
      ]
     },
     "execution_count": 16,
     "metadata": {},
     "output_type": "execute_result"
    }
   ],
   "source": [
    "hari.second_name"
   ]
  },
  {
   "cell_type": "markdown",
   "metadata": {},
   "source": [
    "SELF ATTRIBUTE"
   ]
  },
  {
   "cell_type": "markdown",
   "metadata": {},
   "source": [
    "They are basically used when you have a structure "
   ]
  },
  {
   "cell_type": "code",
   "execution_count": 17,
   "metadata": {},
   "outputs": [],
   "source": [
    "# Why should i use them ?\n",
    "class employee:\n",
    "    \n",
    "    language = \"Python\"\n",
    "    ide = 'Vscode'\n",
    "    age = 24\n",
    "    city = \"bangalore\"\n",
    "    \n",
    "    # Assume i have a new-funciton to get all the info about a person\n",
    "    \n",
    "    def getInfo():\n",
    "        print(language, ide, age, city)"
   ]
  },
  {
   "cell_type": "code",
   "execution_count": 18,
   "metadata": {},
   "outputs": [],
   "source": [
    "hari = employee()"
   ]
  },
  {
   "cell_type": "code",
   "execution_count": 20,
   "metadata": {},
   "outputs": [
    {
     "ename": "TypeError",
     "evalue": "employee.getInfo() takes 0 positional arguments but 1 was given",
     "output_type": "error",
     "traceback": [
      "\u001b[1;31m---------------------------------------------------------------------------\u001b[0m",
      "\u001b[1;31mTypeError\u001b[0m                                 Traceback (most recent call last)",
      "Cell \u001b[1;32mIn[20], line 1\u001b[0m\n\u001b[1;32m----> 1\u001b[0m hari\u001b[38;5;241m.\u001b[39mgetInfo()\n",
      "\u001b[1;31mTypeError\u001b[0m: employee.getInfo() takes 0 positional arguments but 1 was given"
     ]
    }
   ],
   "source": [
    "hari.getInfo()\n",
    "# This function has no clue on what is language and other attributes are ?"
   ]
  },
  {
   "cell_type": "markdown",
   "metadata": {},
   "source": [
    "Now check the above error"
   ]
  },
  {
   "cell_type": "markdown",
   "metadata": {},
   "source": [
    "It says getInfo() takes 0 positional arguments but 1 was given, because"
   ]
  },
  {
   "cell_type": "code",
   "execution_count": 30,
   "metadata": {},
   "outputs": [],
   "source": [
    "# The hari.getInfo() is converted into  ------> Employee.getInfo(hari)"
   ]
  },
  {
   "cell_type": "markdown",
   "metadata": {},
   "source": [
    "To Over-come this error and issue"
   ]
  },
  {
   "cell_type": "markdown",
   "metadata": {},
   "source": [
    "SELF"
   ]
  },
  {
   "cell_type": "code",
   "execution_count": 21,
   "metadata": {},
   "outputs": [],
   "source": [
    "# Taking the same code to check with self \n",
    "class employee:\n",
    "    \n",
    "    language = \"Python\"\n",
    "    ide = 'Vscode'\n",
    "    age = 24\n",
    "    city = \"bangalore\"\n",
    "    \n",
    "    # Assume i have a new-funciton to get all the info about a person\n",
    "    \n",
    "    def getInfo(self):\n",
    "        print(self.language, self.ide, self.age, self.city)"
   ]
  },
  {
   "cell_type": "code",
   "execution_count": 38,
   "metadata": {},
   "outputs": [],
   "source": [
    "hari = employee()"
   ]
  },
  {
   "cell_type": "code",
   "execution_count": 39,
   "metadata": {},
   "outputs": [
    {
     "name": "stdout",
     "output_type": "stream",
     "text": [
      "Python Vscode 24 bangalore\n"
     ]
    }
   ],
   "source": [
    "hari.getInfo()"
   ]
  },
  {
   "cell_type": "markdown",
   "metadata": {},
   "source": [
    "Static Method"
   ]
  },
  {
   "cell_type": "code",
   "execution_count": 47,
   "metadata": {},
   "outputs": [
    {
     "name": "stdout",
     "output_type": "stream",
     "text": [
      "9\n"
     ]
    }
   ],
   "source": [
    "import random\n",
    "value = random.randint(1,10)\n",
    "print(value)"
   ]
  },
  {
   "cell_type": "code",
   "execution_count": 22,
   "metadata": {},
   "outputs": [],
   "source": [
    "import random\n",
    "class employee:\n",
    "    @staticmethod\n",
    "    def randomm():\n",
    "        return (random.randint(1,10))"
   ]
  },
  {
   "cell_type": "code",
   "execution_count": 23,
   "metadata": {},
   "outputs": [],
   "source": [
    "random_number = employee()"
   ]
  },
  {
   "cell_type": "code",
   "execution_count": 26,
   "metadata": {},
   "outputs": [
    {
     "name": "stdout",
     "output_type": "stream",
     "text": [
      "26\n",
      "30\n",
      "26\n"
     ]
    }
   ],
   "source": [
    "for i in range(3):\n",
    "    print(random_number.randomm() + 20)"
   ]
  },
  {
   "cell_type": "markdown",
   "metadata": {},
   "source": [
    "`__init__` constructor"
   ]
  },
  {
   "cell_type": "markdown",
   "metadata": {},
   "source": [
    "They are called DUNDER METHOD ---- They are called Automatically"
   ]
  },
  {
   "cell_type": "code",
   "execution_count": 73,
   "metadata": {},
   "outputs": [],
   "source": [
    "class employee:\n",
    "    def __init__(self):\n",
    "        print('Exec no matter what')\n",
    "        \n",
    "    @staticmethod\n",
    "    def programming():\n",
    "        print(\"Python\")"
   ]
  },
  {
   "cell_type": "code",
   "execution_count": 77,
   "metadata": {},
   "outputs": [
    {
     "name": "stdout",
     "output_type": "stream",
     "text": [
      "Exec no matter what\n",
      "Python\n"
     ]
    }
   ],
   "source": [
    "hari = employee()\n",
    "# The below method is printed no matter what \n",
    "\n",
    "hari.programming()"
   ]
  },
  {
   "cell_type": "markdown",
   "metadata": {},
   "source": [
    "NOW"
   ]
  },
  {
   "cell_type": "code",
   "execution_count": 79,
   "metadata": {},
   "outputs": [],
   "source": [
    "# create an object and pass the details into the argument \n",
    "        # hari = dev('hari','python',13)"
   ]
  },
  {
   "cell_type": "code",
   "execution_count": 86,
   "metadata": {},
   "outputs": [],
   "source": [
    "class company:\n",
    "    def __init__(self, des, sal, lang):\n",
    "        self.des = des\n",
    "        self.sal = sal\n",
    "        self.lang = lang\n",
    "        \n",
    "    def getInfo(self):\n",
    "        print(f'{self.des}, {self.sal}')\n",
    "        \n",
    "    def language(self):\n",
    "        print(f\"{self.lang}\")"
   ]
  },
  {
   "cell_type": "code",
   "execution_count": 87,
   "metadata": {},
   "outputs": [],
   "source": [
    "hari = company(\"dev\",\"40\",\"python\")"
   ]
  },
  {
   "cell_type": "code",
   "execution_count": 89,
   "metadata": {},
   "outputs": [
    {
     "data": {
      "text/plain": [
       "'python'"
      ]
     },
     "execution_count": 89,
     "metadata": {},
     "output_type": "execute_result"
    }
   ],
   "source": [
    "hari.des\n",
    "hari.lang"
   ]
  },
  {
   "cell_type": "code",
   "execution_count": 91,
   "metadata": {},
   "outputs": [
    {
     "name": "stdout",
     "output_type": "stream",
     "text": [
      "dev, 40\n"
     ]
    }
   ],
   "source": [
    "hari.getInfo()"
   ]
  },
  {
   "cell_type": "code",
   "execution_count": 92,
   "metadata": {},
   "outputs": [
    {
     "name": "stdout",
     "output_type": "stream",
     "text": [
      "python\n"
     ]
    }
   ],
   "source": [
    "hari.language()"
   ]
  },
  {
   "cell_type": "code",
   "execution_count": 93,
   "metadata": {},
   "outputs": [],
   "source": [
    "# Adding a instance Attribute\n",
    "hari.age = 24"
   ]
  },
  {
   "cell_type": "code",
   "execution_count": 94,
   "metadata": {},
   "outputs": [
    {
     "data": {
      "text/plain": [
       "24"
      ]
     },
     "execution_count": 94,
     "metadata": {},
     "output_type": "execute_result"
    }
   ],
   "source": [
    "hari.age"
   ]
  },
  {
   "cell_type": "markdown",
   "metadata": {},
   "source": [
    "PRACTICE"
   ]
  },
  {
   "cell_type": "code",
   "execution_count": 120,
   "metadata": {},
   "outputs": [],
   "source": [
    "# WAP create a programmer class for microsoft\n",
    "class microsoft:\n",
    "    def __init__(self, name, age, des, language):\n",
    "        self.name = name\n",
    "        self.age = age\n",
    "        self.language = language\n",
    "        self.des = des\n",
    "        print(\"Account Created !!\")\n",
    "        \n",
    "    def getInfo(self):\n",
    "        print(self.name, self.age, self.des, self.language)\n",
    "        \n",
    "    @staticmethod\n",
    "    def working():\n",
    "        print('Yess Working at MCRFT')"
   ]
  },
  {
   "cell_type": "code",
   "execution_count": 121,
   "metadata": {},
   "outputs": [
    {
     "name": "stdout",
     "output_type": "stream",
     "text": [
      "Account Created !!\n"
     ]
    }
   ],
   "source": [
    "a_101= microsoft(name=\"hari\", age=24, des=\"ds\", language=\"python\")"
   ]
  },
  {
   "cell_type": "code",
   "execution_count": 122,
   "metadata": {},
   "outputs": [
    {
     "name": "stdout",
     "output_type": "stream",
     "text": [
      "hari 24 ds python\n"
     ]
    }
   ],
   "source": [
    "a_101.getInfo()"
   ]
  },
  {
   "cell_type": "code",
   "execution_count": 123,
   "metadata": {},
   "outputs": [
    {
     "name": "stdout",
     "output_type": "stream",
     "text": [
      "Yess Working at MCRFT\n"
     ]
    }
   ],
   "source": [
    "a_101.working()"
   ]
  },
  {
   "cell_type": "code",
   "execution_count": 124,
   "metadata": {},
   "outputs": [],
   "source": [
    "# WAP to make a claculator to find square and cube\n",
    "\n",
    "class geometry:\n",
    "    def __init__(self, number):\n",
    "        self.number = number\n",
    "        \n",
    "    # For Square\n",
    "    def square(self):\n",
    "        return self.number ** 2\n",
    "    \n",
    "    # For Cube\n",
    "    def cube(self):\n",
    "        return self.number ** 3"
   ]
  },
  {
   "cell_type": "code",
   "execution_count": 125,
   "metadata": {},
   "outputs": [],
   "source": [
    "sample = geometry(2)"
   ]
  },
  {
   "cell_type": "code",
   "execution_count": 126,
   "metadata": {},
   "outputs": [
    {
     "data": {
      "text/plain": [
       "4"
      ]
     },
     "execution_count": 126,
     "metadata": {},
     "output_type": "execute_result"
    }
   ],
   "source": [
    "sample.square()"
   ]
  },
  {
   "cell_type": "code",
   "execution_count": 127,
   "metadata": {},
   "outputs": [
    {
     "data": {
      "text/plain": [
       "8"
      ]
     },
     "execution_count": 127,
     "metadata": {},
     "output_type": "execute_result"
    }
   ],
   "source": [
    "sample.cube()"
   ]
  },
  {
   "cell_type": "markdown",
   "metadata": {},
   "source": [
    "Making a Railawy ticket System"
   ]
  },
  {
   "cell_type": "code",
   "execution_count": null,
   "metadata": {},
   "outputs": [],
   "source": [
    "class railway:\n",
    "    def __init__(self, name, boarding, destination):\n",
    "        self.total_number_of_seats = 10\n",
    "        self.name = name\n",
    "        self.boarding = boarding\n",
    "        self.destinaton = destination\n",
    "        print('Welcome to indian railway')\n",
    "        \n",
    "    def ticket_status(self):\n",
    "        print(self.name, self.boarding, self.destinaton)\n",
    "        self.number_of_ticket = int(input('Enter total Number of seats'))\n",
    "        if self.number_of_ticket > self.total_number_of_seats:\n",
    "            print(self.number_of_ticket, \"Are not avaliable\")\n",
    "            self.flag = False\n",
    "        else:\n",
    "            self.total_number_of_seats -=self.number_of_ticket\n",
    "            print(\"avaliable seats are\", self.total_number_of_seats)\n",
    "            self.flag = True\n",
    "         \n",
    "    def ticketStatus(self):\n",
    "        self.price = 500\n",
    "        if self.flag == True:\n",
    "            print(f\" Hi {self.name} Your Ticket is confirmed from {self.boarding} to {self.destinaton} \\n The total number of tickets is {self.number_of_ticket} \\n your total amount is {self.number_of_ticket * self.price}\")\n",
    "        else:\n",
    "            print(\"Tickets Not Booked and Confirmed !! \")\n",
    "              \n",
    "    def getInfo(self):\n",
    "            print(f\" Hi {self.name}, {self.boarding} -- >  {self.destinaton}, ticket Booking are pending\")\n",
    "    "
   ]
  },
  {
   "cell_type": "code",
   "execution_count": 140,
   "metadata": {},
   "outputs": [
    {
     "name": "stdout",
     "output_type": "stream",
     "text": [
      "Welcome to indian railway\n"
     ]
    }
   ],
   "source": [
    "a_100 = railway(name = \"hari\", boarding='YPR', destination='OOTY')"
   ]
  },
  {
   "cell_type": "code",
   "execution_count": 141,
   "metadata": {},
   "outputs": [
    {
     "name": "stdout",
     "output_type": "stream",
     "text": [
      " Hi hari, YPR -- >  OOTY, ticket Booking are pending\n"
     ]
    }
   ],
   "source": [
    "a_100.getInfo()"
   ]
  },
  {
   "cell_type": "code",
   "execution_count": 142,
   "metadata": {},
   "outputs": [
    {
     "name": "stdout",
     "output_type": "stream",
     "text": [
      "hari YPR OOTY\n",
      "20 Are not avaliable\n"
     ]
    }
   ],
   "source": [
    "a_100.ticket_status()"
   ]
  },
  {
   "cell_type": "code",
   "execution_count": 143,
   "metadata": {},
   "outputs": [
    {
     "name": "stdout",
     "output_type": "stream",
     "text": [
      "Tickets Not Booked and Confirmed !! \n"
     ]
    }
   ],
   "source": [
    "a_100.ticketStatus()"
   ]
  },
  {
   "cell_type": "markdown",
   "metadata": {},
   "source": [
    "Making a bank Application, by using concept of inheritance"
   ]
  },
  {
   "cell_type": "code",
   "execution_count": 6,
   "metadata": {},
   "outputs": [],
   "source": [
    "class hdfc():\n",
    "    def __init__(self, name, age, location):\n",
    "        self.name = name\n",
    "        self.age = age\n",
    "        self.location = location\n",
    "        self.balance = 0\n",
    "        self.previous_balance = 0\n",
    "        self.with_list = [] # Maintaining the transaction history\n",
    "        print(\"Your Bank account is created\")\n",
    "\n",
    "    def deposit(self):\n",
    "        # self.amount = int(input('Enter the amount : ')) # Instance Attribute\n",
    "        self.balance += self.amount\n",
    "        self.previous_balance = self.amount\n",
    "        print(f'{self.amount} has been deposited')\n",
    "        \n",
    "    def withdraw(self,amount):\n",
    "        # self.amount = int(input('Enter the amount'))\n",
    "        self.amount = amount\n",
    "        if self.amount > self.balance:\n",
    "            print('Not enough money')\n",
    "        else:\n",
    "            print(f\"{self.amount} has been withdrawn\")\n",
    "            self.with_list.append(self.amount)\n",
    "            self.balance -= self.amount\n",
    "            \n",
    "    def getInfo(self):\n",
    "        print(f\"{self.name}, {self.location}\")\n",
    "        print(f\"Avl. Bal {self.balance}, Last Transaction : {self.with_list}, previous_balance : {self.previous_balance}\")\n",
    "        \n",
    "        \n",
    "    @staticmethod\n",
    "    def getInfoo():\n",
    "        print('Thank you for using HDFC Bank')"
   ]
  },
  {
   "cell_type": "code",
   "execution_count": 246,
   "metadata": {},
   "outputs": [
    {
     "name": "stdout",
     "output_type": "stream",
     "text": [
      "Your Bank account is created\n"
     ]
    }
   ],
   "source": [
    "a_101 = hdfc(name = \"hari\", age=24, location=\"YPR\")"
   ]
  },
  {
   "cell_type": "code",
   "execution_count": 249,
   "metadata": {},
   "outputs": [
    {
     "name": "stdout",
     "output_type": "stream",
     "text": [
      "50 has been deposited\n"
     ]
    }
   ],
   "source": [
    "a_101.deposit()"
   ]
  },
  {
   "cell_type": "code",
   "execution_count": 250,
   "metadata": {},
   "outputs": [
    {
     "name": "stdout",
     "output_type": "stream",
     "text": [
      "hari, YPR\n",
      "Avl. Bal 150, Last Transaction : [], previous_balance : 50\n"
     ]
    }
   ],
   "source": [
    "a_101.getInfo()"
   ]
  },
  {
   "cell_type": "code",
   "execution_count": 238,
   "metadata": {},
   "outputs": [
    {
     "name": "stdout",
     "output_type": "stream",
     "text": [
      "1 has been withdrawn\n"
     ]
    }
   ],
   "source": [
    "a_101.withdraw(1)"
   ]
  },
  {
   "cell_type": "code",
   "execution_count": 233,
   "metadata": {},
   "outputs": [
    {
     "name": "stdout",
     "output_type": "stream",
     "text": [
      "hari, YPR\n",
      "Avl. Bal 99, Last Transaction : [1], previous_balance : 0\n"
     ]
    }
   ],
   "source": [
    "a_101.getInfo()"
   ]
  },
  {
   "cell_type": "code",
   "execution_count": 211,
   "metadata": {},
   "outputs": [
    {
     "name": "stdout",
     "output_type": "stream",
     "text": [
      "2 has been withdrawn\n"
     ]
    }
   ],
   "source": [
    "a_101.withdraw(2)"
   ]
  },
  {
   "cell_type": "code",
   "execution_count": 212,
   "metadata": {},
   "outputs": [
    {
     "name": "stdout",
     "output_type": "stream",
     "text": [
      "hari, YPR\n",
      "Avl. Bal 197, Last Transaction : [1, 2]\n"
     ]
    }
   ],
   "source": [
    "a_101.getInfo()"
   ]
  },
  {
   "cell_type": "code",
   "execution_count": 214,
   "metadata": {},
   "outputs": [
    {
     "name": "stdout",
     "output_type": "stream",
     "text": [
      "1 has been withdrawn\n"
     ]
    }
   ],
   "source": [
    "a_101.withdraw(1)"
   ]
  },
  {
   "cell_type": "code",
   "execution_count": 215,
   "metadata": {},
   "outputs": [
    {
     "name": "stdout",
     "output_type": "stream",
     "text": [
      "hari, YPR\n",
      "Avl. Bal 196, Last Transaction : [1, 2, 1]\n"
     ]
    }
   ],
   "source": [
    "a_101.getInfo()"
   ]
  },
  {
   "cell_type": "code",
   "execution_count": 216,
   "metadata": {},
   "outputs": [
    {
     "name": "stdout",
     "output_type": "stream",
     "text": [
      "Thank you for using HDFC Bank\n"
     ]
    }
   ],
   "source": [
    "a_101.getInfoo()"
   ]
  },
  {
   "cell_type": "markdown",
   "metadata": {},
   "source": [
    "INHERITANCE"
   ]
  },
  {
   "cell_type": "code",
   "execution_count": 28,
   "metadata": {},
   "outputs": [],
   "source": [
    "class balance_checker:\n",
    "    def __init__(self, Name, Location, Balance):\n",
    "        self.Name = Name\n",
    "        self.Location = Location\n",
    "        self.Balance = Balance\n",
    "        print(f'Welcome {self.Name}, Branch_Location : {self.Location}')\n",
    "        print(f'Avl. Balance : {self.Balance}')"
   ]
  },
  {
   "cell_type": "code",
   "execution_count": 29,
   "metadata": {},
   "outputs": [],
   "source": [
    "class bank(balance_checker):\n",
    "    def __init__(self, Name, Location, Balance):\n",
    "        super().__init__(Name, Location, Balance)\n",
    "        self.Depo_transaction, self.With_transaction = [], []\n",
    "        self.Depo_transaction.append(self.Balance) # Appending the Initial Balance\n",
    "        self.transactions = {}\n",
    "    \n",
    "    # Transaction Functions\n",
    "\n",
    "    # 1. Deposite Function\n",
    "    def deposite(self, amt):\n",
    "        self.Balance += amt\n",
    "        self.Depo_transaction.append(amt)\n",
    "        print(f'Your Deposited Amt is {amt}')\n",
    "        print(f'Your Avaliable Bal. {self.Balance}')\n",
    "\n",
    "    # 2. Withdrawl function\n",
    "    def withdrawl(self, amt):\n",
    "        if amt > self.Balance:\n",
    "            print(\"Insuffient Funds\")\n",
    "        else:\n",
    "            self.Balance-=amt\n",
    "            self.With_transaction.append(amt)\n",
    "            print(f\"You have withdrawn {amt}\")\n",
    "            print(f\"Avl. Balance : {self.Balance}\")\n",
    "\n",
    "\n",
    "    # Getting total info\n",
    "    def getInfo(self):\n",
    "        print(f\"Name : {self.Name}, Branch : {self.Location}\")\n",
    "        print(\"Deposits\", self.Depo_transaction)\n",
    "        print(\"Withdrawl\", self.With_transaction)\n",
    "\n",
    "\n",
    "    def get_detail(self):\n",
    "        self.transactions['Deposite'] = self.Depo_transaction\n",
    "        self.transactions['Withdrawl'] = self.With_transaction\n",
    "        self.transactions['Balance'] = sum(self.Depo_transaction) - sum(self.With_transaction)\n",
    "        print(self.transactions)\n",
    "\n"
   ]
  },
  {
   "cell_type": "code",
   "execution_count": 30,
   "metadata": {},
   "outputs": [
    {
     "name": "stdout",
     "output_type": "stream",
     "text": [
      "Welcome hari, Branch_Location : Ypr\n",
      "Avl. Balance : 2000\n"
     ]
    }
   ],
   "source": [
    "a_101 = bank(Name=\"hari\", Location=\"Ypr\", Balance=2000)\n",
    "# initial Bank Balance is... 20000"
   ]
  },
  {
   "cell_type": "code",
   "execution_count": 31,
   "metadata": {},
   "outputs": [
    {
     "name": "stdout",
     "output_type": "stream",
     "text": [
      "Your Deposited Amt is 3000\n",
      "Your Avaliable Bal. 5000\n"
     ]
    }
   ],
   "source": [
    "a_101.deposite(3000)"
   ]
  },
  {
   "cell_type": "code",
   "execution_count": 32,
   "metadata": {},
   "outputs": [
    {
     "name": "stdout",
     "output_type": "stream",
     "text": [
      "Your Deposited Amt is 3000\n",
      "Your Avaliable Bal. 8000\n"
     ]
    }
   ],
   "source": [
    "a_101.deposite(3000)"
   ]
  },
  {
   "cell_type": "code",
   "execution_count": 33,
   "metadata": {},
   "outputs": [
    {
     "name": "stdout",
     "output_type": "stream",
     "text": [
      "Name : hari, Branch : Ypr\n",
      "Deposits [2000, 3000, 3000]\n",
      "Withdrawl []\n"
     ]
    }
   ],
   "source": [
    "a_101.getInfo()"
   ]
  },
  {
   "cell_type": "code",
   "execution_count": 34,
   "metadata": {},
   "outputs": [
    {
     "name": "stdout",
     "output_type": "stream",
     "text": [
      "You have withdrawn 300\n",
      "Avl. Balance : 7700\n"
     ]
    }
   ],
   "source": [
    "a_101.withdrawl(300)"
   ]
  },
  {
   "cell_type": "code",
   "execution_count": 35,
   "metadata": {},
   "outputs": [
    {
     "name": "stdout",
     "output_type": "stream",
     "text": [
      "Name : hari, Branch : Ypr\n",
      "Deposits [2000, 3000, 3000]\n",
      "Withdrawl [300]\n"
     ]
    }
   ],
   "source": [
    "a_101.getInfo()"
   ]
  },
  {
   "cell_type": "code",
   "execution_count": 36,
   "metadata": {},
   "outputs": [
    {
     "name": "stdout",
     "output_type": "stream",
     "text": [
      "{'Deposite': [2000, 3000, 3000], 'Withdrawl': [300], 'Balance': 7700}\n"
     ]
    }
   ],
   "source": [
    "a_101.get_detail()"
   ]
  },
  {
   "cell_type": "code",
   "execution_count": 37,
   "metadata": {},
   "outputs": [
    {
     "name": "stdout",
     "output_type": "stream",
     "text": [
      "You have withdrawn 300\n",
      "Avl. Balance : 7400\n"
     ]
    }
   ],
   "source": [
    "a_101.withdrawl(300)"
   ]
  },
  {
   "cell_type": "code",
   "execution_count": 38,
   "metadata": {},
   "outputs": [
    {
     "name": "stdout",
     "output_type": "stream",
     "text": [
      "{'Deposite': [2000, 3000, 3000], 'Withdrawl': [300, 300], 'Balance': 7400}\n"
     ]
    }
   ],
   "source": [
    "a_101.get_detail()"
   ]
  },
  {
   "cell_type": "code",
   "execution_count": null,
   "metadata": {},
   "outputs": [],
   "source": []
  }
 ],
 "metadata": {
  "kernelspec": {
   "display_name": "base",
   "language": "python",
   "name": "python3"
  },
  "language_info": {
   "codemirror_mode": {
    "name": "ipython",
    "version": 3
   },
   "file_extension": ".py",
   "mimetype": "text/x-python",
   "name": "python",
   "nbconvert_exporter": "python",
   "pygments_lexer": "ipython3",
   "version": "3.12.3"
  }
 },
 "nbformat": 4,
 "nbformat_minor": 2
}
