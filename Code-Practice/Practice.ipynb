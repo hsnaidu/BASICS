{
 "cells": [
  {
   "cell_type": "code",
   "execution_count": 169,
   "id": "30be4a3c",
   "metadata": {},
   "outputs": [
    {
     "name": "stdout",
     "output_type": "stream",
     "text": [
      "3.12.7 | packaged by Anaconda, Inc. | (main, Oct  4 2024, 13:17:27) [MSC v.1929 64 bit (AMD64)]\n"
     ]
    }
   ],
   "source": [
    "from sys import version\n",
    "print(version)"
   ]
  },
  {
   "cell_type": "markdown",
   "id": "e9d37020",
   "metadata": {},
   "source": [
    "GFG : Coding Questions.."
   ]
  },
  {
   "cell_type": "markdown",
   "id": "4000d4e6",
   "metadata": {},
   "source": [
    "Find the index of the numbers whose sum is equal to the target      "
   ]
  },
  {
   "cell_type": "code",
   "execution_count": 170,
   "id": "699bd69b",
   "metadata": {},
   "outputs": [],
   "source": [
    "# Index of sub-array sum\n",
    "def sum_sub_array(array_list, target):\n",
    "    if target in array_list: \n",
    "        print(\"target found\",array_list.index(target))\n",
    "    else:\n",
    "        for i in range(len(array_list)):\n",
    "            sum = 0\n",
    "            for j in range(i, len(array_list)):\n",
    "                sum+=array_list[j]\n",
    "                if sum == target:\n",
    "                    return i, j \n",
    "                \n",
    "# Need More Attention.."
   ]
  },
  {
   "cell_type": "code",
   "execution_count": 171,
   "id": "c569dc4b",
   "metadata": {},
   "outputs": [
    {
     "name": "stdout",
     "output_type": "stream",
     "text": [
      "target found 0\n"
     ]
    },
    {
     "data": {
      "text/plain": [
       "(1, 5)"
      ]
     },
     "execution_count": 171,
     "metadata": {},
     "output_type": "execute_result"
    }
   ],
   "source": [
    "a = [1,2,3,4,5,6]\n",
    "\n",
    "sum_sub_array(a, 1) # Working as Expected!!\n",
    "sum_sub_array(a, 20) # Working as Expected!!"
   ]
  },
  {
   "cell_type": "markdown",
   "id": "963e848b",
   "metadata": {},
   "source": [
    "Find the missing number in the array"
   ]
  },
  {
   "cell_type": "code",
   "execution_count": 172,
   "id": "ab774de8",
   "metadata": {},
   "outputs": [],
   "source": [
    "def find_missing_value(array):\n",
    "    empt_array = []\n",
    "    if max(array) == 1:\n",
    "        empt_array.append(2)\n",
    "        print(f\"Only 1 is present so the missing element is {empt_array}\")\n",
    "    else:\n",
    "        max_value = max(array)\n",
    "        for i in range(max_value, 0,  -1):\n",
    "            empt_array.append(i)\n",
    "            empt_array.sort()\n",
    "        for i in empt_array:\n",
    "            if i not in array:\n",
    "                print(f\"All the numbers from {min(array)} to {max(array)} are peresent except {i}\")\n",
    "                # print(empt_array)\n",
    "                # print(array)"
   ]
  },
  {
   "cell_type": "code",
   "execution_count": 173,
   "id": "e4ae40b5",
   "metadata": {},
   "outputs": [
    {
     "name": "stdout",
     "output_type": "stream",
     "text": [
      "All the numbers from 1 to 5 are peresent except 4\n",
      "All the numbers from 1 to 8 are peresent except 6\n",
      "Only 1 is present so the missing element is [2]\n"
     ]
    }
   ],
   "source": [
    "find_missing_value([1, 2, 3, 5]) # Working as Expected \n",
    "find_missing_value([8, 2, 4, 5, 3, 7, 1]) # Working as Expected\n",
    "find_missing_value([1]) # Working as Expected"
   ]
  },
  {
   "cell_type": "markdown",
   "id": "b6826897",
   "metadata": {},
   "source": [
    "Find the second largest element in an array"
   ]
  },
  {
   "cell_type": "code",
   "execution_count": 174,
   "id": "092f25bc",
   "metadata": {},
   "outputs": [],
   "source": [
    "def find_second_larget(array):\n",
    "    if min(array) == max(array):\n",
    "        print(f\"The largest element of the array is {max(array)} and the second largest element does not exist so {-1}.\")\n",
    "    else:\n",
    "        array.sort(reverse = True)\n",
    "        print(f\"The largest element of the array is {array[0]} and the second largest element is {array[1]}\")"
   ]
  },
  {
   "cell_type": "code",
   "execution_count": 175,
   "id": "d21dcb1a",
   "metadata": {},
   "outputs": [
    {
     "name": "stdout",
     "output_type": "stream",
     "text": [
      "The largest element of the array is 1 and the second largest element does not exist so -1.\n",
      "The largest element of the array is 10 and the second largest element does not exist so -1.\n",
      "The largest element of the array is 35 and the second largest element is 34\n"
     ]
    }
   ],
   "source": [
    "find_second_larget([1,1,1,1,1,1])\n",
    "find_second_larget([10,10,10,10])\n",
    "find_second_larget([12, 35, 1, 10, 34, 1]) # Working as expected"
   ]
  },
  {
   "cell_type": "markdown",
   "id": "67a0bdb0",
   "metadata": {},
   "source": [
    "Kadane's Algo : Find the subset of an array with largest sum\n",
    "\n",
    "- Not given any k-size"
   ]
  },
  {
   "cell_type": "code",
   "execution_count": 176,
   "id": "2cc545e9",
   "metadata": {},
   "outputs": [],
   "source": [
    "def largest_sub_array_sum(array):\n",
    "    actual_array = []\n",
    "    for i in array:\n",
    "        if i > 0:\n",
    "            actual_array.append(i)\n",
    "            actual_array.sort(reverse=True)\n",
    "    print(sum(actual_array))"
   ]
  },
  {
   "cell_type": "code",
   "execution_count": 177,
   "id": "916f7e84",
   "metadata": {},
   "outputs": [
    {
     "name": "stdout",
     "output_type": "stream",
     "text": [
      "17\n"
     ]
    }
   ],
   "source": [
    "largest_sub_array_sum([2, 3, -8, 7, -1, 2, 3]) # Largest sum of the sub-array"
   ]
  },
  {
   "cell_type": "markdown",
   "id": "fb4545bd",
   "metadata": {},
   "source": [
    "Free-Code-Camp"
   ]
  },
  {
   "cell_type": "code",
   "execution_count": 178,
   "id": "70541554",
   "metadata": {},
   "outputs": [
    {
     "name": "stdout",
     "output_type": "stream",
     "text": [
      "3.12.7 | packaged by Anaconda, Inc. | (main, Oct  4 2024, 13:17:27) [MSC v.1929 64 bit (AMD64)]\n"
     ]
    }
   ],
   "source": [
    "from sys import version\n",
    "print(version) "
   ]
  },
  {
   "cell_type": "code",
   "execution_count": 182,
   "id": "a168ec19",
   "metadata": {},
   "outputs": [],
   "source": [
    "# Write a function to find the longest substring without repeating character\n",
    "\n",
    "def longest_substring(string):\n",
    "    string = string.split()\n",
    "    \n",
    "    # list\n",
    "    non_repeating_char = [] \n",
    "    store_dict = {}\n",
    "    empt_dict = {}\n",
    "\n",
    "    for i in string:\n",
    "        if i not in store_dict:\n",
    "            store_dict[i] = len(i)\n",
    "\n",
    "    # Finding the longest substring\n",
    "    \n",
    "    for key,values in store_dict.items():\n",
    "        if values == max(store_dict.values()):\n",
    "            print(\"The longest substring in the string is : \",key)\n",
    "\n",
    "    # Finding the longest substring character \n",
    "    for i in string:\n",
    "        if i not in empt_dict:\n",
    "            empt_dict[i] = set(i)\n",
    "    \n",
    "    for value in empt_dict.values():\n",
    "        if (value) == max(empt_dict.values()):\n",
    "            print(\"The longest non-repeating substring is\",value)\n",
    "    \n",
    "    return empt_dict"
   ]
  },
  {
   "cell_type": "code",
   "execution_count": 184,
   "id": "70a8d884",
   "metadata": {},
   "outputs": [
    {
     "name": "stdout",
     "output_type": "stream",
     "text": [
      "The longest substring in the string is :  hariprasad\n",
      "The longest non-repeating substring is {'p', 'd', 'r', 'i', 'a', 'h', 's'}\n"
     ]
    }
   ],
   "source": [
    "string = \"hi my name is hariprasad\"\n",
    "a = longest_substring(string)"
   ]
  },
  {
   "cell_type": "code",
   "execution_count": null,
   "id": "e3e7c4bc",
   "metadata": {},
   "outputs": [],
   "source": []
  },
  {
   "cell_type": "code",
   "execution_count": null,
   "id": "03d49c86",
   "metadata": {},
   "outputs": [],
   "source": []
  },
  {
   "cell_type": "code",
   "execution_count": null,
   "id": "a8b449e2",
   "metadata": {},
   "outputs": [],
   "source": []
  },
  {
   "cell_type": "code",
   "execution_count": null,
   "id": "30a96ab4",
   "metadata": {},
   "outputs": [],
   "source": []
  },
  {
   "cell_type": "code",
   "execution_count": null,
   "id": "652d091d",
   "metadata": {},
   "outputs": [],
   "source": []
  },
  {
   "cell_type": "code",
   "execution_count": null,
   "id": "11293293",
   "metadata": {},
   "outputs": [],
   "source": []
  },
  {
   "cell_type": "code",
   "execution_count": null,
   "id": "9859253a",
   "metadata": {},
   "outputs": [],
   "source": []
  },
  {
   "cell_type": "code",
   "execution_count": null,
   "id": "7631a67a",
   "metadata": {},
   "outputs": [],
   "source": []
  },
  {
   "cell_type": "code",
   "execution_count": null,
   "id": "f447c1ee",
   "metadata": {},
   "outputs": [],
   "source": []
  }
 ],
 "metadata": {
  "kernelspec": {
   "display_name": "base",
   "language": "python",
   "name": "python3"
  },
  "language_info": {
   "codemirror_mode": {
    "name": "ipython",
    "version": 3
   },
   "file_extension": ".py",
   "mimetype": "text/x-python",
   "name": "python",
   "nbconvert_exporter": "python",
   "pygments_lexer": "ipython3",
   "version": "3.12.7"
  }
 },
 "nbformat": 4,
 "nbformat_minor": 5
}
