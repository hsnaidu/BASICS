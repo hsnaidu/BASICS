{
 "cells": [
  {
   "cell_type": "markdown",
   "metadata": {},
   "source": [
    "STRINGS"
   ]
  },
  {
   "cell_type": "code",
   "execution_count": 15,
   "metadata": {},
   "outputs": [],
   "source": [
    "str1 = \"hello \\n world\" # \\n Escape Sequence : NEXT LINE\n",
    "str2 = 'hello\\tworld' # \\t Escape Sequence : GIVES A TAB SPACE\n",
    "str3 = \"\"\" hello \n",
    "* ----- YOU CANNOT DO THIS WITH A SINGLE OR A DOUBLE QUOTE ----- *\n",
    "world \"\"\""
   ]
  },
  {
   "cell_type": "code",
   "execution_count": 16,
   "metadata": {},
   "outputs": [
    {
     "name": "stdout",
     "output_type": "stream",
     "text": [
      "hello \tworld\n"
     ]
    }
   ],
   "source": [
    "print(str2)"
   ]
  },
  {
   "cell_type": "markdown",
   "metadata": {},
   "source": [
    "OPERATION ON STRINGS"
   ]
  },
  {
   "cell_type": "code",
   "execution_count": 24,
   "metadata": {},
   "outputs": [
    {
     "name": "stdout",
     "output_type": "stream",
     "text": [
      "hello world\n"
     ]
    }
   ],
   "source": [
    "# 1. CONCATINATION..\n",
    "\n",
    "first_word = \"hello \"\n",
    "second_word = \"world\"\n",
    "print(first_word + second_word)"
   ]
  },
  {
   "cell_type": "code",
   "execution_count": 26,
   "metadata": {},
   "outputs": [
    {
     "data": {
      "text/plain": [
       "6"
      ]
     },
     "execution_count": 26,
     "metadata": {},
     "output_type": "execute_result"
    }
   ],
   "source": [
    "# 2. LENGTH OF STRING..\n",
    "\n",
    "len(first_word)\n",
    "# Also counts space, special-character"
   ]
  },
  {
   "cell_type": "code",
   "execution_count": 30,
   "metadata": {},
   "outputs": [
    {
     "name": "stdout",
     "output_type": "stream",
     "text": [
      "h\n",
      " \n"
     ]
    }
   ],
   "source": [
    "# 3.  INDEXING..\n",
    "print(first_word[0])\n",
    "print(first_word[-1]) # This prints space"
   ]
  },
  {
   "cell_type": "code",
   "execution_count": 31,
   "metadata": {},
   "outputs": [
    {
     "ename": "TypeError",
     "evalue": "'str' object does not support item assignment",
     "output_type": "error",
     "traceback": [
      "\u001b[1;31m---------------------------------------------------------------------------\u001b[0m",
      "\u001b[1;31mTypeError\u001b[0m                                 Traceback (most recent call last)",
      "Cell \u001b[1;32mIn[31], line 2\u001b[0m\n\u001b[0;32m      1\u001b[0m \u001b[38;5;66;03m# You cannot assign in string \u001b[39;00m\n\u001b[1;32m----> 2\u001b[0m first_word[\u001b[38;5;241m1\u001b[39m] \u001b[38;5;241m=\u001b[39m \u001b[38;5;124m'\u001b[39m\u001b[38;5;124mB\u001b[39m\u001b[38;5;124m'\u001b[39m\n",
      "\u001b[1;31mTypeError\u001b[0m: 'str' object does not support item assignment"
     ]
    }
   ],
   "source": [
    "# You cannot assign in string, But can be done in LIST not in TUPLE\n",
    "first_word[1] = 'B'"
   ]
  },
  {
   "cell_type": "code",
   "execution_count": 37,
   "metadata": {},
   "outputs": [
    {
     "name": "stdout",
     "output_type": "stream",
     "text": [
      "\n",
      "h\n",
      "he\n",
      "hel\n",
      "hell\n",
      "hello\n"
     ]
    }
   ],
   "source": [
    "# 4. SLICING \n",
    "first_word[0:]\n",
    "for i in range(len(first_word)):\n",
    "    print(first_word[0:i])"
   ]
  },
  {
   "cell_type": "markdown",
   "metadata": {},
   "source": [
    "' string[ starting_idx : ending_idx ] ' , Ending_Idx is not Included"
   ]
  },
  {
   "cell_type": "code",
   "execution_count": 2,
   "metadata": {},
   "outputs": [
    {
     "name": "stdout",
     "output_type": "stream",
     "text": [
      "H\n",
      "HARI\n",
      "HARI PRASAD\n",
      "HARI\n",
      "DASARP IRAH\n"
     ]
    }
   ],
   "source": [
    "word = 'HARI PRASAD'\n",
    "print(word[0:1])\n",
    "print(word[0:4]) # Here 4 is space \n",
    "print(word[0:])\n",
    "print(word[:4]) # Takes from 0-3\n",
    "# NOTE\n",
    "print(word[::-1]) # Here it prints INVERSE "
   ]
  },
  {
   "cell_type": "markdown",
   "metadata": {},
   "source": [
    "Python also has a -ve indexing [-ending_idx : -starting_idx]"
   ]
  },
  {
   "cell_type": "code",
   "execution_count": 4,
   "metadata": {},
   "outputs": [
    {
     "name": "stdout",
     "output_type": "stream",
     "text": [
      "HARI PRA\n",
      "SA\n"
     ]
    }
   ],
   "source": [
    "print(word[:-3])\n",
    "print(word[-3:-1])"
   ]
  },
  {
   "cell_type": "markdown",
   "metadata": {},
   "source": [
    "Sample Palindrome Program "
   ]
  },
  {
   "cell_type": "code",
   "execution_count": 15,
   "metadata": {},
   "outputs": [
    {
     "name": "stdout",
     "output_type": "stream",
     "text": [
      "Palindrome word \"mom\" : True\n"
     ]
    }
   ],
   "source": [
    "word = input('Enter the word')\n",
    "inv_word = word[::-1]\n",
    "print(f'Palindrome word \"{word}\" : {True if word == inv_word else False}') # Ternary-Operator \n",
    "\n",
    "# True if inv_word==word else False"
   ]
  },
  {
   "cell_type": "code",
   "execution_count": 12,
   "metadata": {},
   "outputs": [
    {
     "name": "stdout",
     "output_type": "stream",
     "text": [
      "21\n",
      "Hey, hi how are you ?\n",
      "hey, Hi how are you ?\n",
      "True\n",
      "False\n",
      "-1\n",
      "3\n"
     ]
    }
   ],
   "source": [
    "string = \"hey, hi how are you ?\"\n",
    "\n",
    "# Some of the string functions are ..\n",
    "    # -> Can check all string functions by (string.)\n",
    "print(len(string))\n",
    "print(string.capitalize()) # Returns First letter Capatilized\n",
    "print(string.replace(\"hi\", \"Hi\"))\n",
    "print(string.endswith('?')) # Returns boolean, Used to check substring \n",
    "print(string.startswith('Hello')) # Same \n",
    "print(string.find('Hello')) # Returns the position of a word in a sentence \n",
    "print(string.count('h')) # Returns Letter Occurance"
   ]
  },
  {
   "cell_type": "markdown",
   "metadata": {},
   "source": [
    "PRACTICE"
   ]
  },
  {
   "cell_type": "code",
   "execution_count": 19,
   "metadata": {},
   "outputs": [
    {
     "name": "stdout",
     "output_type": "stream",
     "text": [
      "Length of hari is :4\n"
     ]
    }
   ],
   "source": [
    "# Print len of user name \n",
    "name = input('Enter your Name : ')\n",
    "print(f'Length of {name} is :{len(name)}')"
   ]
  },
  {
   "cell_type": "code",
   "execution_count": 1,
   "metadata": {},
   "outputs": [
    {
     "name": "stdout",
     "output_type": "stream",
     "text": [
      "mom : count : 1\n"
     ]
    }
   ],
   "source": [
    "# WAP to find the occurance of a letter in a sentence \n",
    "letter_to_find = input('Enter letter : ')\n",
    "sentence = input(\"enter a phrase : \")\n",
    "print(f'{letter_to_find} : count : {sentence.count(letter_to_find)}')"
   ]
  },
  {
   "cell_type": "markdown",
   "metadata": {},
   "source": [
    "CONDITIONAL STATEMENTS"
   ]
  },
  {
   "cell_type": "code",
   "execution_count": 32,
   "metadata": {},
   "outputs": [
    {
     "name": "stdout",
     "output_type": "stream",
     "text": [
      "25\n"
     ]
    }
   ],
   "source": [
    "# Simple \"if\" statement \n",
    "\n",
    "age = 25\n",
    "if (age > 20):\n",
    "    print(age)"
   ]
  },
  {
   "cell_type": "code",
   "execution_count": 33,
   "metadata": {},
   "outputs": [
    {
     "name": "stdout",
     "output_type": "stream",
     "text": [
      "You are allowed to Drive ..\n"
     ]
    }
   ],
   "source": [
    "# Simple \"if-else\" statement\n",
    "\n",
    "age = int(input(\"Enter age : \"))\n",
    "if age < 18:\n",
    "    print('Cannot Drive ..')\n",
    "else:\n",
    "    print('You are allowed to Drive ..')"
   ]
  },
  {
   "cell_type": "markdown",
   "metadata": {},
   "source": [
    "The above if-else can be also written in : TERNARY OPERATOR"
   ]
  },
  {
   "cell_type": "code",
   "execution_count": 35,
   "metadata": {},
   "outputs": [
    {
     "name": "stdout",
     "output_type": "stream",
     "text": [
      "Allowed to drive\n"
     ]
    }
   ],
   "source": [
    "print(\"Allowed to drive\" if age > 18 else \"Not allowed to drive\")"
   ]
  },
  {
   "cell_type": "code",
   "execution_count": 34,
   "metadata": {},
   "outputs": [
    {
     "name": "stdout",
     "output_type": "stream",
     "text": [
      "WAIT\n"
     ]
    }
   ],
   "source": [
    "# Simple \"if-elif-else\" statement\n",
    "\n",
    "traffic_color = input('Enter the Traffic color R-Y-G: ')\n",
    "if traffic_color == 'R':\n",
    "    print('STOP')\n",
    "elif traffic_color == 'Y':\n",
    "    print('WAIT')\n",
    "else:\n",
    "    print('GO...') "
   ]
  },
  {
   "cell_type": "markdown",
   "metadata": {},
   "source": [
    "You can have nested if, nested elif statement "
   ]
  },
  {
   "cell_type": "code",
   "execution_count": 15,
   "metadata": {},
   "outputs": [
    {
     "name": "stdout",
     "output_type": "stream",
     "text": [
      "You can do better next time..\n"
     ]
    }
   ],
   "source": [
    "# WAP to grade the marks \n",
    "marks = int(input('Enter your marks..'))\n",
    "if marks >= 90:\n",
    "    print('A')\n",
    "elif marks < 90 and marks >= 80:\n",
    "    print('B')\n",
    "elif marks < 80 and marks >= 70:\n",
    "    print('C')\n",
    "else:\n",
    "    print('You can do better next time..')"
   ]
  },
  {
   "cell_type": "markdown",
   "metadata": {},
   "source": [
    "TEST FOR A SAMPLE FUNCTION"
   ]
  },
  {
   "cell_type": "code",
   "execution_count": 14,
   "metadata": {},
   "outputs": [
    {
     "data": {
      "text/plain": [
       "'A'"
      ]
     },
     "execution_count": 14,
     "metadata": {},
     "output_type": "execute_result"
    }
   ],
   "source": [
    "def grader(marks):\n",
    "    if marks >= 90:\n",
    "        return ('A')\n",
    "    elif marks < 90 and marks >= 80:\n",
    "        return ('B')\n",
    "    elif marks < 80 and marks >= 70:\n",
    "        return ('C') # here you can use RETURN \n",
    "    else:\n",
    "        return ('You can do better next time..')\n",
    "grader(90) # Calling a function\n",
    "\n",
    "# type(grader)\n",
    "# print('You scored ->',grader(90))"
   ]
  },
  {
   "cell_type": "markdown",
   "metadata": {},
   "source": [
    "Logical Conditioning in TERNARY"
   ]
  },
  {
   "cell_type": "code",
   "execution_count": 39,
   "metadata": {},
   "outputs": [
    {
     "name": "stdout",
     "output_type": "stream",
     "text": [
      "False\n"
     ]
    }
   ],
   "source": [
    "age = int(input('Enter you age..'))\n",
    "# print(True if age >= 18 and age <= 80 else False)\n",
    "print(True if 18 <= age <= 80 else False) # One more-way of Using Logical Operator in Ternary Operator"
   ]
  },
  {
   "cell_type": "markdown",
   "metadata": {},
   "source": [
    "PRACTICE"
   ]
  },
  {
   "cell_type": "code",
   "execution_count": 43,
   "metadata": {},
   "outputs": [
    {
     "name": "stdout",
     "output_type": "stream",
     "text": [
      "EVEN\n"
     ]
    }
   ],
   "source": [
    "# WAP to check odd or even\n",
    "\n",
    "number = int(input('Enter a number..'))\n",
    "print(\"EVEN\" if number%2==0 else \"ODD\")"
   ]
  },
  {
   "cell_type": "code",
   "execution_count": 56,
   "metadata": {},
   "outputs": [
    {
     "name": "stdout",
     "output_type": "stream",
     "text": [
      "300 Greater\n",
      "200 Greater\n",
      "100 Greater\n"
     ]
    }
   ],
   "source": [
    "# WAP to find GREATEST of THREE Number's\n",
    "\n",
    "def greatest_number(num1,num2,num3):\n",
    "    if num1 > num2 and num3:\n",
    "        print(num1,'Greater')\n",
    "    elif num2 > num3:\n",
    "        print(num2,'Greater')\n",
    "    else:\n",
    "        print(num3,\"Greater\")\n",
    "greatest_number(10,20,300)\n",
    "greatest_number(10,200,30)\n",
    "greatest_number(100,20,30)\n"
   ]
  },
  {
   "cell_type": "code",
   "execution_count": 63,
   "metadata": {},
   "outputs": [
    {
     "name": "stdout",
     "output_type": "stream",
     "text": [
      "False\n"
     ]
    }
   ],
   "source": [
    "# WAP to check multiple of 7\n",
    "\n",
    "number = int(input('Enter a number..'))\n",
    "print(True if number%7==0 else False)"
   ]
  },
  {
   "cell_type": "code",
   "execution_count": 65,
   "metadata": {},
   "outputs": [
    {
     "name": "stdout",
     "output_type": "stream",
     "text": [
      "1\n",
      "2\n",
      "5\n",
      "10\n",
      "17\n",
      "26\n"
     ]
    }
   ],
   "source": []
  },
  {
   "cell_type": "code",
   "execution_count": null,
   "metadata": {},
   "outputs": [],
   "source": []
  }
 ],
 "metadata": {
  "kernelspec": {
   "display_name": "base",
   "language": "python",
   "name": "python3"
  },
  "language_info": {
   "codemirror_mode": {
    "name": "ipython",
    "version": 3
   },
   "file_extension": ".py",
   "mimetype": "text/x-python",
   "name": "python",
   "nbconvert_exporter": "python",
   "pygments_lexer": "ipython3",
   "version": "3.11.7"
  }
 },
 "nbformat": 4,
 "nbformat_minor": 2
}
