{
 "cells": [
  {
   "cell_type": "code",
   "execution_count": 1,
   "metadata": {},
   "outputs": [
    {
     "name": "stdout",
     "output_type": "stream",
     "text": [
      "3.11.7 | packaged by Anaconda, Inc. | (main, Dec 15 2023, 18:05:47) [MSC v.1916 64 bit (AMD64)]\n"
     ]
    }
   ],
   "source": [
    "import sys\n",
    "print(sys.version)"
   ]
  },
  {
   "cell_type": "markdown",
   "metadata": {},
   "source": [
    "* STRING"
   ]
  },
  {
   "cell_type": "markdown",
   "metadata": {},
   "source": [
    "- They are a collection of character's, encoded using ' ', \" \", \"\"\" \"\"\" "
   ]
  },
  {
   "cell_type": "code",
   "execution_count": 2,
   "metadata": {},
   "outputs": [
    {
     "name": "stdout",
     "output_type": "stream",
     "text": [
      "Hello World !!,  Hello, World !! ,  Hello, World !! \n"
     ]
    }
   ],
   "source": [
    "sample_string_one = 'Hello World !!'\n",
    "sample_string_two = \" Hello, World !! \"\n",
    "sample_string_three = \"\"\" Hello, World !! \"\"\"\n",
    "\n",
    "print(\"{}, {}, {}\".format(sample_string_one, sample_string_two, sample_string_three))"
   ]
  },
  {
   "cell_type": "markdown",
   "metadata": {},
   "source": [
    "* NEXT LINES IN PYTHON"
   ]
  },
  {
   "cell_type": "code",
   "execution_count": 4,
   "metadata": {},
   "outputs": [
    {
     "name": "stdout",
     "output_type": "stream",
     "text": [
      "Hello \n",
      "World\n",
      "Hello \t World\n"
     ]
    }
   ],
   "source": [
    "print('Hello \\nWorld')\n",
    "print('Hello \\t World')"
   ]
  },
  {
   "cell_type": "markdown",
   "metadata": {},
   "source": [
    "* CONCATINATION OF STRING"
   ]
  },
  {
   "cell_type": "code",
   "execution_count": 10,
   "metadata": {},
   "outputs": [
    {
     "name": "stdout",
     "output_type": "stream",
     "text": [
      "String One :Hello , String Two :World , The Concatination of two string :Hello World \n"
     ]
    }
   ],
   "source": [
    "string_one = \"Hello \"\n",
    "string_two = \"World \"\n",
    "print(f\"String One :{string_one}, String Two :{string_two}, The Concatination of two string :{string_one+string_two}\")"
   ]
  },
  {
   "cell_type": "markdown",
   "metadata": {},
   "source": [
    "* LENGTH OF STRING"
   ]
  },
  {
   "cell_type": "code",
   "execution_count": 11,
   "metadata": {},
   "outputs": [
    {
     "name": "stdout",
     "output_type": "stream",
     "text": [
      "11\n",
      "10\n"
     ]
    }
   ],
   "source": [
    "sample_len_word = \"Hello World\"\n",
    "print(len(sample_len_word))\n",
    "\n",
    "# Word without spacing\n",
    "sample_len_word = \"HelloWorld\"\n",
    "print(len(sample_len_word))\n",
    "\n",
    "# NOTE Spacing the words is counted.."
   ]
  },
  {
   "cell_type": "markdown",
   "metadata": {},
   "source": [
    "* INDEXING "
   ]
  },
  {
   "cell_type": "markdown",
   "metadata": {},
   "source": [
    "- Same like `List` you can also `Index` in `String..`\n",
    "- String are `Immutable`"
   ]
  },
  {
   "cell_type": "code",
   "execution_count": 5,
   "metadata": {},
   "outputs": [
    {
     "name": "stdout",
     "output_type": "stream",
     "text": [
      "H\n",
      "!\n"
     ]
    }
   ],
   "source": [
    "sample_string = \"Hello World !!\"\n",
    "\n",
    "# Staring Letter..\n",
    "print(sample_string[0])\n",
    "\n",
    "# String Last Letter..\n",
    "print(sample_string[-1])\n"
   ]
  },
  {
   "cell_type": "markdown",
   "metadata": {},
   "source": [
    "You cannot assign in `STRING` and `TUPLE`, But can be done in `LIST`"
   ]
  },
  {
   "cell_type": "code",
   "execution_count": null,
   "metadata": {},
   "outputs": [
    {
     "name": "stdout",
     "output_type": "stream",
     "text": [
      "'str' object does not support item assignment\n"
     ]
    }
   ],
   "source": [
    "try:\n",
    "    sample_string[1] = 'B'\n",
    "    \n",
    "except Exception as e:\n",
    "    print(e)"
   ]
  },
  {
   "cell_type": "markdown",
   "metadata": {},
   "source": [
    "* SLICING THE STRING"
   ]
  },
  {
   "cell_type": "code",
   "execution_count": 4,
   "metadata": {},
   "outputs": [
    {
     "name": "stdout",
     "output_type": "stream",
     "text": [
      "5\n",
      "\n",
      "H\n",
      "He\n",
      "Hel\n",
      "Hell\n"
     ]
    }
   ],
   "source": [
    "sample_string = \"Hello\"\n",
    "\n",
    "# The Length of string is :\n",
    "print(len(sample_string))\n",
    "\n",
    "first_word = sample_string[0:]\n",
    "for i in range(len(sample_string)):\n",
    "    print(first_word[0:i])"
   ]
  },
  {
   "cell_type": "markdown",
   "metadata": {},
   "source": [
    "Slicing Word"
   ]
  },
  {
   "cell_type": "code",
   "execution_count": 9,
   "metadata": {},
   "outputs": [
    {
     "name": "stdout",
     "output_type": "stream",
     "text": [
      "H\n",
      "HEL0\n",
      "HEL0 WORLD\n",
      "HEL0\n",
      "DLROW 0LEH\n"
     ]
    }
   ],
   "source": [
    "word = 'HEL0 WORLD'\n",
    "print(word[0:1])\n",
    "print(word[0:4]) # Here 4 is space \n",
    "print(word[0:])\n",
    "print(word[:4])\n",
    "print(word[::-1]) # Here it prints INVERSE "
   ]
  },
  {
   "cell_type": "markdown",
   "metadata": {},
   "source": [
    "* Sample Palindrome Program"
   ]
  },
  {
   "cell_type": "code",
   "execution_count": 14,
   "metadata": {},
   "outputs": [
    {
     "name": "stdout",
     "output_type": "stream",
     "text": [
      "Not Palindrom\n"
     ]
    }
   ],
   "source": [
    "x = input('Enter the name')\n",
    "result = \"Palindrom\" if x == x[::-1] else \"Not Palindrom\"\n",
    "print(result)"
   ]
  },
  {
   "cell_type": "markdown",
   "metadata": {},
   "source": [
    "String Operation's"
   ]
  },
  {
   "cell_type": "code",
   "execution_count": 16,
   "metadata": {},
   "outputs": [
    {
     "name": "stdout",
     "output_type": "stream",
     "text": [
      "Hey, Hi there !!\n"
     ]
    }
   ],
   "source": [
    "string = \"Hey, Hi there !!\"\n",
    "print(string_one)"
   ]
  },
  {
   "cell_type": "code",
   "execution_count": 18,
   "metadata": {},
   "outputs": [
    {
     "name": "stdout",
     "output_type": "stream",
     "text": [
      "16\n",
      "Hey, hi there !!\n",
      "Hey, Hi there !!\n",
      "False\n",
      "False\n",
      "-1\n",
      "1\n"
     ]
    }
   ],
   "source": [
    "print(len(string))\n",
    "\n",
    "print(string.capitalize()) # Returns First letter Capatilized\n",
    "\n",
    "print(string.replace(\"hi\", \"Hi\"))\n",
    "\n",
    "print(string.endswith('?')) # Returns boolean, Used to check substring \n",
    "\n",
    "print(string.startswith('Hello')) # Same \n",
    "\n",
    "print(string.find('Hello')) # Returns the position of a word in a sentence \n",
    "\n",
    "print(string.count('h')) # Returns Letter Occurance"
   ]
  },
  {
   "cell_type": "code",
   "execution_count": null,
   "metadata": {},
   "outputs": [],
   "source": []
  }
 ],
 "metadata": {
  "kernelspec": {
   "display_name": "base",
   "language": "python",
   "name": "python3"
  },
  "language_info": {
   "codemirror_mode": {
    "name": "ipython",
    "version": 3
   },
   "file_extension": ".py",
   "mimetype": "text/x-python",
   "name": "python",
   "nbconvert_exporter": "python",
   "pygments_lexer": "ipython3",
   "version": "3.11.7"
  }
 },
 "nbformat": 4,
 "nbformat_minor": 2
}
