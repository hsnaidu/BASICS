{
 "cells": [
  {
   "cell_type": "markdown",
   "metadata": {},
   "source": [
    ": FILES"
   ]
  },
  {
   "cell_type": "markdown",
   "metadata": {},
   "source": [
    "In python you can do file-operation such as READ / WRITE DATA"
   ]
  },
  {
   "cell_type": "markdown",
   "metadata": {},
   "source": [
    "Sample Syntax"
   ]
  },
  {
   "cell_type": "markdown",
   "metadata": {},
   "source": [
    "f = open(\"File_Name\", \"Mode\") # mode = r                    \n",
    "content = f.read() # Performing Read Operation                  \n",
    "print(content)                  \n",
    "f.close() # Close the file                  "
   ]
  },
  {
   "cell_type": "markdown",
   "metadata": {},
   "source": [
    "By default text files are opened : so we use rt - read text                 \n",
    "rb - read Binary            "
   ]
  },
  {
   "cell_type": "markdown",
   "metadata": {},
   "source": [
    "BY DEFAULT THE MODE WILL BE READ"
   ]
  },
  {
   "cell_type": "code",
   "execution_count": 6,
   "metadata": {},
   "outputs": [
    {
     "name": "stdout",
     "output_type": "stream",
     "text": [
      "Hi my name is HARIII\n",
      "I am based out of bangalore \n",
      "This is a test file for seeing how files works in PYTHON\n",
      "<class 'str'>\n"
     ]
    }
   ],
   "source": [
    "with open('C:\\\\Users\\\\harip\\\\Desktop\\\\BASICS\\\\Python_Basics\\\\Module_7\\\\SFile\\\\One.txt', 'r') as f:\n",
    "    data = f.read()\n",
    "    print(data)\n",
    "    print(type(data))\n",
    "    f.close() # Close the File"
   ]
  },
  {
   "cell_type": "markdown",
   "metadata": {},
   "source": [
    "SOME BASIC FILE OPERATIONS\n",
    "1. 'r' -> Open for Reading (default)\n",
    "2. 'w' -> Open for Writing, Truncating the file \n",
    "3. 'x' -> Create a new-file and open it for writing \n",
    "4. 'a' -> Open for writing, appending to the end of the file if it exists\n",
    "5. 'b' -> Binary Mode\n",
    "6. 't' -> Text mode (default)\n",
    "7. '+' -> Open a disk file for updating (reading and writing)"
   ]
  },
  {
   "cell_type": "code",
   "execution_count": 7,
   "metadata": {},
   "outputs": [
    {
     "name": "stdout",
     "output_type": "stream",
     "text": [
      "Hi my\n"
     ]
    }
   ],
   "source": [
    "# Whiile Reading we can specify how may CHARACTER to read\n",
    "with open('C:\\\\Users\\\\harip\\\\Desktop\\\\BASICS\\\\Python_Basics\\\\Module_7\\\\SFile\\\\One.txt', 'r') as f:\n",
    "    data = f.read(5) # Read only the first 5 Character\n",
    "    print(data)\n",
    "    f.close()"
   ]
  },
  {
   "cell_type": "markdown",
   "metadata": {},
   "source": [
    "READ THE FILE LINE-BY LINE"
   ]
  },
  {
   "cell_type": "code",
   "execution_count": 14,
   "metadata": {},
   "outputs": [
    {
     "name": "stdout",
     "output_type": "stream",
     "text": [
      "Hi my name is HARIII\n",
      "\n",
      "I am based out of bangalore \n",
      "\n"
     ]
    }
   ],
   "source": [
    "with open('C:\\\\Users\\\\harip\\\\Desktop\\\\BASICS\\\\Python_Basics\\\\Module_7\\\\SFile\\\\One.txt', 'r') as f:\n",
    "    data = f.readline() # Read The First Line\n",
    "    print(data)\n",
    "    data_line2 = f.readline() # Read the Second Line\n",
    "    print(data_line2)\n",
    "    f.close()"
   ]
  },
  {
   "cell_type": "markdown",
   "metadata": {},
   "source": [
    "WRITE A FILE\n"
   ]
  },
  {
   "cell_type": "code",
   "execution_count": 19,
   "metadata": {},
   "outputs": [],
   "source": [
    "with open('C:\\\\Users\\\\harip\\\\Desktop\\\\BASICS\\\\Python_Basics\\\\Module_7\\\\SFile\\\\demo.txt','w') as f:\n",
    "    f.write('Hi my name is HARII')\n",
    "    f.close()"
   ]
  },
  {
   "cell_type": "markdown",
   "metadata": {},
   "source": [
    "Reading.. the file"
   ]
  },
  {
   "cell_type": "code",
   "execution_count": 20,
   "metadata": {},
   "outputs": [
    {
     "name": "stdout",
     "output_type": "stream",
     "text": [
      "Hi my name is HARII\n"
     ]
    }
   ],
   "source": [
    "with open(\"C:\\\\Users\\\\harip\\\\Desktop\\\\BASICS\\\\Python_Basics\\\\Module_7\\\\SFile\\\\demo.txt\",\"r\") as f:\n",
    "    data = f.read()\n",
    "    print(data)\n",
    "    f.close()"
   ]
  },
  {
   "cell_type": "markdown",
   "metadata": {},
   "source": [
    "WANT TO ADD TEXT TO AN EXISTING FILE"
   ]
  },
  {
   "cell_type": "markdown",
   "metadata": {},
   "source": [
    "you can use 'a' Append method - > add"
   ]
  },
  {
   "cell_type": "code",
   "execution_count": 24,
   "metadata": {},
   "outputs": [],
   "source": [
    "with open(\"C:\\\\Users\\\\harip\\\\Desktop\\\\BASICS\\\\Python_Basics\\\\Module_7\\\\SFile\\\\demo.txt\",\"a\") as f:\n",
    "    f.write('\\n This is a second line')\n",
    "    f.close()"
   ]
  },
  {
   "cell_type": "code",
   "execution_count": 26,
   "metadata": {},
   "outputs": [
    {
     "name": "stdout",
     "output_type": "stream",
     "text": [
      "Hi my name is HARIIThis is a second line\n",
      " This is a second line\n"
     ]
    }
   ],
   "source": [
    "with open(\"C:\\\\Users\\\\harip\\\\Desktop\\\\BASICS\\\\Python_Basics\\\\Module_7\\\\SFile\\\\demo.txt\",\"r\") as f:\n",
    "    data = f.read()\n",
    "    print(data)\n",
    "    f.close()"
   ]
  },
  {
   "cell_type": "markdown",
   "metadata": {},
   "source": [
    "WHENEVER YOU OPEN A BRAND-NEW FILE WHICH IS NOT THERE PYTHON WILL CREATE IT AUTOMATICALLY FOR US"
   ]
  },
  {
   "cell_type": "code",
   "execution_count": null,
   "metadata": {},
   "outputs": [],
   "source": []
  }
 ],
 "metadata": {
  "kernelspec": {
   "display_name": "base",
   "language": "python",
   "name": "python3"
  },
  "language_info": {
   "codemirror_mode": {
    "name": "ipython",
    "version": 3
   },
   "file_extension": ".py",
   "mimetype": "text/x-python",
   "name": "python",
   "nbconvert_exporter": "python",
   "pygments_lexer": "ipython3",
   "version": "3.11.7"
  }
 },
 "nbformat": 4,
 "nbformat_minor": 2
}
