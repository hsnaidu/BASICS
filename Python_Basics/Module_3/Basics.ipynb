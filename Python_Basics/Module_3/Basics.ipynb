{
 "cells": [
  {
   "cell_type": "markdown",
   "metadata": {},
   "source": [
    "ARRAY & TUPLES"
   ]
  },
  {
   "cell_type": "code",
   "execution_count": 2,
   "metadata": {},
   "outputs": [
    {
     "name": "stdout",
     "output_type": "stream",
     "text": [
      "<class 'list'>\n"
     ]
    }
   ],
   "source": [
    "list = []\n",
    "print(type(list))"
   ]
  },
  {
   "cell_type": "code",
   "execution_count": 3,
   "metadata": {},
   "outputs": [
    {
     "name": "stdout",
     "output_type": "stream",
     "text": [
      "[1, True, 'hari', 'prasad', 3.142]\n"
     ]
    }
   ],
   "source": [
    "# Sample List ..\n",
    "\n",
    "sample_list = [1,True,\"hari\",\"prasad\",3.142]\n",
    "print(sample_list)"
   ]
  },
  {
   "cell_type": "code",
   "execution_count": 4,
   "metadata": {},
   "outputs": [
    {
     "name": "stdout",
     "output_type": "stream",
     "text": [
      "<class 'list'>\n"
     ]
    }
   ],
   "source": [
    "# Type..\n",
    "\n",
    "print(type(sample_list)) "
   ]
  },
  {
   "cell_type": "code",
   "execution_count": 5,
   "metadata": {},
   "outputs": [
    {
     "name": "stdout",
     "output_type": "stream",
     "text": [
      "hari\n",
      "5\n"
     ]
    }
   ],
   "source": [
    "# Length and Indexing ..\n",
    "\n",
    "print(sample_list[2])   # Indexing \n",
    "print(len(sample_list)) # Length "
   ]
  },
  {
   "cell_type": "code",
   "execution_count": 6,
   "metadata": {},
   "outputs": [
    {
     "name": "stdout",
     "output_type": "stream",
     "text": [
      "[1, True, 'hari', 'hello', 3.142]\n"
     ]
    }
   ],
   "source": [
    "# MUTABLE ..\n",
    "sample_list[3] = \"hello\"\n",
    "print(sample_list)"
   ]
  },
  {
   "cell_type": "markdown",
   "metadata": {},
   "source": [
    "SLICING"
   ]
  },
  {
   "cell_type": "code",
   "execution_count": 7,
   "metadata": {},
   "outputs": [
    {
     "name": "stdout",
     "output_type": "stream",
     "text": [
      "[True, 'hari']\n",
      "[True, 'hari', 'hello', 3.142]\n",
      "[1, True]\n",
      "[1, True, 'hari']\n"
     ]
    }
   ],
   "source": [
    "# Similar to String..\n",
    "print(sample_list[1:3]) # Returns a Substring\n",
    "print(sample_list[1:])\n",
    "print(sample_list[:2])\n",
    "print(sample_list[0:-2]) # Negative"
   ]
  },
  {
   "cell_type": "markdown",
   "metadata": {},
   "source": [
    "LIST METHODS / LIST FUNCTIONS"
   ]
  },
  {
   "cell_type": "code",
   "execution_count": 10,
   "metadata": {},
   "outputs": [
    {
     "name": "stdout",
     "output_type": "stream",
     "text": [
      "5\n",
      "[1, 2, 3, 23, 43, 56, 87, 100, 999]\n",
      "[1, 2, 3, 23, 43, 56, 87, 100, 999, 20]\n",
      "[20, 999, 100, 87, 56, 43, 23, 3, 2, 1]\n",
      "[20, 69, 999, 100, 87, 56, 43, 23, 3, 2, 1]\n",
      "[20, 69, 999, 100, 87, 43, 23, 3, 2, 1]\n",
      "[20, 999, 100, 87, 43, 23, 3, 2, 1]\n"
     ]
    }
   ],
   "source": [
    "print(len(sample_list))\n",
    "marks = [3,56,2,23,43,87,100,999,1]\n",
    "\n",
    "# SORT..\n",
    "marks.sort(reverse=False)\n",
    "print(marks)\n",
    "\n",
    "# APPEND.. (Add an Element into a list)\n",
    "    # --> Append always add the element at LAST\n",
    "marks.append(20)\n",
    "print(marks)\n",
    "\n",
    "# REVERSE..  DEFAULT : ASCENDING\n",
    "marks.reverse()\n",
    "print(marks)\n",
    "\n",
    "# INSERT.. (Add an Element at a specific position)\n",
    "\n",
    "marks.insert(1,69) # At index 1 insert 69\n",
    "print(marks)\n",
    "\n",
    "# REMOVE.. remove particular element from list\n",
    "marks.remove(56)\n",
    "print(marks)\n",
    "\n",
    "# POP.. Remove element at index\n",
    "marks.pop(1)\n",
    "print(marks)    # 69 removed"
   ]
  },
  {
   "cell_type": "code",
   "execution_count": 9,
   "metadata": {},
   "outputs": [
    {
     "name": "stdout",
     "output_type": "stream",
     "text": [
      "['A', 'B', 'C', 'D', 'G', 'H']\n"
     ]
    }
   ],
   "source": [
    "# Sorting on Strings..\n",
    "fruits = [\"G\",\"H\",\"A\",\"B\",\"D\",\"C\"]\n",
    "fruits.sort()\n",
    "print(fruits)"
   ]
  }
 ],
 "metadata": {
  "kernelspec": {
   "display_name": "base",
   "language": "python",
   "name": "python3"
  },
  "language_info": {
   "codemirror_mode": {
    "name": "ipython",
    "version": 3
   },
   "file_extension": ".py",
   "mimetype": "text/x-python",
   "name": "python",
   "nbconvert_exporter": "python",
   "pygments_lexer": "ipython3",
   "version": "3.11.7"
  }
 },
 "nbformat": 4,
 "nbformat_minor": 2
}
