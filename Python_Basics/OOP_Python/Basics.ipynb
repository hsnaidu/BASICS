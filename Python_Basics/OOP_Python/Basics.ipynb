{
 "cells": [
  {
   "cell_type": "markdown",
   "metadata": {},
   "source": [
    "OOPS : Object Oriented Programming"
   ]
  },
  {
   "cell_type": "code",
   "execution_count": 33,
   "metadata": {},
   "outputs": [],
   "source": [
    "# A Sample Code ..\n",
    "class Employee:\n",
    "    name = \"Hemanth\" # NOTE Class Attribute \n",
    "    age = 24\n",
    "    code_lang = \"py\"\n",
    "    language = 'English'\n",
    "    \n",
    "# NOTE PROBLEM Every object i make will have same name,age,code_lang.."
   ]
  },
  {
   "cell_type": "code",
   "execution_count": 35,
   "metadata": {},
   "outputs": [],
   "source": [
    "Hari = Employee() # 1st Object\n",
    "\n",
    "Hemanth = Employee() # 2nd Object"
   ]
  },
  {
   "cell_type": "markdown",
   "metadata": {},
   "source": [
    "Instance Attribute have more preference over class-attribute -> Over-write"
   ]
  },
  {
   "cell_type": "code",
   "execution_count": 41,
   "metadata": {},
   "outputs": [
    {
     "name": "stdout",
     "output_type": "stream",
     "text": [
      "23\n"
     ]
    }
   ],
   "source": [
    "Hari.age = 23\n",
    "print(Hari.age)\n",
    "# Despite Class-Attribute have age = 23, Instance Atrribute takes more PREFERENCE NOTE"
   ]
  },
  {
   "cell_type": "code",
   "execution_count": 43,
   "metadata": {},
   "outputs": [
    {
     "name": "stdout",
     "output_type": "stream",
     "text": [
      "Hemanth\n",
      "True\n"
     ]
    }
   ],
   "source": [
    "print(Hari.name) # Name : Hari, -> o/p -> Hemanth\n",
    "\n",
    "# NOTE CREATING AN INSTANCE ATTRIBUTE -> NEW INSTANCE \n",
    "\n",
    "Hari.coding = True # Instance Attribute\n",
    "print(Hari.coding) "
   ]
  },
  {
   "cell_type": "markdown",
   "metadata": {},
   "source": [
    "SELF ATTRIBUTE <---------> IMPT"
   ]
  },
  {
   "cell_type": "code",
   "execution_count": null,
   "metadata": {},
   "outputs": [
    {
     "name": "stdout",
     "output_type": "stream",
     "text": [
      "23\n",
      "Bangalore\n"
     ]
    },
    {
     "ename": "TypeError",
     "evalue": "google.getInfo() takes 0 positional arguments but 1 was given",
     "output_type": "error",
     "traceback": [
      "\u001b[1;31m---------------------------------------------------------------------------\u001b[0m",
      "\u001b[1;31mTypeError\u001b[0m                                 Traceback (most recent call last)",
      "Cell \u001b[1;32mIn[58], line 17\u001b[0m\n\u001b[0;32m     15\u001b[0m \u001b[38;5;28mprint\u001b[39m(hari\u001b[38;5;241m.\u001b[39mage)   \n\u001b[0;32m     16\u001b[0m \u001b[38;5;28mprint\u001b[39m(hari\u001b[38;5;241m.\u001b[39mcity)  \n\u001b[1;32m---> 17\u001b[0m hari\u001b[38;5;241m.\u001b[39mgetInfo()\n",
      "\u001b[1;31mTypeError\u001b[0m: google.getInfo() takes 0 positional arguments but 1 was given"
     ]
    }
   ],
   "source": [
    "# Why Self..\n",
    "\n",
    "class google:\n",
    "    langauge = \"py dev\"\n",
    "    ide = \"vscode\"\n",
    "    age = 23\n",
    "    city = 'Bangalore'\n",
    "    \n",
    "    # NOTE now, assume i only need to print certain class-attributes\n",
    "    \n",
    "    def getInfo():\n",
    "        print(f'{language}, {ide}')\n",
    "        \n",
    "hari = google()\n",
    "print(hari.age)   \n",
    "print(hari.city) \n",
    "\n",
    "#  \n",
    "hari.getInfo() # Throws Error"
   ]
  },
  {
   "cell_type": "markdown",
   "metadata": {},
   "source": [
    "Even though i have not given any argument it says 1 was given "
   ]
  },
  {
   "cell_type": "code",
   "execution_count": 60,
   "metadata": {},
   "outputs": [],
   "source": [
    "# Because NOTE \n",
    "    # The hari.getInfo() is converted into \n",
    "    \n",
    "    \n",
    "# Hari.getInfo() ---- > Employee.getInfo(hari)"
   ]
  },
  {
   "cell_type": "markdown",
   "metadata": {},
   "source": [
    "To Overcome that ERROR we use SELF (The program must be self aware)"
   ]
  },
  {
   "cell_type": "code",
   "execution_count": null,
   "metadata": {},
   "outputs": [
    {
     "name": "stdout",
     "output_type": "stream",
     "text": [
      "23\n",
      "Bangalore\n",
      "py dev, vscode\n",
      "Welcome Gandu\n"
     ]
    }
   ],
   "source": [
    "# You can use any thing instead of self -> cr,aaa,vvv,bbb anything\n",
    "\n",
    "class google:\n",
    "    langauge = \"py dev\"\n",
    "    ide = \"vscode\"\n",
    "    age = 23\n",
    "    city = 'Bangalore'\n",
    "    \n",
    "    # NOTE now, assume i only need to print certain class-attributes\n",
    "    \n",
    "    def getInfo(self):\n",
    "        print(f'{self.langauge}, {self.ide}')\n",
    "        \n",
    "    def greet(self):\n",
    "        print('Welcome')\n",
    "        \n",
    "hari = google()\n",
    "print(hari.age)   \n",
    "print(hari.city) \n",
    "\n",
    "#  \n",
    "hari.getInfo() # Now it Prints py dev, vscode\n",
    "\n",
    "# One more \n",
    "hari.greet('Gandu')"
   ]
  },
  {
   "cell_type": "markdown",
   "metadata": {},
   "source": [
    "Now Imagin you dont want to give self (object), It has no use of the attributes in class\n",
    "                  --- Assume it just prints good morning ---"
   ]
  },
  {
   "cell_type": "code",
   "execution_count": 70,
   "metadata": {},
   "outputs": [],
   "source": [
    "class bca_class:\n",
    "    def greet():\n",
    "        print('Good Morning')"
   ]
  },
  {
   "cell_type": "code",
   "execution_count": null,
   "metadata": {},
   "outputs": [
    {
     "ename": "TypeError",
     "evalue": "bca_class.greet() takes 0 positional arguments but 1 was given",
     "output_type": "error",
     "traceback": [
      "\u001b[1;31m---------------------------------------------------------------------------\u001b[0m",
      "\u001b[1;31mTypeError\u001b[0m                                 Traceback (most recent call last)",
      "Cell \u001b[1;32mIn[72], line 2\u001b[0m\n\u001b[0;32m      1\u001b[0m hari \u001b[38;5;241m=\u001b[39m bca_class() \u001b[38;5;66;03m# Hari is of bca class\u001b[39;00m\n\u001b[1;32m----> 2\u001b[0m hari\u001b[38;5;241m.\u001b[39mgreet()\n",
      "\u001b[1;31mTypeError\u001b[0m: bca_class.greet() takes 0 positional arguments but 1 was given"
     ]
    }
   ],
   "source": [
    "hari = bca_class() # Hari is of bca class\n",
    "hari.greet() # ERROR --- here i dont want to pass any objects"
   ]
  },
  {
   "cell_type": "markdown",
   "metadata": {},
   "source": [
    "In this case we use @staticmethod"
   ]
  },
  {
   "cell_type": "code",
   "execution_count": 79,
   "metadata": {},
   "outputs": [],
   "source": [
    "class bca_class:\n",
    "    \n",
    "    @staticmethod\n",
    "        # def greet(self): # Error \n",
    "    def greet():\n",
    "        print('Good Morning')"
   ]
  },
  {
   "cell_type": "code",
   "execution_count": 82,
   "metadata": {},
   "outputs": [
    {
     "name": "stdout",
     "output_type": "stream",
     "text": [
      "Good Morning\n"
     ]
    }
   ],
   "source": [
    "hemanth = bca_class()\n",
    "hemanth.greet() # Dosn't Require any object -- Does not Require SELF"
   ]
  },
  {
   "cell_type": "markdown",
   "metadata": {},
   "source": [
    "__ init __ Constructor"
   ]
  },
  {
   "cell_type": "markdown",
   "metadata": {},
   "source": [
    "THEY ARE THE FIRST METHOD TO RUN ONCE THE OBJECT IS CREATED : PRE-REQUISITSS"
   ]
  },
  {
   "cell_type": "markdown",
   "metadata": {},
   "source": [
    "__init__        --->    They are called DUNDER METHOD ------ THEY are called Automatically"
   ]
  },
  {
   "cell_type": "code",
   "execution_count": 104,
   "metadata": {},
   "outputs": [],
   "source": [
    "# NOTE Crucial Concept \n",
    "\n",
    "class Employee:\n",
    "    def __init__(self):\n",
    "        print('I am creating an object')"
   ]
  },
  {
   "cell_type": "code",
   "execution_count": 105,
   "metadata": {},
   "outputs": [
    {
     "name": "stdout",
     "output_type": "stream",
     "text": [
      "I am creating an object\n"
     ]
    }
   ],
   "source": [
    "hari = Employee()"
   ]
  },
  {
   "cell_type": "markdown",
   "metadata": {},
   "source": [
    "Now.."
   ]
  },
  {
   "cell_type": "code",
   "execution_count": 106,
   "metadata": {},
   "outputs": [],
   "source": [
    "# Assume i need to create an object and pass the details into the argument \n",
    "        # hari = dev('hari','python',13)"
   ]
  },
  {
   "cell_type": "code",
   "execution_count": 134,
   "metadata": {},
   "outputs": [],
   "source": [
    "class google:\n",
    "    def __init__(self,name,code,age): # This is called automatically \n",
    "        self.name = name\n",
    "        print(self.name)\n",
    "        self.code = code\n",
    "        self.age = age\n",
    "\n",
    "    def getInfo(self):\n",
    "        print(f'{self.name},{self.code}')\n",
    "    \n",
    "    @staticmethod \n",
    "    def birth(age):\n",
    "        print(2024 - age)\n",
    "    "
   ]
  },
  {
   "cell_type": "markdown",
   "metadata": {},
   "source": [
    "Creating an Object hari.."
   ]
  },
  {
   "cell_type": "code",
   "execution_count": 139,
   "metadata": {},
   "outputs": [
    {
     "name": "stdout",
     "output_type": "stream",
     "text": [
      "Hari\n",
      "Rahul\n"
     ]
    }
   ],
   "source": [
    "hari = google('Hari','Python',24)\n",
    "\n",
    "rahul = google('Rahul', 'Designer',22)"
   ]
  },
  {
   "cell_type": "markdown",
   "metadata": {},
   "source": [
    "Let me get the basicInfo"
   ]
  },
  {
   "cell_type": "code",
   "execution_count": 131,
   "metadata": {},
   "outputs": [
    {
     "name": "stdout",
     "output_type": "stream",
     "text": [
      "Hari,Python\n"
     ]
    }
   ],
   "source": [
    "hari.getInfo()"
   ]
  },
  {
   "cell_type": "code",
   "execution_count": 140,
   "metadata": {},
   "outputs": [
    {
     "name": "stdout",
     "output_type": "stream",
     "text": [
      "Rahul,Designer\n"
     ]
    }
   ],
   "source": [
    "rahul.getInfo()"
   ]
  },
  {
   "cell_type": "code",
   "execution_count": null,
   "metadata": {},
   "outputs": [
    {
     "name": "stdout",
     "output_type": "stream",
     "text": [
      "1999\n"
     ]
    }
   ],
   "source": [
    "hari.birth(25)"
   ]
  },
  {
   "cell_type": "code",
   "execution_count": 141,
   "metadata": {},
   "outputs": [
    {
     "data": {
      "text/plain": [
       "22"
      ]
     },
     "execution_count": 141,
     "metadata": {},
     "output_type": "execute_result"
    }
   ],
   "source": [
    "rahul.age"
   ]
  },
  {
   "cell_type": "markdown",
   "metadata": {},
   "source": [
    "PRACTICE"
   ]
  },
  {
   "cell_type": "code",
   "execution_count": 5,
   "metadata": {},
   "outputs": [],
   "source": [
    "# WAP create a programmer class for microsoft\n",
    "\n",
    "class programmer:\n",
    "    def __init__(self,name,dept):\n",
    "        self.name = name\n",
    "        self.dept = dept\n",
    "        print(f'Congrats on Joining Microsoft {self.name}')\n",
    "        \n",
    "    def getInfo(self):\n",
    "        print(f'{self.name} Assigned to -> {self.dept}')"
   ]
  },
  {
   "cell_type": "code",
   "execution_count": 6,
   "metadata": {},
   "outputs": [
    {
     "name": "stdout",
     "output_type": "stream",
     "text": [
      "Congrats on Joining Microsoft Hari\n",
      "Congrats on Joining Microsoft Prathamesh\n"
     ]
    }
   ],
   "source": [
    "hari = programmer('Hari','Py-dev')\n",
    "panda = programmer('Prathamesh','Designer')"
   ]
  },
  {
   "cell_type": "code",
   "execution_count": null,
   "metadata": {},
   "outputs": [
    {
     "name": "stdout",
     "output_type": "stream",
     "text": [
      "Hari Assigned to -> Py-dev\n",
      "Prathamesh Assigned to -> Designer\n"
     ]
    }
   ],
   "source": [
    "hari.getInfo()\n",
    "# \n",
    "panda.getInfo()"
   ]
  },
  {
   "cell_type": "code",
   "execution_count": 21,
   "metadata": {},
   "outputs": [],
   "source": [
    "# WAP to make a claculator to find square and cube\n",
    "\n",
    "class calculator:\n",
    "    \n",
    "    def __init__(self,number):\n",
    "        self.number = number\n",
    "    \n",
    "    @staticmethod\n",
    "    def greet():\n",
    "        print('Hello Peeps !!')\n",
    "    \n",
    "    def square(self):\n",
    "        print(self.number ** 2)\n",
    "        \n",
    "    def cube(self):\n",
    "        print(self.number ** 3)"
   ]
  },
  {
   "cell_type": "markdown",
   "metadata": {},
   "source": [
    "Here you give all the info.. required into class and then later you can use the defined functions to perform various actions on it "
   ]
  },
  {
   "cell_type": "code",
   "execution_count": 22,
   "metadata": {},
   "outputs": [],
   "source": [
    "one = calculator(2)"
   ]
  },
  {
   "cell_type": "markdown",
   "metadata": {},
   "source": [
    "Adding a static methods to the second-question"
   ]
  },
  {
   "cell_type": "code",
   "execution_count": 23,
   "metadata": {},
   "outputs": [
    {
     "name": "stdout",
     "output_type": "stream",
     "text": [
      "Hello Peeps !!\n"
     ]
    }
   ],
   "source": [
    "one.greet()"
   ]
  },
  {
   "cell_type": "code",
   "execution_count": 14,
   "metadata": {},
   "outputs": [
    {
     "data": {
      "text/plain": [
       "4"
      ]
     },
     "execution_count": 14,
     "metadata": {},
     "output_type": "execute_result"
    }
   ],
   "source": [
    "one.square()"
   ]
  },
  {
   "cell_type": "code",
   "execution_count": 20,
   "metadata": {},
   "outputs": [
    {
     "name": "stdout",
     "output_type": "stream",
     "text": [
      "8\n"
     ]
    }
   ],
   "source": [
    "one.cube()"
   ]
  },
  {
   "cell_type": "code",
   "execution_count": null,
   "metadata": {},
   "outputs": [],
   "source": [
    "# Sample Program TEST\n",
    "class programmer:\n",
    "    \n",
    "    def __init__(person,name,age,dept):\n",
    "        person.name = name\n",
    "        person.age = age\n",
    "        person.dept = dept\n",
    "        print('Account Created')\n",
    "    \n",
    "    def getInfo(person):\n",
    "        print(person.age,person.name,person.dept)\n",
    "        \n",
    "    def Ipad(person):\n",
    "        print(\"True\" if person.age > 20 else \"False\") # If Age is greater than 20 return TRUE\n",
    "        "
   ]
  },
  {
   "cell_type": "code",
   "execution_count": 31,
   "metadata": {},
   "outputs": [
    {
     "name": "stdout",
     "output_type": "stream",
     "text": [
      "Account Created\n"
     ]
    }
   ],
   "source": [
    "hari = programmer('hari',20,'py-dev')"
   ]
  },
  {
   "cell_type": "code",
   "execution_count": 32,
   "metadata": {},
   "outputs": [
    {
     "name": "stdout",
     "output_type": "stream",
     "text": [
      "20 hari py-dev\n"
     ]
    }
   ],
   "source": [
    "hari.getInfo()"
   ]
  },
  {
   "cell_type": "code",
   "execution_count": 33,
   "metadata": {},
   "outputs": [
    {
     "name": "stdout",
     "output_type": "stream",
     "text": [
      "False\n"
     ]
    }
   ],
   "source": [
    "hari.Ipad()"
   ]
  },
  {
   "cell_type": "code",
   "execution_count": 28,
   "metadata": {},
   "outputs": [
    {
     "data": {
      "text/plain": [
       "23"
      ]
     },
     "execution_count": 28,
     "metadata": {},
     "output_type": "execute_result"
    }
   ],
   "source": [
    "hari.age"
   ]
  },
  {
   "cell_type": "code",
   "execution_count": 12,
   "metadata": {},
   "outputs": [],
   "source": [
    "# WAP to check if it changes the class attribute \n",
    "                # -> The class attribut dosent change only the object attribute will change cause of the instance attribute \n",
    "            \n",
    "\n",
    "class random:\n",
    "    a = 4"
   ]
  },
  {
   "cell_type": "code",
   "execution_count": 6,
   "metadata": {},
   "outputs": [],
   "source": [
    "one = random()"
   ]
  },
  {
   "cell_type": "code",
   "execution_count": 15,
   "metadata": {},
   "outputs": [],
   "source": [
    "random.a = 0"
   ]
  },
  {
   "cell_type": "code",
   "execution_count": 17,
   "metadata": {},
   "outputs": [
    {
     "name": "stdout",
     "output_type": "stream",
     "text": [
      "0\n"
     ]
    }
   ],
   "source": [
    "print(random.a) # NOTE here only the Object attribute is changed not the class attribute"
   ]
  },
  {
   "cell_type": "code",
   "execution_count": 1,
   "metadata": {},
   "outputs": [],
   "source": [
    "# Making a Railway Ticket System\n",
    "\n",
    "\n",
    "class Train:\n",
    "    \n",
    "    def __init__(person, id,name,seats,book,fare):\n",
    "        print('Welcome to Indian Railway System')\n",
    "        person.id = id\n",
    "        person.name = name\n",
    "        person.seats = seats # How many seats is he's booking\n",
    "        person.book = book # Booking Status\n",
    "        person.fare = fare\n",
    "        \n",
    "    def getInfo(person):\n",
    "        print(f'''id = {person.id}  name -> {person.name}\\nNo. of people ({person.seats} )-- > \n",
    "              Booking Status --> {person.book} = Fare Amt.{(person.fare)}''')\n",
    "        print('Thanks for booking in Indian Railway')\n",
    "        \n",
    "    def status(person):\n",
    "        print(f' You Train is booked under id number {person.id} under the name {person.name}')\n",
    "        \n",
    "    @staticmethod\n",
    "    def hello():\n",
    "        print('hello')\n",
    "        \n",
    "\n",
    "        "
   ]
  },
  {
   "cell_type": "code",
   "execution_count": 4,
   "metadata": {},
   "outputs": [
    {
     "name": "stdout",
     "output_type": "stream",
     "text": [
      "Welcome to Indian Railway System\n",
      "Welcome to Indian Railway System\n"
     ]
    }
   ],
   "source": [
    "p1 = Train(1,\"hari\",5,True,500)\n",
    "p2 = Train(2,\"Rohan\",4, True,400)"
   ]
  },
  {
   "cell_type": "code",
   "execution_count": 5,
   "metadata": {},
   "outputs": [
    {
     "name": "stdout",
     "output_type": "stream",
     "text": [
      "id = 1  name -> hari\n",
      "No. of people (5 )-- > \n",
      "              Booking Status --> True = Fare Amt.500\n",
      "Thanks for booking in Indian Railway\n"
     ]
    }
   ],
   "source": [
    "p1.getInfo()"
   ]
  },
  {
   "cell_type": "code",
   "execution_count": 6,
   "metadata": {},
   "outputs": [
    {
     "name": "stdout",
     "output_type": "stream",
     "text": [
      "id = 2  name -> Rohan\n",
      "No. of people (4 )-- > \n",
      "              Booking Status --> True = Fare Amt.400\n",
      "Thanks for booking in Indian Railway\n"
     ]
    }
   ],
   "source": [
    "p2.getInfo()"
   ]
  },
  {
   "cell_type": "code",
   "execution_count": 8,
   "metadata": {},
   "outputs": [
    {
     "name": "stdout",
     "output_type": "stream",
     "text": [
      " You Train is booked under id number 1 under the name hari\n"
     ]
    }
   ],
   "source": [
    "p1.status()"
   ]
  },
  {
   "cell_type": "code",
   "execution_count": 7,
   "metadata": {},
   "outputs": [
    {
     "name": "stdout",
     "output_type": "stream",
     "text": [
      "hello\n"
     ]
    }
   ],
   "source": [
    "p1.hello()"
   ]
  },
  {
   "cell_type": "markdown",
   "metadata": {},
   "source": [
    "INHERITANCE AND MORE OOP..."
   ]
  },
  {
   "cell_type": "markdown",
   "metadata": {},
   "source": [
    "If you have n number of class and want to share the methods from one to class to another class you can use the concept of inheritance"
   ]
  },
  {
   "cell_type": "markdown",
   "metadata": {},
   "source": [
    "They are used to maintain the consistancy and have less error in code"
   ]
  },
  {
   "cell_type": "code",
   "execution_count": null,
   "metadata": {},
   "outputs": [
    {
     "data": {
      "text/plain": [
       "'Amazon'"
      ]
     },
     "execution_count": 21,
     "metadata": {},
     "output_type": "execute_result"
    }
   ],
   "source": [
    "class company:\n",
    "    company = 'Google'\n",
    "    def show(self):\n",
    "        print(f'The name of employee is {self.name}')\n",
    "        print(f'The person is working in {self.company}')\n",
    "\n",
    "class employee(company): #  Methods from 'company' can be used in this \n",
    "    company = 'Amazon'\n",
    "    def show(self):\n",
    "        # Its the same function above i can copy-paste but if i have n methods i cannot copy paste everything\n",
    "        # and i cannot make changes in every thing \n",
    "        print(self.name)\n",
    "\n",
    "\n",
    "\n",
    "a = company()\n",
    "a.company     # Its a class attribute   \n",
    "b = employee()\n",
    "b.company      # Here i have 2 different company\n",
    "\n",
    "\n",
    "\n",
    "# === To avoid all this === #"
   ]
  },
  {
   "cell_type": "markdown",
   "metadata": {},
   "source": [
    "WE USE INHERITANCE "
   ]
  },
  {
   "cell_type": "code",
   "execution_count": 40,
   "metadata": {},
   "outputs": [],
   "source": [
    "class Employee: # This is BASE Class\n",
    "    company = 'amaozn'\n",
    "    def show(self):\n",
    "        print(f'The name of person is {self.name}')\n",
    "        # Assume i need the company attribute to one more class\n",
    "        \n",
    "class company(Employee): # This is a INHERITED Class\n",
    "    # company = 'Google'--- Here also preference is given to Insstance Attribute\n",
    "    \n",
    "    # This class dosent have company but its inherited from the base class\n",
    "    def show(self):\n",
    "        print(f'The name of the person is {self.name}')"
   ]
  },
  {
   "cell_type": "code",
   "execution_count": 26,
   "metadata": {},
   "outputs": [],
   "source": [
    "a = Employee()\n",
    "b = company()"
   ]
  },
  {
   "cell_type": "code",
   "execution_count": 27,
   "metadata": {},
   "outputs": [
    {
     "name": "stdout",
     "output_type": "stream",
     "text": [
      "amaozn amaozn\n"
     ]
    }
   ],
   "source": [
    "print(a.company,b.company)"
   ]
  },
  {
   "cell_type": "markdown",
   "metadata": {},
   "source": [
    "Inhereting Methods form one class to another class"
   ]
  },
  {
   "cell_type": "code",
   "execution_count": 13,
   "metadata": {},
   "outputs": [],
   "source": [
    "class printOne: # BASE \n",
    "    # You can also have a class-attribute\n",
    "    my_name = \"hari\"\n",
    "    @staticmethod\n",
    "    def myname():\n",
    "        print(f'Hi my name is hari')\n",
    "\n",
    "class printTwo(printOne): # Inherited Class\n",
    "    @staticmethod\n",
    "    def anotherName():\n",
    "        print('Hi my name is nothing !!!')"
   ]
  },
  {
   "cell_type": "code",
   "execution_count": 14,
   "metadata": {},
   "outputs": [],
   "source": [
    "p1 = printOne()\n",
    "p2 = printTwo()"
   ]
  },
  {
   "cell_type": "code",
   "execution_count": 16,
   "metadata": {},
   "outputs": [
    {
     "name": "stdout",
     "output_type": "stream",
     "text": [
      "Hi my name is hari\n"
     ]
    }
   ],
   "source": [
    "p1.myname()"
   ]
  },
  {
   "cell_type": "code",
   "execution_count": 15,
   "metadata": {},
   "outputs": [
    {
     "name": "stdout",
     "output_type": "stream",
     "text": [
      "Hi my name is hari\n"
     ]
    }
   ],
   "source": [
    "p2.myname()"
   ]
  },
  {
   "cell_type": "code",
   "execution_count": 17,
   "metadata": {},
   "outputs": [
    {
     "ename": "AttributeError",
     "evalue": "'printOne' object has no attribute 'anotherName'",
     "output_type": "error",
     "traceback": [
      "\u001b[1;31m---------------------------------------------------------------------------\u001b[0m",
      "\u001b[1;31mAttributeError\u001b[0m                            Traceback (most recent call last)",
      "Cell \u001b[1;32mIn[17], line 1\u001b[0m\n\u001b[1;32m----> 1\u001b[0m p1\u001b[38;5;241m.\u001b[39manotherName()\n",
      "\u001b[1;31mAttributeError\u001b[0m: 'printOne' object has no attribute 'anotherName'"
     ]
    }
   ],
   "source": [
    "p1.anotherName()"
   ]
  },
  {
   "cell_type": "code",
   "execution_count": 18,
   "metadata": {},
   "outputs": [
    {
     "name": "stdout",
     "output_type": "stream",
     "text": [
      "Hi my name is nothing !!!\n"
     ]
    }
   ],
   "source": [
    "p2.anotherName()"
   ]
  },
  {
   "cell_type": "code",
   "execution_count": 19,
   "metadata": {},
   "outputs": [
    {
     "name": "stdout",
     "output_type": "stream",
     "text": [
      "Hi my name is hari\n"
     ]
    }
   ],
   "source": [
    "p2.myname()"
   ]
  },
  {
   "cell_type": "code",
   "execution_count": 21,
   "metadata": {},
   "outputs": [
    {
     "data": {
      "text/plain": [
       "'hari'"
      ]
     },
     "execution_count": 21,
     "metadata": {},
     "output_type": "execute_result"
    }
   ],
   "source": [
    "p2.my_name # Here i'm Accessing the Class attribute "
   ]
  },
  {
   "cell_type": "code",
   "execution_count": 23,
   "metadata": {},
   "outputs": [],
   "source": [
    "p2.my_name = \"hemanth\" # Instance Attribute"
   ]
  },
  {
   "cell_type": "code",
   "execution_count": 25,
   "metadata": {},
   "outputs": [],
   "source": [
    "class base:\n",
    "    @staticmethod\n",
    "    def hello():\n",
    "        print('BASE CLASS')\n",
    "        \n",
    "class one():\n",
    "    @staticmethod\n",
    "    def helloworld():\n",
    "        print('CLASS ONE')\n",
    "\n",
    "class two(base,one):\n",
    "    @staticmethod\n",
    "    def helloo():\n",
    "        print(\"CLASS TWO\")"
   ]
  },
  {
   "cell_type": "code",
   "execution_count": 19,
   "metadata": {},
   "outputs": [],
   "source": [
    "p = two()\n",
    "q = one()"
   ]
  },
  {
   "cell_type": "code",
   "execution_count": 4,
   "metadata": {},
   "outputs": [
    {
     "name": "stdout",
     "output_type": "stream",
     "text": [
      "hello world\n"
     ]
    }
   ],
   "source": [
    "# Base\n",
    "p.hello()"
   ]
  },
  {
   "cell_type": "code",
   "execution_count": 6,
   "metadata": {},
   "outputs": [
    {
     "name": "stdout",
     "output_type": "stream",
     "text": [
      "Hello world\n"
     ]
    }
   ],
   "source": [
    "# Class One\n",
    "p.helloworld()"
   ]
  },
  {
   "cell_type": "code",
   "execution_count": 12,
   "metadata": {},
   "outputs": [
    {
     "name": "stdout",
     "output_type": "stream",
     "text": [
      "sup ya'll\n"
     ]
    }
   ],
   "source": [
    "# Class two\n",
    "p.helloo()"
   ]
  },
  {
   "cell_type": "code",
   "execution_count": 22,
   "metadata": {},
   "outputs": [
    {
     "name": "stdout",
     "output_type": "stream",
     "text": [
      "CLASS ONE\n"
     ]
    }
   ],
   "source": [
    "q.helloworld()"
   ]
  },
  {
   "cell_type": "code",
   "execution_count": 23,
   "metadata": {},
   "outputs": [
    {
     "ename": "AttributeError",
     "evalue": "'one' object has no attribute 'hello'",
     "output_type": "error",
     "traceback": [
      "\u001b[1;31m---------------------------------------------------------------------------\u001b[0m",
      "\u001b[1;31mAttributeError\u001b[0m                            Traceback (most recent call last)",
      "Cell \u001b[1;32mIn[23], line 1\u001b[0m\n\u001b[1;32m----> 1\u001b[0m q\u001b[38;5;241m.\u001b[39mhello()\n",
      "\u001b[1;31mAttributeError\u001b[0m: 'one' object has no attribute 'hello'"
     ]
    }
   ],
   "source": [
    "q.hello()"
   ]
  },
  {
   "cell_type": "code",
   "execution_count": 26,
   "metadata": {},
   "outputs": [
    {
     "ename": "TypeError",
     "evalue": "Cannot create a consistent method resolution\norder (MRO) for bases base, one",
     "output_type": "error",
     "traceback": [
      "\u001b[1;31m---------------------------------------------------------------------------\u001b[0m",
      "\u001b[1;31mTypeError\u001b[0m                                 Traceback (most recent call last)",
      "Cell \u001b[1;32mIn[26], line 11\u001b[0m\n\u001b[0;32m      7\u001b[0m     \u001b[38;5;129m@staticmethod\u001b[39m\n\u001b[0;32m      8\u001b[0m     \u001b[38;5;28;01mdef\u001b[39;00m \u001b[38;5;21mhelloworld\u001b[39m():\n\u001b[0;32m      9\u001b[0m         \u001b[38;5;28mprint\u001b[39m(\u001b[38;5;124m'\u001b[39m\u001b[38;5;124mCLASS ONE\u001b[39m\u001b[38;5;124m'\u001b[39m)\n\u001b[1;32m---> 11\u001b[0m \u001b[38;5;28;01mclass\u001b[39;00m \u001b[38;5;21;01mtwo\u001b[39;00m(base,one):\n\u001b[0;32m     12\u001b[0m     \u001b[38;5;129m@staticmethod\u001b[39m\n\u001b[0;32m     13\u001b[0m     \u001b[38;5;28;01mdef\u001b[39;00m \u001b[38;5;21mhelloo\u001b[39m():\n\u001b[0;32m     14\u001b[0m         \u001b[38;5;28mprint\u001b[39m(\u001b[38;5;124m\"\u001b[39m\u001b[38;5;124mCLASS TWO\u001b[39m\u001b[38;5;124m\"\u001b[39m)\n",
      "\u001b[1;31mTypeError\u001b[0m: Cannot create a consistent method resolution\norder (MRO) for bases base, one"
     ]
    }
   ],
   "source": [
    "class base:\n",
    "    @staticmethod\n",
    "    def hello():\n",
    "        print('BASE CLASS')\n",
    "        \n",
    "class one(base): # WILL THROW AN ERROR\n",
    "    @staticmethod\n",
    "    def helloworld():\n",
    "        print('CLASS ONE')\n",
    "\n",
    "class two(base,one):\n",
    "    @staticmethod\n",
    "    def helloo():\n",
    "        print(\"CLASS TWO\")"
   ]
  },
  {
   "cell_type": "code",
   "execution_count": 27,
   "metadata": {},
   "outputs": [],
   "source": [
    "class base:\n",
    "    @staticmethod\n",
    "    def hello():\n",
    "        print('BASE CLASS')\n",
    "        \n",
    "class one(base):\n",
    "    @staticmethod\n",
    "    def helloworld():\n",
    "        print('CLASS ONE')\n",
    "\n",
    "class two(one):\n",
    "    @staticmethod\n",
    "    def helloo():\n",
    "        print(\"CLASS TWO\")"
   ]
  },
  {
   "cell_type": "code",
   "execution_count": 28,
   "metadata": {},
   "outputs": [],
   "source": [
    "a = two()"
   ]
  },
  {
   "cell_type": "code",
   "execution_count": 30,
   "metadata": {},
   "outputs": [
    {
     "name": "stdout",
     "output_type": "stream",
     "text": [
      "BASE CLASS\n"
     ]
    }
   ],
   "source": [
    "a.hello()"
   ]
  },
  {
   "cell_type": "code",
   "execution_count": 31,
   "metadata": {},
   "outputs": [
    {
     "name": "stdout",
     "output_type": "stream",
     "text": [
      "CLASS ONE\n"
     ]
    }
   ],
   "source": [
    "a.helloworld()"
   ]
  },
  {
   "cell_type": "code",
   "execution_count": 32,
   "metadata": {},
   "outputs": [
    {
     "name": "stdout",
     "output_type": "stream",
     "text": [
      "CLASS TWO\n"
     ]
    }
   ],
   "source": [
    "a.helloo()"
   ]
  },
  {
   "cell_type": "markdown",
   "metadata": {},
   "source": [
    "THE PERFECT GUESS GAME"
   ]
  },
  {
   "cell_type": "code",
   "execution_count": 10,
   "metadata": {},
   "outputs": [
    {
     "name": "stdout",
     "output_type": "stream",
     "text": [
      "greater\n",
      "greater\n",
      "greater\n",
      "greater\n",
      "greater\n",
      "greater\n",
      "greater\n",
      "You got the value 6 and you toook 7 trials\n"
     ]
    }
   ],
   "source": [
    "import random \n",
    "value = random.randint(1,10)\n",
    "count = 0\n",
    "# print(value)\n",
    "user_int = int(input('Enter the number from 1-10'))\n",
    "# Itteration\n",
    "while user_int != value:\n",
    "    user_int = int(input('Enter the number from 1-10'))\n",
    "    if user_int == [\"/.,;'[]-=)(*&^%$#@!-+*/.)\"]:\n",
    "            break \n",
    "    if user_int > 10 or user_int < 0:\n",
    "        print('The Value must be in the range of 1 - 10')\n",
    "        break\n",
    "    if user_int > value:\n",
    "            print('lesser')\n",
    "            count+=1\n",
    "    elif user_int < value:\n",
    "            print('greater')\n",
    "            count+=1\n",
    "    else:\n",
    "        print(f'You got the value {value} and you toook {count} trials')"
   ]
  },
  {
   "cell_type": "markdown",
   "metadata": {},
   "source": [
    "Sample Try and Exception Block"
   ]
  },
  {
   "cell_type": "code",
   "execution_count": 7,
   "metadata": {},
   "outputs": [
    {
     "name": "stdout",
     "output_type": "stream",
     "text": [
      "5\n"
     ]
    }
   ],
   "source": [
    "inpu = input('Enter a number : ')\n",
    "try:\n",
    "    if int(inpu) > 0:\n",
    "        print(inpu)\n",
    "except Exception as e:\n",
    "    print(e)"
   ]
  },
  {
   "cell_type": "code",
   "execution_count": null,
   "metadata": {},
   "outputs": [],
   "source": []
  }
 ],
 "metadata": {
  "kernelspec": {
   "display_name": "base",
   "language": "python",
   "name": "python3"
  },
  "language_info": {
   "codemirror_mode": {
    "name": "ipython",
    "version": 3
   },
   "file_extension": ".py",
   "mimetype": "text/x-python",
   "name": "python",
   "nbconvert_exporter": "python",
   "pygments_lexer": "ipython3",
   "version": "3.11.7"
  }
 },
 "nbformat": 4,
 "nbformat_minor": 2
}
