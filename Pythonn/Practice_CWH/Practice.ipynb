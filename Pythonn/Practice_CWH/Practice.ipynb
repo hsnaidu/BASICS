{
 "cells": [
  {
   "cell_type": "code",
   "execution_count": 10,
   "metadata": {},
   "outputs": [],
   "source": [
    "# WAP for number to english translation\n",
    "number_dict = {}\n",
    "\n",
    "number_dict.update({1 : 'One'})\n",
    "number_dict.update({2 : 'Two'})\n",
    "number_dict.update({3 : 'Three'})\n",
    "number_dict.update({4 : 'Four'})"
   ]
  },
  {
   "cell_type": "code",
   "execution_count": 11,
   "metadata": {},
   "outputs": [
    {
     "name": "stdout",
     "output_type": "stream",
     "text": [
      "One\n"
     ]
    }
   ],
   "source": [
    "Number_to_word = int(input('Enter the number : '))\n",
    "print(number_dict[Number_to_word])"
   ]
  },
  {
   "cell_type": "markdown",
   "metadata": {},
   "source": [
    "Same methods works for translation"
   ]
  },
  {
   "cell_type": "code",
   "execution_count": 16,
   "metadata": {},
   "outputs": [],
   "source": [
    "# WAP to see how many unique numbers we have\n",
    "sample_dict = {}\n",
    "count = 1\n",
    "for i in range(8):    \n",
    "    number = int(input('Enter the number :'))\n",
    "    if number not in sample_dict.keys():\n",
    "        sample_dict.update({number : count})\n",
    "    else:\n",
    "        sample_dict[number] +=1"
   ]
  },
  {
   "cell_type": "code",
   "execution_count": 17,
   "metadata": {},
   "outputs": [
    {
     "name": "stdout",
     "output_type": "stream",
     "text": [
      "{1: 3, 2: 1, 3: 1, 4: 1, 5: 1, 6: 1}\n"
     ]
    }
   ],
   "source": [
    "print(sample_dict)\n"
   ]
  },
  {
   "cell_type": "code",
   "execution_count": 19,
   "metadata": {},
   "outputs": [
    {
     "data": {
      "text/plain": [
       "dict_keys([1, 2, 3, 4, 5, 6])"
      ]
     },
     "execution_count": 19,
     "metadata": {},
     "output_type": "execute_result"
    }
   ],
   "source": [
    "sample_dict.keys()"
   ]
  },
  {
   "cell_type": "code",
   "execution_count": 29,
   "metadata": {},
   "outputs": [
    {
     "name": "stdout",
     "output_type": "stream",
     "text": [
      "{18, '18'}\n"
     ]
    }
   ],
   "source": [
    "# Can we have a set with 18(int) and 18(str) : YES \n",
    "    # Since set cannot handle suplicate values but they can handle multiple data-types\n",
    "\n",
    "sample_set = set()\n",
    "sample_set.add(18)\n",
    "# sample_set.add(18.0) # For Checking \n",
    "sample_set.add('18')\n",
    "print(sample_set)"
   ]
  },
  {
   "cell_type": "code",
   "execution_count": 30,
   "metadata": {},
   "outputs": [],
   "source": [
    "# "
   ]
  },
  {
   "cell_type": "code",
   "execution_count": 35,
   "metadata": {},
   "outputs": [
    {
     "name": "stdout",
     "output_type": "stream",
     "text": [
      "1\n"
     ]
    }
   ],
   "source": [
    "# What will be the length of following set\n",
    "sample_set = {20,20.0} # Duplicate 20 (even though it in float and int it considers it as 1)\n",
    "print(len(sample_set)) # 1"
   ]
  },
  {
   "cell_type": "code",
   "execution_count": 36,
   "metadata": {},
   "outputs": [
    {
     "data": {
      "text/plain": [
       "dict"
      ]
     },
     "execution_count": 36,
     "metadata": {},
     "output_type": "execute_result"
    }
   ],
   "source": [
    "# What is the type of 's'\n",
    "s = {} # Dictionary\n",
    "type(s)"
   ]
  },
  {
   "cell_type": "code",
   "execution_count": 3,
   "metadata": {},
   "outputs": [],
   "source": [
    "# WAP 4 Friends adding, their FAV Language\n",
    "friend_dict = {}\n",
    "for i in range(4):\n",
    "    name = input('Enter your name : ')\n",
    "    language = input('Enter your fav language : ')\n",
    "    friend_dict[name] = language"
   ]
  },
  {
   "cell_type": "code",
   "execution_count": 4,
   "metadata": {},
   "outputs": [
    {
     "name": "stdout",
     "output_type": "stream",
     "text": [
      "{'hari': 'python', 'james': 'java', 'jimmy': 'c', 'john': 'cobol'}\n"
     ]
    }
   ],
   "source": [
    "print(friend_dict)"
   ]
  },
  {
   "cell_type": "code",
   "execution_count": null,
   "metadata": {},
   "outputs": [],
   "source": [
    "# WAP what will happen with the same name \n",
    "    # It just skipped with the same key-name \n",
    "friend_dict = {}\n",
    "for i in range(2):\n",
    "    name = input('Enter your name : ')\n",
    "    language = input('Enter your fav language : ')\n",
    "    if name not in friend_dict:\n",
    "        friend_dict[name] = language\n",
    "    else:\n",
    "        friend_dict[name + '_Duplicate'] = language\n",
    "            # Or i can just throw an error telling name already exist : Same used in the taking unique user name\n",
    "        # Here if the name repeats i have just added the loops idx as the key"
   ]
  },
  {
   "cell_type": "code",
   "execution_count": 19,
   "metadata": {},
   "outputs": [
    {
     "name": "stdout",
     "output_type": "stream",
     "text": [
      "{'hari': 'python', 'hari_Duplicate': 'python'}\n"
     ]
    }
   ],
   "source": [
    "print(friend_dict)"
   ]
  },
  {
   "cell_type": "code",
   "execution_count": 24,
   "metadata": {},
   "outputs": [],
   "source": [
    "# If languages of two friends are same it just takes cause the values can be anything\n",
    "sample_dict = {}\n",
    "for i in range(2):\n",
    "    key = i\n",
    "    value = 'Same Value'\n",
    "    sample_dict[key] = value"
   ]
  },
  {
   "cell_type": "code",
   "execution_count": 25,
   "metadata": {},
   "outputs": [
    {
     "name": "stdout",
     "output_type": "stream",
     "text": [
      "{0: 'Same Value', 1: 'Same Value'}\n",
      "dict_values(['Same Value', 'Same Value'])\n"
     ]
    }
   ],
   "source": [
    "print(sample_dict)\n",
    "print(sample_dict.values())"
   ]
  },
  {
   "cell_type": "code",
   "execution_count": 5,
   "metadata": {},
   "outputs": [],
   "source": [
    "# WAP to print a multiplication table \n",
    "def multiplication_table(number,end):\n",
    "    for i in range(1,end+1):\n",
    "        print(f'{number} x {i} = {i*number}')"
   ]
  },
  {
   "cell_type": "code",
   "execution_count": 6,
   "metadata": {},
   "outputs": [
    {
     "name": "stdout",
     "output_type": "stream",
     "text": [
      "5 x 1 = 5\n",
      "5 x 2 = 10\n",
      "5 x 3 = 15\n",
      "5 x 4 = 20\n",
      "5 x 5 = 25\n",
      "5 x 6 = 30\n",
      "5 x 7 = 35\n",
      "5 x 8 = 40\n",
      "5 x 9 = 45\n",
      "5 x 10 = 50\n",
      "5 x 11 = 55\n",
      "5 x 12 = 60\n",
      "5 x 13 = 65\n",
      "5 x 14 = 70\n",
      "5 x 15 = 75\n"
     ]
    }
   ],
   "source": [
    "multiplication_table(5,15)"
   ]
  },
  {
   "cell_type": "code",
   "execution_count": 14,
   "metadata": {},
   "outputs": [],
   "source": [
    "# Same problem using the while-loop\n",
    "def while_multi_table(number,end):\n",
    "    i = 1\n",
    "    while i <= end:\n",
    "        print(f'{number} x {i} = {i*number}')\n",
    "        i+=1"
   ]
  },
  {
   "cell_type": "code",
   "execution_count": 15,
   "metadata": {},
   "outputs": [
    {
     "name": "stdout",
     "output_type": "stream",
     "text": [
      "2 x 1 = 2\n",
      "2 x 2 = 4\n",
      "2 x 3 = 6\n",
      "2 x 4 = 8\n",
      "2 x 5 = 10\n",
      "2 x 6 = 12\n",
      "2 x 7 = 14\n",
      "2 x 8 = 16\n",
      "2 x 9 = 18\n",
      "2 x 10 = 20\n"
     ]
    }
   ],
   "source": [
    "while_multi_table(2,10)"
   ]
  },
  {
   "cell_type": "code",
   "execution_count": 16,
   "metadata": {},
   "outputs": [
    {
     "name": "stdout",
     "output_type": "stream",
     "text": [
      "harry\n",
      "potter\n",
      "voldemort\n"
     ]
    }
   ],
   "source": [
    "# Print the elements in the list\n",
    "l = ['harry','potter','voldemort']\n",
    "for i in l:\n",
    "    print(i)"
   ]
  },
  {
   "cell_type": "code",
   "execution_count": 17,
   "metadata": {},
   "outputs": [],
   "source": [
    "# WAP to find the sum of N Natural Number\n",
    "def natural_number(number):\n",
    "    temp = 0\n",
    "    for i in range(number):\n",
    "        num = int(input('Enter the number : '))\n",
    "        temp = num + temp\n",
    "    return temp"
   ]
  },
  {
   "cell_type": "code",
   "execution_count": 18,
   "metadata": {},
   "outputs": [
    {
     "data": {
      "text/plain": [
       "6"
      ]
     },
     "execution_count": 18,
     "metadata": {},
     "output_type": "execute_result"
    }
   ],
   "source": [
    "natural_number(3)"
   ]
  },
  {
   "cell_type": "code",
   "execution_count": null,
   "metadata": {},
   "outputs": [],
   "source": [
    "# WAP to calculate the factorial of a number\n",
    "def fact(Number):\n",
    "    fact = 0\n",
    "    for i in range(1,Number):\n",
    "        Number*=i\n",
    "        # 3 * 1 = 3\n",
    "        # 3 * 2 = 6\n",
    "    return Number"
   ]
  },
  {
   "cell_type": "code",
   "execution_count": 32,
   "metadata": {},
   "outputs": [
    {
     "data": {
      "text/plain": [
       "6"
      ]
     },
     "execution_count": 32,
     "metadata": {},
     "output_type": "execute_result"
    }
   ],
   "source": [
    "fact(3)\n",
    "# 3 x 2"
   ]
  },
  {
   "cell_type": "code",
   "execution_count": 38,
   "metadata": {},
   "outputs": [],
   "source": [
    "# WAP to print a multiplication table in reverse order\n",
    "def multiplication_table(number,end):\n",
    "    for i in range(end,0,-1):\n",
    "        print(f'{number} x {i} = {i*number}')"
   ]
  },
  {
   "cell_type": "code",
   "execution_count": 39,
   "metadata": {},
   "outputs": [
    {
     "name": "stdout",
     "output_type": "stream",
     "text": [
      "2 x 10 = 20\n",
      "2 x 9 = 18\n",
      "2 x 8 = 16\n",
      "2 x 7 = 14\n",
      "2 x 6 = 12\n",
      "2 x 5 = 10\n",
      "2 x 4 = 8\n",
      "2 x 3 = 6\n",
      "2 x 2 = 4\n",
      "2 x 1 = 2\n"
     ]
    }
   ],
   "source": [
    "multiplication_table(2,10)"
   ]
  },
  {
   "cell_type": "code",
   "execution_count": null,
   "metadata": {},
   "outputs": [
    {
     "name": "stdout",
     "output_type": "stream",
     "text": [
      "0\n",
      "1\n",
      "2\n",
      "3\n",
      "4\n",
      "5\n"
     ]
    }
   ],
   "source": [
    "i = 0\n",
    "while i < 6 :\n",
    "    print(i)\n",
    "    i += 1"
   ]
  },
  {
   "cell_type": "code",
   "execution_count": 4,
   "metadata": {},
   "outputs": [],
   "source": [
    "# WAP to find the greatest of n numbers\n",
    "def greatest(numbers):\n",
    "    l = []\n",
    "    for i in range(numbers):\n",
    "        entry = int(input('Enter the numbers : '))\n",
    "        l.append(entry)\n",
    "    return max(l)"
   ]
  },
  {
   "cell_type": "code",
   "execution_count": 6,
   "metadata": {},
   "outputs": [
    {
     "data": {
      "text/plain": [
       "1230"
      ]
     },
     "execution_count": 6,
     "metadata": {},
     "output_type": "execute_result"
    }
   ],
   "source": [
    "greatest(3)"
   ]
  },
  {
   "cell_type": "code",
   "execution_count": 14,
   "metadata": {},
   "outputs": [],
   "source": [
    "# WAP to convert C - > F\n",
    "def temp_convertor(value = 0):\n",
    "    return (value * 9/5) + 32.0 # Equation from Google\n",
    "    "
   ]
  },
  {
   "cell_type": "code",
   "execution_count": 13,
   "metadata": {},
   "outputs": [
    {
     "data": {
      "text/plain": [
       "73.4"
      ]
     },
     "execution_count": 13,
     "metadata": {},
     "output_type": "execute_result"
    }
   ],
   "source": [
    "temp_convertor(23)"
   ]
  },
  {
   "cell_type": "code",
   "execution_count": 18,
   "metadata": {},
   "outputs": [
    {
     "name": "stdout",
     "output_type": "stream",
     "text": [
      "some-equation was taken from google\n",
      "hello world\n"
     ]
    }
   ],
   "source": [
    "print(\"some-equation was taken from google\", end='\\n')\n",
    "print('hello world')"
   ]
  },
  {
   "cell_type": "markdown",
   "metadata": {},
   "source": [
    "SNAKE-WATER-GUN"
   ]
  },
  {
   "cell_type": "markdown",
   "metadata": {},
   "source": [
    "https://www.geeksforgeeks.org/snake-water-gun-game-using-python/"
   ]
  },
  {
   "cell_type": "code",
   "execution_count": 10,
   "metadata": {},
   "outputs": [
    {
     "name": "stdout",
     "output_type": "stream",
     "text": [
      "User : snake and Computer : water\n",
      "Human Win\n",
      "User : snake and Computer : water\n",
      "Human Win\n",
      "User : snake and Computer : water\n",
      "Human Win\n",
      "User : water and Computer : water\n",
      "DRAW !!\n",
      "User : gun and Computer : water\n",
      "Computer Win\n",
      "User : water and Computer : water\n",
      "DRAW !!\n",
      "User : gun and Computer : water\n",
      "Computer Win\n"
     ]
    }
   ],
   "source": [
    "# Taking the input from computer\n",
    "    # Coputer taking random-guess\n",
    "import random\n",
    "comp_value = random.choice([-1,1,0])\n",
    "\n",
    "# User and computer-dictionary for mapping \n",
    "user_dictionary = {\"snake\" : 1 , \"water\" : 0, \"gun\" : -1}\n",
    "computer_dictionary = {1 : \"snake\" , 0 : \"water\", -1 : \"gun\"}\n",
    "\n",
    "\n",
    "for i in range(7):\n",
    "    computer_value = comp_value # Random-Choice\n",
    "\n",
    "    # user_value = input('Enter your choice : ')\n",
    "    user_value = random.choice(['snake','water','gun'])\n",
    "    print(f\"User : {user_value} and Computer : {computer_dictionary[comp_value]}\")\n",
    "\n",
    "    # Logic- Part\n",
    "\n",
    "    if computer_value == user_dictionary[user_value]:\n",
    "        print('DRAW !!')\n",
    "    elif computer_value == 1 and user_dictionary[user_value] == 0:\n",
    "        print('Computer Win')\n",
    "\n",
    "    elif computer_value == 0 and user_dictionary[user_value] == -1:\n",
    "        print('Computer Win')\n",
    "\n",
    "    elif computer_value == -1 and user_dictionary[user_value] == 1:\n",
    "        print('Computer Win')\n",
    "    else:\n",
    "        print('Human Win')"
   ]
  },
  {
   "cell_type": "code",
   "execution_count": null,
   "metadata": {},
   "outputs": [],
   "source": []
  }
 ],
 "metadata": {
  "kernelspec": {
   "display_name": "base",
   "language": "python",
   "name": "python3"
  },
  "language_info": {
   "codemirror_mode": {
    "name": "ipython",
    "version": 3
   },
   "file_extension": ".py",
   "mimetype": "text/x-python",
   "name": "python",
   "nbconvert_exporter": "python",
   "pygments_lexer": "ipython3",
   "version": "3.11.7"
  }
 },
 "nbformat": 4,
 "nbformat_minor": 2
}
