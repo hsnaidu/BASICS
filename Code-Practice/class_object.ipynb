{
 "cells": [
  {
   "cell_type": "markdown",
   "id": "66b87ef4",
   "metadata": {},
   "source": [
    "Sample OOP Programs"
   ]
  },
  {
   "cell_type": "code",
   "execution_count": 2,
   "id": "21684e5b",
   "metadata": {},
   "outputs": [],
   "source": [
    "# Basics\n",
    "# Bank-system\n",
    "# Railway booking\n",
    "# Employeee"
   ]
  },
  {
   "cell_type": "code",
   "execution_count": 3,
   "id": "f5ab14b9",
   "metadata": {},
   "outputs": [],
   "source": [
    "# Design a person class \n",
    "\n",
    "class person:\n",
    "    def __init__ (self, name,age): # initially, I need people to fill\n",
    "        self.name = name # I'm Assigning this to entire program\n",
    "        self.age = age\n",
    "        print('This executes no matter what...')\n",
    "    \n",
    "    def info(self):\n",
    "        print(f'Hi my name is {self.name}')\n",
    "        if self.age > 18:\n",
    "            print(f'Hi my age is {self.age}')"
   ]
  },
  {
   "cell_type": "code",
   "execution_count": 4,
   "id": "07ebd26e",
   "metadata": {},
   "outputs": [
    {
     "name": "stdout",
     "output_type": "stream",
     "text": [
      "This executes no matter what...\n"
     ]
    }
   ],
   "source": [
    "a_100 = person(name = \"hari\", age = 24)"
   ]
  },
  {
   "cell_type": "code",
   "execution_count": 5,
   "id": "2ddba80c",
   "metadata": {},
   "outputs": [
    {
     "name": "stdout",
     "output_type": "stream",
     "text": [
      "Hi my name is hari\n",
      "Hi my age is 24\n"
     ]
    }
   ],
   "source": [
    "a_100.info()"
   ]
  },
  {
   "cell_type": "code",
   "execution_count": 44,
   "id": "c055a8d6",
   "metadata": {},
   "outputs": [],
   "source": [
    "# Creating a Banking system\n",
    "class bank:\n",
    "    def __init__(self, name, age, branch):\n",
    "        self.name = name\n",
    "        self.age = age\n",
    "        self.branch = branch\n",
    "        self.balance = 0\n",
    "        self.bank = \"HXFX\"\n",
    "        self.passbook = {}\n",
    "        print('Bank account has been created ..')\n",
    "\n",
    "    def checkbal(self):\n",
    "        self.passbook['Balance'] = self.balance\n",
    "        return f\"Your Balance is {self.balance}\"\n",
    "    \n",
    "    def deposite(self):\n",
    "        self.amount = int(input('Enter the Amonut for Deposite : '))\n",
    "        self.balance+=self.amount\n",
    "        self.passbook['Deposite'] = self.amount\n",
    "        self.passbook['Balance'] = self.balance\n",
    "        return f\"Amt is deposited avl bal {self.balance}\"\n",
    "    \n",
    "    def withdrawl(self):\n",
    "        self.amount = int(input('Enter the Amonut for Withdrawl : '))\n",
    "        if self.amount > self.balance:\n",
    "            return -1\n",
    "        else:\n",
    "            self.balance-=self.amount\n",
    "            self.passbook['Withdrawl'] = self.amount\n",
    "            self.passbook['Balance'] = self.balance\n",
    "            print(f\"You withdrawed amount of {self.amount}\")\n",
    "            return f\"Amt is deposited avl bal {self.balance}\"\n",
    "    \n",
    "    def getInfo(self):\n",
    "        print('Name : ', self.name)\n",
    "        print('Age : ', self.age)\n",
    "        print('Branch : ', self.branch)\n",
    "        print('Balance : ', self.balance)\n",
    "        print(self.passbook)\n",
    "\n",
    "    # @staticmethod\n",
    "    def info(self):\n",
    "        return f'Name-bank : {self.bank}, Branch : {self.branch}'\n"
   ]
  },
  {
   "cell_type": "code",
   "execution_count": 45,
   "id": "d0b2b057",
   "metadata": {},
   "outputs": [
    {
     "name": "stdout",
     "output_type": "stream",
     "text": [
      "Bank account has been created ..\n"
     ]
    }
   ],
   "source": [
    "a_101 = bank(name = \"hari\", age = 24, branch='YPR')"
   ]
  },
  {
   "cell_type": "code",
   "execution_count": 46,
   "id": "69e605b3",
   "metadata": {},
   "outputs": [
    {
     "name": "stdout",
     "output_type": "stream",
     "text": [
      "Name :  hari\n",
      "Age :  24\n",
      "Branch :  YPR\n",
      "Balance :  0\n",
      "{}\n"
     ]
    }
   ],
   "source": [
    "a_101.getInfo()"
   ]
  },
  {
   "cell_type": "code",
   "execution_count": 47,
   "id": "bb684e2f",
   "metadata": {},
   "outputs": [
    {
     "data": {
      "text/plain": [
       "'Your Balance is 0'"
      ]
     },
     "execution_count": 47,
     "metadata": {},
     "output_type": "execute_result"
    }
   ],
   "source": [
    "a_101.checkbal()"
   ]
  },
  {
   "cell_type": "code",
   "execution_count": 48,
   "id": "e3234754",
   "metadata": {},
   "outputs": [
    {
     "data": {
      "text/plain": [
       "'Amt is deposited avl bal 2000'"
      ]
     },
     "execution_count": 48,
     "metadata": {},
     "output_type": "execute_result"
    }
   ],
   "source": [
    "a_101.deposite()"
   ]
  },
  {
   "cell_type": "code",
   "execution_count": 49,
   "id": "42fd9a1b",
   "metadata": {},
   "outputs": [
    {
     "name": "stdout",
     "output_type": "stream",
     "text": [
      "Name :  hari\n",
      "Age :  24\n",
      "Branch :  YPR\n",
      "Balance :  2000\n",
      "{'Balance': 2000, 'Deposite': 2000}\n"
     ]
    }
   ],
   "source": [
    "a_101.getInfo()"
   ]
  },
  {
   "cell_type": "code",
   "execution_count": 50,
   "id": "4b49a853",
   "metadata": {},
   "outputs": [
    {
     "data": {
      "text/plain": [
       "'Amt is deposited avl bal 3000'"
      ]
     },
     "execution_count": 50,
     "metadata": {},
     "output_type": "execute_result"
    }
   ],
   "source": [
    "a_101.deposite()"
   ]
  },
  {
   "cell_type": "code",
   "execution_count": 41,
   "id": "5223f2f5",
   "metadata": {},
   "outputs": [
    {
     "name": "stdout",
     "output_type": "stream",
     "text": [
      "Name :  hari\n",
      "Age :  24\n",
      "Branch :  YPR\n",
      "Balance :  1100\n",
      "{'Balance': 1100, 'Deposite': 100}\n"
     ]
    }
   ],
   "source": [
    "a_101.getInfo()"
   ]
  },
  {
   "cell_type": "code",
   "execution_count": 51,
   "id": "762f8770",
   "metadata": {},
   "outputs": [
    {
     "name": "stdout",
     "output_type": "stream",
     "text": [
      "You withdrawed amount of 1000\n"
     ]
    },
    {
     "data": {
      "text/plain": [
       "'Amt is deposited avl bal 2000'"
      ]
     },
     "execution_count": 51,
     "metadata": {},
     "output_type": "execute_result"
    }
   ],
   "source": [
    "a_101.withdrawl()"
   ]
  },
  {
   "cell_type": "code",
   "execution_count": 52,
   "id": "ce8b515d",
   "metadata": {},
   "outputs": [
    {
     "name": "stdout",
     "output_type": "stream",
     "text": [
      "Name :  hari\n",
      "Age :  24\n",
      "Branch :  YPR\n",
      "Balance :  2000\n",
      "{'Balance': 2000, 'Deposite': 1000, 'Withdrawl': 1000}\n"
     ]
    }
   ],
   "source": [
    "a_101.getInfo()"
   ]
  },
  {
   "cell_type": "code",
   "execution_count": 53,
   "id": "98dc7d9a",
   "metadata": {},
   "outputs": [
    {
     "data": {
      "text/plain": [
       "'Name-bank : HXFX, Branch : YPR'"
      ]
     },
     "execution_count": 53,
     "metadata": {},
     "output_type": "execute_result"
    }
   ],
   "source": [
    "a_101.info()"
   ]
  },
  {
   "cell_type": "code",
   "execution_count": 106,
   "id": "9e45ec26",
   "metadata": {},
   "outputs": [],
   "source": [
    "# Connect the railway booking to the bankaccount\n",
    "class railway(bank):\n",
    "    def __init__(self, name, age, branch):\n",
    "        super().__init__(name, age, branch)\n",
    "        print(self.name, self.age, self.branch)\n",
    "\n",
    "    def booktickt(self):\n",
    "        print(f'Booking Name : {self.name}')\n",
    "        self.each_ticket = 150\n",
    "        self.seat = int(input('Enter how many persons : '))\n",
    "        self.boarding = input('Enter the Boarding Station : ')\n",
    "        self.destination = input('Enter the Destiation Station : ')\n",
    "        return f\" Name : {self.name}, Booked Tickets from {self.boarding} -> {self.destination} total cost \\\n",
    "        {self.each_ticket * self.seat}\"\n",
    "\n",
    "    def book(self):\n",
    "        print(f\"Avl Balance in bank-account is : {self.balance}\")\n",
    "        if (self.each_ticket * self.seat) > self.balance:\n",
    "            return -1\n",
    "        else:\n",
    "            print(f\"Ticket Cost : {self.each_ticket * self.seat}\")\n",
    "            self.balance -= self.each_ticket * self.seat\n",
    "            print(f'Remaining balance is {self.balance}')\n",
    "\n",
    "    def info(self):\n",
    "        print(f'{self.name}')\n",
    "        print(f'Tickets from {self.boarding} - > {self.destination}')\n",
    "        print(f'Number of Passangers is : {self.seat}')\n",
    "        print(f'Price {self.each_ticket * self.seat}')\n",
    "        print(f'Avl Balance in your bank account : {self.balance}')\n",
    "\n"
   ]
  },
  {
   "cell_type": "code",
   "execution_count": 107,
   "id": "80cc96cd",
   "metadata": {},
   "outputs": [
    {
     "name": "stdout",
     "output_type": "stream",
     "text": [
      "Bank account has been created ..\n",
      "hari 24 YPR\n"
     ]
    }
   ],
   "source": [
    "a_102 = railway(name=\"hari\", age = 24, branch='YPR')\n",
    "# Here\n",
    "# 1000 is my initial bal\n",
    "# Now i can access all the function which is there in the bank even the attributes "
   ]
  },
  {
   "cell_type": "code",
   "execution_count": 108,
   "id": "713b4c77",
   "metadata": {},
   "outputs": [
    {
     "data": {
      "text/plain": [
       "'Amt is deposited avl bal 5000'"
      ]
     },
     "execution_count": 108,
     "metadata": {},
     "output_type": "execute_result"
    }
   ],
   "source": [
    "# This is extracted from the bank class\n",
    "a_102.deposite()"
   ]
  },
  {
   "cell_type": "code",
   "execution_count": 109,
   "id": "b96b202a",
   "metadata": {},
   "outputs": [
    {
     "data": {
      "text/plain": [
       "'Your Balance is 5000'"
      ]
     },
     "execution_count": 109,
     "metadata": {},
     "output_type": "execute_result"
    }
   ],
   "source": [
    "a_102.checkbal()"
   ]
  },
  {
   "cell_type": "code",
   "execution_count": 110,
   "id": "a713cb64",
   "metadata": {},
   "outputs": [
    {
     "name": "stdout",
     "output_type": "stream",
     "text": [
      "Booking Name : hari\n"
     ]
    },
    {
     "data": {
      "text/plain": [
       "' Name : hari, Booked Tickets from YPR -> OOTY total cost         750'"
      ]
     },
     "execution_count": 110,
     "metadata": {},
     "output_type": "execute_result"
    }
   ],
   "source": [
    "a_102.booktickt()"
   ]
  },
  {
   "cell_type": "code",
   "execution_count": 111,
   "id": "d00775f8",
   "metadata": {},
   "outputs": [
    {
     "name": "stdout",
     "output_type": "stream",
     "text": [
      "Avl Balance in bank-account is : 5000\n",
      "Ticket Cost : 750\n",
      "Remaining balance is 4250\n"
     ]
    }
   ],
   "source": [
    "a_102.book()"
   ]
  },
  {
   "cell_type": "code",
   "execution_count": 112,
   "id": "7cf60b07",
   "metadata": {},
   "outputs": [
    {
     "name": "stdout",
     "output_type": "stream",
     "text": [
      "hari\n",
      "Tickets from YPR - > OOTY\n",
      "Number of Passangers is : 5\n",
      "Price 750\n",
      "Avl Balance in your bank account : 4250\n"
     ]
    }
   ],
   "source": [
    "a_102.info()"
   ]
  },
  {
   "cell_type": "code",
   "execution_count": null,
   "id": "beda211f",
   "metadata": {},
   "outputs": [],
   "source": []
  },
  {
   "cell_type": "code",
   "execution_count": null,
   "id": "620f9725",
   "metadata": {},
   "outputs": [],
   "source": []
  }
 ],
 "metadata": {
  "kernelspec": {
   "display_name": "base",
   "language": "python",
   "name": "python3"
  },
  "language_info": {
   "codemirror_mode": {
    "name": "ipython",
    "version": 3
   },
   "file_extension": ".py",
   "mimetype": "text/x-python",
   "name": "python",
   "nbconvert_exporter": "python",
   "pygments_lexer": "ipython3",
   "version": "3.12.3"
  }
 },
 "nbformat": 4,
 "nbformat_minor": 5
}
