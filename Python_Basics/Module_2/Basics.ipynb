{
 "cells": [
  {
   "cell_type": "markdown",
   "metadata": {},
   "source": [
    "STRINGS"
   ]
  },
  {
   "cell_type": "code",
   "execution_count": 15,
   "metadata": {},
   "outputs": [],
   "source": [
    "str1 = \"hello \\n world\" # \\n Escape Sequence : NEXT LINE\n",
    "str2 = 'hello\\tworld' # \\t Escape Sequence : GIVES A TAB SPACE\n",
    "str3 = \"\"\" hello \n",
    "* ----- YOU CANNOT DO THIS WITH A SINGLE OR A DOUBLE QUOTE ----- *\n",
    "world \"\"\""
   ]
  },
  {
   "cell_type": "code",
   "execution_count": 16,
   "metadata": {},
   "outputs": [
    {
     "name": "stdout",
     "output_type": "stream",
     "text": [
      "hello \tworld\n"
     ]
    }
   ],
   "source": [
    "print(str2)"
   ]
  },
  {
   "cell_type": "markdown",
   "metadata": {},
   "source": [
    "OPERATION ON STRINGS"
   ]
  },
  {
   "cell_type": "code",
   "execution_count": 24,
   "metadata": {},
   "outputs": [
    {
     "name": "stdout",
     "output_type": "stream",
     "text": [
      "hello world\n"
     ]
    }
   ],
   "source": [
    "# 1. CONCATINATION..\n",
    "\n",
    "first_word = \"hello \"\n",
    "second_word = \"world\"\n",
    "print(first_word + second_word)"
   ]
  },
  {
   "cell_type": "code",
   "execution_count": 26,
   "metadata": {},
   "outputs": [
    {
     "data": {
      "text/plain": [
       "6"
      ]
     },
     "execution_count": 26,
     "metadata": {},
     "output_type": "execute_result"
    }
   ],
   "source": [
    "# 2. LENGTH OF STRING..\n",
    "\n",
    "len(first_word)\n",
    "# Also counts space, special-character"
   ]
  },
  {
   "cell_type": "code",
   "execution_count": 30,
   "metadata": {},
   "outputs": [
    {
     "name": "stdout",
     "output_type": "stream",
     "text": [
      "h\n",
      " \n"
     ]
    }
   ],
   "source": [
    "# 3.  INDEXING..\n",
    "print(first_word[0])\n",
    "print(first_word[-1]) # This prints space"
   ]
  },
  {
   "cell_type": "code",
   "execution_count": 31,
   "metadata": {},
   "outputs": [
    {
     "ename": "TypeError",
     "evalue": "'str' object does not support item assignment",
     "output_type": "error",
     "traceback": [
      "\u001b[1;31m---------------------------------------------------------------------------\u001b[0m",
      "\u001b[1;31mTypeError\u001b[0m                                 Traceback (most recent call last)",
      "Cell \u001b[1;32mIn[31], line 2\u001b[0m\n\u001b[0;32m      1\u001b[0m \u001b[38;5;66;03m# You cannot assign in string \u001b[39;00m\n\u001b[1;32m----> 2\u001b[0m first_word[\u001b[38;5;241m1\u001b[39m] \u001b[38;5;241m=\u001b[39m \u001b[38;5;124m'\u001b[39m\u001b[38;5;124mB\u001b[39m\u001b[38;5;124m'\u001b[39m\n",
      "\u001b[1;31mTypeError\u001b[0m: 'str' object does not support item assignment"
     ]
    }
   ],
   "source": [
    "# You cannot assign in string, But can be done in LIST not in TUPLE\n",
    "first_word[1] = 'B'"
   ]
  },
  {
   "cell_type": "code",
   "execution_count": 37,
   "metadata": {},
   "outputs": [
    {
     "name": "stdout",
     "output_type": "stream",
     "text": [
      "\n",
      "h\n",
      "he\n",
      "hel\n",
      "hell\n",
      "hello\n"
     ]
    }
   ],
   "source": [
    "# 4. SLICING \n",
    "first_word[0:]\n",
    "for i in range(len(first_word)):\n",
    "    print(first_word[0:i])"
   ]
  },
  {
   "cell_type": "markdown",
   "metadata": {},
   "source": [
    "' string[ starting_idx : ending_idx ] ' , Ending_Idx is not Included"
   ]
  },
  {
   "cell_type": "code",
   "execution_count": 50,
   "metadata": {},
   "outputs": [
    {
     "name": "stdout",
     "output_type": "stream",
     "text": [
      "H\n",
      "HARI\n",
      "HARI PRASAD\n",
      "DASARP IRAH\n"
     ]
    }
   ],
   "source": [
    "word = 'HARI PRASAD'\n",
    "print(word[0:1])\n",
    "print(word[0:4]) # Here 4 is space \n",
    "print(word[0:])\n",
    "# NOTE\n",
    "print(word[::-1]) # Here it prints INVERSE "
   ]
  },
  {
   "cell_type": "markdown",
   "metadata": {},
   "source": [
    "Sample Palindrome Program "
   ]
  },
  {
   "cell_type": "code",
   "execution_count": 67,
   "metadata": {},
   "outputs": [
    {
     "name": "stdout",
     "output_type": "stream",
     "text": [
      "Palindrome word \"mom\" : True\n"
     ]
    }
   ],
   "source": [
    "word = input('Enter the word')\n",
    "inv_word = word[::-1]\n",
    "print(f'Palindrome word \"{word}\" : {True if word == inv_word else False}')"
   ]
  },
  {
   "cell_type": "code",
   "execution_count": null,
   "metadata": {},
   "outputs": [],
   "source": []
  },
  {
   "cell_type": "code",
   "execution_count": null,
   "metadata": {},
   "outputs": [],
   "source": []
  }
 ],
 "metadata": {
  "kernelspec": {
   "display_name": "base",
   "language": "python",
   "name": "python3"
  },
  "language_info": {
   "codemirror_mode": {
    "name": "ipython",
    "version": 3
   },
   "file_extension": ".py",
   "mimetype": "text/x-python",
   "name": "python",
   "nbconvert_exporter": "python",
   "pygments_lexer": "ipython3",
   "version": "3.11.7"
  }
 },
 "nbformat": 4,
 "nbformat_minor": 2
}
