{
 "cells": [
  {
   "cell_type": "markdown",
   "id": "66b87ef4",
   "metadata": {},
   "source": [
    "Sample OOP Programs"
   ]
  },
  {
   "cell_type": "code",
   "execution_count": 8,
   "id": "1e2f7b2b",
   "metadata": {},
   "outputs": [],
   "source": [
    "# Create a Class Person with name and age to greet\n",
    "class person:\n",
    "    def __init__(self, name, age):\n",
    "        self.name = name\n",
    "        self.age = age\n",
    "        if self.age > 18:\n",
    "            print(f'Hi {self.name} Welcome to the Base')\n",
    "        \n",
    "    # Getting the info.\n",
    "    def getInfo(self):\n",
    "        print(f'Your-Name: {self.name}, Your-Age: {self.age}')"
   ]
  },
  {
   "cell_type": "code",
   "execution_count": 9,
   "id": "82d28a96",
   "metadata": {},
   "outputs": [
    {
     "name": "stdout",
     "output_type": "stream",
     "text": [
      "Hi hari Welcome to the Base\n"
     ]
    }
   ],
   "source": [
    "a_101 = person('hari', 24)"
   ]
  },
  {
   "cell_type": "code",
   "execution_count": 10,
   "id": "acc33407",
   "metadata": {},
   "outputs": [
    {
     "name": "stdout",
     "output_type": "stream",
     "text": [
      "Your-Name: hari, Your-Age: 24\n"
     ]
    }
   ],
   "source": [
    "a_101.getInfo()"
   ]
  },
  {
   "cell_type": "code",
   "execution_count": null,
   "id": "c055a8d6",
   "metadata": {},
   "outputs": [],
   "source": []
  },
  {
   "cell_type": "code",
   "execution_count": null,
   "id": "d0b2b057",
   "metadata": {},
   "outputs": [],
   "source": []
  },
  {
   "cell_type": "code",
   "execution_count": null,
   "id": "69e605b3",
   "metadata": {},
   "outputs": [],
   "source": []
  },
  {
   "cell_type": "code",
   "execution_count": null,
   "id": "bb684e2f",
   "metadata": {},
   "outputs": [],
   "source": []
  },
  {
   "cell_type": "code",
   "execution_count": null,
   "id": "e3234754",
   "metadata": {},
   "outputs": [],
   "source": []
  },
  {
   "cell_type": "code",
   "execution_count": null,
   "id": "42fd9a1b",
   "metadata": {},
   "outputs": [],
   "source": []
  },
  {
   "cell_type": "code",
   "execution_count": null,
   "id": "4b49a853",
   "metadata": {},
   "outputs": [],
   "source": []
  },
  {
   "cell_type": "code",
   "execution_count": null,
   "id": "5223f2f5",
   "metadata": {},
   "outputs": [],
   "source": []
  }
 ],
 "metadata": {
  "kernelspec": {
   "display_name": "base",
   "language": "python",
   "name": "python3"
  },
  "language_info": {
   "codemirror_mode": {
    "name": "ipython",
    "version": 3
   },
   "file_extension": ".py",
   "mimetype": "text/x-python",
   "name": "python",
   "nbconvert_exporter": "python",
   "pygments_lexer": "ipython3",
   "version": "3.12.3"
  }
 },
 "nbformat": 4,
 "nbformat_minor": 5
}
