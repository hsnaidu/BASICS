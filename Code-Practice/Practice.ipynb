{
 "cells": [
  {
   "cell_type": "code",
   "execution_count": 1,
   "id": "30be4a3c",
   "metadata": {},
   "outputs": [
    {
     "name": "stdout",
     "output_type": "stream",
     "text": [
      "3.12.3 | packaged by conda-forge | (main, Apr 15 2024, 18:20:11) [MSC v.1938 64 bit (AMD64)]\n"
     ]
    }
   ],
   "source": [
    "from sys import version\n",
    "print(version)"
   ]
  },
  {
   "cell_type": "markdown",
   "id": "e9d37020",
   "metadata": {},
   "source": [
    "GFG : Coding Questions.."
   ]
  },
  {
   "cell_type": "markdown",
   "id": "4000d4e6",
   "metadata": {},
   "source": [
    "Find the index of the numbers whose sum is equal to the target      "
   ]
  },
  {
   "cell_type": "code",
   "execution_count": 7,
   "id": "699bd69b",
   "metadata": {},
   "outputs": [],
   "source": [
    "# Index of sub-array sum\n",
    "def sum_sub_array(array_list, target):\n",
    "    if target in array_list: \n",
    "        print(\"target found\",array_list.index(target))\n",
    "    else:\n",
    "        for i in range(len(array_list)):\n",
    "            sum = 0\n",
    "            for j in range(i, len(array_list)):\n",
    "                sum+=array_list[j]\n",
    "                if sum == target:\n",
    "                    return i, j \n",
    "                \n",
    "# Need More Attention.."
   ]
  },
  {
   "cell_type": "code",
   "execution_count": 10,
   "id": "c569dc4b",
   "metadata": {},
   "outputs": [
    {
     "name": "stdout",
     "output_type": "stream",
     "text": [
      "target found 0\n"
     ]
    },
    {
     "data": {
      "text/plain": [
       "(1, 5)"
      ]
     },
     "execution_count": 10,
     "metadata": {},
     "output_type": "execute_result"
    }
   ],
   "source": [
    "a = [1,2,3,4,5,6]\n",
    "\n",
    "sum_sub_array(a, 1) # Working as Expected!!\n",
    "sum_sub_array(a, 20) # Working as Expected!!"
   ]
  },
  {
   "cell_type": "markdown",
   "id": "963e848b",
   "metadata": {},
   "source": [
    "Find the missing number in the array"
   ]
  },
  {
   "cell_type": "code",
   "execution_count": 270,
   "id": "ab774de8",
   "metadata": {},
   "outputs": [],
   "source": [
    "def find_missing_value(array):\n",
    "    empt_array = []\n",
    "    if max(array) == 1:\n",
    "        empt_array.append(2)\n",
    "        print(f\"Only 1 is present so the missing element is {empt_array}\")\n",
    "    else:\n",
    "        max_value = max(array)\n",
    "        for i in range(max_value, 0,  -1):\n",
    "            empt_array.append(i)\n",
    "            empt_array.sort()\n",
    "        for i in empt_array:\n",
    "            if i not in array:\n",
    "                print(f\"All the numbers from {min(array)} to {max(array)} are peresent except {i}\")\n",
    "                # print(empt_array)\n",
    "                # print(array)"
   ]
  },
  {
   "cell_type": "code",
   "execution_count": 271,
   "id": "e4ae40b5",
   "metadata": {},
   "outputs": [
    {
     "name": "stdout",
     "output_type": "stream",
     "text": [
      "All the numbers from 1 to 5 are peresent except 4\n",
      "All the numbers from 1 to 8 are peresent except 6\n",
      "Only 1 is present so the missing element is [2]\n"
     ]
    }
   ],
   "source": [
    "find_missing_value([1, 2, 3, 5]) # Working as Expected \n",
    "find_missing_value([8, 2, 4, 5, 3, 7, 1]) # Working as Expected\n",
    "find_missing_value([1]) # Working as Expected"
   ]
  },
  {
   "cell_type": "markdown",
   "id": "b6826897",
   "metadata": {},
   "source": [
    "Find the second largest element in an array"
   ]
  },
  {
   "cell_type": "code",
   "execution_count": 272,
   "id": "092f25bc",
   "metadata": {},
   "outputs": [],
   "source": [
    "def find_second_larget(array):\n",
    "    if min(array) == max(array):\n",
    "        print(f\"The largest element of the array is {max(array)} and the second largest element does not exist so {-1}.\")\n",
    "    else:\n",
    "        array.sort(reverse = True)\n",
    "        print(f\"The largest element of the array is {array[0]} and the second largest element is {array[1]}\")"
   ]
  },
  {
   "cell_type": "code",
   "execution_count": 273,
   "id": "d21dcb1a",
   "metadata": {},
   "outputs": [
    {
     "name": "stdout",
     "output_type": "stream",
     "text": [
      "The largest element of the array is 1 and the second largest element does not exist so -1.\n",
      "The largest element of the array is 10 and the second largest element does not exist so -1.\n",
      "The largest element of the array is 35 and the second largest element is 34\n"
     ]
    }
   ],
   "source": [
    "find_second_larget([1,1,1,1,1,1])\n",
    "find_second_larget([10,10,10,10])\n",
    "find_second_larget([12, 35, 1, 10, 34, 1]) # Working as expected"
   ]
  },
  {
   "cell_type": "markdown",
   "id": "67a0bdb0",
   "metadata": {},
   "source": [
    "Kadane's Algo : Find the subset of an array with largest sum\n",
    "\n",
    "- Not given any k-size"
   ]
  },
  {
   "cell_type": "code",
   "execution_count": 274,
   "id": "2cc545e9",
   "metadata": {},
   "outputs": [],
   "source": [
    "def largest_sub_array_sum(array):\n",
    "    actual_array = []\n",
    "    for i in array:\n",
    "        if i > 0:\n",
    "            actual_array.append(i)\n",
    "            actual_array.sort(reverse=True)\n",
    "    print(sum(actual_array))"
   ]
  },
  {
   "cell_type": "code",
   "execution_count": 275,
   "id": "916f7e84",
   "metadata": {},
   "outputs": [
    {
     "name": "stdout",
     "output_type": "stream",
     "text": [
      "17\n"
     ]
    }
   ],
   "source": [
    "largest_sub_array_sum([2, 3, -8, 7, -1, 2, 3]) # Largest sum of the sub-array"
   ]
  },
  {
   "cell_type": "markdown",
   "id": "fb4545bd",
   "metadata": {},
   "source": [
    "Free-Code-Camp"
   ]
  },
  {
   "cell_type": "code",
   "execution_count": 276,
   "id": "70541554",
   "metadata": {},
   "outputs": [
    {
     "name": "stdout",
     "output_type": "stream",
     "text": [
      "3.12.7 | packaged by Anaconda, Inc. | (main, Oct  4 2024, 13:17:27) [MSC v.1929 64 bit (AMD64)]\n"
     ]
    }
   ],
   "source": [
    "from sys import version\n",
    "print(version) "
   ]
  },
  {
   "cell_type": "code",
   "execution_count": 277,
   "id": "a168ec19",
   "metadata": {},
   "outputs": [],
   "source": [
    "# Write a function to find the longest substring without repeating character\n",
    "\n",
    "def longest_substring(string):\n",
    "    string = string.split()\n",
    "    \n",
    "    # list\n",
    "    non_repeating_char = [] \n",
    "    store_dict = {}\n",
    "    empt_dict = {}\n",
    "\n",
    "    for i in string:\n",
    "        if i not in store_dict:\n",
    "            store_dict[i] = len(i)\n",
    "\n",
    "    # Finding the longest substring\n",
    "    \n",
    "    for key,values in store_dict.items():\n",
    "        if values == max(store_dict.values()):\n",
    "            print(\"The longest substring in the string is : \",key)\n",
    "\n",
    "    # Finding the longest substring character \n",
    "    for i in string:\n",
    "        if i not in empt_dict:\n",
    "            empt_dict[i] = set(i)\n",
    "    \n",
    "    for value in empt_dict.values():\n",
    "        if (value) == max(empt_dict.values()):\n",
    "            print(\"The longest non-repeating substring is\",value)\n",
    "    \n",
    "    return empt_dict"
   ]
  },
  {
   "cell_type": "code",
   "execution_count": 278,
   "id": "70a8d884",
   "metadata": {},
   "outputs": [
    {
     "name": "stdout",
     "output_type": "stream",
     "text": [
      "The longest substring in the string is :  hariprasad\n",
      "The longest non-repeating substring is {'p', 'd', 'r', 'i', 'a', 'h', 's'}\n"
     ]
    }
   ],
   "source": [
    "string = \"hi my name is hariprasad\"\n",
    "a = longest_substring(string)"
   ]
  },
  {
   "cell_type": "code",
   "execution_count": 279,
   "id": "e3e7c4bc",
   "metadata": {},
   "outputs": [],
   "source": [
    "# Given a list of integers return all combination that sums to the target\n",
    "    # Need to work on this ..\n",
    "            \n",
    "def sum_target(list, target):\n",
    "    initial_sum = 0\n",
    "    for i in range(len(list)):\n",
    "        if list[i] == target:\n",
    "            print('Target Found in list at', i)\n",
    "            break # Working as Intended\n",
    "        else:\n",
    "            initial_sum = list[i]\n",
    "            for j in range(i,len(list)):\n",
    "                initial_sum+=list[j]\n",
    "                if initial_sum == target:\n",
    "                    print('Target found')\n",
    "                    break\n",
    "                "
   ]
  },
  {
   "cell_type": "code",
   "execution_count": 280,
   "id": "03d49c86",
   "metadata": {},
   "outputs": [
    {
     "name": "stdout",
     "output_type": "stream",
     "text": [
      "Target found\n",
      "Target Found in list at 1\n"
     ]
    }
   ],
   "source": [
    "sample_list = [1,2,3,4,5,6]\n",
    "sum_target(sample_list, 2)"
   ]
  },
  {
   "cell_type": "code",
   "execution_count": 281,
   "id": "a8b449e2",
   "metadata": {},
   "outputs": [
    {
     "name": "stdout",
     "output_type": "stream",
     "text": [
      "[[1 2 3]\n",
      " [4 5 6]]\n"
     ]
    }
   ],
   "source": [
    "# Write a function to flatten a nested list ..\n",
    "import numpy as np\n",
    "\n",
    "a_list = np.array([[1,2,3],[4,5,6]])\n",
    "print(a_list)"
   ]
  },
  {
   "cell_type": "code",
   "execution_count": 282,
   "id": "1e061868",
   "metadata": {},
   "outputs": [
    {
     "name": "stdout",
     "output_type": "stream",
     "text": [
      "[1 2 3]\n",
      "[4 5 6]\n"
     ]
    }
   ],
   "source": [
    "for i in a_list:\n",
    "    print(i)"
   ]
  },
  {
   "cell_type": "markdown",
   "id": "e3b01942",
   "metadata": {},
   "source": [
    "Usage of Flatten"
   ]
  },
  {
   "cell_type": "code",
   "execution_count": 283,
   "id": "30a96ab4",
   "metadata": {},
   "outputs": [
    {
     "name": "stdout",
     "output_type": "stream",
     "text": [
      "1\n",
      "2\n",
      "3\n",
      "4\n",
      "5\n",
      "6\n"
     ]
    }
   ],
   "source": [
    "for i in a_list.flatten():\n",
    "    print(i)"
   ]
  },
  {
   "cell_type": "code",
   "execution_count": 284,
   "id": "652d091d",
   "metadata": {},
   "outputs": [
    {
     "name": "stdout",
     "output_type": "stream",
     "text": [
      "h\n"
     ]
    }
   ],
   "source": [
    "# Write a function to find the first non repeating character in a string / Find the non-repeating character in the string.\n",
    "\n",
    "string = \"hariprasad\"\n",
    "\n",
    "for i in string:\n",
    "    if string.count(i) == 1:\n",
    "        print(i)\n",
    "        break\n",
    "    elif string.count(i) > 1:\n",
    "        pass"
   ]
  },
  {
   "cell_type": "markdown",
   "id": "e237a615",
   "metadata": {},
   "source": [
    "11.\t1. Design a class to represent a bank account (deposit, withdraw, balance).\n",
    "12.\t2. Create a Restaurant Booking System (tables, customer, reservation).\n",
    "13.\t3. Use inheritance and polymorphism to create a shape class hierarchy (Shape → Circle, Rectangle,Square).\n"
   ]
  },
  {
   "cell_type": "code",
   "execution_count": 285,
   "id": "11293293",
   "metadata": {},
   "outputs": [],
   "source": [
    "class bank:\n",
    "\n",
    "    # My Initial Bal.\n",
    "    balance = 0\n",
    "\n",
    "    def __init__(self, name, age, branch):\n",
    "        self.name = name\n",
    "        self.age = age\n",
    "        self.branch = branch\n",
    "\n",
    "    def deposit(self, amount):\n",
    "        self.balance+=amount\n",
    "        print('Your Balance is', self.balance)\n",
    "\n",
    "    def withdrawl(self,amount):\n",
    "        if amount > self.balance:\n",
    "            print('Amout exceed the balance')\n",
    "        else:\n",
    "            self.balance-=amount\n",
    "            print(f\"You avaliable balance is {self.balance} after withdrawing {amount} \")\n",
    "\n",
    "    def getBalance(self):\n",
    "        print(self.balance)\n",
    "\n",
    "    def getInfo(self):\n",
    "        print(f'''Name : {self.name}, Age : {self.age},  Branch : {self.branch}, Aval. Bal : {self.balance}''')\n",
    "    "
   ]
  },
  {
   "cell_type": "code",
   "execution_count": 286,
   "id": "9859253a",
   "metadata": {},
   "outputs": [],
   "source": [
    "a_101 = bank(name=\"hari\", age=24, branch='YPR')"
   ]
  },
  {
   "cell_type": "code",
   "execution_count": 287,
   "id": "7631a67a",
   "metadata": {},
   "outputs": [
    {
     "name": "stdout",
     "output_type": "stream",
     "text": [
      "Name : hari, Age : 24,  Branch : YPR, Aval. Bal : 0\n"
     ]
    }
   ],
   "source": [
    "a_101.getInfo()"
   ]
  },
  {
   "cell_type": "code",
   "execution_count": 288,
   "id": "f447c1ee",
   "metadata": {},
   "outputs": [
    {
     "name": "stdout",
     "output_type": "stream",
     "text": [
      "0\n"
     ]
    }
   ],
   "source": [
    "a_101.getBalance()"
   ]
  },
  {
   "cell_type": "code",
   "execution_count": 289,
   "id": "6ea17210",
   "metadata": {},
   "outputs": [
    {
     "name": "stdout",
     "output_type": "stream",
     "text": [
      "Your Balance is 1000\n"
     ]
    }
   ],
   "source": [
    "a_101.deposit(amount=1000)"
   ]
  },
  {
   "cell_type": "code",
   "execution_count": 290,
   "id": "a78c6971",
   "metadata": {},
   "outputs": [
    {
     "name": "stdout",
     "output_type": "stream",
     "text": [
      "1000\n"
     ]
    }
   ],
   "source": [
    "a_101.getBalance()"
   ]
  },
  {
   "cell_type": "code",
   "execution_count": 291,
   "id": "27919aad",
   "metadata": {},
   "outputs": [
    {
     "name": "stdout",
     "output_type": "stream",
     "text": [
      "You avaliable balance is 801 after withdrawing 199 \n"
     ]
    }
   ],
   "source": [
    "a_101.withdrawl(amount=199)"
   ]
  },
  {
   "cell_type": "code",
   "execution_count": 311,
   "id": "db784a81",
   "metadata": {},
   "outputs": [],
   "source": [
    "class Restaurant:\n",
    "    def __init__(self, name, age):\n",
    "        self.name = name\n",
    "        self.age = age\n",
    "        self.total_table = 100\n",
    "        self.total_number_person_per_booking = 5\n",
    "        self.reservation = False\n",
    "        self.Flag = False\n",
    "\n",
    "    def ac_status(self):\n",
    "        if self.age > 20:\n",
    "            print(\"Your Account is created\")\n",
    "            self.Flag = True\n",
    "        else:\n",
    "            print('Please call us at +91 0000-0000')\n",
    "\n",
    "    def make_reservation(self):\n",
    "        if self.Flag:\n",
    "            number_of_tables = int(input('How many tables are you booking? '))\n",
    "            if number_of_tables > self.total_table:\n",
    "                print('Please call us for large group bookings.')\n",
    "                print('Booking / Reservation Failed')\n",
    "                self.reservation = False\n",
    "            else:\n",
    "                self.total_table -= number_of_tables\n",
    "                self.reservation = True\n",
    "                print(f'{number_of_tables} table(s) reserved successfully.')\n",
    "        else:\n",
    "            print('Please verify your account status first.')\n",
    "\n",
    "    def book_for_me(self):\n",
    "        number_of_people = int(input('Enter the number of people: '))\n",
    "        if number_of_people > self.total_table * self.total_number_person_per_booking:\n",
    "            print('Too many people for current seating.')\n",
    "        else:\n",
    "            print('You can walk in!')\n",
    "\n",
    "    def confirmed(self):\n",
    "        if self.Flag and self.reservation:\n",
    "            print('Reservation is confirmed.')\n",
    "        else:\n",
    "            print('Reservation is not confirmed.')"
   ]
  },
  {
   "cell_type": "code",
   "execution_count": 314,
   "id": "952deba7",
   "metadata": {},
   "outputs": [],
   "source": [
    "a_110 = Restaurant(\"hari\", 21)"
   ]
  },
  {
   "cell_type": "code",
   "execution_count": 315,
   "id": "437bb75d",
   "metadata": {},
   "outputs": [
    {
     "name": "stdout",
     "output_type": "stream",
     "text": [
      "Your Account is created\n"
     ]
    }
   ],
   "source": [
    "a_110.ac_status()"
   ]
  },
  {
   "cell_type": "code",
   "execution_count": 317,
   "id": "91bf0370",
   "metadata": {},
   "outputs": [
    {
     "name": "stdout",
     "output_type": "stream",
     "text": [
      "2 table(s) reserved successfully.\n"
     ]
    }
   ],
   "source": [
    "a_110.make_reservation()"
   ]
  },
  {
   "cell_type": "code",
   "execution_count": 318,
   "id": "403772e5",
   "metadata": {},
   "outputs": [
    {
     "name": "stdout",
     "output_type": "stream",
     "text": [
      "Reservation is confirmed.\n"
     ]
    }
   ],
   "source": [
    "a_110.confirmed()"
   ]
  },
  {
   "cell_type": "code",
   "execution_count": 319,
   "id": "72b326a7",
   "metadata": {},
   "outputs": [
    {
     "name": "stdout",
     "output_type": "stream",
     "text": [
      "Please call us for large group bookings.\n",
      "Booking / Reservation Failed\n"
     ]
    }
   ],
   "source": [
    "a_110.make_reservation()"
   ]
  },
  {
   "cell_type": "code",
   "execution_count": 320,
   "id": "4c5a222e",
   "metadata": {},
   "outputs": [
    {
     "name": "stdout",
     "output_type": "stream",
     "text": [
      "Reservation is not confirmed.\n"
     ]
    }
   ],
   "source": [
    "a_110.confirmed()"
   ]
  },
  {
   "cell_type": "code",
   "execution_count": 321,
   "id": "862e5d7b",
   "metadata": {},
   "outputs": [],
   "source": [
    "# Polymorphism : Same function name but with different operation.."
   ]
  },
  {
   "cell_type": "code",
   "execution_count": 1,
   "id": "c7dd4087",
   "metadata": {},
   "outputs": [],
   "source": [
    "# Reverse a string\n",
    "def rev(string):\n",
    "    return string[::-1]"
   ]
  },
  {
   "cell_type": "code",
   "execution_count": 2,
   "id": "9522025b",
   "metadata": {},
   "outputs": [
    {
     "data": {
      "text/plain": [
       "'irah'"
      ]
     },
     "execution_count": 2,
     "metadata": {},
     "output_type": "execute_result"
    }
   ],
   "source": [
    "rev('hari')"
   ]
  },
  {
   "cell_type": "code",
   "execution_count": 11,
   "id": "66b0f200",
   "metadata": {},
   "outputs": [
    {
     "name": "stdout",
     "output_type": "stream",
     "text": [
      "Is Palindrom\n",
      "Not Palindrom\n"
     ]
    }
   ],
   "source": [
    "# Check if a given string is a palindrom\n",
    "\n",
    "check_plaindrom = lambda x : print(\"Is Palindrom\") if x == x[::-1] else print(\"Not Palindrom\")\n",
    "check_plaindrom('mom')\n",
    "check_plaindrom('hari')"
   ]
  },
  {
   "cell_type": "code",
   "execution_count": 17,
   "id": "5abc610e",
   "metadata": {},
   "outputs": [],
   "source": [
    "# Fibonacci Series Generator : 5 x 4 x 3 x 2 x 1\n",
    "    # In Fibonacci series never give 0\n",
    "\n",
    "def fibo_number(number):\n",
    "    if number == 0 and number == 1:\n",
    "        return 1\n",
    "    else:\n",
    "        fib = 1\n",
    "        for i in range(number,1,-1):\n",
    "            fib*=i\n",
    "        print(fib)\n"
   ]
  },
  {
   "cell_type": "code",
   "execution_count": 18,
   "id": "ec1b55dc",
   "metadata": {},
   "outputs": [
    {
     "name": "stdout",
     "output_type": "stream",
     "text": [
      "120\n"
     ]
    }
   ],
   "source": [
    "fibo_number(5)"
   ]
  },
  {
   "cell_type": "code",
   "execution_count": 19,
   "id": "f35e7fd5",
   "metadata": {},
   "outputs": [
    {
     "name": "stdout",
     "output_type": "stream",
     "text": [
      "45\n"
     ]
    }
   ],
   "source": [
    "# Find the sum of n number\n",
    "sum = 0\n",
    "for i in range(10):\n",
    "    sum+=i\n",
    "print(sum)"
   ]
  },
  {
   "cell_type": "code",
   "execution_count": 1,
   "id": "3f32b13f",
   "metadata": {},
   "outputs": [
    {
     "name": "stdout",
     "output_type": "stream",
     "text": [
      "999\n",
      "999\n"
     ]
    }
   ],
   "source": [
    "# Find the largest number in a list \n",
    "a = [1,2,3,4,5,100,200,3,4,5,6,7,9,999,0,0,0,0,1,2,3,4,5,6,7,8]\n",
    "\n",
    "# Way 1\n",
    "print(max(a))\n",
    "\n",
    "# Way 2\n",
    "a.sort(reverse=True)\n",
    "print(a[0])\n"
   ]
  },
  {
   "cell_type": "code",
   "execution_count": 4,
   "id": "8a72576d",
   "metadata": {},
   "outputs": [],
   "source": [
    "# WAP to count the vowels in a string\n",
    "def vowel_counter(string):\n",
    "    empt_dict = {}\n",
    "    vowel = ['a','e','i','o','u']\n",
    "    for i in vowel:\n",
    "        if i not in empt_dict:\n",
    "            empt_dict[i] = string.count(i)\n",
    "    return empt_dict"
   ]
  },
  {
   "cell_type": "code",
   "execution_count": null,
   "id": "aad0ade5",
   "metadata": {},
   "outputs": [
    {
     "data": {
      "text/plain": [
       "{'a': 11, 'e': 3, 'i': 6, 'o': 2, 'u': 1}"
      ]
     },
     "execution_count": 6,
     "metadata": {},
     "output_type": "execute_result"
    }
   ],
   "source": [
    "vowel_counter(string = \"hi my name is hariprasad and i am in ba ngalore, you can call me hari\")"
   ]
  },
  {
   "cell_type": "code",
   "execution_count": null,
   "id": "83e4f1a2",
   "metadata": {},
   "outputs": [
    {
     "name": "stdout",
     "output_type": "stream",
     "text": [
      "[1, 2, 3, 4, 5, 6]\n"
     ]
    },
    {
     "data": {
      "text/plain": [
       "[1, 2, 3, 4, 5, 6]"
      ]
     },
     "execution_count": 27,
     "metadata": {},
     "output_type": "execute_result"
    }
   ],
   "source": [
    "# Find the missing number\n",
    "\n",
    "# Assuming the list is an order array\n",
    "\n",
    "sample_list = [1,2,3,5,6]\n",
    "max_number = max(sample_list)\n",
    "min_number = min(sample_list)\n",
    "full_list = []\n",
    "for i in range(min_number,max_number+1):\n",
    "    if i not in full_list:\n",
    "        full_list.append(i)\n",
    "\n",
    "print(full_list)\n",
    "\n",
    "\n",
    "# Another Method\n",
    "\n",
    "full_list_2 = [x for x in range(min_number,max_number+1)]\n",
    "full_list_2"
   ]
  },
  {
   "cell_type": "code",
   "execution_count": 33,
   "id": "8dfe1269",
   "metadata": {},
   "outputs": [
    {
     "name": "stdout",
     "output_type": "stream",
     "text": [
      "1\n",
      "2\n",
      "3\n",
      "4\n",
      "5\n",
      "6\n",
      "7\n",
      "8\n",
      "9\n"
     ]
    }
   ],
   "source": [
    "# Flatten a nested list\n",
    "sample_list = [[1,2,3],[4,5,6],[7,8,9]]\n",
    "import numpy as np\n",
    "sample_list = np.array(sample_list)\n",
    "for i in sample_list.flatten():\n",
    "    print(i)"
   ]
  },
  {
   "cell_type": "code",
   "execution_count": 40,
   "id": "422db601",
   "metadata": {},
   "outputs": [
    {
     "name": "stdout",
     "output_type": "stream",
     "text": [
      "1\n",
      "1\n",
      "1\n"
     ]
    }
   ],
   "source": [
    "# Finding the duplicates\n",
    "\n",
    "a_sample_list = [1,1,1,3,4,5,7]\n",
    "for i in a_sample_list:\n",
    "    if a_sample_list.count(i) > 1: print(i)"
   ]
  },
  {
   "cell_type": "code",
   "execution_count": 58,
   "id": "756892d8",
   "metadata": {},
   "outputs": [
    {
     "data": {
      "text/plain": [
       "{'hi': 2,\n",
       " 'my': 2,\n",
       " 'name': 4,\n",
       " 'is': 2,\n",
       " 'hariprasad': 10,\n",
       " 'and': 3,\n",
       " 'i': 1,\n",
       " 'am': 2,\n",
       " 'in': 2,\n",
       " 'ba': 2,\n",
       " 'bangalore,': 10,\n",
       " 'you': 3,\n",
       " 'can': 3,\n",
       " 'call': 4,\n",
       " 'me': 2}"
      ]
     },
     "execution_count": 58,
     "metadata": {},
     "output_type": "execute_result"
    }
   ],
   "source": [
    "# find the longest substring in a sentence\n",
    "sentence = \"hi my name is hariprasad and i am in ba bangalore, you can call me hariprasad\"\n",
    "length_of_words = [x for x in sentence.split()]\n",
    "empt_dict = {}\n",
    "for i in length_of_words:\n",
    "    if i not in empt_dict:\n",
    "        empt_dict[i] = len(i)\n",
    "\n",
    "empt_dict\n",
    "\n"
   ]
  },
  {
   "cell_type": "code",
   "execution_count": 63,
   "id": "e5fb2d8a",
   "metadata": {},
   "outputs": [],
   "source": [
    "max_storer = []\n",
    "for key,value in empt_dict.items():\n",
    "\n",
    "    if value == max(empt_dict.values()):\n",
    "        # This is the largest substing in the array\n",
    "        max_storer.append(key)"
   ]
  },
  {
   "cell_type": "code",
   "execution_count": 66,
   "id": "1c6ee1b2",
   "metadata": {},
   "outputs": [
    {
     "name": "stdout",
     "output_type": "stream",
     "text": [
      "hariprasad\n"
     ]
    }
   ],
   "source": [
    "print(max_storer[0])\n",
    "# This the first logest substring in the sentence...."
   ]
  },
  {
   "cell_type": "markdown",
   "id": "fc8c0722",
   "metadata": {},
   "source": [
    "Got Questions from GPT"
   ]
  },
  {
   "cell_type": "code",
   "execution_count": null,
   "id": "e2e7a7e5",
   "metadata": {},
   "outputs": [],
   "source": [
    "# Reverse words in a Sentence\n",
    "def reverse_sentence_word(sentence):\n",
    "    return sentence.split()[::-1]\n",
    "# This is the one way.."
   ]
  },
  {
   "cell_type": "code",
   "execution_count": 25,
   "id": "88952fc2",
   "metadata": {},
   "outputs": [
    {
     "data": {
      "text/plain": [
       "['fun', 'is', 'Python']"
      ]
     },
     "execution_count": 25,
     "metadata": {},
     "output_type": "execute_result"
    }
   ],
   "source": [
    "sentence = \"Python is fun\"\n",
    "reverse_sentence_word(str(sentence))"
   ]
  },
  {
   "cell_type": "code",
   "execution_count": 33,
   "id": "6dd2d3df",
   "metadata": {},
   "outputs": [
    {
     "data": {
      "text/plain": [
       "'fun is Python '"
      ]
     },
     "execution_count": 33,
     "metadata": {},
     "output_type": "execute_result"
    }
   ],
   "source": [
    "# Rewored and got the thing\n",
    "def reverse_sentence_word(sentence):\n",
    "    empt_string = \"\"\n",
    "    sentence = sentence.split()\n",
    "    for i in range(len(sentence)-1,0-1,-1):\n",
    "        empt_string+=sentence[i] + ' ' \n",
    "    return empt_string\n",
    "\n",
    "\n",
    "reverse_sentence_word('Python is fun')"
   ]
  },
  {
   "cell_type": "code",
   "execution_count": 43,
   "id": "9e2a5ca1",
   "metadata": {},
   "outputs": [
    {
     "name": "stdout",
     "output_type": "stream",
     "text": [
      "2\n",
      "5\n",
      "7\n"
     ]
    }
   ],
   "source": [
    "# Find the duplicates in list without set\n",
    "sample_list = [1,2,2,3,4,5,5,6,7,7,8]\n",
    "d_ele = {}\n",
    "\n",
    "for i in sample_list:\n",
    "    if i not in d_ele:\n",
    "        d_ele[i] = 1\n",
    "    else:\n",
    "        d_ele[i]+=1\n",
    "\n",
    "for key,value in d_ele.items():\n",
    "    if value > 1:\n",
    "        print(key)\n",
    "        # 2, 5, 7 Are the numbers that are more than 1"
   ]
  },
  {
   "cell_type": "code",
   "execution_count": 44,
   "id": "0f937c62",
   "metadata": {},
   "outputs": [
    {
     "data": {
      "text/plain": [
       "{2, 5, 7}"
      ]
     },
     "execution_count": 44,
     "metadata": {},
     "output_type": "execute_result"
    }
   ],
   "source": [
    "set([x for x in sample_list if sample_list.count(x) > 1]) # If I convert this to a set \n",
    "# Using List Itteration"
   ]
  },
  {
   "cell_type": "code",
   "execution_count": 53,
   "id": "04f7ec16",
   "metadata": {},
   "outputs": [],
   "source": [
    "# Write a function to check if two list are anagram \n",
    "def check_anagram(string_one, string_two):\n",
    "    word_one = [x for x in string_one]\n",
    "    word_two = [x for x in string_two]\n",
    "    word_one.sort(), word_two.sort()\n",
    "    return 'Anagram' if word_two == word_one else 'Not Anagram'\n"
   ]
  },
  {
   "cell_type": "code",
   "execution_count": 61,
   "id": "5aa2ea11",
   "metadata": {},
   "outputs": [
    {
     "data": {
      "text/plain": [
       "'Anagram'"
      ]
     },
     "execution_count": 61,
     "metadata": {},
     "output_type": "execute_result"
    }
   ],
   "source": [
    "check_anagram('listen','silent')\n",
    "# check_anagram('','')"
   ]
  },
  {
   "cell_type": "code",
   "execution_count": null,
   "id": "601f8c0d",
   "metadata": {},
   "outputs": [
    {
     "name": "stdout",
     "output_type": "stream",
     "text": [
      "hariprasad\n"
     ]
    }
   ],
   "source": [
    "# Longest Substring in the given sentence\n",
    "\n",
    "given_sentence = \"Hi my name is hariprasad , I am from bangalore\"\n",
    "for i in given_sentence.split():\n",
    "    if len(i) == max([len(x) for x in given_sentence.split()]):\n",
    "        print(i)"
   ]
  },
  {
   "cell_type": "code",
   "execution_count": null,
   "id": "59f23371",
   "metadata": {},
   "outputs": [
    {
     "data": {
      "text/plain": [
       "2"
      ]
     },
     "execution_count": 71,
     "metadata": {},
     "output_type": "execute_result"
    }
   ],
   "source": [
    "# Flatten this list \n",
    "a_list = [[1, 2, [3]], 4]\n",
    "len(a_list)\n",
    "\n",
    "# Need to work on this..."
   ]
  },
  {
   "cell_type": "code",
   "execution_count": null,
   "id": "515acf6f",
   "metadata": {},
   "outputs": [],
   "source": [
    "# Using the map funciton \n",
    "a_list = [1,2,3,4]\n",
    "def sample(x):\n",
    "    return x * x # When you map it goes through the entire list\n",
    "\n",
    "new_list = map(a_list, sample)"
   ]
  },
  {
   "cell_type": "code",
   "execution_count": 92,
   "id": "812bf88e",
   "metadata": {},
   "outputs": [
    {
     "data": {
      "text/plain": [
       "[1, 4, 9, 16]"
      ]
     },
     "execution_count": 92,
     "metadata": {},
     "output_type": "execute_result"
    }
   ],
   "source": [
    "new_list = list(map(sample, a_list))\n",
    "new_list\n",
    "\n",
    "# Need to Learn this moreee.."
   ]
  },
  {
   "cell_type": "code",
   "execution_count": 1,
   "id": "8adf05fc",
   "metadata": {},
   "outputs": [
    {
     "data": {
      "text/plain": [
       "{'h': 1, 'a': 3, 'r': 2, 'i': 1, 'p': 1, 's': 1, 'd': 1}"
      ]
     },
     "execution_count": 1,
     "metadata": {},
     "output_type": "execute_result"
    }
   ],
   "source": [
    "# Count the number of char freq. in a sting \n",
    "char_string = \"hariprasad\"\n",
    "char_dict = {}\n",
    "for i in char_string:\n",
    "    if i not in char_dict:\n",
    "        char_dict[i] = 1\n",
    "    else:\n",
    "        char_dict[i]+=1\n",
    "\n",
    "char_dict\n"
   ]
  },
  {
   "cell_type": "code",
   "execution_count": 125,
   "id": "310b0c8a",
   "metadata": {},
   "outputs": [],
   "source": [
    "# Create a log that store the argument passed to a function\n",
    "log_list= []\n",
    "def fun(word_one):\n",
    "    \n",
    "    if word_one in log_list:\n",
    "        pass\n",
    "    else:\n",
    "        log_list.append(word_one)\n",
    "        print(log_list)\n",
    "    return len(word_one)\n"
   ]
  },
  {
   "cell_type": "code",
   "execution_count": 127,
   "id": "6e40a4ed",
   "metadata": {},
   "outputs": [
    {
     "data": {
      "text/plain": [
       "4"
      ]
     },
     "execution_count": 127,
     "metadata": {},
     "output_type": "execute_result"
    }
   ],
   "source": [
    "fun('hari')\n",
    "fun('bangalore')\n",
    "fun('hari prasad')\n",
    "fun('hari') # Wont get appended in the list cause it alread exist, or i can just convert it to a sting "
   ]
  },
  {
   "cell_type": "code",
   "execution_count": 133,
   "id": "52c1fa29",
   "metadata": {},
   "outputs": [
    {
     "name": "stdout",
     "output_type": "stream",
     "text": [
      "['Odd', 'Even', 'Odd', 'Even', 'Odd', 'Even', 'Odd', 'Even', 'Odd', 'Even', 'Odd']\n"
     ]
    }
   ],
   "source": [
    "# Prime number calculator\n",
    "a = [x for x in range(1,12)]\n",
    "result = ['Even' if x%2==0 else 'Odd' for x in a]\n",
    "print(result)"
   ]
  },
  {
   "cell_type": "code",
   "execution_count": 6,
   "id": "ce38e904",
   "metadata": {},
   "outputs": [
    {
     "data": {
      "text/plain": [
       "45"
      ]
     },
     "execution_count": 6,
     "metadata": {},
     "output_type": "execute_result"
    }
   ],
   "source": [
    "# sum of n-numbers using list itteration\n",
    "sum([x for x in range(1,int(input('Enter the number')))])"
   ]
  },
  {
   "cell_type": "markdown",
   "id": "22976493",
   "metadata": {},
   "source": [
    "03-MAY-2025"
   ]
  },
  {
   "cell_type": "code",
   "execution_count": null,
   "id": "4837c561",
   "metadata": {},
   "outputs": [],
   "source": []
  },
  {
   "cell_type": "code",
   "execution_count": null,
   "id": "584bd0c1",
   "metadata": {},
   "outputs": [],
   "source": []
  },
  {
   "cell_type": "code",
   "execution_count": null,
   "id": "f4fe47aa",
   "metadata": {},
   "outputs": [],
   "source": []
  },
  {
   "cell_type": "code",
   "execution_count": null,
   "id": "3fb49bc2",
   "metadata": {},
   "outputs": [],
   "source": []
  },
  {
   "cell_type": "code",
   "execution_count": null,
   "id": "8ac3a838",
   "metadata": {},
   "outputs": [],
   "source": []
  },
  {
   "cell_type": "code",
   "execution_count": null,
   "id": "45a50cb6",
   "metadata": {},
   "outputs": [],
   "source": []
  },
  {
   "cell_type": "code",
   "execution_count": null,
   "id": "ebb0cf97",
   "metadata": {},
   "outputs": [],
   "source": []
  },
  {
   "cell_type": "code",
   "execution_count": null,
   "id": "72e3fcf3",
   "metadata": {},
   "outputs": [],
   "source": []
  },
  {
   "cell_type": "code",
   "execution_count": null,
   "id": "61627043",
   "metadata": {},
   "outputs": [],
   "source": []
  },
  {
   "cell_type": "code",
   "execution_count": null,
   "id": "0c1c3940",
   "metadata": {},
   "outputs": [],
   "source": []
  },
  {
   "cell_type": "code",
   "execution_count": null,
   "id": "057c87ff",
   "metadata": {},
   "outputs": [],
   "source": []
  },
  {
   "cell_type": "code",
   "execution_count": null,
   "id": "7721e5d1",
   "metadata": {},
   "outputs": [],
   "source": []
  },
  {
   "cell_type": "code",
   "execution_count": null,
   "id": "eaf69564",
   "metadata": {},
   "outputs": [],
   "source": []
  },
  {
   "cell_type": "code",
   "execution_count": null,
   "id": "eae1edfd",
   "metadata": {},
   "outputs": [],
   "source": []
  }
 ],
 "metadata": {
  "kernelspec": {
   "display_name": "base",
   "language": "python",
   "name": "python3"
  },
  "language_info": {
   "codemirror_mode": {
    "name": "ipython",
    "version": 3
   },
   "file_extension": ".py",
   "mimetype": "text/x-python",
   "name": "python",
   "nbconvert_exporter": "python",
   "pygments_lexer": "ipython3",
   "version": "3.12.3"
  }
 },
 "nbformat": 4,
 "nbformat_minor": 5
}
