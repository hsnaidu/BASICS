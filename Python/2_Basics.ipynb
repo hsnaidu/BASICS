{
 "cells": [
  {
   "cell_type": "code",
   "execution_count": null,
   "metadata": {},
   "outputs": [],
   "source": [
    "import sys\n",
    "print(sys.version)"
   ]
  },
  {
   "cell_type": "markdown",
   "metadata": {},
   "source": [
    "Operator Basics.."
   ]
  },
  {
   "cell_type": "code",
   "execution_count": null,
   "metadata": {},
   "outputs": [],
   "source": [
    "# Integre Numbers\n",
    "print(+10, -10)"
   ]
  },
  {
   "cell_type": "code",
   "execution_count": null,
   "metadata": {},
   "outputs": [],
   "source": [
    "# Float Numbers\n",
    "print(+10.0, -10.0)"
   ]
  },
  {
   "cell_type": "code",
   "execution_count": null,
   "metadata": {},
   "outputs": [],
   "source": [
    "# String\n",
    "print('Hello, World')\n",
    "print(\"Hello, World\")\n",
    "print(\"\"\"\n",
    "      Hello, World\n",
    "      \"\"\")"
   ]
  },
  {
   "cell_type": "code",
   "execution_count": null,
   "metadata": {},
   "outputs": [],
   "source": [
    "# None Type and Boolean..\n",
    "print(None, True, False)"
   ]
  },
  {
   "cell_type": "markdown",
   "metadata": {},
   "source": [
    "\n",
    "All Data-Types"
   ]
  },
  {
   "cell_type": "code",
   "execution_count": null,
   "metadata": {},
   "outputs": [],
   "source": [
    "datatypes ={\n",
    "    'Integer' : 1,\n",
    "    'Float' : 3.142,\n",
    "    'String' : 'hari',\n",
    "    'None' : None,\n",
    "    'Boolean' : True\n",
    "    }\n",
    "for datatype_name, data_type in datatypes.items():\n",
    "    print(datatype_name, type(data_type))"
   ]
  },
  {
   "cell_type": "markdown",
   "metadata": {},
   "source": [
    "* VARIABLE"
   ]
  },
  {
   "cell_type": "markdown",
   "metadata": {},
   "source": [
    "- You can store any type of datatype in a variable"
   ]
  },
  {
   "cell_type": "code",
   "execution_count": null,
   "metadata": {},
   "outputs": [],
   "source": [
    "# They are used to store VALUES of particular Datatype\n",
    "\n",
    "name = \"hari\"\n",
    "print(type(name), name) # name is a variable, storing 'hari' <str> value"
   ]
  },
  {
   "cell_type": "markdown",
   "metadata": {},
   "source": [
    "* OPERATORS"
   ]
  },
  {
   "cell_type": "markdown",
   "metadata": {},
   "source": [
    "* [w3school Operator's](https://www.w3schools.com/python/python_operators.asp)"
   ]
  },
  {
   "cell_type": "markdown",
   "metadata": {},
   "source": [
    "- Arithematic Operators"
   ]
  },
  {
   "cell_type": "code",
   "execution_count": null,
   "metadata": {},
   "outputs": [],
   "source": [
    "a,b = 10,10\n",
    "# print(a,b)\n",
    "\n",
    "# Performing all the Arithematic Operator\n",
    "\n",
    "class arithematic:\n",
    "    def __init__(self,a=0,b=0): # By default 0\n",
    "        self.a = a\n",
    "        self.b = b\n",
    "        print(f\"Values Initiated {self.a}, {self.b}\")\n",
    "        \n",
    "    def add(self):\n",
    "        print('add')\n",
    "        return self.a + self.b\n",
    "    \n",
    "    def sub(self):\n",
    "        print('sub')\n",
    "        return self.a - self.b\n",
    "    \n",
    "    def mult(self):\n",
    "        print('mult')\n",
    "        return self.a * self.b\n",
    "    \n",
    "    def mod(self):\n",
    "        print('mod')\n",
    "        return self.a % self.b\n",
    "    \n",
    "    def div(self):\n",
    "        print('div')\n",
    "        return self.a / self.b\n",
    "    \n",
    "    def xor(self):\n",
    "        print('xor')\n",
    "        return self.a ^ self.b\n",
    "    \n",
    "    def pow(self):\n",
    "        print('pow')\n",
    "        return self.a ** self.b"
   ]
  },
  {
   "cell_type": "code",
   "execution_count": null,
   "metadata": {},
   "outputs": [],
   "source": [
    "sample = arithematic(10,10)\n",
    "\n",
    "\n",
    "# Adding the values\n",
    "print(sample.add())\n",
    "\n",
    "# Sub\n",
    "print(sample.sub())\n",
    "\n",
    "# Similar to all other ... you can call the other methods of this class and see how it calculates.."
   ]
  },
  {
   "cell_type": "code",
   "execution_count": null,
   "metadata": {},
   "outputs": [],
   "source": [
    "class other_operator(arithematic):\n",
    "    \n",
    "    def __init__(self, a=0, b=0):\n",
    "        super().__init__(a, b) # Base Function.. Everything Extracted from above class..\n",
    "        \n",
    "    def comparision(self):\n",
    "        print('>')\n",
    "        print(self.a > self.b)\n",
    "        \n",
    "        print('<')\n",
    "        print(self.a < self.b)\n",
    "        \n",
    "        print('==')\n",
    "        print(self.a == self.b)\n",
    "        \n",
    "        print('!=')\n",
    "        print(self.a != self.b)\n",
    "        print(\"-------------------------------------------------------------------------\")\n",
    "        \n",
    "        \n",
    "    \n",
    "    def logical_operator(self):\n",
    "        self.value_one = True\n",
    "        self.value_two = True\n",
    "        \n",
    "        print(f'The two operator boolean values are : {self.value_one}, {self.value_two}')\n",
    "        \n",
    "        print('AND')\n",
    "        print(self.value_one and self.value_two) \n",
    "        \n",
    "        print('OR')\n",
    "        print(self.value_one or self.value_two)\n",
    "        \n",
    "        print('NOT')\n",
    "        print('Basically Prints the Reverse..')\n",
    "        print(not self.value_one)  \n",
    "        print(\"-------------------------------------------------------------------------\")\n",
    "             "
   ]
  },
  {
   "cell_type": "code",
   "execution_count": null,
   "metadata": {},
   "outputs": [],
   "source": [
    "sample = other_operator(20,40)\n",
    "\n",
    "# NOTE For all comparision operator..\n",
    "sample.comparision()\n",
    "\n",
    "# NOTE For all logical operator..\n",
    "sample.logical_operator()\n"
   ]
  },
  {
   "cell_type": "markdown",
   "metadata": {},
   "source": [
    "* BOOLEAN"
   ]
  },
  {
   "cell_type": "code",
   "execution_count": null,
   "metadata": {},
   "outputs": [],
   "source": [
    "# Basically is True of False\n",
    "print(True)\n",
    "print(not True)"
   ]
  },
  {
   "cell_type": "markdown",
   "metadata": {},
   "source": [
    "* OPERATOR PRECIDENCE RULE IN PYTHON"
   ]
  },
  {
   "cell_type": "markdown",
   "metadata": {},
   "source": [
    "- How equations are calculated in `python`"
   ]
  },
  {
   "cell_type": "markdown",
   "metadata": {},
   "source": [
    "* PEMDAS ( PARENTHESE -> EQUATION -> MULTIPLICATION -> DIVISION -> ADDITION -> SUBRACTION )"
   ]
  },
  {
   "cell_type": "code",
   "execution_count": null,
   "metadata": {},
   "outputs": [],
   "source": [
    "y = (1 + (2 ** 3) /4 * 5)\n",
    "print(y) # use Chatgpt for more example"
   ]
  },
  {
   "cell_type": "markdown",
   "metadata": {},
   "source": [
    "* TYPE CONVERSION "
   ]
  },
  {
   "cell_type": "markdown",
   "metadata": {},
   "source": [
    "- Convert data from one type to another type"
   ]
  },
  {
   "cell_type": "code",
   "execution_count": null,
   "metadata": {},
   "outputs": [],
   "source": [
    "class convertor:\n",
    "    \n",
    "    def int_to_str(self):\n",
    "        try: \n",
    "            self.type1 = input('Enter the Numebr') # Instance-Variable\n",
    "            print(type(self.type1), self.type1)\n",
    "            \n",
    "            self.type1 = int(self.type1)\n",
    "            print(type(self.type1), self.type1)\n",
    "        \n",
    "        except ValueError as v:\n",
    "            print(v)\n",
    "            \n",
    "    @staticmethod\n",
    "    def explain():\n",
    "        try:\n",
    "            a,b = 10, input('Enter a number : ')\n",
    "            print(a+b)    \n",
    "        except:\n",
    "            b = int(b)\n",
    "            print(a+b)      "
   ]
  },
  {
   "cell_type": "code",
   "execution_count": null,
   "metadata": {},
   "outputs": [],
   "source": [
    "sample = convertor()\n",
    "\n",
    "# Calling the <str> to <int> convertor\n",
    "sample.int_to_str()"
   ]
  },
  {
   "cell_type": "code",
   "execution_count": null,
   "metadata": {},
   "outputs": [],
   "source": [
    "# Calling the Explain method\n",
    "sample.explain() # NOTE not, getting error because of error-handling.."
   ]
  },
  {
   "cell_type": "markdown",
   "metadata": {},
   "source": [
    "* CONDITIONAL STATEMENTS"
   ]
  },
  {
   "cell_type": "markdown",
   "metadata": {},
   "source": [
    "- Sample condition"
   ]
  },
  {
   "cell_type": "code",
   "execution_count": null,
   "metadata": {},
   "outputs": [],
   "source": [
    "class condition(arithematic):\n",
    "    \n",
    "    def __inti__(self,a,b):\n",
    "        super().__inti__(self,a,b)\n",
    "        \n",
    "    def all_condition(self):\n",
    "            # Combination of Nested Conditions..\n",
    "        \n",
    "        if self.a > self.b :\n",
    "            print(\"a > b\") \n",
    "        else:\n",
    "             print(\"b > a\")\n",
    "        \n",
    "        if self.a == self.b:\n",
    "            print('a == b')\n",
    "        \n",
    "        elif (self.a >= self.b):\n",
    "            print('a >= b')\n",
    "        else:\n",
    "            print('b >= a')\n",
    "            "
   ]
  },
  {
   "cell_type": "code",
   "execution_count": null,
   "metadata": {},
   "outputs": [],
   "source": [
    "sample = condition(10, 20)\n",
    "\n",
    "# Checking all the conditions..\n",
    "\n",
    "sample.all_condition()\n",
    "    # NOTE Similarly check will multiple values and conditions.."
   ]
  },
  {
   "cell_type": "markdown",
   "metadata": {},
   "source": [
    "**PRACTICE**"
   ]
  },
  {
   "cell_type": "code",
   "execution_count": null,
   "metadata": {},
   "outputs": [],
   "source": [
    "# WAP to print sum of `n` number\n",
    "\n",
    "sum = 0\n",
    "for i in range(4):\n",
    "    number = int(input('Enter the Number : '))\n",
    "    sum+=number\n",
    "print(sum)"
   ]
  },
  {
   "cell_type": "code",
   "execution_count": null,
   "metadata": {},
   "outputs": [],
   "source": [
    "# Calculate the area of Square : Sum of all Side..\n",
    "\n",
    "def area_of_squre(length_of_one_side):\n",
    "    return length_of_one_side * 4\n",
    "\n",
    "area_of_squre(\n",
    "    length_of_one_side = 4.0\n",
    ")"
   ]
  },
  {
   "cell_type": "code",
   "execution_count": null,
   "metadata": {},
   "outputs": [],
   "source": [
    "# Print the average of n-number\n",
    "\n",
    "def print_average():\n",
    "    sum, count = 0,0\n",
    "    while count < 10:\n",
    "        number = int(input(' Enter Number : ')) # False\n",
    "        sum+=number # False\n",
    "        count+=1 # False\n",
    "    \n",
    "    try:\n",
    "        return f\" The sum is :{sum}, and count is :{count} and the average is :{sum / count}\"\n",
    "    \n",
    "    except ZeroDivisionError as z:\n",
    "        return z "
   ]
  },
  {
   "cell_type": "code",
   "execution_count": null,
   "metadata": {},
   "outputs": [],
   "source": [
    "print_average()"
   ]
  },
  {
   "cell_type": "code",
   "execution_count": null,
   "metadata": {},
   "outputs": [],
   "source": [
    "# Check the Greater than 2 numbers..\n",
    "a,b = int(input('Enter the number_one : ')), int(input('Enter the number_two'))\n",
    "result = \"a is greater\" if a>b else \"b is greater\"\n",
    "print(result)"
   ]
  }
 ],
 "metadata": {
  "kernelspec": {
   "display_name": "base",
   "language": "python",
   "name": "python3"
  },
  "language_info": {
   "codemirror_mode": {
    "name": "ipython",
    "version": 3
   },
   "file_extension": ".py",
   "mimetype": "text/x-python",
   "name": "python",
   "nbconvert_exporter": "python",
   "pygments_lexer": "ipython3",
   "version": "3.12.3"
  }
 },
 "nbformat": 4,
 "nbformat_minor": 2
}
