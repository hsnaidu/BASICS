{
 "cells": [
  {
   "cell_type": "markdown",
   "metadata": {},
   "source": [
    "FUNCTIONS & RECURSIVE FUNCTIONS"
   ]
  },
  {
   "cell_type": "markdown",
   "metadata": {},
   "source": [
    "a block of code that can be executed n number of times"
   ]
  },
  {
   "cell_type": "markdown",
   "metadata": {},
   "source": [
    "IF YOU WRITE A CODE MORE THAN TWICE MAKE IT A FUNCTION "
   ]
  },
  {
   "cell_type": "code",
   "execution_count": 2,
   "metadata": {},
   "outputs": [
    {
     "name": "stdout",
     "output_type": "stream",
     "text": [
      "30\n",
      "30\n"
     ]
    }
   ],
   "source": [
    "# Assume printing a sum of numbers\n",
    "a = 10\n",
    "b = 20\n",
    "print(a+b)\n",
    "\n",
    "# Or..\n",
    "print(10+20)\n",
    "\n",
    "# This code is useable only once, we need to create a new variable and then pass values "
   ]
  },
  {
   "cell_type": "markdown",
   "metadata": {},
   "source": [
    "Sample Function .."
   ]
  },
  {
   "cell_type": "code",
   "execution_count": 6,
   "metadata": {},
   "outputs": [],
   "source": [
    "def add_two_numbers(number1,number2):\n",
    "    print(number1 + number2)"
   ]
  },
  {
   "cell_type": "code",
   "execution_count": 10,
   "metadata": {},
   "outputs": [
    {
     "name": "stdout",
     "output_type": "stream",
     "text": [
      "30\n",
      "90\n",
      "110\n"
     ]
    }
   ],
   "source": [
    "add_two_numbers(10,20)\n",
    "add_two_numbers(40,50)\n",
    "add_two_numbers(number1=50,number2=60) # You can also do this\n",
    "\n",
    "# Here..\n",
    "# You can reuse the code n times"
   ]
  },
  {
   "cell_type": "markdown",
   "metadata": {},
   "source": [
    "DIFFERENCE BTW A FUNCTION THAT JUST PRINTS AND FUNCTION THAT RETURNS A VALUE"
   ]
  },
  {
   "cell_type": "code",
   "execution_count": 12,
   "metadata": {},
   "outputs": [],
   "source": [
    "# A normal print func..\n",
    "def addSum(number1,number2):\n",
    "    print(number1 + number2)\n",
    "\n",
    "# A function with return..\n",
    "def addSumR(number1,number2):\n",
    "    return number1 + number2"
   ]
  },
  {
   "cell_type": "code",
   "execution_count": 13,
   "metadata": {},
   "outputs": [
    {
     "name": "stdout",
     "output_type": "stream",
     "text": [
      "30\n"
     ]
    },
    {
     "data": {
      "text/plain": [
       "30"
      ]
     },
     "execution_count": 13,
     "metadata": {},
     "output_type": "execute_result"
    }
   ],
   "source": [
    "# Both the functions will print the output..\n",
    "    # But with return function we can store the output into a variable or use for another operations\n",
    "\n",
    "addSum(10,20)\n",
    "addSumR(10,20)"
   ]
  },
  {
   "cell_type": "markdown",
   "metadata": {},
   "source": [
    "Working different case scenario"
   ]
  },
  {
   "cell_type": "code",
   "execution_count": 18,
   "metadata": {},
   "outputs": [
    {
     "name": "stdout",
     "output_type": "stream",
     "text": [
      "30\n",
      "None\n"
     ]
    }
   ],
   "source": [
    "# Assume the function prints a car milage ..\n",
    "car_milage = addSum(10,20)\n",
    "        # Here it just prints a number but cannot be stored into a variable\n",
    "\n",
    "print(car_milage)\n",
    "# This is returning NONE cause it is not returning.. any value"
   ]
  },
  {
   "cell_type": "code",
   "execution_count": 28,
   "metadata": {},
   "outputs": [
    {
     "name": "stdout",
     "output_type": "stream",
     "text": [
      "30\n"
     ]
    }
   ],
   "source": [
    "# Assume the function return a car milage ..\n",
    "car2_milage = addSumR(10,20)\n",
    "\n",
    "print(car2_milage)\n",
    "# I can use this inside another function\n",
    "\n",
    "\n",
    "# NOTE another-function\n",
    "\n",
    "def my_carMilage(carName,carMilage):\n",
    "    print(f\"my car {carName} gives {carMilage}\")"
   ]
  },
  {
   "cell_type": "code",
   "execution_count": 24,
   "metadata": {},
   "outputs": [
    {
     "name": "stdout",
     "output_type": "stream",
     "text": [
      "my car Maruthi gives 30\n",
      "my car KIA gives None\n"
     ]
    }
   ],
   "source": [
    "my_carMilage(\"Maruthi\", car2_milage)\n",
    "# car2_milage is given from the function\n",
    "\n",
    "# When you use a non-return function\n",
    "my_carMilage(\"KIA\", car_milage)"
   ]
  },
  {
   "cell_type": "markdown",
   "metadata": {},
   "source": [
    "OTHER WAYS OF PASSING VALUES TO ARGUMENT"
   ]
  },
  {
   "cell_type": "code",
   "execution_count": 25,
   "metadata": {},
   "outputs": [
    {
     "name": "stdout",
     "output_type": "stream",
     "text": [
      "my car toyota gives 14\n"
     ]
    }
   ],
   "source": [
    "my_carMilage(\"toyota\",addSumR(10,4)) \n",
    "# You can also use this function"
   ]
  },
  {
   "cell_type": "code",
   "execution_count": 27,
   "metadata": {},
   "outputs": [
    {
     "name": "stdout",
     "output_type": "stream",
     "text": [
      "14\n",
      "my car toyota gives None\n"
     ]
    }
   ],
   "source": [
    "my_carMilage(\"toyota\",addSum(10,4)) \n",
    "# Same technique without return function"
   ]
  },
  {
   "cell_type": "code",
   "execution_count": 1,
   "metadata": {},
   "outputs": [],
   "source": [
    "# WAP to find the average of three numbers\n",
    "def average(number1,number2,number3):\n",
    "    return (number1 + number2 + number3) / 3"
   ]
  },
  {
   "cell_type": "code",
   "execution_count": 2,
   "metadata": {},
   "outputs": [
    {
     "data": {
      "text/plain": [
       "2.0"
      ]
     },
     "execution_count": 2,
     "metadata": {},
     "output_type": "execute_result"
    }
   ],
   "source": [
    "average(1,2,3)"
   ]
  },
  {
   "cell_type": "markdown",
   "metadata": {},
   "source": [
    "AVERAGE USING EXCEPTIONAL HANDLING"
   ]
  },
  {
   "cell_type": "code",
   "execution_count": 5,
   "metadata": {},
   "outputs": [],
   "source": [
    "# WAP using the exceptional handling \n",
    "def average(number1,number2,number3):\n",
    "    try:\n",
    "        return (number1+number2+number3) / 3\n",
    "    except Exception as e:\n",
    "        print(e)"
   ]
  },
  {
   "cell_type": "code",
   "execution_count": 7,
   "metadata": {},
   "outputs": [
    {
     "data": {
      "text/plain": [
       "2.3333333333333335"
      ]
     },
     "execution_count": 7,
     "metadata": {},
     "output_type": "execute_result"
    }
   ],
   "source": [
    "average(2,2,3)"
   ]
  },
  {
   "cell_type": "markdown",
   "metadata": {},
   "source": [
    "DEFAULT PARAMETES / ARGUMENTS"
   ]
  },
  {
   "cell_type": "markdown",
   "metadata": {},
   "source": [
    "DEFAULT ARGUMENT MUST ALWAYS COME AT THE END IF IT COMES AT THE BEGINING IT WILL THROW AN ERROR"
   ]
  },
  {
   "cell_type": "code",
   "execution_count": 8,
   "metadata": {},
   "outputs": [],
   "source": [
    "def age_calculator(age,currentYear = 2024): # here current-year is default parameter\n",
    "    return currentYear - age\n",
    "    "
   ]
  },
  {
   "cell_type": "code",
   "execution_count": 12,
   "metadata": {},
   "outputs": [
    {
     "data": {
      "text/plain": [
       "2000"
      ]
     },
     "execution_count": 12,
     "metadata": {},
     "output_type": "execute_result"
    }
   ],
   "source": [
    "age_calculator(24)\n",
    "# Here i can also give the currentYear\n",
    "# but since its already mentioned we dont have to give it."
   ]
  },
  {
   "cell_type": "code",
   "execution_count": 13,
   "metadata": {},
   "outputs": [
    {
     "data": {
      "text/plain": [
       "10"
      ]
     },
     "execution_count": 13,
     "metadata": {},
     "output_type": "execute_result"
    }
   ],
   "source": [
    "# WAP to print the length of a list \n",
    "a = [1,2,3,4,5,6,7,8,9,0]\n",
    "len(a)"
   ]
  },
  {
   "cell_type": "code",
   "execution_count": 14,
   "metadata": {},
   "outputs": [],
   "source": [
    "# Function to print the length of a string..\n",
    "def listLength(list):\n",
    "    return len(list)"
   ]
  },
  {
   "cell_type": "code",
   "execution_count": 15,
   "metadata": {},
   "outputs": [
    {
     "name": "stdout",
     "output_type": "stream",
     "text": [
      "The length of given list [1, 2, 3, 4, 5, 6, 7, 8, 9, 0] is 10\n"
     ]
    }
   ],
   "source": [
    "print(f\"The length of given list {a} is {listLength(a)}\")"
   ]
  },
  {
   "cell_type": "code",
   "execution_count": 62,
   "metadata": {},
   "outputs": [],
   "source": [
    "# Program to print-list elements in a single line\n",
    "def lineList(list):\n",
    "    for i in (list):\n",
    "        print(i , '\\t')"
   ]
  },
  {
   "cell_type": "code",
   "execution_count": 63,
   "metadata": {},
   "outputs": [
    {
     "name": "stdout",
     "output_type": "stream",
     "text": [
      "1 \t\n",
      "2 \t\n",
      "3 \t\n",
      "4 \t\n",
      "5 \t\n",
      "6 \t\n",
      "7 \t\n",
      "8 \t\n",
      "9 \t\n",
      "0 \t\n"
     ]
    }
   ],
   "source": [
    "lineList(a)"
   ]
  },
  {
   "cell_type": "code",
   "execution_count": 64,
   "metadata": {},
   "outputs": [],
   "source": [
    "# WAP to find factorial of number\n",
    "    # NOTE pending "
   ]
  },
  {
   "cell_type": "code",
   "execution_count": 65,
   "metadata": {},
   "outputs": [],
   "source": [
    "# WAP to convert usd -> inr\n",
    "def convertor(currency,amount):\n",
    "    if currency == \"usd\":\n",
    "        amount/=84\n",
    "    else:\n",
    "        amount*=84\n",
    "    return (amount)\n"
   ]
  },
  {
   "cell_type": "code",
   "execution_count": 66,
   "metadata": {},
   "outputs": [
    {
     "data": {
      "text/plain": [
       "1.0"
      ]
     },
     "execution_count": 66,
     "metadata": {},
     "output_type": "execute_result"
    }
   ],
   "source": [
    "convertor(\"usd\",84)"
   ]
  },
  {
   "cell_type": "markdown",
   "metadata": {},
   "source": [
    "RECURSIVE FUNCTION"
   ]
  },
  {
   "cell_type": "markdown",
   "metadata": {},
   "source": [
    "A function that calls its self repeatedly"
   ]
  },
  {
   "cell_type": "markdown",
   "metadata": {},
   "source": [
    "Max-Time you dont use the recursive function"
   ]
  },
  {
   "cell_type": "code",
   "execution_count": 13,
   "metadata": {},
   "outputs": [
    {
     "name": "stdout",
     "output_type": "stream",
     "text": [
      "10\n",
      "9\n",
      "8\n",
      "7\n",
      "6\n",
      "5\n",
      "4\n",
      "3\n",
      "2\n",
      "1\n"
     ]
    }
   ],
   "source": [
    "def number_back(number):\n",
    "    if number == 0:\n",
    "        return\n",
    "    print(number)\n",
    "    number_back(number-1)\n",
    "number_back(10)    "
   ]
  },
  {
   "cell_type": "code",
   "execution_count": 16,
   "metadata": {},
   "outputs": [
    {
     "name": "stdout",
     "output_type": "stream",
     "text": [
      "9\n",
      "8\n",
      "7\n",
      "6\n",
      "5\n",
      "4\n",
      "3\n",
      "2\n",
      "1\n"
     ]
    }
   ],
   "source": [
    "def counter(number):\n",
    "    return number - 1\n",
    "\n",
    "for i in range(10,1,-1):\n",
    "    print (counter(i)) # This function is called again and again\n",
    "    "
   ]
  },
  {
   "cell_type": "code",
   "execution_count": 15,
   "metadata": {},
   "outputs": [],
   "source": [
    "def function_one(name = \"hemanth\"):\n",
    "    return (f' Name :  {name}')"
   ]
  },
  {
   "cell_type": "code",
   "execution_count": 18,
   "metadata": {},
   "outputs": [],
   "source": [
    "def function_two(age):\n",
    "    return f\"{function_one()} & Age : {age} yr's\""
   ]
  },
  {
   "cell_type": "code",
   "execution_count": 19,
   "metadata": {},
   "outputs": [
    {
     "data": {
      "text/plain": [
       "\" Name :  hemanth & Age : 23 yr's\""
      ]
     },
     "execution_count": 19,
     "metadata": {},
     "output_type": "execute_result"
    }
   ],
   "source": [
    "function_two(23)"
   ]
  },
  {
   "cell_type": "markdown",
   "metadata": {},
   "source": [
    "LAMDA FUNCTION / ANONYMUS FUNCTION"
   ]
  },
  {
   "cell_type": "code",
   "execution_count": 25,
   "metadata": {},
   "outputs": [],
   "source": [
    "ten = lambda number : number + 10\n",
    "    # lambda is used for anonymus function : keyword"
   ]
  },
  {
   "cell_type": "code",
   "execution_count": 24,
   "metadata": {},
   "outputs": [
    {
     "name": "stdout",
     "output_type": "stream",
     "text": [
      "20\n"
     ]
    }
   ],
   "source": [
    "print(ten(10))"
   ]
  },
  {
   "cell_type": "markdown",
   "metadata": {},
   "source": [
    "Multiple argument"
   ]
  },
  {
   "cell_type": "code",
   "execution_count": 29,
   "metadata": {},
   "outputs": [
    {
     "name": "stdout",
     "output_type": "stream",
     "text": [
      "11\n"
     ]
    }
   ],
   "source": [
    "sample = lambda a, b : a+b\n",
    "    # here when you try to calculate a and b seperate it throws an error \n",
    "print(sample(5,6))"
   ]
  },
  {
   "cell_type": "code",
   "execution_count": 32,
   "metadata": {},
   "outputs": [
    {
     "ename": "SyntaxError",
     "evalue": "cannot assign to lambda (4006738027.py, line 1)",
     "output_type": "error",
     "traceback": [
      "\u001b[1;36m  Cell \u001b[1;32mIn[32], line 1\u001b[1;36m\u001b[0m\n\u001b[1;33m    sample = lambda a, b : a = 10, b=20\u001b[0m\n\u001b[1;37m             ^\u001b[0m\n\u001b[1;31mSyntaxError\u001b[0m\u001b[1;31m:\u001b[0m cannot assign to lambda\n"
     ]
    }
   ],
   "source": [
    "sample = lambda a, b : a = 10, b=20\n",
    "    # hlike this \n",
    "print(sample(5,6))"
   ]
  },
  {
   "cell_type": "code",
   "execution_count": 6,
   "metadata": {},
   "outputs": [],
   "source": [
    "# WAP to print even - odd\n",
    "def even_odd(number):\n",
    "    if number % 2 == 0:\n",
    "        return \"EVEN\"\n",
    "    else:\n",
    "        return \"ODD\""
   ]
  },
  {
   "cell_type": "code",
   "execution_count": 7,
   "metadata": {},
   "outputs": [
    {
     "name": "stdout",
     "output_type": "stream",
     "text": [
      "EVEN\n"
     ]
    }
   ],
   "source": [
    "print(even_odd(2))"
   ]
  },
  {
   "cell_type": "markdown",
   "metadata": {},
   "source": [
    "PRACTICE"
   ]
  },
  {
   "cell_type": "code",
   "execution_count": 31,
   "metadata": {},
   "outputs": [],
   "source": [
    "# Write a code to print sum of n natural numbers\n",
    "def cal_sum(number):\n",
    "    sum = 0\n",
    "    for i in range(number):\n",
    "        num = int(input('Enter a number :'))\n",
    "        sum = num + sum\n",
    "        # Know where you are using the return statement\n",
    "    return sum"
   ]
  },
  {
   "cell_type": "code",
   "execution_count": 32,
   "metadata": {},
   "outputs": [
    {
     "data": {
      "text/plain": [
       "1"
      ]
     },
     "execution_count": 32,
     "metadata": {},
     "output_type": "execute_result"
    }
   ],
   "source": [
    "cal_sum(1)"
   ]
  },
  {
   "cell_type": "code",
   "execution_count": 33,
   "metadata": {},
   "outputs": [],
   "source": [
    "# WAP to print all the list of element\n",
    "def elemnt(list):\n",
    "    if len(list) == 0:\n",
    "        return\n",
    "    else:\n",
    "        for i in list:\n",
    "            print(i)"
   ]
  },
  {
   "cell_type": "code",
   "execution_count": 34,
   "metadata": {},
   "outputs": [
    {
     "name": "stdout",
     "output_type": "stream",
     "text": [
      "1\n",
      "2\n",
      "3\n",
      "4\n",
      "5\n",
      "6\n",
      "7\n"
     ]
    }
   ],
   "source": [
    "elemnt([1,2,3,4,5,6,7])"
   ]
  },
  {
   "cell_type": "code",
   "execution_count": null,
   "metadata": {},
   "outputs": [],
   "source": []
  }
 ],
 "metadata": {
  "kernelspec": {
   "display_name": "base",
   "language": "python",
   "name": "python3"
  },
  "language_info": {
   "codemirror_mode": {
    "name": "ipython",
    "version": 3
   },
   "file_extension": ".py",
   "mimetype": "text/x-python",
   "name": "python",
   "nbconvert_exporter": "python",
   "pygments_lexer": "ipython3",
   "version": "3.11.7"
  }
 },
 "nbformat": 4,
 "nbformat_minor": 2
}
