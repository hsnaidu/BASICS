{
 "cells": [
  {
   "cell_type": "markdown",
   "metadata": {},
   "source": [
    ": FILES"
   ]
  },
  {
   "cell_type": "markdown",
   "metadata": {},
   "source": [
    "In python you can do file-operation such as READ / WRITE DATA"
   ]
  },
  {
   "cell_type": "markdown",
   "metadata": {},
   "source": [
    "Sample Syntax"
   ]
  },
  {
   "cell_type": "markdown",
   "metadata": {},
   "source": [
    "f = open(\"File_Name\", \"Mode\") # mode = r                    \n",
    "content = f.read() # Performing Read Operation                  \n",
    "print(content)                  \n",
    "f.close() # Close the file                  "
   ]
  },
  {
   "cell_type": "markdown",
   "metadata": {},
   "source": [
    "By default text files are opened : so we use rt - read text                 \n",
    "rb - read Binary            "
   ]
  },
  {
   "cell_type": "markdown",
   "metadata": {},
   "source": [
    "BY DEFAULT THE MODE WILL BE READ"
   ]
  },
  {
   "cell_type": "code",
   "execution_count": 15,
   "metadata": {},
   "outputs": [
    {
     "name": "stdout",
     "output_type": "stream",
     "text": [
      "Hi my name is HARIII\n",
      "I am based out of bangalore \n",
      "This is a test file for seeing how files works in PYTHON\n",
      "<class 'str'>\n"
     ]
    }
   ],
   "source": [
    "with open('C:\\\\Users\\\\harip\\\\Desktop\\\\BASICS\\\\Python_Basics\\\\Module_7\\\\SFile\\\\One.txt', 'r') as f:\n",
    "    data = f.read()\n",
    "    print(data)\n",
    "    print(type(data))\n",
    "    f.close() # Close the File"
   ]
  },
  {
   "cell_type": "markdown",
   "metadata": {},
   "source": [
    "SOME BASIC FILE OPERATIONS\n",
    "1. 'r' -> Open for Reading (default)\n",
    "2. 'w' -> Open for Writing, Truncating the file \n",
    "3. 'x' -> Create a new-file and open it for writing \n",
    "4. 'a' -> Open for writing, appending to the end of the file if it exists\n",
    "5. 'b' -> Binary Mode\n",
    "6. 't' -> Text mode (default)\n",
    "7. '+' -> Open a disk file for updating (reading and writing)"
   ]
  },
  {
   "cell_type": "code",
   "execution_count": 16,
   "metadata": {},
   "outputs": [
    {
     "name": "stdout",
     "output_type": "stream",
     "text": [
      "Hi my\n"
     ]
    }
   ],
   "source": [
    "# Whiile Reading we can specify how may CHARACTER to read\n",
    "with open('C:\\\\Users\\\\harip\\\\Desktop\\\\BASICS\\\\Python_Basics\\\\Module_7\\\\SFile\\\\One.txt', 'r') as f:\n",
    "    data = f.read(5) # Read only the first 5 Character\n",
    "    print(data)\n",
    "    f.close()"
   ]
  },
  {
   "cell_type": "markdown",
   "metadata": {},
   "source": [
    "READ THE FILE LINE-BY LINE"
   ]
  },
  {
   "cell_type": "code",
   "execution_count": 17,
   "metadata": {},
   "outputs": [
    {
     "name": "stdout",
     "output_type": "stream",
     "text": [
      "Hi my name is HARIII\n",
      "\n",
      "I am based out of bangalore \n",
      "\n"
     ]
    }
   ],
   "source": [
    "with open('C:\\\\Users\\\\harip\\\\Desktop\\\\BASICS\\\\Python_Basics\\\\Module_7\\\\SFile\\\\One.txt', 'r') as f:\n",
    "    data = f.readline() # Read The First Line\n",
    "    print(data)\n",
    "    data_line2 = f.readline() # Read the Second Line\n",
    "    print(data_line2)\n",
    "    f.close()"
   ]
  },
  {
   "cell_type": "markdown",
   "metadata": {},
   "source": [
    "WRITE A FILE\n"
   ]
  },
  {
   "cell_type": "code",
   "execution_count": 18,
   "metadata": {},
   "outputs": [],
   "source": [
    "with open('C:\\\\Users\\\\harip\\\\Desktop\\\\BASICS\\\\Python_Basics\\\\Module_7\\\\SFile\\\\demo.txt','w') as f:\n",
    "    f.write('Hi my name is HARII')\n",
    "    f.close()"
   ]
  },
  {
   "cell_type": "markdown",
   "metadata": {},
   "source": [
    "Reading.. the file"
   ]
  },
  {
   "cell_type": "code",
   "execution_count": 19,
   "metadata": {},
   "outputs": [
    {
     "name": "stdout",
     "output_type": "stream",
     "text": [
      "Hi my name is HARII\n"
     ]
    }
   ],
   "source": [
    "with open(\"C:\\\\Users\\\\harip\\\\Desktop\\\\BASICS\\\\Python_Basics\\\\Module_7\\\\SFile\\\\demo.txt\",\"r\") as f:\n",
    "    data = f.read()\n",
    "    print(data)\n",
    "    f.close()"
   ]
  },
  {
   "cell_type": "markdown",
   "metadata": {},
   "source": [
    "WANT TO ADD TEXT TO AN EXISTING FILE"
   ]
  },
  {
   "cell_type": "markdown",
   "metadata": {},
   "source": [
    "you can use 'a' Append method - > add"
   ]
  },
  {
   "cell_type": "code",
   "execution_count": 20,
   "metadata": {},
   "outputs": [],
   "source": [
    "with open(\"C:\\\\Users\\\\harip\\\\Desktop\\\\BASICS\\\\Python_Basics\\\\Module_7\\\\SFile\\\\demo.txt\",\"a\") as f:\n",
    "    f.write('\\n This is a second line')\n",
    "    f.close()"
   ]
  },
  {
   "cell_type": "code",
   "execution_count": 21,
   "metadata": {},
   "outputs": [
    {
     "name": "stdout",
     "output_type": "stream",
     "text": [
      "Hi my name is HARII\n",
      " This is a second line\n"
     ]
    }
   ],
   "source": [
    "with open(\"C:\\\\Users\\\\harip\\\\Desktop\\\\BASICS\\\\Python_Basics\\\\Module_7\\\\SFile\\\\demo.txt\",\"r\") as f:\n",
    "    data = f.read()\n",
    "    print(data)\n",
    "    f.close()"
   ]
  },
  {
   "cell_type": "markdown",
   "metadata": {},
   "source": [
    "WHENEVER YOU OPEN A BRAND-NEW FILE WHICH IS NOT THERE PYTHON WILL CREATE IT AUTOMATICALLY FOR US"
   ]
  },
  {
   "cell_type": "code",
   "execution_count": 22,
   "metadata": {},
   "outputs": [],
   "source": [
    "name = input('Enter your name : ')\n",
    "with open ('C:\\\\Users\\\\harip\\\\Desktop\\\\BASICS\\\\Python_Basics\\\\Module_7\\\\SFile\\\\demo.txt','r+') as f: # the r+ is used to, overwrite a file\n",
    "    f.write(f'hi my name is {name}')\n",
    "    f.close()"
   ]
  },
  {
   "cell_type": "code",
   "execution_count": 23,
   "metadata": {},
   "outputs": [],
   "source": [
    "with open ('C:\\\\Users\\\\harip\\\\Desktop\\\\BASICS\\\\Python_Basics\\\\Module_7\\\\SFile\\\\demo.txt','r+') as f: # the r+ is used to, overwrite a file\n",
    "    f.write('PIKACHU') # NOTE The added text will appear in the begining of the sentence \n",
    "    f.close()"
   ]
  },
  {
   "cell_type": "markdown",
   "metadata": {},
   "source": [
    "USIGN THE \"WITH\" KEYWORD"
   ]
  },
  {
   "cell_type": "code",
   "execution_count": 24,
   "metadata": {},
   "outputs": [],
   "source": [
    "# By using the with keyword\n",
    "\n",
    "# with open(<file-path>,\"operation-to-be-performed\") as f:\n",
    " \n",
    "    # data = f.read()\n",
    "    # print(data)\n",
    " \n",
    "    # f.write()\n",
    " \n",
    "    # f.close() # NOTE  while using the \"with\" the f.close() is not required "
   ]
  },
  {
   "cell_type": "markdown",
   "metadata": {},
   "source": [
    "SIMPLE CODE STRU.. USING \"WITH\""
   ]
  },
  {
   "cell_type": "code",
   "execution_count": 25,
   "metadata": {},
   "outputs": [
    {
     "name": "stdout",
     "output_type": "stream",
     "text": [
      "Hi my name is HARIII\n",
      "\n"
     ]
    }
   ],
   "source": [
    "with open(\"C:\\\\Users\\\\harip\\\\Desktop\\\\BASICS\\\\Python_Basics\\\\Module_7\\\\SFile\\\\One.txt\",'r') as f:\n",
    "    content = f.readline() # Read the First Line , First Three Character\n",
    "    print(content)"
   ]
  },
  {
   "cell_type": "markdown",
   "metadata": {},
   "source": [
    "DELETING A FILE "
   ]
  },
  {
   "cell_type": "markdown",
   "metadata": {},
   "source": [
    "For this you need to import a module os"
   ]
  },
  {
   "cell_type": "code",
   "execution_count": 26,
   "metadata": {},
   "outputs": [],
   "source": [
    "import os"
   ]
  },
  {
   "cell_type": "code",
   "execution_count": 27,
   "metadata": {},
   "outputs": [],
   "source": [
    "# And then we can remove the file \n",
    "os.remove(\"C:\\\\Users\\\\harip\\\\Desktop\\\\BASICS\\\\Python_Basics\\\\Module_7\\\\SFile\\\\demo.txt\")\n",
    "\n",
    "# NOTE the file is removed"
   ]
  },
  {
   "cell_type": "markdown",
   "metadata": {},
   "source": [
    "PRACTICE"
   ]
  },
  {
   "cell_type": "code",
   "execution_count": 48,
   "metadata": {},
   "outputs": [],
   "source": [
    "with open('practice.txt','w') as f:\n",
    "    f.write('Hi everyone\\nwe are learning FILES')\n",
    "    f.write(' using Java\\nI like to code in python')"
   ]
  },
  {
   "cell_type": "code",
   "execution_count": 56,
   "metadata": {},
   "outputs": [
    {
     "name": "stdout",
     "output_type": "stream",
     "text": [
      "Hi everyone\n",
      "we are learning FILES using Python\n",
      "I like to code in python\n"
     ]
    }
   ],
   "source": [
    "# Replace Java -> Python\n",
    "    # Here we are over-writing a file ( r+ )\n",
    "with open(\"C:\\\\Users\\\\harip\\\\Desktop\\\\BASICS\\\\Python_Basics\\\\Module_7\\\\practice.txt\",\"r\") as f:\n",
    "    content = f.read()\n",
    "    \n",
    "# here we are replacing the JAVA with PYTHON\n",
    "new_content = content.replace('Java','Python')\n",
    "print(new_content)"
   ]
  },
  {
   "cell_type": "markdown",
   "metadata": {},
   "source": [
    "Here we Write the file with the new data"
   ]
  },
  {
   "cell_type": "code",
   "execution_count": 60,
   "metadata": {},
   "outputs": [],
   "source": [
    "with open(\"C:\\\\Users\\\\harip\\\\Desktop\\\\BASICS\\\\Python_Basics\\\\Module_7\\\\practice.txt\",\"w\") as f:\n",
    "    f.write(new_content)"
   ]
  },
  {
   "cell_type": "code",
   "execution_count": 62,
   "metadata": {},
   "outputs": [
    {
     "name": "stdout",
     "output_type": "stream",
     "text": [
      "Hi everyone\n",
      "we are learning FILES using Python\n",
      "I like to code in python\n"
     ]
    }
   ],
   "source": [
    "with open(\"C:\\\\Users\\\\harip\\\\Desktop\\\\BASICS\\\\Python_Basics\\\\Module_7\\\\practice.txt\",\"r\") as f:\n",
    "    data = f.read()\n",
    "    print(data)"
   ]
  },
  {
   "cell_type": "markdown",
   "metadata": {},
   "source": [
    "To Replace we use the String replace - function"
   ]
  },
  {
   "cell_type": "code",
   "execution_count": 65,
   "metadata": {},
   "outputs": [
    {
     "data": {
      "text/plain": [
       "1"
      ]
     },
     "execution_count": 65,
     "metadata": {},
     "output_type": "execute_result"
    }
   ],
   "source": [
    "sentence = \"Hi my name is hemanth\"\n",
    "sentence.replace('hemanth','hariprasad')\n",
    "\n",
    "# Find is some character exist in the file or not\n",
    "\n",
    "sentence.find(\"Hi\") # Find Gives us the position\n",
    "sentence.count(\"Hi\")    # Gives us the number of times the element is there"
   ]
  },
  {
   "cell_type": "markdown",
   "metadata": {},
   "source": [
    "FINDING & COUNTING THE LEARING WORD IN THE FILE"
   ]
  },
  {
   "cell_type": "code",
   "execution_count": 72,
   "metadata": {},
   "outputs": [
    {
     "name": "stdout",
     "output_type": "stream",
     "text": [
      "1\n",
      "19\n",
      "True\n"
     ]
    }
   ],
   "source": [
    "with open(\"C:\\\\Users\\\\harip\\\\Desktop\\\\BASICS\\\\Python_Basics\\\\Module_7\\\\practice.txt\",'r') as f:\n",
    "    data = f.read()\n",
    "    \n",
    "    learning_count = data.count('learning')\n",
    "    \n",
    "    # Accessing the position\n",
    "    learning_position = data.find('learning')\n",
    "    \n",
    "    # Given Cond..\n",
    "    learning_count_result = True if learning_count > 0 else False\n",
    "    \n",
    "    print(learning_count)\n",
    "    \n",
    "    print(learning_position)\n",
    "    \n",
    "    # Returning the Bool..\n",
    "    print(learning_count_result)"
   ]
  },
  {
   "cell_type": "code",
   "execution_count": 103,
   "metadata": {},
   "outputs": [],
   "source": [
    "def word_checker(word):\n",
    "    with open(\"C:\\\\Users\\\\harip\\\\Desktop\\\\BASICS\\\\Python_Basics\\\\Module_7\\\\practice.txt\",'r') as f:\n",
    "        for i in f:\n",
    "            if i.find(word) <= 0:\n",
    "                continue\n",
    "            else:\n",
    "                print(i.find(word))\n",
    "                print(i)\n",
    "word_checker('hari')"
   ]
  },
  {
   "cell_type": "code",
   "execution_count": 104,
   "metadata": {},
   "outputs": [
    {
     "name": "stdout",
     "output_type": "stream",
     "text": [
      "7\n",
      "we are learning FILES using Python\n",
      "\n"
     ]
    }
   ],
   "source": [
    "word_checker('learning')"
   ]
  },
  {
   "cell_type": "code",
   "execution_count": 116,
   "metadata": {},
   "outputs": [],
   "source": [
    "# WAP to count the number of even numbers in a file \n",
    "\n",
    "# 1 WRITE A FILE 1-10 numbers\n",
    "# 2 Each number must be seperated with a ,\n",
    "# Then print-out or tell all the even numbers\n",
    "    \n",
    "def odd_even_sep(end,start= 1, file_name=\"odd_even.txt\"):\n",
    "    with open(file_name,'w') as f:\n",
    "        for i in range(start,end): # here i have taken a for loop range 1- 20\n",
    "            i = str(i) # converting it to string -> File only write string \n",
    "            f.write(i + \",\") # Adding ( , ) to seperate every numbers"
   ]
  },
  {
   "cell_type": "code",
   "execution_count": 115,
   "metadata": {},
   "outputs": [],
   "source": [
    "# This function will create a file from range(start to end)\n",
    "odd_even_sep(20) # other two i have given a default argument so no need to worry"
   ]
  },
  {
   "cell_type": "code",
   "execution_count": 193,
   "metadata": {},
   "outputs": [],
   "source": [
    "# Now printing all the even-numbers \n",
    "def finding_numbers(file_path):\n",
    "    with open(file_path,'r') as f:\n",
    "        data = f.read()\n",
    "        for i in range(len(data)): # String has length \n",
    "            if data[i] == ',': # Here i am just pass if i find a , \n",
    "                continue\n",
    "            # We can convert str -> int \n",
    "                # Additionally we can apply try and error to encounter a string being converted into a integer \n",
    "            elif int(data[i]) % 2 == 0: # Remaing ones i apply the condition\n",
    "                print(data[i])\n"
   ]
  },
  {
   "cell_type": "code",
   "execution_count": 199,
   "metadata": {},
   "outputs": [
    {
     "name": "stdout",
     "output_type": "stream",
     "text": [
      "2\n",
      "4\n",
      "6\n",
      "8\n",
      "0\n",
      "2\n",
      "4\n",
      "6\n",
      "8\n"
     ]
    }
   ],
   "source": [
    "finding_numbers(\"C:\\\\Users\\\\harip\\\\Desktop\\\\BASICS\\\\Python_Basics\\\\Module_7\\\\odd_even.txt\")"
   ]
  }
 ],
 "metadata": {
  "kernelspec": {
   "display_name": "base",
   "language": "python",
   "name": "python3"
  },
  "language_info": {
   "codemirror_mode": {
    "name": "ipython",
    "version": 3
   },
   "file_extension": ".py",
   "mimetype": "text/x-python",
   "name": "python",
   "nbconvert_exporter": "python",
   "pygments_lexer": "ipython3",
   "version": "3.11.7"
  }
 },
 "nbformat": 4,
 "nbformat_minor": 2
}
