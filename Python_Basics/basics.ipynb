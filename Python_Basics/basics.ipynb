{
 "cells": [
  {
   "cell_type": "markdown",
   "metadata": {},
   "source": [
    "1. Integers [+0 to -0] -> int()\n",
    "2. Decimal [+0.0 to -0.0] -> float()\n",
    "3. Character -> Single(' ') or Double (\" \") or Thriple (''' ''')-> str()\n",
    "4. NoneType and Boolean"
   ]
  },
  {
   "cell_type": "markdown",
   "metadata": {},
   "source": [
    "* Variable"
   ]
  },
  {
   "cell_type": "code",
   "execution_count": 20,
   "metadata": {},
   "outputs": [
    {
     "name": "stdout",
     "output_type": "stream",
     "text": [
      "My name is :  HARI  and my age is :  23\n",
      "HEMANTH.S"
     ]
    }
   ],
   "source": [
    "# They are an empty value (variable -> name) that store (str-> 'hari') value ('hari') \n",
    "name = 'HARI'\n",
    "age = 23\n",
    "print('My name is : ',name,' and my age is : ',age) # Print is again a Built in function\n",
    "\n",
    "# You have two types of func in python\n",
    "\n",
    "# 1. Builtin Function \n",
    "# 2. User Defined Function \n",
    "# 3. Anonymus Function (Lambda Function)\n",
    "\n",
    "# Use case of end \n",
    "print('HEMANTH', end=\".S\")"
   ]
  },
  {
   "cell_type": "markdown",
   "metadata": {},
   "source": [
    "* CONSTANTS / KEYWORDS"
   ]
  },
  {
   "cell_type": "code",
   "execution_count": 21,
   "metadata": {},
   "outputs": [
    {
     "name": "stdout",
     "output_type": "stream",
     "text": [
      "10\n"
     ]
    }
   ],
   "source": [
    "# CONST are defined using CAPS\n",
    "CONST = 10\n",
    "print(CONST)\n",
    "\n",
    "# KEYWORDS are predeined words in python\n",
    "# ex : if , elif, else, and, or, not, True, Fasle ..."
   ]
  },
  {
   "cell_type": "markdown",
   "metadata": {},
   "source": [
    "* Operators"
   ]
  },
  {
   "cell_type": "markdown",
   "metadata": {},
   "source": [
    "* [w3school Operator's](https://www.w3schools.com/python/python_operators.asp)"
   ]
  },
  {
   "cell_type": "code",
   "execution_count": 22,
   "metadata": {},
   "outputs": [],
   "source": [
    "# Arthematic Operator {+ , - , * , % , / , ^ , **}\n",
    "# Comparision Operator {>, <, >=, <=, !=, ==}\n",
    "# Boolean Operator {True, False}\n",
    "# Logical Operator {and, or, not}\n",
    "\n",
    "# ?========= USED IN DATASTRUCTURES ===============? #\n",
    "\n",
    "# Identity Operator {is, is not} : Used in LIST, STRING ,TUPLE, DICTIONARY\n",
    "# Membership Operator {in , not in} Used in LIST, STRING, TUPLE, DICTIONARY\n",
    "# Bitwise Operator { &, |, ^ (XOR), ~(NOT), << (ZERO fill left Shift), >> (Signed right shift)}"
   ]
  },
  {
   "cell_type": "markdown",
   "metadata": {},
   "source": [
    "* \"=\"  is an assignment operator"
   ]
  },
  {
   "cell_type": "code",
   "execution_count": 23,
   "metadata": {},
   "outputs": [
    {
     "name": "stdout",
     "output_type": "stream",
     "text": [
      "Arithmetic Operators\n",
      "ADD (a + b): 30\n",
      "SUB (a - b): -10\n",
      "MUL (a * b): 200\n",
      "DIV (a / b): 0.5\n",
      "MOD (a % b): 10\n",
      "EXP (a ^ b): 30\n",
      "POW (a ** b): 100000000000000000000\n"
     ]
    }
   ],
   "source": [
    "# Arthimatic Operator\n",
    "a = 10\n",
    "b = 20\n",
    "print('Arithmetic Operators')\n",
    "print(f'ADD (a + b): {a+b}')\n",
    "print(f'SUB (a - b): {a-b}')\n",
    "print(f'MUL (a * b): {a*b}')\n",
    "print(f'DIV (a / b): {a/b}')\n",
    "print(f'MOD (a % b): {a%b}')\n",
    "print(f'EXP (a ^ b): {a^b}')\n",
    "print(f'POW (a ** b): {a**b}')\n"
   ]
  },
  {
   "cell_type": "code",
   "execution_count": 24,
   "metadata": {},
   "outputs": [
    {
     "name": "stdout",
     "output_type": "stream",
     "text": [
      "False\n",
      "True\n",
      "False\n"
     ]
    }
   ],
   "source": [
    "# Comparision Operator\n",
    "a,b = 1,2\n",
    "print(a>b) # The output will be in Boolean \n",
    "print(a<b) # The output will be in Boolean \n",
    "print(a==b) # The output will be in Boolean \n"
   ]
  },
  {
   "cell_type": "code",
   "execution_count": 25,
   "metadata": {},
   "outputs": [
    {
     "name": "stdout",
     "output_type": "stream",
     "text": [
      "True\n"
     ]
    }
   ],
   "source": [
    "# Boolean\n",
    "car_color_red = True\n",
    "print(car_color_red)"
   ]
  },
  {
   "cell_type": "markdown",
   "metadata": {},
   "source": [
    "* OPERATOR PRECIDENCE RULE IN PYTHON"
   ]
  },
  {
   "cell_type": "markdown",
   "metadata": {},
   "source": [
    "1. PEMDAS ( PARENTHESE -> EQUATION -> MULTIPLICATION -> DIVISION -> ADDITION -> SUBRACTION )"
   ]
  },
  {
   "cell_type": "code",
   "execution_count": 26,
   "metadata": {},
   "outputs": [
    {
     "name": "stdout",
     "output_type": "stream",
     "text": [
      "11.0\n"
     ]
    }
   ],
   "source": [
    "y = (1 + (2 ** 3) /4 * 5)\n",
    "print(y) # use Chatgpt for more example"
   ]
  },
  {
   "cell_type": "markdown",
   "metadata": {},
   "source": [
    "* TYPE CONVERTIONS"
   ]
  },
  {
   "cell_type": "code",
   "execution_count": 32,
   "metadata": {},
   "outputs": [
    {
     "name": "stdout",
     "output_type": "stream",
     "text": [
      "<class 'float'>\n",
      "<class 'int'>\n",
      "<class 'str'>\n",
      "<class 'NoneType'>\n"
     ]
    }
   ],
   "source": [
    "# to check the data type \n",
    "print(type(3.142))\n",
    "print(type(25))\n",
    "print(type('hari'))\n",
    "print(type(None))"
   ]
  },
  {
   "cell_type": "markdown",
   "metadata": {},
   "source": [
    "* Type convertion using user-input"
   ]
  },
  {
   "cell_type": "code",
   "execution_count": 29,
   "metadata": {},
   "outputs": [
    {
     "name": "stdout",
     "output_type": "stream",
     "text": [
      "<class 'int'>\n"
     ]
    }
   ],
   "source": [
    "# type convertion str -> int or float\n",
    "x = input(\"enter the value\") #input used to take user i/p\n",
    "x = int(x) # or x = float(x)\n",
    "print(type(x))"
   ]
  },
  {
   "cell_type": "markdown",
   "metadata": {},
   "source": [
    "* CONDITIONAL STATEMENTS"
   ]
  },
  {
   "cell_type": "code",
   "execution_count": 28,
   "metadata": {},
   "outputs": [
    {
     "name": "stdout",
     "output_type": "stream",
     "text": [
      "a is not equal to b\n"
     ]
    }
   ],
   "source": [
    "# MAINLY CHECK FOR INDENTING\n",
    "if a > b:\n",
    "    print(\"a greater than b\")\n",
    "if b < a:\n",
    "    print(\"b is less than a\")\n",
    "if a >= b:\n",
    "    print(\"a greater than or equal to b\")\n",
    "if b <= a:\n",
    "    print(\"b less than or equal to a\")\n",
    "if a == b:\n",
    "    print(\"a is equal to b\")\n",
    "if(a != b):\n",
    "    print(\"a is not equal to b\")"
   ]
  },
  {
   "cell_type": "markdown",
   "metadata": {},
   "source": [
    "* NESTED CONDITIONAL STATEMENTS"
   ]
  },
  {
   "cell_type": "code",
   "execution_count": 29,
   "metadata": {},
   "outputs": [
    {
     "name": "stdout",
     "output_type": "stream",
     "text": [
      "b is greater\n",
      "b is greater\n"
     ]
    }
   ],
   "source": [
    "if a > b:\n",
    "    if b > 10:\n",
    "        print(\"a and b are greater than 10\")\n",
    "\n",
    "# if-else:\n",
    "if a > b:\n",
    "    print(\"a is greater\")\n",
    "else :\n",
    "    print(\"b is greater\")\n",
    "\n",
    "# if-elif-else\n",
    "if a > b:\n",
    "    print(\"a is greater\")\n",
    "elif b > a :\n",
    "    print(\"b is greater\")\n",
    "else:\n",
    "    print(\"both are not greater\")"
   ]
  },
  {
   "cell_type": "code",
   "execution_count": null,
   "metadata": {},
   "outputs": [],
   "source": []
  }
 ],
 "metadata": {
  "kernelspec": {
   "display_name": "base",
   "language": "python",
   "name": "python3"
  },
  "language_info": {
   "codemirror_mode": {
    "name": "ipython",
    "version": 3
   },
   "file_extension": ".py",
   "mimetype": "text/x-python",
   "name": "python",
   "nbconvert_exporter": "python",
   "pygments_lexer": "ipython3",
   "version": "3.11.7"
  }
 },
 "nbformat": 4,
 "nbformat_minor": 2
}
