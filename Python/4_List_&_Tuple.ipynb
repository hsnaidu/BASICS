{
 "cells": [
  {
   "cell_type": "markdown",
   "metadata": {},
   "source": [
    "List are Changable                  \n",
    "Tuple are Un-Changable"
   ]
  },
  {
   "cell_type": "markdown",
   "metadata": {},
   "source": [
    "List"
   ]
  },
  {
   "cell_type": "code",
   "execution_count": 46,
   "metadata": {},
   "outputs": [
    {
     "name": "stdout",
     "output_type": "stream",
     "text": [
      "3.11.7 \n"
     ]
    }
   ],
   "source": [
    "from sys import version\n",
    "print(version[:7])"
   ]
  },
  {
   "cell_type": "code",
   "execution_count": 47,
   "metadata": {},
   "outputs": [
    {
     "name": "stdout",
     "output_type": "stream",
     "text": [
      "<class 'list'>\n"
     ]
    }
   ],
   "source": [
    "list = []\n",
    "print(type(list))"
   ]
  },
  {
   "cell_type": "code",
   "execution_count": 48,
   "metadata": {},
   "outputs": [
    {
     "name": "stdout",
     "output_type": "stream",
     "text": [
      "<class 'tuple'>\n"
     ]
    }
   ],
   "source": [
    "tuple = ()\n",
    "print(type(tuple))\n",
    "# Consider the Tuple like string "
   ]
  },
  {
   "cell_type": "code",
   "execution_count": 49,
   "metadata": {},
   "outputs": [
    {
     "name": "stdout",
     "output_type": "stream",
     "text": [
      "[1, 2, 3, 4, 5, 6, 7, 8, 9, 10]\n"
     ]
    }
   ],
   "source": [
    "# Sample list..\n",
    "sample_list = [x for x in range(1,11)]\n",
    "print(sample_list)"
   ]
  },
  {
   "cell_type": "code",
   "execution_count": 50,
   "metadata": {},
   "outputs": [
    {
     "name": "stdout",
     "output_type": "stream",
     "text": [
      "(1, 2, 3, 4, 5, 6, 7, 8, 9)\n"
     ]
    }
   ],
   "source": [
    "# Sample tuple...\n",
    "sample_tuple = (1,2,3,4,5,6,7,8,9)\n",
    "print(sample_tuple)"
   ]
  },
  {
   "cell_type": "markdown",
   "metadata": {},
   "source": [
    "Length and Indexing"
   ]
  },
  {
   "cell_type": "code",
   "execution_count": 64,
   "metadata": {},
   "outputs": [
    {
     "name": "stdout",
     "output_type": "stream",
     "text": [
      "10\n",
      "(1, 2, 3)\n"
     ]
    }
   ],
   "source": [
    "# Length and Indexing\n",
    "print(len(sample_list))\n",
    "\n",
    "# Indexing\n",
    "print(sample_tuple[:3])"
   ]
  },
  {
   "cell_type": "markdown",
   "metadata": {},
   "source": [
    "Mutable"
   ]
  },
  {
   "cell_type": "code",
   "execution_count": 65,
   "metadata": {},
   "outputs": [
    {
     "name": "stdout",
     "output_type": "stream",
     "text": [
      "[1, 10, 'hello', 4, 'hello', 6, 7, 8, 9, 10]\n"
     ]
    }
   ],
   "source": [
    "sample_list[4] = \"hello\"\n",
    "print(sample_list)"
   ]
  },
  {
   "cell_type": "code",
   "execution_count": 67,
   "metadata": {},
   "outputs": [
    {
     "ename": "TypeError",
     "evalue": "'tuple' object does not support item assignment",
     "output_type": "error",
     "traceback": [
      "\u001b[1;31m---------------------------------------------------------------------------\u001b[0m",
      "\u001b[1;31mTypeError\u001b[0m                                 Traceback (most recent call last)",
      "Cell \u001b[1;32mIn[67], line 1\u001b[0m\n\u001b[1;32m----> 1\u001b[0m \u001b[43msample_tuple\u001b[49m\u001b[43m[\u001b[49m\u001b[38;5;241;43m4\u001b[39;49m\u001b[43m]\u001b[49m \u001b[38;5;241m=\u001b[39m \u001b[38;5;124m\"\u001b[39m\u001b[38;5;124mhello\u001b[39m\u001b[38;5;124m\"\u001b[39m\n\u001b[0;32m      2\u001b[0m \u001b[38;5;28mprint\u001b[39m(sample_tuple) \u001b[38;5;66;03m# Error..\u001b[39;00m\n",
      "\u001b[1;31mTypeError\u001b[0m: 'tuple' object does not support item assignment"
     ]
    }
   ],
   "source": [
    "sample_tuple[4] = \"hello\"\n",
    "print(sample_tuple) # Error.."
   ]
  },
  {
   "cell_type": "markdown",
   "metadata": {},
   "source": [
    "\n",
    "Slicing"
   ]
  },
  {
   "cell_type": "code",
   "execution_count": 68,
   "metadata": {},
   "outputs": [
    {
     "name": "stdout",
     "output_type": "stream",
     "text": [
      "[]\n",
      "[1]\n",
      "[1, 10]\n",
      "[1, 10, 'hello']\n",
      "[1, 10, 'hello', 4]\n",
      "[1, 10, 'hello', 4, 'hello']\n",
      "[1, 10, 'hello', 4, 'hello', 6]\n",
      "[1, 10, 'hello', 4, 'hello', 6, 7]\n",
      "[1, 10, 'hello', 4, 'hello', 6, 7, 8]\n",
      "[1, 10, 'hello', 4, 'hello', 6, 7, 8, 9]\n"
     ]
    }
   ],
   "source": [
    "# Both list and tuple, can be scliced\n",
    "for i in range(len(sample_list)):\n",
    "    print(sample_list[:i])"
   ]
  },
  {
   "cell_type": "code",
   "execution_count": 71,
   "metadata": {},
   "outputs": [
    {
     "name": "stdout",
     "output_type": "stream",
     "text": [
      "2\n",
      "(2, 3, 4, 5, 6, 7, 8, 9)\n",
      "(2, 3, 4)\n",
      "(1, 2, 3, 4)\n",
      "(1, 3, 5, 7, 9)\n",
      "(9, 8, 7, 6, 5, 4, 3, 2, 1)\n",
      "(6, 7, 8)\n"
     ]
    }
   ],
   "source": [
    "# Both list and tuple, can be scliced\n",
    "print(sample_tuple[1])\n",
    "print(sample_tuple[1:])\n",
    "print(sample_tuple[1:4])\n",
    "print(sample_tuple[:4])\n",
    "print(sample_tuple[::2])\n",
    "print(sample_tuple[::-1])\n",
    "print(sample_tuple[-4:-1])"
   ]
  },
  {
   "cell_type": "markdown",
   "metadata": {},
   "source": [
    "List Methods and Functions"
   ]
  },
  {
   "cell_type": "code",
   "execution_count": null,
   "metadata": {},
   "outputs": [],
   "source": []
  },
  {
   "cell_type": "code",
   "execution_count": null,
   "metadata": {},
   "outputs": [],
   "source": []
  },
  {
   "cell_type": "code",
   "execution_count": null,
   "metadata": {},
   "outputs": [],
   "source": []
  },
  {
   "cell_type": "code",
   "execution_count": null,
   "metadata": {},
   "outputs": [],
   "source": []
  },
  {
   "cell_type": "markdown",
   "metadata": {},
   "source": []
  }
 ],
 "metadata": {
  "kernelspec": {
   "display_name": "base",
   "language": "python",
   "name": "python3"
  },
  "language_info": {
   "codemirror_mode": {
    "name": "ipython",
    "version": 3
   },
   "file_extension": ".py",
   "mimetype": "text/x-python",
   "name": "python",
   "nbconvert_exporter": "python",
   "pygments_lexer": "ipython3",
   "version": "3.11.7"
  }
 },
 "nbformat": 4,
 "nbformat_minor": 2
}
