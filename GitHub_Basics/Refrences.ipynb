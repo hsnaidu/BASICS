{
 "cells": [
  {
   "cell_type": "markdown",
   "metadata": {},
   "source": [
    "This is a GitHub Commands File"
   ]
  },
  {
   "cell_type": "markdown",
   "metadata": {},
   "source": [
    "*NOTE* : never commit directly onto the `main` branch"
   ]
  },
  {
   "cell_type": "markdown",
   "metadata": {},
   "source": [
    "**Git and Github**\n",
    "- They are a Online Version Control System.\n",
    "- Keeps Historical Copy of the CODE {keeps track of Before & After}\n",
    "- Every small-code change is recorded"
   ]
  },
  {
   "cell_type": "markdown",
   "metadata": {},
   "source": [
    "**Terminal command to compare 2 files**"
   ]
  },
  {
   "cell_type": "markdown",
   "metadata": {},
   "source": [
    "* diff file_name_1 file_name_2\n",
    "\n",
    "Or\n",
    "\n",
    "* diff -u file_name_1 file_name_2"
   ]
  },
  {
   "cell_type": "markdown",
   "metadata": {},
   "source": [
    "**Terminal command to see what is inside the file**"
   ]
  },
  {
   "cell_type": "markdown",
   "metadata": {},
   "source": [
    "* cat file_name"
   ]
  },
  {
   "cell_type": "markdown",
   "metadata": {},
   "source": [
    "**Git & Git-Hub**"
   ]
  },
  {
   "cell_type": "markdown",
   "metadata": {},
   "source": [
    "*To check what branch you are working on*"
   ]
  },
  {
   "cell_type": "markdown",
   "metadata": {},
   "source": [
    "> git branch -v"
   ]
  },
  {
   "cell_type": "markdown",
   "metadata": {},
   "source": [
    "*To check what origin you are woking on*"
   ]
  },
  {
   "cell_type": "markdown",
   "metadata": {},
   "source": [
    ">git remote -v"
   ]
  },
  {
   "cell_type": "markdown",
   "metadata": {},
   "source": [
    "*To switch from one branch to another branch*"
   ]
  },
  {
   "cell_type": "markdown",
   "metadata": {},
   "source": [
    ">git checkout branch_name"
   ]
  },
  {
   "cell_type": "markdown",
   "metadata": {},
   "source": [
    "*To create a branch*"
   ]
  },
  {
   "cell_type": "markdown",
   "metadata": {},
   "source": [
    ">git brach branch_name"
   ]
  },
  {
   "cell_type": "markdown",
   "metadata": {},
   "source": [
    "*If you need to remove a `Branch`*"
   ]
  },
  {
   "cell_type": "markdown",
   "metadata": {},
   "source": [
    ">git remote rm origin"
   ]
  },
  {
   "cell_type": "markdown",
   "metadata": {},
   "source": [
    "*To see the log files in Github*"
   ]
  },
  {
   "cell_type": "markdown",
   "metadata": {},
   "source": [
    ">git log"
   ]
  },
  {
   "cell_type": "markdown",
   "metadata": {},
   "source": [
    "*To check the status of your project to commit files*"
   ]
  },
  {
   "cell_type": "markdown",
   "metadata": {},
   "source": [
    ">git status"
   ]
  },
  {
   "cell_type": "markdown",
   "metadata": {},
   "source": [
    "*Step 1* : Always Initiate the Folder"
   ]
  },
  {
   "cell_type": "markdown",
   "metadata": {},
   "source": [
    "> git init"
   ]
  },
  {
   "cell_type": "markdown",
   "metadata": {},
   "source": [
    "*Step 2* : Git add all the files "
   ]
  },
  {
   "cell_type": "markdown",
   "metadata": {},
   "source": [
    "> git add .\n"
   ]
  },
  {
   "cell_type": "markdown",
   "metadata": {},
   "source": [
    "*Step 3* : Give a message - a sample commit "
   ]
  },
  {
   "cell_type": "markdown",
   "metadata": {},
   "source": [
    "> git commit -m \" // some-message // \""
   ]
  },
  {
   "cell_type": "markdown",
   "metadata": {},
   "source": [
    "*Step 4* : Add a Remote Connection using Link"
   ]
  },
  {
   "cell_type": "markdown",
   "metadata": {},
   "source": [
    "> git remote add origin // Link-Remote //"
   ]
  },
  {
   "cell_type": "markdown",
   "metadata": {},
   "source": [
    "*Step 5* : Initiate a `main` branch "
   ]
  },
  {
   "cell_type": "markdown",
   "metadata": {},
   "source": [
    "> git branch -M main"
   ]
  },
  {
   "cell_type": "markdown",
   "metadata": {},
   "source": [
    "*Step 6* : Push it to the link"
   ]
  },
  {
   "cell_type": "markdown",
   "metadata": {},
   "source": [
    ">git push -u origin main"
   ]
  },
  {
   "cell_type": "markdown",
   "metadata": {},
   "source": [
    "**Pull files from Github : Basically used to pull files from repo**"
   ]
  },
  {
   "cell_type": "markdown",
   "metadata": {},
   "source": [
    ">git pull origin (repo_link)"
   ]
  },
  {
   "cell_type": "markdown",
   "metadata": {},
   "source": []
  },
  {
   "cell_type": "markdown",
   "metadata": {},
   "source": []
  },
  {
   "cell_type": "markdown",
   "metadata": {},
   "source": []
  },
  {
   "cell_type": "markdown",
   "metadata": {},
   "source": []
  }
 ],
 "metadata": {
  "language_info": {
   "name": "python"
  }
 },
 "nbformat": 4,
 "nbformat_minor": 2
}
