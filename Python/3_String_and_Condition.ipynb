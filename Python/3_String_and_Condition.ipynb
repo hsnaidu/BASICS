{
 "cells": [
  {
   "cell_type": "code",
   "execution_count": null,
   "metadata": {},
   "outputs": [],
   "source": [
    "import sys\n",
    "print(sys.version[:7])"
   ]
  },
  {
   "cell_type": "markdown",
   "metadata": {},
   "source": [
    "* STRING"
   ]
  },
  {
   "cell_type": "markdown",
   "metadata": {},
   "source": [
    "- They are a collection of character's, encoded using ' ', \" \", \"\"\" \"\"\" "
   ]
  },
  {
   "cell_type": "code",
   "execution_count": null,
   "metadata": {},
   "outputs": [],
   "source": [
    "sample_string_one = 'Hello World !!'\n",
    "sample_string_two = \" Hello, World !! \"\n",
    "sample_string_three = \"\"\" \n",
    "Hello, \n",
    "World !! \n",
    "                        \"\"\"\n",
    "\n",
    "print(\"{}, {}, {}\".format(sample_string_one, sample_string_two, sample_string_three))"
   ]
  },
  {
   "cell_type": "markdown",
   "metadata": {},
   "source": [
    "* NEXT LINES IN PYTHON"
   ]
  },
  {
   "cell_type": "code",
   "execution_count": null,
   "metadata": {},
   "outputs": [],
   "source": [
    "print('Hello \\nWorld')\n",
    "print('Hello \\t World')"
   ]
  },
  {
   "cell_type": "markdown",
   "metadata": {},
   "source": [
    "* CONCATINATION OF STRING"
   ]
  },
  {
   "cell_type": "code",
   "execution_count": null,
   "metadata": {},
   "outputs": [],
   "source": [
    "string_one = \"Hello \"\n",
    "string_two = \"World \"\n",
    "print(f\"String One :{string_one}, String Two :{string_two}, The Concatination of two string :{string_one+string_two}\")"
   ]
  },
  {
   "cell_type": "markdown",
   "metadata": {},
   "source": [
    "* LENGTH OF STRING"
   ]
  },
  {
   "cell_type": "code",
   "execution_count": null,
   "metadata": {},
   "outputs": [],
   "source": [
    "sample_len_word = \"Hello World\"\n",
    "print(len(sample_len_word))\n",
    "\n",
    "# Word without spacing\n",
    "sample_len_word = \"HelloWorld\"\n",
    "print(len(sample_len_word))\n",
    "\n",
    "# NOTE Spacing the words is counted.."
   ]
  },
  {
   "cell_type": "markdown",
   "metadata": {},
   "source": [
    "* INDEXING "
   ]
  },
  {
   "cell_type": "markdown",
   "metadata": {},
   "source": [
    "- Same like `List` you can also `Index` in `String..`\n",
    "- String are `Immutable`"
   ]
  },
  {
   "cell_type": "code",
   "execution_count": null,
   "metadata": {},
   "outputs": [],
   "source": [
    "sample_string = \"Hello World !!\"\n",
    "\n",
    "# Staring Letter..\n",
    "print(sample_string[0])\n",
    "\n",
    "# String Last Letter..\n",
    "print(sample_string[-1])\n"
   ]
  },
  {
   "cell_type": "markdown",
   "metadata": {},
   "source": [
    "You cannot assign in `STRING` and `TUPLE`, But can be done in `LIST`"
   ]
  },
  {
   "cell_type": "code",
   "execution_count": null,
   "metadata": {},
   "outputs": [],
   "source": [
    "try:\n",
    "    sample_string[1] = 'B'\n",
    "    \n",
    "except Exception as e:\n",
    "    print(e)"
   ]
  },
  {
   "cell_type": "markdown",
   "metadata": {},
   "source": [
    "* SLICING THE STRING"
   ]
  },
  {
   "cell_type": "code",
   "execution_count": null,
   "metadata": {},
   "outputs": [],
   "source": [
    "sample_string = \"Hello\"\n",
    "\n",
    "# The Length of string is :\n",
    "print(len(sample_string))\n",
    "\n",
    "first_word = sample_string[0:]\n",
    "for i in range(len(sample_string)):\n",
    "    print(first_word[0:i])"
   ]
  },
  {
   "cell_type": "markdown",
   "metadata": {},
   "source": [
    "Slicing Word"
   ]
  },
  {
   "cell_type": "code",
   "execution_count": null,
   "metadata": {},
   "outputs": [],
   "source": [
    "word = 'HELL0 WORLD'\n",
    "print(word[0:1])\n",
    "print(word[0:4]) # Here 4 is space \n",
    "print(word[0:])\n",
    "print(word[:4])\n",
    "print(word[::-1]) # Here it prints INVERSE "
   ]
  },
  {
   "cell_type": "markdown",
   "metadata": {},
   "source": [
    "* Sample Palindrome Program"
   ]
  },
  {
   "cell_type": "code",
   "execution_count": null,
   "metadata": {},
   "outputs": [],
   "source": [
    "x = input('Enter the name')\n",
    "result = \"Palindrom\" if x == x[::-1] else \"Not Palindrom\"\n",
    "print(result)"
   ]
  },
  {
   "cell_type": "markdown",
   "metadata": {},
   "source": [
    "String Operation's"
   ]
  },
  {
   "cell_type": "code",
   "execution_count": null,
   "metadata": {},
   "outputs": [],
   "source": [
    "string = \"Hey, Hi there !!\"\n",
    "print(string)"
   ]
  },
  {
   "cell_type": "code",
   "execution_count": null,
   "metadata": {},
   "outputs": [],
   "source": [
    "print(len(string))\n",
    "\n",
    "print(string.capitalize()) # Returns First letter Capatilized\n",
    "\n",
    "print(string.replace(\"hi\", \"Hi\"))\n",
    "\n",
    "print(string.endswith('?')) # Returns boolean, Used to check substring \n",
    "\n",
    "print(string.startswith('Hello')) # Same \n",
    "\n",
    "print(string.startswith('Hey')) # Same \n",
    "\n",
    "print(string.find('Hello')) # Returns the position of a word in a sentence \n",
    "\n",
    "print(string.count('h')) # Returns Letter Occurance"
   ]
  },
  {
   "cell_type": "code",
   "execution_count": null,
   "metadata": {},
   "outputs": [],
   "source": [
    "# Check for multiple value\n",
    "while True:\n",
    "    string = input(\"Enter a string : \")\n",
    "    try:\n",
    "        if int(string) >= 0:\n",
    "            break\n",
    "    except:\n",
    "            if string == string[::-1]:\n",
    "                print(\"Palindrom\")\n",
    "            else:\n",
    "                print(\"Not a Palindrom\")\n",
    "    "
   ]
  },
  {
   "cell_type": "code",
   "execution_count": null,
   "metadata": {},
   "outputs": [],
   "source": [
    "# Print the len of a user-name\n",
    "user_name = \"User_One\"\n",
    "print(len(user_name))"
   ]
  },
  {
   "cell_type": "code",
   "execution_count": null,
   "metadata": {},
   "outputs": [],
   "source": [
    "# Program to find the occurance of word in a string\n",
    "sentence = \"Hi my name is alen, & i am from USA\"\n",
    "\n",
    "word_to_find = input(\"Enter the word : \")\n",
    "sentence.count(word_to_find)"
   ]
  },
  {
   "cell_type": "markdown",
   "metadata": {},
   "source": [
    "CONDITIONAL"
   ]
  },
  {
   "cell_type": "code",
   "execution_count": null,
   "metadata": {},
   "outputs": [],
   "source": [
    "# A Simple IF-Condition\n",
    "a = 25\n",
    "if a > 20:\n",
    "    print(a)"
   ]
  },
  {
   "cell_type": "code",
   "execution_count": 16,
   "metadata": {},
   "outputs": [],
   "source": [
    "# Simple \"if-else condition\"\n",
    "\n",
    "class conditon:\n",
    "    def __init__(self, a,b):\n",
    "        self.a = a\n",
    "        self.b = b\n",
    "    \n",
    "    def greater(self):\n",
    "        if self.a > self.b:\n",
    "            print(self.a, \"Greater\")\n",
    "        else:\n",
    "            print(self.b, \"Greater\")\n",
    "    \n",
    "    def lower(self):\n",
    "        if self.a > self.b:\n",
    "            print(self.b, \"Lower\")\n",
    "        else:\n",
    "            print(self.a, \"Lower\")"
   ]
  },
  {
   "cell_type": "code",
   "execution_count": 17,
   "metadata": {},
   "outputs": [],
   "source": [
    "check_number = conditon(10, 20)"
   ]
  },
  {
   "cell_type": "code",
   "execution_count": 18,
   "metadata": {},
   "outputs": [
    {
     "name": "stdout",
     "output_type": "stream",
     "text": [
      "20 Greater\n"
     ]
    }
   ],
   "source": [
    "check_number.greater()"
   ]
  },
  {
   "cell_type": "code",
   "execution_count": 19,
   "metadata": {},
   "outputs": [
    {
     "name": "stdout",
     "output_type": "stream",
     "text": [
      "10 Lower\n"
     ]
    }
   ],
   "source": [
    "check_number.lower()"
   ]
  },
  {
   "cell_type": "code",
   "execution_count": 21,
   "metadata": {},
   "outputs": [],
   "source": [
    "# Nested if-else-if statement\n",
    "\n",
    "class nested(conditon):\n",
    "    def __init__(self, a, b,c=0):\n",
    "        # C value by default is 0 \n",
    "        super().__init__(a, b)\n",
    "        self.c = c\n",
    "    \n",
    "    def answer_one(self):\n",
    "        if self.a > self.b :\n",
    "            print(self.a, \"Greater\")\n",
    "        elif self.a == self.b:\n",
    "            print(\"Both Equal\")\n",
    "        else:\n",
    "            print(self.b, \"Greater\")\n",
    "            \n",
    "    def answer_two(self):\n",
    "        if self.a > self.b:\n",
    "            print(self.a, \"Greater\")\n",
    "        if self.b > self.a :\n",
    "            print(self.b, \"Greater\")\n",
    "        if self.a < self.c and self.b < self.c:\n",
    "            print(self.c , \"Greater\")"
   ]
  },
  {
   "cell_type": "code",
   "execution_count": null,
   "metadata": {},
   "outputs": [],
   "source": [
    "check_number = nested(80,20)\n",
    "# check_number = nested(80,20,30)"
   ]
  },
  {
   "cell_type": "code",
   "execution_count": 26,
   "metadata": {},
   "outputs": [
    {
     "name": "stdout",
     "output_type": "stream",
     "text": [
      "80 Greater\n"
     ]
    }
   ],
   "source": [
    "check_number.answer_one()"
   ]
  },
  {
   "cell_type": "code",
   "execution_count": 27,
   "metadata": {},
   "outputs": [
    {
     "name": "stdout",
     "output_type": "stream",
     "text": [
      "80 Greater\n"
     ]
    }
   ],
   "source": [
    "check_number.answer_two()"
   ]
  },
  {
   "cell_type": "code",
   "execution_count": 28,
   "metadata": {},
   "outputs": [
    {
     "data": {
      "text/plain": [
       "'Ultra-Pass'"
      ]
     },
     "execution_count": 28,
     "metadata": {},
     "output_type": "execute_result"
    }
   ],
   "source": [
    "# Logical Ternary Operation\n",
    "result  = lambda x : \"Pass\" if x > 10 else \"Ultra-Pass\"\n",
    "result(10)"
   ]
  },
  {
   "cell_type": "code",
   "execution_count": 29,
   "metadata": {},
   "outputs": [
    {
     "data": {
      "text/plain": [
       "'Odd'"
      ]
     },
     "execution_count": 29,
     "metadata": {},
     "output_type": "execute_result"
    }
   ],
   "source": [
    "# print the odd and even number\n",
    "odd_even = lambda x : \"Even\" if x%2==0 else \"Odd\"\n",
    "odd_even(2)\n",
    "odd_even(2+1)"
   ]
  },
  {
   "cell_type": "code",
   "execution_count": 30,
   "metadata": {},
   "outputs": [
    {
     "data": {
      "text/plain": [
       "True"
      ]
     },
     "execution_count": 30,
     "metadata": {},
     "output_type": "execute_result"
    }
   ],
   "source": [
    "# WAP to check multiple of 7\n",
    "multiple_of_seven = lambda x : True if x%7==0 else False\n",
    "multiple_of_seven(7)"
   ]
  },
  {
   "cell_type": "code",
   "execution_count": null,
   "metadata": {},
   "outputs": [],
   "source": []
  }
 ],
 "metadata": {
  "kernelspec": {
   "display_name": "base",
   "language": "python",
   "name": "python3"
  },
  "language_info": {
   "codemirror_mode": {
    "name": "ipython",
    "version": 3
   },
   "file_extension": ".py",
   "mimetype": "text/x-python",
   "name": "python",
   "nbconvert_exporter": "python",
   "pygments_lexer": "ipython3",
   "version": "3.12.3"
  }
 },
 "nbformat": 4,
 "nbformat_minor": 2
}
