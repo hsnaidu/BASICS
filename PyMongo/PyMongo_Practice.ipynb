{
 "cells": [
  {
   "cell_type": "code",
   "execution_count": 1,
   "id": "93df148a",
   "metadata": {},
   "outputs": [
    {
     "name": "stdout",
     "output_type": "stream",
     "text": [
      "3.11.7 | packaged by Anaconda, Inc. | (main, Dec 15 2023, 18:05:47) [MSC v.1916 64 bit (AMD64)]\n"
     ]
    }
   ],
   "source": [
    "from sys import version\n",
    "print(version)"
   ]
  },
  {
   "cell_type": "code",
   "execution_count": 1,
   "id": "035520f5",
   "metadata": {},
   "outputs": [],
   "source": [
    "import pymongo\n",
    "from pymongo import MongoClient\n",
    "conn = MongoClient('mongodb://localhost:27017/') # Initiating the connection"
   ]
  },
  {
   "cell_type": "code",
   "execution_count": 8,
   "id": "20227b7a",
   "metadata": {},
   "outputs": [
    {
     "name": "stdout",
     "output_type": "stream",
     "text": [
      "['admin', 'config', 'local', 'msr_college']\n"
     ]
    }
   ],
   "source": [
    "# Accessing the existing datase\n",
    "print(conn.list_database_names())\n",
    "\n",
    "# List of data-base names"
   ]
  },
  {
   "cell_type": "code",
   "execution_count": 9,
   "id": "9eb8096d",
   "metadata": {},
   "outputs": [],
   "source": [
    "# From this i need to access msr_college\n",
    "db = conn['msr_college']"
   ]
  },
  {
   "cell_type": "code",
   "execution_count": 13,
   "id": "c228974b",
   "metadata": {},
   "outputs": [
    {
     "name": "stdout",
     "output_type": "stream",
     "text": [
      "['user_info', 'bca', 'bsc']\n"
     ]
    }
   ],
   "source": [
    "# Accessing the collections\n",
    "print(db.list_collection_names())\n",
    "\n",
    "# List of Collection Names"
   ]
  },
  {
   "cell_type": "code",
   "execution_count": 14,
   "id": "3483f9c9",
   "metadata": {},
   "outputs": [],
   "source": [
    "bca = db.bca # Taking the `bca` collection\n",
    "bsc = db.bsc # `bsc` colleciton"
   ]
  },
  {
   "cell_type": "markdown",
   "id": "405b4f3f",
   "metadata": {},
   "source": [
    "1. Extracting info."
   ]
  },
  {
   "cell_type": "code",
   "execution_count": 15,
   "id": "fe55cd0c",
   "metadata": {},
   "outputs": [
    {
     "data": {
      "text/plain": [
       "{'_id': 1, 'name': 'hari', 'l_name': 'prasad', 'pass': 1, 'score': 8.9}"
      ]
     },
     "execution_count": 15,
     "metadata": {},
     "output_type": "execute_result"
    }
   ],
   "source": [
    "bca.find_one({})"
   ]
  },
  {
   "cell_type": "code",
   "execution_count": 17,
   "id": "29a0a30c",
   "metadata": {},
   "outputs": [
    {
     "data": {
      "text/plain": [
       "{'_id': 10, 'name': 'poonam', 'l_name': 'chauhan', 'pass': 1, 'score': 9.3}"
      ]
     },
     "execution_count": 17,
     "metadata": {},
     "output_type": "execute_result"
    }
   ],
   "source": [
    "bsc.find_one({'_id' : 10})"
   ]
  },
  {
   "cell_type": "markdown",
   "id": "b4e1494c",
   "metadata": {},
   "source": [
    "2. Extracting all the collection : documents"
   ]
  },
  {
   "cell_type": "code",
   "execution_count": 20,
   "id": "4ff5c942",
   "metadata": {},
   "outputs": [
    {
     "name": "stdout",
     "output_type": "stream",
     "text": [
      "{'_id': 1, 'name': 'hari', 'l_name': 'prasad', 'pass': 1, 'score': 8.9}\n",
      "{'_id': 2, 'name': 'anita', 'l_name': 'kumar', 'pass': 0, 'score': 4.3}\n",
      "{'_id': 3, 'name': 'raj', 'l_name': 'mehta', 'pass': 1, 'score': 7.2}\n",
      "{'_id': 4, 'name': 'sita', 'l_name': 'verma', 'pass': 1, 'score': 9.1}\n",
      "{'_id': 5, 'name': 'vinay', 'l_name': 'singh', 'pass': 0, 'score': 5}\n"
     ]
    }
   ],
   "source": [
    "for i in bca.find({}).limit(5):\n",
    "    # Limiting cause > 30 rows\n",
    "    print(i)"
   ]
  },
  {
   "cell_type": "code",
   "execution_count": 36,
   "id": "c99e618d",
   "metadata": {},
   "outputs": [
    {
     "name": "stdout",
     "output_type": "stream",
     "text": [
      "{'_id': 1, 'name': 'hariprasad', 'l_name': ['prasad']}\n",
      "{'_id': 2, 'name': 'anita', 'l_name': 'kumar', 'pass': 0, 'score': 4.3}\n",
      "{'_id': 3, 'name': 'raj', 'l_name': 'mehta', 'pass': 1, 'score': 7.2}\n"
     ]
    }
   ],
   "source": [
    "for i in bsc.find({}).limit(3):\n",
    "    print(i)"
   ]
  },
  {
   "cell_type": "markdown",
   "id": "14dddd5f",
   "metadata": {},
   "source": [
    "3. Deleting the un-wanted result"
   ]
  },
  {
   "cell_type": "code",
   "execution_count": 33,
   "id": "db75a2ee",
   "metadata": {},
   "outputs": [
    {
     "data": {
      "text/plain": [
       "DeleteResult({'n': 0, 'ok': 1.0}, acknowledged=True)"
      ]
     },
     "execution_count": 33,
     "metadata": {},
     "output_type": "execute_result"
    }
   ],
   "source": [
    "bsc.delete_one({'title' : 'some-comment'})\n",
    "\n",
    "# Do not use _id : objectId, just use some unique variable.."
   ]
  },
  {
   "cell_type": "code",
   "execution_count": 37,
   "id": "81b09b64",
   "metadata": {},
   "outputs": [
    {
     "name": "stdout",
     "output_type": "stream",
     "text": [
      "{'_id': 1, 'name': 'hariprasad', 'l_name': ['prasad']}\n",
      "{'_id': 2, 'name': 'anita', 'l_name': 'kumar', 'pass': 0, 'score': 4.3}\n",
      "{'_id': 3, 'name': 'raj', 'l_name': 'mehta', 'pass': 1, 'score': 7.2}\n"
     ]
    }
   ],
   "source": [
    "for i in bsc.find({}).limit(3): print(i)"
   ]
  },
  {
   "cell_type": "markdown",
   "id": "204bb675",
   "metadata": {},
   "source": [
    "4. Accessing the other collection as well"
   ]
  },
  {
   "cell_type": "code",
   "execution_count": 53,
   "id": "7c2adfa3",
   "metadata": {},
   "outputs": [],
   "source": [
    "users = db.users"
   ]
  },
  {
   "cell_type": "code",
   "execution_count": 54,
   "id": "e20040de",
   "metadata": {},
   "outputs": [
    {
     "name": "stdout",
     "output_type": "stream",
     "text": [
      "{'_id': ObjectId('67f7c44373795588e816c9bd'), 'name': 'hari', 'l_name': 'Prasad', 'hobbies': ['Photography', 'music', 'GenAI']}\n",
      "{'_id': ObjectId('67f7c6aa73795588e816c9be'), 'name': 'gagan', 'hobbies': ['Photography', 'music', 'GenAI', 'Landscape Photography']}\n",
      "{'_id': ObjectId('67f7c6aa73795588e816c9bf'), 'name': 'yuktha', 'hobbies': ['student']}\n",
      "{'_id': ObjectId('67f7c6aa73795588e816c9c0'), 'name': 'vishal', 'hobbies': ['Photography', 'music', 'GenAI', 'Gamer']}\n"
     ]
    }
   ],
   "source": [
    "for i in users.find({}):\n",
    "    print(i)"
   ]
  },
  {
   "cell_type": "markdown",
   "id": "430d3dbd",
   "metadata": {},
   "source": [
    "5. Adding a new colleciton"
   ]
  },
  {
   "cell_type": "code",
   "execution_count": 55,
   "id": "9bf9cd4e",
   "metadata": {},
   "outputs": [
    {
     "data": {
      "text/plain": [
       "['new', 'users', 'bca', 'bsc']"
      ]
     },
     "execution_count": 55,
     "metadata": {},
     "output_type": "execute_result"
    }
   ],
   "source": [
    "db.list_collection_names()"
   ]
  },
  {
   "cell_type": "code",
   "execution_count": 56,
   "id": "5d3665c3",
   "metadata": {},
   "outputs": [],
   "source": [
    "new = db['new'] # Added a new-collection"
   ]
  },
  {
   "cell_type": "code",
   "execution_count": 57,
   "id": "7b338857",
   "metadata": {},
   "outputs": [
    {
     "data": {
      "text/plain": [
       "InsertOneResult(ObjectId('67f945e2127fdd947026274c'), acknowledged=True)"
      ]
     },
     "execution_count": 57,
     "metadata": {},
     "output_type": "execute_result"
    }
   ],
   "source": [
    "new.insert_one({\"name\" : 'hari', 'l_name' : 'prasad', 'cgpa' : 9})"
   ]
  },
  {
   "cell_type": "code",
   "execution_count": 58,
   "id": "9d3c3b5f",
   "metadata": {},
   "outputs": [
    {
     "data": {
      "text/plain": [
       "['new', 'users', 'bca', 'bsc']"
      ]
     },
     "execution_count": 58,
     "metadata": {},
     "output_type": "execute_result"
    }
   ],
   "source": [
    "db.list_collection_names()"
   ]
  },
  {
   "cell_type": "code",
   "execution_count": 59,
   "id": "da75b736",
   "metadata": {},
   "outputs": [
    {
     "name": "stdout",
     "output_type": "stream",
     "text": [
      "{'_id': ObjectId('67f943e5127fdd947026274b'), 'name': 'hari', 'l_name': 'prasad', 'cgpa': 9}\n",
      "{'_id': ObjectId('67f945e2127fdd947026274c'), 'name': 'hari', 'l_name': 'prasad', 'cgpa': 9}\n"
     ]
    }
   ],
   "source": [
    "for i in new.find({}):\n",
    "    print(i)"
   ]
  },
  {
   "cell_type": "code",
   "execution_count": 62,
   "id": "2889fd03",
   "metadata": {},
   "outputs": [
    {
     "data": {
      "text/plain": [
       "DeleteResult({'n': 1, 'ok': 1.0}, acknowledged=True)"
      ]
     },
     "execution_count": 62,
     "metadata": {},
     "output_type": "execute_result"
    }
   ],
   "source": [
    "new.delete_one({'name': 'hari'})"
   ]
  },
  {
   "cell_type": "code",
   "execution_count": 63,
   "id": "858daacb",
   "metadata": {},
   "outputs": [
    {
     "name": "stdout",
     "output_type": "stream",
     "text": [
      "{'_id': ObjectId('67f945e2127fdd947026274c'), 'name': 'hari', 'l_name': 'prasad', 'cgpa': 9}\n"
     ]
    }
   ],
   "source": [
    "for i in new.find({}):\n",
    "    print(i)"
   ]
  },
  {
   "cell_type": "markdown",
   "id": "05147000",
   "metadata": {},
   "source": [
    "6. Adding the Logical Operator : $eq, $gt, $lt, $and, $or, $lte, $gte"
   ]
  },
  {
   "cell_type": "markdown",
   "id": "ad76955d",
   "metadata": {},
   "source": [
    "$gt"
   ]
  },
  {
   "cell_type": "code",
   "execution_count": 70,
   "id": "b50bdccf",
   "metadata": {},
   "outputs": [
    {
     "name": "stdout",
     "output_type": "stream",
     "text": [
      "{'name': 'aman'}\n",
      "{'name': 'arun'}\n",
      "{'name': 'deepa'}\n",
      "{'name': 'dinesh'}\n",
      "{'name': 'hari'}\n"
     ]
    }
   ],
   "source": [
    "# Here we are taking BCA\n",
    "\n",
    "# filter var -- target var\n",
    "for i in bca.find(\n",
    "    {'score' : {'$gt' : 5}}, {'name' : 1, '_id' : 0}\n",
    ").limit(5).sort({'name' : 1}):\n",
    "    print(i)"
   ]
  },
  {
   "cell_type": "code",
   "execution_count": null,
   "id": "579192ba",
   "metadata": {},
   "outputs": [],
   "source": []
  }
 ],
 "metadata": {
  "kernelspec": {
   "display_name": "base",
   "language": "python",
   "name": "python3"
  },
  "language_info": {
   "codemirror_mode": {
    "name": "ipython",
    "version": 3
   },
   "file_extension": ".py",
   "mimetype": "text/x-python",
   "name": "python",
   "nbconvert_exporter": "python",
   "pygments_lexer": "ipython3",
   "version": "3.11.7"
  }
 },
 "nbformat": 4,
 "nbformat_minor": 5
}
