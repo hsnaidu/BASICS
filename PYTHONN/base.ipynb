{
 "cells": [
  {
   "cell_type": "markdown",
   "metadata": {},
   "source": [
    "* COMPUTER ARE BUILT FOR ONE THING ~ TO DO THINGS FOR US !!\n"
   ]
  },
  {
   "cell_type": "markdown",
   "metadata": {},
   "source": [
    "* H/W ARCHITECTURE"
   ]
  },
  {
   "cell_type": "markdown",
   "metadata": {},
   "source": [
    "* PYTHON (MONTY PYTHON FLYING CIRCUS) ~ DEV. by GUIDO VAN ROSSUM"
   ]
  },
  {
   "cell_type": "markdown",
   "metadata": {},
   "source": [
    "* WAYS TO RUN PYTHON : CMD ( >>>Type py) / IDE"
   ]
  },
  {
   "cell_type": "code",
   "execution_count": 4,
   "metadata": {},
   "outputs": [
    {
     "name": "stdout",
     "output_type": "stream",
     "text": [
      "hemanth\n"
     ]
    }
   ],
   "source": [
    "# VAR \n",
    "name  = 'hemanth' ; print(name) "
   ]
  },
  {
   "cell_type": "markdown",
   "metadata": {},
   "source": [
    "OPERATORS"
   ]
  },
  {
   "cell_type": "code",
   "execution_count": 2,
   "metadata": {},
   "outputs": [
    {
     "name": "stdout",
     "output_type": "stream",
     "text": [
      "ADD : 12\n",
      "SUB : 8\n",
      "MUL : 20\n",
      "DIV : 5.0\n",
      "POW : 8\n",
      "D.MUL : 100\n",
      "REM : 0\n"
     ]
    }
   ],
   "source": [
    "a = 10\n",
    "b = 2\n",
    "print(f'ADD : {a+b}')\n",
    "print(f'SUB : {a-b}')\n",
    "print(f'MUL : {a*b}')\n",
    "print(f'DIV : {a/b}')\n",
    "print(f'POW : {a^b}')\n",
    "print(f'D.MUL : {a**b}')\n",
    "print(f'REM : {a%b}')"
   ]
  },
  {
   "cell_type": "markdown",
   "metadata": {},
   "source": [
    "PRECIDENCE RULE\n",
    "* PEMDAS"
   ]
  },
  {
   "cell_type": "code",
   "execution_count": 3,
   "metadata": {},
   "outputs": [
    {
     "name": "stdout",
     "output_type": "stream",
     "text": [
      "11.0\n"
     ]
    }
   ],
   "source": [
    "X = 1 + 2 ** 3 / 4 * 5\n",
    "print(X) "
   ]
  },
  {
   "cell_type": "markdown",
   "metadata": {},
   "source": [
    "TYPE"
   ]
  },
  {
   "cell_type": "code",
   "execution_count": 8,
   "metadata": {},
   "outputs": [
    {
     "name": "stdout",
     "output_type": "stream",
     "text": [
      "String : <class 'str'>\n",
      "Int : <class 'int'>\n",
      "String : eeeyyy\n",
      "Int : 3\n"
     ]
    }
   ],
   "source": [
    "a = 'eee'\n",
    "b = 'yyy'\n",
    "c = 1\n",
    "d = 2\n",
    "# To check the datatype (TYPE) of a VARIABLE\n",
    "print(f'String : {type(a)}')\n",
    "print(f'Int : {type(c)}')\n",
    "\n",
    "# Cannot CONCATINATE A STRING WITH A INT \n",
    "print(f'String : {a+b}')\n",
    "print(f'Int : {c+d}')"
   ]
  },
  {
   "cell_type": "markdown",
   "metadata": {},
   "source": [
    "TYPE CONVERTION\n",
    "* CONVERT 1 TYPE OF DATATYPE TO ANOTHER TYPE"
   ]
  },
  {
   "cell_type": "code",
   "execution_count": 11,
   "metadata": {},
   "outputs": [
    {
     "name": "stdout",
     "output_type": "stream",
     "text": [
      "Initial a : (<class 'int'>, 1)\n",
      "After convertion a : (<class 'float'>, 1.0)\n"
     ]
    }
   ],
   "source": [
    "a = 1\n",
    "print(f\"Initial a : {type(a), a}\")\n",
    "\n",
    "# USING A float(), \n",
    "# similarly cnvt to int()\n",
    "\n",
    "a = float(a)\n",
    "print(f'After convertion a : {type(a), a}')"
   ]
  },
  {
   "cell_type": "markdown",
   "metadata": {},
   "source": [
    "STRING CONVERTION"
   ]
  },
  {
   "cell_type": "code",
   "execution_count": 15,
   "metadata": {},
   "outputs": [
    {
     "name": "stdout",
     "output_type": "stream",
     "text": [
      "Initial b :(<class 'str'>, '123')\n",
      "After convertion : (<class 'int'>, 123)\n"
     ]
    }
   ],
   "source": [
    "# You can convert string to int, float \n",
    "# Only works on NUMBERS in STRING\n",
    "\n",
    "b = \"123\"\n",
    "print(f'Initial b :{type(b),b}')\n",
    "\n",
    "b = int(b)\n",
    "print(f'After convertion : {type(b), b}')\n",
    "\n",
    "# NOW YOU CAN ADD IT WITH STRING \n"
   ]
  },
  {
   "cell_type": "markdown",
   "metadata": {},
   "source": [
    "USER INPUT"
   ]
  },
  {
   "cell_type": "code",
   "execution_count": 16,
   "metadata": {},
   "outputs": [
    {
     "name": "stdout",
     "output_type": "stream",
     "text": [
      "user i/p a : (<class 'str'>, 'hari')\n"
     ]
    }
   ],
   "source": [
    "# They are a built in funciton -> Generally takes input in STRING \n",
    "a = input('Enter your name : ')\n",
    "print(f'user i/p a : {type(a),a}')"
   ]
  },
  {
   "cell_type": "code",
   "execution_count": 19,
   "metadata": {},
   "outputs": [
    {
     "name": "stdout",
     "output_type": "stream",
     "text": [
      "user i/p a : (<class 'int'>, 3)\n"
     ]
    }
   ],
   "source": [
    "# We can also convert this into a int\n",
    "a = int(input('enter number btw 0 - 10 : ')) # This prompt is converting the STRING -> INT\n",
    "print(f'user i/p a : {type(a),a}')"
   ]
  },
  {
   "cell_type": "markdown",
   "metadata": {},
   "source": [
    "PROBLEM : EUROPEAN AND USA HAS A DIFFERENT FLOOR NUMBERS, IN USA FLOOR STARTS FROM 0 WHERE IN EUROPE EVERY FLOOR STARTS FROM 1, \n",
    "SO, HERE WE ASK THE USER WHERE THEY ARE AND THEN WE CONVERT THE FLOOR NUMBERS "
   ]
  },
  {
   "cell_type": "code",
   "execution_count": 20,
   "metadata": {},
   "outputs": [
    {
     "name": "stdout",
     "output_type": "stream",
     "text": [
      "US floor number 5\n"
     ]
    }
   ],
   "source": [
    "floor  = input('Enter the first letter of you country : ')\n",
    "if floor == 'E':\n",
    "    floor_num = int(input('Enter the floor you need to reach : '))\n",
    "    print('Europe Floor Number : ',floor_num)\n",
    "else:\n",
    "    floor_num = int(input('Enter the floor you need to reach : '))\n",
    "    print('US floor number',floor_num+1)"
   ]
  }
 ],
 "metadata": {
  "kernelspec": {
   "display_name": "Python 3",
   "language": "python",
   "name": "python3"
  },
  "language_info": {
   "codemirror_mode": {
    "name": "ipython",
    "version": 3
   },
   "file_extension": ".py",
   "mimetype": "text/x-python",
   "name": "python",
   "nbconvert_exporter": "python",
   "pygments_lexer": "ipython3",
   "version": "3.11.7"
  }
 },
 "nbformat": 4,
 "nbformat_minor": 2
}
