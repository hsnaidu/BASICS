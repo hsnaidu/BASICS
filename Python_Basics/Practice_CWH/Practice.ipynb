{
 "cells": [
  {
   "cell_type": "code",
   "execution_count": 10,
   "metadata": {},
   "outputs": [],
   "source": [
    "# WAP for number to english translation\n",
    "number_dict = {}\n",
    "\n",
    "number_dict.update({1 : 'One'})\n",
    "number_dict.update({2 : 'Two'})\n",
    "number_dict.update({3 : 'Three'})\n",
    "number_dict.update({4 : 'Four'})"
   ]
  },
  {
   "cell_type": "code",
   "execution_count": 11,
   "metadata": {},
   "outputs": [
    {
     "name": "stdout",
     "output_type": "stream",
     "text": [
      "One\n"
     ]
    }
   ],
   "source": [
    "Number_to_word = int(input('Enter the number : '))\n",
    "print(number_dict[Number_to_word])"
   ]
  },
  {
   "cell_type": "markdown",
   "metadata": {},
   "source": [
    "Same methods works for translation"
   ]
  },
  {
   "cell_type": "code",
   "execution_count": 16,
   "metadata": {},
   "outputs": [],
   "source": [
    "# WAP to see how many unique numbers we have\n",
    "sample_dict = {}\n",
    "count = 1\n",
    "for i in range(8):    \n",
    "    number = int(input('Enter the number :'))\n",
    "    if number not in sample_dict.keys():\n",
    "        sample_dict.update({number : count})\n",
    "    else:\n",
    "        sample_dict[number] +=1"
   ]
  },
  {
   "cell_type": "code",
   "execution_count": 17,
   "metadata": {},
   "outputs": [
    {
     "name": "stdout",
     "output_type": "stream",
     "text": [
      "{1: 3, 2: 1, 3: 1, 4: 1, 5: 1, 6: 1}\n"
     ]
    }
   ],
   "source": [
    "print(sample_dict)\n"
   ]
  },
  {
   "cell_type": "code",
   "execution_count": 19,
   "metadata": {},
   "outputs": [
    {
     "data": {
      "text/plain": [
       "dict_keys([1, 2, 3, 4, 5, 6])"
      ]
     },
     "execution_count": 19,
     "metadata": {},
     "output_type": "execute_result"
    }
   ],
   "source": [
    "sample_dict.keys()"
   ]
  },
  {
   "cell_type": "code",
   "execution_count": 29,
   "metadata": {},
   "outputs": [
    {
     "name": "stdout",
     "output_type": "stream",
     "text": [
      "{18, '18'}\n"
     ]
    }
   ],
   "source": [
    "# Can we have a set with 18(int) and 18(str) : YES \n",
    "    # Since set cannot handle suplicate values but they can handle multiple data-types\n",
    "\n",
    "sample_set = set()\n",
    "sample_set.add(18)\n",
    "# sample_set.add(18.0) # For Checking \n",
    "sample_set.add('18')\n",
    "print(sample_set)"
   ]
  },
  {
   "cell_type": "code",
   "execution_count": 30,
   "metadata": {},
   "outputs": [],
   "source": [
    "# "
   ]
  },
  {
   "cell_type": "code",
   "execution_count": 35,
   "metadata": {},
   "outputs": [
    {
     "name": "stdout",
     "output_type": "stream",
     "text": [
      "1\n"
     ]
    }
   ],
   "source": [
    "# What will be the length of following set\n",
    "sample_set = {20,20.0} # Duplicate 20 (even though it in float and int it considers it as 1)\n",
    "print(len(sample_set)) # 1"
   ]
  },
  {
   "cell_type": "code",
   "execution_count": 36,
   "metadata": {},
   "outputs": [
    {
     "data": {
      "text/plain": [
       "dict"
      ]
     },
     "execution_count": 36,
     "metadata": {},
     "output_type": "execute_result"
    }
   ],
   "source": [
    "# What is the type of 's'\n",
    "s = {} # Dictionary\n",
    "type(s)"
   ]
  },
  {
   "cell_type": "code",
   "execution_count": 3,
   "metadata": {},
   "outputs": [],
   "source": [
    "# WAP 4 Friends adding, their FAV Language\n",
    "friend_dict = {}\n",
    "for i in range(4):\n",
    "    name = input('Enter your name : ')\n",
    "    language = input('Enter your fav language : ')\n",
    "    friend_dict[name] = language"
   ]
  },
  {
   "cell_type": "code",
   "execution_count": 4,
   "metadata": {},
   "outputs": [
    {
     "name": "stdout",
     "output_type": "stream",
     "text": [
      "{'hari': 'python', 'james': 'java', 'jimmy': 'c', 'john': 'cobol'}\n"
     ]
    }
   ],
   "source": [
    "print(friend_dict)"
   ]
  },
  {
   "cell_type": "code",
   "execution_count": null,
   "metadata": {},
   "outputs": [],
   "source": [
    "# WAP what will happen with the same name \n",
    "# It just skipped with the same key-name \n",
    "friend_dict = {}\n",
    "for i in range(2):\n",
    "    name = input('Enter your name : ')\n",
    "    language = input('Enter your fav language : ')\n",
    "    if name not in friend_dict:\n",
    "        friend_dict[name] = language\n",
    "    else:\n",
    "        friend_dict[name + '_Duplicate'] = language\n",
    "            # Or i can just throw an error telling name already exist : Same used in the taking unique user name\n",
    "        # Here if the name repeats i have just added the loops idx as the key"
   ]
  },
  {
   "cell_type": "code",
   "execution_count": 19,
   "metadata": {},
   "outputs": [
    {
     "name": "stdout",
     "output_type": "stream",
     "text": [
      "{'hari': 'python', 'hari_Duplicate': 'python'}\n"
     ]
    }
   ],
   "source": [
    "print(friend_dict)"
   ]
  },
  {
   "cell_type": "code",
   "execution_count": 37,
   "metadata": {},
   "outputs": [],
   "source": [
    "# If languages of two friends are same it just takes cause the values can be anything\n",
    "sample_dict = {}\n",
    "for i in range(2):\n",
    "    key = i\n",
    "    value = 'Same Value'\n",
    "    sample_dict[key] = value"
   ]
  },
  {
   "cell_type": "code",
   "execution_count": 38,
   "metadata": {},
   "outputs": [
    {
     "name": "stdout",
     "output_type": "stream",
     "text": [
      "{0: 'Same Value', 1: 'Same Value'}\n"
     ]
    }
   ],
   "source": [
    "print(sample_dict)"
   ]
  },
  {
   "cell_type": "code",
   "execution_count": null,
   "metadata": {},
   "outputs": [],
   "source": []
  }
 ],
 "metadata": {
  "kernelspec": {
   "display_name": "base",
   "language": "python",
   "name": "python3"
  },
  "language_info": {
   "codemirror_mode": {
    "name": "ipython",
    "version": 3
   },
   "file_extension": ".py",
   "mimetype": "text/x-python",
   "name": "python",
   "nbconvert_exporter": "python",
   "pygments_lexer": "ipython3",
   "version": "3.11.7"
  }
 },
 "nbformat": 4,
 "nbformat_minor": 2
}
